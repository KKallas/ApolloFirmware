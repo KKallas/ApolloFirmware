{
 "cells": [
  {
   "cell_type": "markdown",
   "id": "41970ae5-4b0f-40f8-bdd4-d6a9852b2506",
   "metadata": {},
   "source": [
    "- [x] Minus brightness into scope obejct\n",
    "- [x] Minus brightness current value\n",
    "- [x] Picture rotation as setting\n",
    "- [x] Play sound to show something is done\n",
    "- [x] Measure again if failes to decode\n",
    "- [x] Break flow if fails to get an image (play sound)\n",
    "- [x] First data to new lamp\n",
    "- [x] Datafiles location\n",
    "- [ ] Do 5 lamps to setup repeats\n"
   ]
  },
  {
   "cell_type": "code",
   "execution_count": 1,
   "id": "fee72726-1f30-444a-b746-842b86c2e5a4",
   "metadata": {},
   "outputs": [
    {
     "name": "stdout",
     "output_type": "stream",
     "text": [
      "Audio saved as phrase_4.mp3\n"
     ]
    }
   ],
   "source": [
    "from gtts import gTTS\n",
    "import os\n",
    "\n",
    "# Define the phrases\n",
    "phrases = [\"Failure my old friend...\"]\n",
    "\n",
    "# Loop through the phrases and generate audio\n",
    "for index, phrase in enumerate(phrases):\n",
    "    tts = gTTS(phrase)\n",
    "    audio_file = f\"phrase_{index + 4}.mp3\"  # Output audio file name\n",
    "    tts.save(audio_file)\n",
    "\n",
    "    # Play the generated audio (optional)\n",
    "    os.system(f\"start {audio_file}\")\n",
    "\n",
    "    print(f\"Audio saved as {audio_file}\")"
   ]
  },
  {
   "cell_type": "code",
   "execution_count": 6,
   "id": "9e637a73-bfe1-4fd1-a95d-2e7a6a2de8cf",
   "metadata": {},
   "outputs": [
    {
     "name": "stdout",
     "output_type": "stream",
     "text": [
      "Collecting gTTS\n",
      "  Downloading gTTS-2.4.0-py3-none-any.whl (29 kB)\n",
      "Requirement already satisfied: requests<3,>=2.27 in c:\\users\\virtual production 2\\appdata\\local\\programs\\python\\python310\\lib\\site-packages (from gTTS) (2.28.1)\n",
      "Requirement already satisfied: click<8.2,>=7.1 in c:\\users\\virtual production 2\\appdata\\local\\programs\\python\\python310\\lib\\site-packages (from gTTS) (8.1.3)\n",
      "Requirement already satisfied: colorama in c:\\users\\virtual production 2\\appdata\\roaming\\python\\python310\\site-packages (from click<8.2,>=7.1->gTTS) (0.4.6)\n",
      "Requirement already satisfied: charset-normalizer<3,>=2 in c:\\users\\virtual production 2\\appdata\\local\\programs\\python\\python310\\lib\\site-packages (from requests<3,>=2.27->gTTS) (2.1.1)\n",
      "Requirement already satisfied: idna<4,>=2.5 in c:\\users\\virtual production 2\\appdata\\local\\programs\\python\\python310\\lib\\site-packages (from requests<3,>=2.27->gTTS) (3.4)\n",
      "Requirement already satisfied: urllib3<1.27,>=1.21.1 in c:\\users\\virtual production 2\\appdata\\local\\programs\\python\\python310\\lib\\site-packages (from requests<3,>=2.27->gTTS) (1.26.12)\n",
      "Requirement already satisfied: certifi>=2017.4.17 in c:\\users\\virtual production 2\\appdata\\local\\programs\\python\\python310\\lib\\site-packages (from requests<3,>=2.27->gTTS) (2022.9.24)\n",
      "Installing collected packages: gTTS\n",
      "Successfully installed gTTS-2.4.0\n",
      "Note: you may need to restart the kernel to use updated packages.\n"
     ]
    },
    {
     "name": "stderr",
     "output_type": "stream",
     "text": [
      "WARNING: Ignoring invalid distribution -pencv-python-headless (c:\\users\\virtual production 2\\appdata\\local\\programs\\python\\python310\\lib\\site-packages)\n",
      "WARNING: Ignoring invalid distribution -pencv-python-headless (c:\\users\\virtual production 2\\appdata\\local\\programs\\python\\python310\\lib\\site-packages)\n",
      "\n",
      "[notice] A new release of pip is available: 23.1.2 -> 23.3.1\n",
      "[notice] To update, run: C:\\Users\\Virtual Production 2\\AppData\\Local\\Programs\\Python\\Python310\\python.exe -m pip install --upgrade pip\n"
     ]
    }
   ],
   "source": [
    "%pip install gTTS"
   ]
  },
  {
   "cell_type": "code",
   "execution_count": 1,
   "id": "3fc60776-c18b-407f-8cf2-cd7c673fcefe",
   "metadata": {},
   "outputs": [
    {
     "name": "stdout",
     "output_type": "stream",
     "text": [
      "pygame 2.1.2 (SDL 2.0.18, Python 3.10.7)\n",
      "Hello from the pygame community. https://www.pygame.org/contribute.html\n"
     ]
    }
   ],
   "source": [
    "import pygame\n",
    "\n",
    "pygame.mixer.init()\n",
    "pygame.mixer.music.load('phrase_1.mp3')\n",
    "pygame.mixer.music.play()\n"
   ]
  },
  {
   "cell_type": "code",
   "execution_count": null,
   "id": "431b5274-d617-431e-a26e-339db0934025",
   "metadata": {},
   "outputs": [],
   "source": []
  }
 ],
 "metadata": {
  "kernelspec": {
   "display_name": "Python 3 (ipykernel)",
   "language": "python",
   "name": "python3"
  },
  "language_info": {
   "codemirror_mode": {
    "name": "ipython",
    "version": 3
   },
   "file_extension": ".py",
   "mimetype": "text/x-python",
   "name": "python",
   "nbconvert_exporter": "python",
   "pygments_lexer": "ipython3",
   "version": "3.10.7"
  }
 },
 "nbformat": 4,
 "nbformat_minor": 5
}
