{
 "cells": [
  {
   "cell_type": "code",
   "execution_count": 1,
   "id": "4936893e-520f-4066-a444-691d34f4819d",
   "metadata": {},
   "outputs": [
    {
     "name": "stdout",
     "output_type": "stream",
     "text": [
      "pygame 2.1.2 (SDL 2.0.18, Python 3.10.7)\n",
      "Hello from the pygame community. https://www.pygame.org/contribute.html\n"
     ]
    }
   ],
   "source": [
    "sharedFolder = r\"C:\\Users\\Virtual Production 2\\Documents\\ApolloLogs\\\\\"\n",
    "comPort = 'COM6'\n",
    "%run calibration_setup_v3.ipynb"
   ]
  },
  {
   "cell_type": "code",
   "execution_count": 2,
   "id": "b6926e6d-2ccb-4d6e-84ea-791622e017db",
   "metadata": {},
   "outputs": [],
   "source": [
    "lamp1 = apollo_device(ComPort=comPort)"
   ]
  },
  {
   "cell_type": "code",
   "execution_count": 12,
   "id": "7ef04c32-798a-47bf-9a2c-44c18cb78e57",
   "metadata": {},
   "outputs": [],
   "source": [
    "lamp1.color = [10,10,10,10,0]\n",
    "lamp1.update(rgbtMode=True)"
   ]
  },
  {
   "cell_type": "code",
   "execution_count": 18,
   "id": "9c2008d9-3e94-4a66-bc22-083fc510b6e5",
   "metadata": {},
   "outputs": [
    {
     "data": {
      "application/vnd.jupyter.widget-view+json": {
       "model_id": "8d4899cf2c3745e1b3e6b9faf2a3939a",
       "version_major": 2,
       "version_minor": 0
      },
      "text/plain": [
       "IntSlider(value=0, description='Red', max=255)"
      ]
     },
     "metadata": {},
     "output_type": "display_data"
    },
    {
     "data": {
      "application/vnd.jupyter.widget-view+json": {
       "model_id": "84cdf23ce7974eaf9e5704756437b69b",
       "version_major": 2,
       "version_minor": 0
      },
      "text/plain": [
       "IntSlider(value=0, description='Green', max=255)"
      ]
     },
     "metadata": {},
     "output_type": "display_data"
    },
    {
     "data": {
      "application/vnd.jupyter.widget-view+json": {
       "model_id": "aad998da416f416d90d64ca3af0395c9",
       "version_major": 2,
       "version_minor": 0
      },
      "text/plain": [
       "IntSlider(value=0, description='Blue', max=255)"
      ]
     },
     "metadata": {},
     "output_type": "display_data"
    },
    {
     "data": {
      "application/vnd.jupyter.widget-view+json": {
       "model_id": "cc3f6d309bc849eeb2bd09fe157b337a",
       "version_major": 2,
       "version_minor": 0
      },
      "text/plain": [
       "IntSlider(value=0, description='White Balance', max=255)"
      ]
     },
     "metadata": {},
     "output_type": "display_data"
    }
   ],
   "source": [
    "# Create sliders for Red, Green, Blue, and White Balance\n",
    "red_slider = widgets.IntSlider(description='Red', min=0, max=255, step=1)\n",
    "green_slider = widgets.IntSlider(description='Green', min=0, max=255, step=1)\n",
    "blue_slider = widgets.IntSlider(description='Blue', min=0, max=255, step=1)\n",
    "white_balance_slider = widgets.IntSlider(description='White Balance', min=0, max=255, step=1)\n",
    "\n",
    "# Function to update lamp color when sliders change\n",
    "def update_color(change):\n",
    "    lamp1.color = [red_slider.value, green_slider.value, blue_slider.value, white_balance_slider.value,0]\n",
    "    lamp1.update(rgbtMode=True, debugFlag=True)\n",
    "\n",
    "# Attach the event handler to the sliders' value change\n",
    "red_slider.observe(update_color, names='value')\n",
    "green_slider.observe(update_color, names='value')\n",
    "blue_slider.observe(update_color, names='value')\n",
    "white_balance_slider.observe(update_color, names='value')\n",
    "\n",
    "# Display the sliders in Jupyter Lab\n",
    "display(red_slider, green_slider, blue_slider, white_balance_slider)"
   ]
  },
  {
   "cell_type": "code",
   "execution_count": null,
   "id": "90dc9da8-c06e-41b9-84a7-546081814443",
   "metadata": {},
   "outputs": [],
   "source": [
    "lamp1.close()"
   ]
  }
 ],
 "metadata": {
  "kernelspec": {
   "display_name": "Python 3 (ipykernel)",
   "language": "python",
   "name": "python3"
  },
  "language_info": {
   "codemirror_mode": {
    "name": "ipython",
    "version": 3
   },
   "file_extension": ".py",
   "mimetype": "text/x-python",
   "name": "python",
   "nbconvert_exporter": "python",
   "pygments_lexer": "ipython3",
   "version": "3.10.7"
  }
 },
 "nbformat": 4,
 "nbformat_minor": 5
}
