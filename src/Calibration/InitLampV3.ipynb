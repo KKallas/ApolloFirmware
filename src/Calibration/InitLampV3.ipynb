{
 "cells": [
  {
   "cell_type": "code",
   "execution_count": 1,
   "id": "7521e53a-bd39-4396-b778-35982537e640",
   "metadata": {},
   "outputs": [
    {
     "name": "stdout",
     "output_type": "stream",
     "text": [
      "pygame 2.1.2 (SDL 2.0.18, Python 3.10.7)\n",
      "Hello from the pygame community. https://www.pygame.org/contribute.html\n"
     ]
    }
   ],
   "source": [
    "%run calibration_setup_v3.ipynb"
   ]
  },
  {
   "cell_type": "markdown",
   "id": "c98b11cc-d77a-4559-8a32-619af3988521",
   "metadata": {},
   "source": [
    "Connect to lamp"
   ]
  },
  {
   "cell_type": "code",
   "execution_count": 6,
   "id": "030fa913-1c84-4ee7-9121-6e79895fb39c",
   "metadata": {},
   "outputs": [],
   "source": [
    "#lamp1.close()\n",
    "time.sleep(0.5)"
   ]
  },
  {
   "cell_type": "code",
   "execution_count": 3,
   "id": "21c33ac8-b7f5-4b78-b3d0-cc4197cec522",
   "metadata": {},
   "outputs": [
    {
     "data": {
      "text/plain": [
       "'E465B8169258'"
      ]
     },
     "execution_count": 3,
     "metadata": {},
     "output_type": "execute_result"
    }
   ],
   "source": [
    "lamp1 = apollo_device(ComPort='COM20')\n",
    "lamp1.getId()\n",
    "lamp1.macId = lamp1.macId.replace(\":\",\"\")\n",
    "lamp1.macId"
   ]
  },
  {
   "cell_type": "code",
   "execution_count": 8,
   "id": "2a11e2c3-f5c4-4692-b608-6e846d699d0f",
   "metadata": {},
   "outputs": [
    {
     "name": "stdout",
     "output_type": "stream",
     "text": [
      "[0, 0, '0', '0:0:0:0']\n",
      "[0, 1, '490', '28:16:0:8']\n",
      "[0, 2, '920', '56:35:0:16']\n",
      "[0, 3, '1830', '112:71:0:32']\n",
      "[0, 4, '3610', '227:143:1:59']\n",
      "[0, 5, '7200', '462:293:2:120']\n",
      "[0, 6, '14700', '908:570:4:255']\n",
      "[0, 7, '29200', '1921:1143:9:521']\n",
      "[1, 0, '0', '0:0:0:0']\n",
      "[1, 1, '460', '24:14:0:12']\n",
      "[1, 2, '926', '45:30:0:22']\n",
      "[1, 3, '1820', '89:61:0:41']\n",
      "[1, 4, '3620', '185:127:1:82']\n",
      "[1, 5, '7190', '384:262:2:167']\n",
      "[1, 6, '14400', '775:518:4:355']\n",
      "[1, 7, '28800', '1613:1032:7:709']\n",
      "[2, 0, '0', '0:0:0:0']\n",
      "[2, 1, '456', '15:13:2:15']\n",
      "[2, 2, '930', '28:27:4:29']\n",
      "[2, 3, '1800', '54:54:7:56']\n",
      "[2, 4, '3620', '110:112:12:113']\n",
      "[2, 5, '7200', '229:231:23:234']\n",
      "[2, 6, '14400', '471:461:44:481']\n",
      "[2, 7, '28800', '982:903:81:991']\n",
      "[3, 0, '0', '0:0:0:0']\n",
      "[3, 1, '469', '14:14:3:16']\n",
      "[3, 2, '920', '26:27:5:27']\n",
      "[3, 3, '1820', '50:59:10:53']\n",
      "[3, 4, '3600', '101:122:20:106']\n",
      "[3, 5, '7210', '213:255:38:219']\n",
      "[3, 6, '14400', '448:523:77:458']\n",
      "[3, 7, '28800', '930:1013:150:943']\n",
      "[4, 0, '0', '0:0:0:0']\n",
      "[4, 1, '459', '12:15:5:17']\n",
      "[4, 2, '916', '21:30:9:28']\n",
      "[4, 3, '1810', '42:63:17:54']\n",
      "[4, 4, '3620', '82:132:33:105']\n",
      "[4, 5, '7210', '172:274:67:221']\n",
      "[4, 6, '14500', '366:557:138:464']\n",
      "[4, 7, '28800', '732:1042:275:927']\n"
     ]
    }
   ],
   "source": [
    "# print out caibration from lamp\n",
    "for i in range(0,6):\n",
    "    for j in range (0,9):\n",
    "        lamp1.send(\"DS94->\"+str(i)+\":\"+str(j))\n",
    "        time.sleep(0.2)\n",
    "        lamp1.read()\n",
    "        print([i,j]+lamp1.responses[-1][1])"
   ]
  },
  {
   "cell_type": "markdown",
   "id": "0aaaf704-ae0a-4b22-8427-ab54a46f0324",
   "metadata": {},
   "source": [
    "1. encode 2800K max/min\n",
    "value"
   ]
  },
  {
   "cell_type": "code",
   "execution_count": 8,
   "id": "393e4859-21c9-43cb-bc9c-bd0b46567238",
   "metadata": {},
   "outputs": [
    {
     "name": "stdout",
     "output_type": "stream",
     "text": [
      "DS10->WriteCalibartion 160[30000][2048:1235:0:600]//0e5b:::\n",
      "\n"
     ]
    }
   ],
   "source": [
    "lamp1.send(\"DS93->0:0:0[0:0:0:0]\")\n",
    "time.sleep(0.2)\n",
    "lamp1.read()\n",
    "print(lamp1.responses[-1][0])\n"
   ]
  },
  {
   "cell_type": "code",
   "execution_count": 8,
   "id": "2a8993ef",
   "metadata": {},
   "outputs": [
    {
     "name": "stdout",
     "output_type": "stream",
     "text": [
      "DS10->WriteCalibartion 160[30000][2048:1235:0:600]//0e5b:::\n",
      "\n"
     ]
    }
   ],
   "source": [
    "lamp1.send(\"DS93->0:0:0[0:0:0:0]\")\n",
    "time.sleep(0.2)\n",
    "lamp1.read()\n",
    "print(lamp1.responses[-1][0])\n"
   ]
  },
  {
   "cell_type": "markdown",
   "id": "d80a6d21-440c-4db9-ab52-51be05ac0a42",
   "metadata": {},
   "source": [
    "2. encode 3200K max/min value"
   ]
  },
  {
   "cell_type": "code",
   "execution_count": 9,
   "id": "4439edc6-aebe-4e26-9b07-a3c746d4d46e",
   "metadata": {},
   "outputs": [
    {
     "name": "stdout",
     "output_type": "stream",
     "text": [
      "DS10->WriteCalibartion 340[35000][2048:1320:0:1000]//0e86:::\n",
      "\n"
     ]
    }
   ],
   "source": [
    "\n",
    "lamp1.send(\"DS93->1:0:0[0:0:0:0]\")\n",
    "time.sleep(0.2)\n",
    "lamp1.read()\n",
    "print(lamp1.responses[-1][0])\n"
   ]
  },
  {
   "cell_type": "code",
   "execution_count": 9,
   "id": "3565c2a0",
   "metadata": {},
   "outputs": [
    {
     "name": "stdout",
     "output_type": "stream",
     "text": [
      "DS10->WriteCalibartion 340[35000][2048:1320:0:1000]//0e86:::\n",
      "\n"
     ]
    }
   ],
   "source": [
    "\n",
    "lamp1.send(\"DS93->1:0:0[0:0:0:0]\")\n",
    "time.sleep(0.2)\n",
    "lamp1.read()\n",
    "print(lamp1.responses[-1][0])\n"
   ]
  },
  {
   "cell_type": "markdown",
   "id": "502eaba6-d19b-4342-8ea1-acc3f43cdb2e",
   "metadata": {},
   "source": [
    "3. encode 4800K max/min value"
   ]
  },
  {
   "cell_type": "code",
   "execution_count": 10,
   "id": "637c1d35-201d-4c10-81cc-76e2e2cbf4fb",
   "metadata": {},
   "outputs": [
    {
     "name": "stdout",
     "output_type": "stream",
     "text": [
      "DS10->WriteCalibartion 520[55000][2048:1660:150:2048]//0f02:::\n",
      "\n"
     ]
    }
   ],
   "source": [
    "lamp1.send(\"DS93->2:0:0[0:0:0:0]\")\n",
    "time.sleep(0.2)\n",
    "lamp1.read()\n",
    "print(lamp1.responses[-1][0])\n"
   ]
  },
  {
   "cell_type": "code",
   "execution_count": 10,
   "id": "48bfc09f",
   "metadata": {},
   "outputs": [
    {
     "name": "stdout",
     "output_type": "stream",
     "text": [
      "DS10->WriteCalibartion 520[55000][2048:1660:150:2048]//0f02:::\n",
      "\n"
     ]
    }
   ],
   "source": [
    "lamp1.send(\"DS93->2:0:0[0:0:0:0]\")\n",
    "time.sleep(0.2)\n",
    "lamp1.read()\n",
    "print(lamp1.responses[-1][0])\n"
   ]
  },
  {
   "cell_type": "markdown",
   "id": "7afcee4b-2164-43a2-b8cd-c53614e817c6",
   "metadata": {},
   "source": [
    "4. encode 5600K max/min value"
   ]
  },
  {
   "cell_type": "code",
   "execution_count": 11,
   "id": "19d41b06-4260-4404-b0cb-dc848f0e7f00",
   "metadata": {},
   "outputs": [
    {
     "name": "stdout",
     "output_type": "stream",
     "text": [
      "DS10->WriteCalibartion 700[60000][2000:1900:300:2048]//0eec:::\n",
      "\n"
     ]
    }
   ],
   "source": [
    "lamp1.send(\"DS93->3:0:0[0:0:0:0]\")\n",
    "time.sleep(0.2)\n",
    "lamp1.read()\n",
    "print(lamp1.responses[-1][0])"
   ]
  },
  {
   "cell_type": "code",
   "execution_count": 11,
   "id": "36d1b46f",
   "metadata": {},
   "outputs": [
    {
     "name": "stdout",
     "output_type": "stream",
     "text": [
      "DS10->WriteCalibartion 700[60000][2000:1900:300:2048]//0eec:::\n",
      "\n"
     ]
    }
   ],
   "source": [
    "lamp1.send(\"DS93->3:0:0[0:0:0:0]\")\n",
    "time.sleep(0.2)\n",
    "lamp1.read()\n",
    "print(lamp1.responses[-1][0])"
   ]
  },
  {
   "cell_type": "markdown",
   "id": "527b5d7f-0279-4d38-8892-f6a50aa4bb10",
   "metadata": {},
   "source": [
    "5. encode 7800K max/min value"
   ]
  },
  {
   "cell_type": "code",
   "execution_count": 12,
   "id": "9514e61d-69c9-4a0b-87aa-309737a0043d",
   "metadata": {},
   "outputs": [
    {
     "name": "stdout",
     "output_type": "stream",
     "text": [
      "DS10->WriteCalibartion 880[55000][1700:1970:530:2048]//0f0b:::\n",
      "\n"
     ]
    }
   ],
   "source": [
    "lamp1.send(\"DS93->4:0:0[0:0:0:0]\")\n",
    "time.sleep(0.2)\n",
    "lamp1.read()\n",
    "print(lamp1.responses[-1][0])\n"
   ]
  },
  {
   "cell_type": "code",
   "execution_count": 12,
   "id": "9db37cc5",
   "metadata": {},
   "outputs": [
    {
     "name": "stdout",
     "output_type": "stream",
     "text": [
      "DS10->WriteCalibartion 880[55000][1700:1970:530:2048]//0f0b:::\n",
      "\n"
     ]
    }
   ],
   "source": [
    "lamp1.send(\"DS93->4:0:0[0:0:0:0]\")\n",
    "time.sleep(0.2)\n",
    "lamp1.read()\n",
    "print(lamp1.responses[-1][0])\n"
   ]
  },
  {
   "cell_type": "markdown",
   "id": "a429415a-8b94-431f-851f-ebfa67e0afbf",
   "metadata": {},
   "source": [
    "6. encode 10000K max value"
   ]
  },
  {
   "cell_type": "code",
   "execution_count": 17,
   "id": "c8d47731-a6c1-44a6-8f72-79cd279db9dc",
   "metadata": {},
   "outputs": [
    {
     "name": "stdout",
     "output_type": "stream",
     "text": [
      "DS10->WriteCalibartion 1060[50000][1300:1830:650:2048]//0f27:::\n",
      "\n"
     ]
    }
   ],
   "source": [
    "lamp1.send(\"DS93->5:0:0[0:0:0:0]\")\n",
    "time.sleep(0.2)\n",
    "lamp1.read()\n",
    "print(lamp1.responses[-1][0])\n"
   ]
  },
  {
   "cell_type": "code",
   "execution_count": 17,
   "id": "0cde0f7a",
   "metadata": {},
   "outputs": [
    {
     "name": "stdout",
     "output_type": "stream",
     "text": [
      "DS10->WriteCalibartion 1060[50000][1300:1830:650:2048]//0f27:::\n",
      "\n"
     ]
    }
   ],
   "source": [
    "lamp1.send(\"DS93->5:0:0[0:0:0:0]\")\n",
    "time.sleep(0.2)\n",
    "lamp1.read()\n",
    "print(lamp1.responses[-1][0])\n"
   ]
  },
  {
   "cell_type": "markdown",
   "id": "f5bc7efe-2b82-4306-9b42-3bfe9e3a0d6d",
   "metadata": {},
   "source": [
    "8. red calibartion curve"
   ]
  },
  {
   "cell_type": "code",
   "execution_count": 14,
   "id": "58927d64-45dc-4633-9a8b-2ddb2e7ddbcf",
   "metadata": {},
   "outputs": [
    {
     "name": "stdout",
     "output_type": "stream",
     "text": [
      "DS10->SetTempCalibration(0[1096:1136:1181:1234:1296:1370:1456:1561:1689:1847:2048]) <- (0-2048)//1771:::\n",
      "\n"
     ]
    }
   ],
   "source": [
    "\n",
    "lamp1.send(\"DS90->0[1096:1136:1181:1234:1296:1370:1456:1561:1689:1847:2048]\")\n",
    "time.sleep(0.2)\n",
    "lamp1.read()\n",
    "print(lamp1.responses[-1][0])"
   ]
  },
  {
   "cell_type": "code",
   "execution_count": 18,
   "id": "1fd9b236-0a61-4166-b168-366c8a5f07fc",
   "metadata": {},
   "outputs": [],
   "source": [
    "lamp1.close()"
   ]
  },
  {
   "cell_type": "code",
   "execution_count": null,
   "id": "0bac38a8-f8db-4089-a7a0-7ef541b4ad6b",
   "metadata": {},
   "outputs": [],
   "source": []
  }
 ],
 "metadata": {
  "kernelspec": {
   "display_name": "Python 3 (ipykernel)",
   "language": "python",
   "name": "python3"
  },
  "language_info": {
   "codemirror_mode": {
    "name": "ipython",
    "version": 3
   },
   "file_extension": ".py",
   "mimetype": "text/x-python",
   "name": "python",
   "nbconvert_exporter": "python",
   "pygments_lexer": "ipython3",
   "version": "3.10.7"
  }
 },
 "nbformat": 4,
 "nbformat_minor": 5
}
