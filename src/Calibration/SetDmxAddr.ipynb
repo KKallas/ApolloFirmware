{
 "cells": [
  {
   "cell_type": "markdown",
   "id": "b63403b7-0fae-4501-b3f8-13f471280426",
   "metadata": {},
   "source": [
    "# Read and Write DMX offset\n",
    "use this notebook to check or set the DMX offset for the lamp"
   ]
  },
  {
   "cell_type": "code",
   "execution_count": 2,
   "id": "abe424c8-4c08-42f7-99fb-18352fea0534",
   "metadata": {},
   "outputs": [],
   "source": [
    "%run calibration_setup.ipynb"
   ]
  },
  {
   "cell_type": "code",
   "execution_count": 21,
   "id": "76f55667-ce24-4864-9e8b-efe01617ce0e",
   "metadata": {},
   "outputs": [],
   "source": [
    "lamp1.close()"
   ]
  },
  {
   "cell_type": "code",
   "execution_count": 12,
   "id": "60db6d6e-095e-44ac-9808-4b0518b47e36",
   "metadata": {},
   "outputs": [
    {
     "data": {
      "text/plain": [
       "'782184456C74'"
      ]
     },
     "execution_count": 12,
     "metadata": {},
     "output_type": "execute_result"
    }
   ],
   "source": [
    "lamp1 = apollo_device(ComPort='COM6')\n",
    "lamp1.getId()\n",
    "lamp1.macId = lamp1.macId.replace(\":\",\"\")\n",
    "lamp1.macId"
   ]
  },
  {
   "cell_type": "markdown",
   "id": "1c7de9a5-263d-4c04-ae31-2eea0b8a6c70",
   "metadata": {},
   "source": [
    "Get DMX offset Value"
   ]
  },
  {
   "cell_type": "code",
   "execution_count": 17,
   "id": "140bb000-e0b4-46ec-bd21-34c76351891b",
   "metadata": {},
   "outputs": [
    {
     "data": {
      "text/plain": [
       "'[\"dmx_offset\":0,\"Timestamp\":1699126873967458600]'"
      ]
     },
     "execution_count": 17,
     "metadata": {},
     "output_type": "execute_result"
    }
   ],
   "source": [
    "lamp1.send(\"Dr\\n\".encode('utf-8'))\n",
    "lamp1.read()\n",
    "lamp1.lastValAsJsonString"
   ]
  },
  {
   "cell_type": "markdown",
   "id": "bf3f0f4c-cad1-4941-8a38-32c1d5b9ed6e",
   "metadata": {},
   "source": [
    "Write DMX offset Value by chaning tyhe offset value from 0-511"
   ]
  },
  {
   "cell_type": "code",
   "execution_count": 16,
   "id": "cb00b56d-aea7-45ac-bac0-945dbc665777",
   "metadata": {},
   "outputs": [
    {
     "data": {
      "text/plain": [
       "'[\"dmx_offset\":0,\"Timestamp\":1699126862719616800]'"
      ]
     },
     "execution_count": 16,
     "metadata": {},
     "output_type": "execute_result"
    }
   ],
   "source": [
    "offset = 0\n",
    "\n",
    "lamp1.send((\"Dw \"+str(offset)+\"\\n\").encode('utf-8'))\n",
    "lamp1.read()\n",
    "lamp1.lastValAsJsonString"
   ]
  },
  {
   "cell_type": "code",
   "execution_count": null,
   "id": "71425381-eb22-4eca-be59-8f73e18f5706",
   "metadata": {},
   "outputs": [],
   "source": []
  }
 ],
 "metadata": {
  "kernelspec": {
   "display_name": "Python 3 (ipykernel)",
   "language": "python",
   "name": "python3"
  },
  "language_info": {
   "codemirror_mode": {
    "name": "ipython",
    "version": 3
   },
   "file_extension": ".py",
   "mimetype": "text/x-python",
   "name": "python",
   "nbconvert_exporter": "python",
   "pygments_lexer": "ipython3",
   "version": "3.10.7"
  }
 },
 "nbformat": 4,
 "nbformat_minor": 5
}
