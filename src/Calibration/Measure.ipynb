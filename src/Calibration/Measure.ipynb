{
 "cells": [
  {
   "cell_type": "markdown",
   "id": "3a1a2094-5c7f-4cd5-bf0f-27047ad8e575",
   "metadata": {},
   "source": [
    "# Measure Worksheet"
   ]
  },
  {
   "cell_type": "markdown",
   "id": "c1cd6544-7af1-401a-a8ec-94ea3e2ab51a",
   "metadata": {
    "tags": []
   },
   "source": [
    "## 1. Setup\n",
    "This section load python objects and variables please check the ```cam``` variable"
   ]
  },
  {
   "cell_type": "markdown",
   "id": "c826bdde-f662-471a-a159-0af31b9dd8c1",
   "metadata": {
    "tags": []
   },
   "source": [
    "### 1.1 Load python objects\n",
    "Loads ```scope``` and ```lamp``` python objects for reading sekonic and communication with the lamp"
   ]
  },
  {
   "cell_type": "code",
   "execution_count": 4,
   "id": "7b12f1d2-2245-4c56-afd7-d06cc626d68a",
   "metadata": {},
   "outputs": [],
   "source": [
    "cam = \"http://192.168.2.224/video_feed\"\n",
    "whiteTreshold = 150\n",
    "\n",
    "%run calibration_setup.ipynb"
   ]
  },
  {
   "cell_type": "markdown",
   "id": "76bf20b2-c593-470c-a7c3-759be9e590dc",
   "metadata": {
    "tags": []
   },
   "source": [
    "### 1.2 Connect to lamp\n",
    "Lamp needs to be closed before it can be opened again.\n",
    "If you dont know the serial port where the lamp is connected use the Find COM port section\n",
    "1st You need to setup sekonic and feedback camera (the areas where the data will be read, 1st -green value is set up so it would be possibel to get dUV - sign location), then close the lamp and start again with the scope objects"
   ]
  },
  {
   "cell_type": "code",
   "execution_count": 14,
   "id": "f8f748a0-aed4-42a2-957c-df258f6132f4",
   "metadata": {},
   "outputs": [],
   "source": [
    "lamp1.close()"
   ]
  },
  {
   "cell_type": "code",
   "execution_count": 16,
   "id": "290f74e3-10d6-47e5-b533-d8fd39080df3",
   "metadata": {},
   "outputs": [
    {
     "data": {
      "text/plain": [
       "'782184456C74'"
      ]
     },
     "execution_count": 16,
     "metadata": {},
     "output_type": "execute_result"
    }
   ],
   "source": [
    "lamp1 = apollo_device(ComPort='COM6')\n",
    "lamp1.getId()\n",
    "lamp1.macId = lamp1.macId.replace(\":\",\"\")\n",
    "lamp1.macId"
   ]
  },
  {
   "cell_type": "code",
   "execution_count": 17,
   "id": "d672a386-04aa-49d8-8cfa-025af8bcd9d1",
   "metadata": {},
   "outputs": [],
   "source": [
    "lamp1.color = [200,50,50,500,0]\n",
    "lamp1.update()"
   ]
  },
  {
   "cell_type": "markdown",
   "id": "69cad74d-7c52-42d3-89e1-3b61847aa6ad",
   "metadata": {
    "tags": []
   },
   "source": [
    "#### [Optional] Find COM port"
   ]
  },
  {
   "cell_type": "code",
   "execution_count": 9,
   "id": "94e345e2-abd8-484b-a462-0ea67666b260",
   "metadata": {},
   "outputs": [
    {
     "name": "stdout",
     "output_type": "stream",
     "text": [
      "COM5 USB Serial Port (COM5)\n",
      "COM6 USB Serial Port (COM6)\n"
     ]
    }
   ],
   "source": [
    "# Get COM port list\n",
    "import serial.tools.list_ports\n",
    "\n",
    "com_ports = list(serial.tools.list_ports.comports())\n",
    "\n",
    "for port, desc, hwid in com_ports:\n",
    "    print(str(port)+\" \"+str(desc))"
   ]
  },
  {
   "cell_type": "markdown",
   "id": "780031a4-8098-48ce-aa04-bfa87337fff8",
   "metadata": {
    "tags": []
   },
   "source": [
    "### 1.3 Set Sekonic camera areas\n",
    "Set the area where to \"read\" the Tcp, dUV and lux variables\n",
    "Once the object is initalized tune the paramters and test by ```update()```\n",
    "To save the paramteres use the Setup below to generate the ```saved_string``` and copy and paste it into funtion paramter and save the workbook"
   ]
  },
  {
   "cell_type": "code",
   "execution_count": 29,
   "id": "4d8b3113-1a5f-43a7-bb9c-b0247245edf4",
   "metadata": {},
   "outputs": [
    {
     "name": "stderr",
     "output_type": "stream",
     "text": [
      "CUDA not available - defaulting to CPU. Note: This module is much faster with a GPU.\n"
     ]
    },
    {
     "data": {
      "application/vnd.jupyter.widget-view+json": {
       "model_id": "cbc5bb26f99941da8a211fb25ad035c1",
       "version_major": 2,
       "version_minor": 0
      },
      "text/plain": [
       "Tab(children=(VBox(children=(Label(value='Width:'), IntRangeSlider(value=(315, 450), layout=Layout(width='90%'…"
      ]
     },
     "metadata": {},
     "output_type": "display_data"
    },
    {
     "data": {
      "application/vnd.jupyter.widget-view+json": {
       "model_id": "54f6c8177d924bce879c1c9d8437d155",
       "version_major": 2,
       "version_minor": 0
      },
      "text/plain": [
       "Label(value='Out:')"
      ]
     },
     "metadata": {},
     "output_type": "display_data"
    },
    {
     "data": {
      "application/vnd.jupyter.widget-view+json": {
       "model_id": "c9e64e6555a245f7b45d41daec9a5b24",
       "version_major": 2,
       "version_minor": 0
      },
      "text/plain": [
       "Image(value=b'\\x89PNG\\r\\n\\x1a\\n\\x00\\x00\\x00\\rIHDR\\x00\\x00\\x00\\x87\\x00\\x00\\x002\\x08\\x02\\x00\\x00\\x00\\xf9\\x82_\\x9…"
      ]
     },
     "metadata": {},
     "output_type": "display_data"
    },
    {
     "data": {
      "application/vnd.jupyter.widget-view+json": {
       "model_id": "bfa1451ef69f4201afe3051b49fd3664",
       "version_major": 2,
       "version_minor": 0
      },
      "text/plain": [
       "Output()"
      ]
     },
     "metadata": {},
     "output_type": "display_data"
    }
   ],
   "source": [
    "Brightness = scope(saved_string=\"self.slider_h.value = (229, 388)\\nself.slider_v.value = (390, 448)\\nself.minus_comp.value = False\\nself.offset_x.value = 0\\nself.offset_y.value = 0\\nself.replacement_list.value =str([('o', '0'), ('O', '0'), (',', '.')]) \\n\")"
   ]
  },
  {
   "cell_type": "code",
   "execution_count": 19,
   "id": "67427f1d-0eb5-4ff1-9046-8536aaa303d8",
   "metadata": {},
   "outputs": [
    {
     "data": {
      "text/plain": [
       "4150"
      ]
     },
     "execution_count": 19,
     "metadata": {},
     "output_type": "execute_result"
    }
   ],
   "source": [
    "Brightness.update()"
   ]
  },
  {
   "cell_type": "code",
   "execution_count": 30,
   "id": "0a492722-1993-4fcc-ae06-eb43f1fb4b89",
   "metadata": {},
   "outputs": [
    {
     "name": "stderr",
     "output_type": "stream",
     "text": [
      "CUDA not available - defaulting to CPU. Note: This module is much faster with a GPU.\n"
     ]
    },
    {
     "data": {
      "application/vnd.jupyter.widget-view+json": {
       "model_id": "a83f5c5936a04b83b01e7768148f9438",
       "version_major": 2,
       "version_minor": 0
      },
      "text/plain": [
       "Tab(children=(VBox(children=(Label(value='Width:'), IntRangeSlider(value=(315, 450), layout=Layout(width='90%'…"
      ]
     },
     "metadata": {},
     "output_type": "display_data"
    },
    {
     "data": {
      "application/vnd.jupyter.widget-view+json": {
       "model_id": "590118e896dd420a9ad6991c9a4451be",
       "version_major": 2,
       "version_minor": 0
      },
      "text/plain": [
       "Label(value='Out:')"
      ]
     },
     "metadata": {},
     "output_type": "display_data"
    },
    {
     "data": {
      "application/vnd.jupyter.widget-view+json": {
       "model_id": "6e1f48f7e267426496a7f32c52509177",
       "version_major": 2,
       "version_minor": 0
      },
      "text/plain": [
       "Image(value=b'\\x89PNG\\r\\n\\x1a\\n\\x00\\x00\\x00\\rIHDR\\x00\\x00\\x00\\x87\\x00\\x00\\x002\\x08\\x02\\x00\\x00\\x00\\xf9\\x82_\\x9…"
      ]
     },
     "metadata": {},
     "output_type": "display_data"
    },
    {
     "data": {
      "application/vnd.jupyter.widget-view+json": {
       "model_id": "06f117c64aa24bfb81ba005b0d6d0d5b",
       "version_major": 2,
       "version_minor": 0
      },
      "text/plain": [
       "Output()"
      ]
     },
     "metadata": {},
     "output_type": "display_data"
    }
   ],
   "source": [
    "dUV = scope(saved_string=\"self.slider_h.value = (250, 443)\\nself.slider_v.value = (304, 368)\\nself.minus_comp.value = True\\nself.offset_x.value = -80\\nself.offset_y.value = 2\\nself.replacement_list.value =str([('o', '0'), ('O', '0'), (',', '.'), ('20.0', '0,0'), ('0.6', '0.0'), ('0.8', '0.0')]) \\n\")"
   ]
  },
  {
   "cell_type": "code",
   "execution_count": 23,
   "id": "c5021012-1724-419b-996a-ac541b825415",
   "metadata": {},
   "outputs": [
    {
     "data": {
      "text/plain": [
       "-0.029"
      ]
     },
     "execution_count": 23,
     "metadata": {},
     "output_type": "execute_result"
    }
   ],
   "source": [
    "dUV.update()"
   ]
  },
  {
   "cell_type": "code",
   "execution_count": 31,
   "id": "24693481-460e-4d4f-9354-15935117b55f",
   "metadata": {},
   "outputs": [
    {
     "name": "stderr",
     "output_type": "stream",
     "text": [
      "CUDA not available - defaulting to CPU. Note: This module is much faster with a GPU.\n"
     ]
    },
    {
     "data": {
      "application/vnd.jupyter.widget-view+json": {
       "model_id": "6071489fb106408992b4e17770fede8b",
       "version_major": 2,
       "version_minor": 0
      },
      "text/plain": [
       "Tab(children=(VBox(children=(Label(value='Width:'), IntRangeSlider(value=(315, 450), layout=Layout(width='90%'…"
      ]
     },
     "metadata": {},
     "output_type": "display_data"
    },
    {
     "data": {
      "application/vnd.jupyter.widget-view+json": {
       "model_id": "e85dfccb3f4d48ee9f4bd6a330f5fbc5",
       "version_major": 2,
       "version_minor": 0
      },
      "text/plain": [
       "Label(value='Out:')"
      ]
     },
     "metadata": {},
     "output_type": "display_data"
    },
    {
     "data": {
      "application/vnd.jupyter.widget-view+json": {
       "model_id": "3c18706f4f044a92be69816434bb23b6",
       "version_major": 2,
       "version_minor": 0
      },
      "text/plain": [
       "Image(value=b'\\x89PNG\\r\\n\\x1a\\n\\x00\\x00\\x00\\rIHDR\\x00\\x00\\x00\\x87\\x00\\x00\\x002\\x08\\x02\\x00\\x00\\x00\\xf9\\x82_\\x9…"
      ]
     },
     "metadata": {},
     "output_type": "display_data"
    },
    {
     "data": {
      "application/vnd.jupyter.widget-view+json": {
       "model_id": "8a00a73c24de4dc4bc133c09795aa948",
       "version_major": 2,
       "version_minor": 0
      },
      "text/plain": [
       "Output()"
      ]
     },
     "metadata": {},
     "output_type": "display_data"
    }
   ],
   "source": [
    "Kelvin = scope(saved_string=\"self.slider_h.value = (254, 412)\\nself.slider_v.value = (228, 286)\\nself.minus_comp.value = False\\nself.offset_x.value = 0\\nself.offset_y.value = 0\\nself.replacement_list.value =str([('o', '0'), ('O', '0'), (',', '.'), ('G', '6')]) \\n\")"
   ]
  },
  {
   "cell_type": "code",
   "execution_count": 25,
   "id": "36647249-0721-4913-9ca6-688348e3bfc9",
   "metadata": {},
   "outputs": [
    {
     "data": {
      "text/plain": [
       "5129"
      ]
     },
     "execution_count": 25,
     "metadata": {},
     "output_type": "execute_result"
    }
   ],
   "source": [
    "Kelvin.update()"
   ]
  },
  {
   "cell_type": "markdown",
   "id": "c1b74fda-7424-4647-a88a-bee5abb5ca55",
   "metadata": {
    "jp-MarkdownHeadingCollapsed": true,
    "tags": []
   },
   "source": [
    "#### Setup"
   ]
  },
  {
   "cell_type": "code",
   "execution_count": 26,
   "id": "6371d03b-1650-4efa-8bec-4d46e79c9e60",
   "metadata": {},
   "outputs": [
    {
     "data": {
      "text/plain": [
       "\"self.slider_h.value = (229, 388)\\nself.slider_v.value = (390, 448)\\nself.minus_comp.value = False\\nself.offset_x.value = 0\\nself.offset_y.value = 0\\nself.replacement_list.value =str([('o', '0'), ('O', '0'), (',', '.')]) \\n\""
      ]
     },
     "execution_count": 26,
     "metadata": {},
     "output_type": "execute_result"
    }
   ],
   "source": [
    "Brightness.save_string()"
   ]
  },
  {
   "cell_type": "code",
   "execution_count": 27,
   "id": "3f4b23c6-9c89-419f-b6f0-5855b094b867",
   "metadata": {},
   "outputs": [
    {
     "data": {
      "text/plain": [
       "\"self.slider_h.value = (250, 443)\\nself.slider_v.value = (304, 368)\\nself.minus_comp.value = True\\nself.offset_x.value = -80\\nself.offset_y.value = 2\\nself.replacement_list.value =str([('o', '0'), ('O', '0'), (',', '.'), ('20.0', '0,0'), ('0.6', '0.0'), ('0.8', '0.0')]) \\n\""
      ]
     },
     "execution_count": 27,
     "metadata": {},
     "output_type": "execute_result"
    }
   ],
   "source": [
    "dUV.save_string()"
   ]
  },
  {
   "cell_type": "code",
   "execution_count": 28,
   "id": "59afa913-b12f-4fd1-a8f4-24edbd83967d",
   "metadata": {},
   "outputs": [
    {
     "data": {
      "text/plain": [
       "\"self.slider_h.value = (254, 412)\\nself.slider_v.value = (228, 286)\\nself.minus_comp.value = False\\nself.offset_x.value = 0\\nself.offset_y.value = 0\\nself.replacement_list.value =str([('o', '0'), ('O', '0'), (',', '.'), ('G', '6')]) \\n\""
      ]
     },
     "execution_count": 28,
     "metadata": {},
     "output_type": "execute_result"
    }
   ],
   "source": [
    "Kelvin.save_string()"
   ]
  },
  {
   "cell_type": "markdown",
   "id": "69c5129a-a0ba-406e-8567-21315095af2e",
   "metadata": {},
   "source": [
    "# Measure"
   ]
  },
  {
   "cell_type": "code",
   "execution_count": 45,
   "id": "f4acf2a0-1a9d-4cfc-bd55-7204f7b04567",
   "metadata": {},
   "outputs": [],
   "source": [
    "lamp1.close()"
   ]
  },
  {
   "cell_type": "code",
   "execution_count": null,
   "id": "b6aed229-3260-45cd-97d7-c813751a1990",
   "metadata": {},
   "outputs": [
    {
     "data": {
      "text/plain": [
       "'782184456C74'"
      ]
     },
     "execution_count": 50,
     "metadata": {},
     "output_type": "execute_result"
    }
   ],
   "source": [
    "lamp1 = apollo_device(ComPort='COM6',SekBrightnes=Brightness, SekDuv=dUV, SekKelvin=Kelvin)\n",
    "lamp1.getId()\n",
    "lamp1.macId = lamp1.macId.replace(\":\",\"\")\n",
    "lamp1.macId"
   ]
  },
  {
   "cell_type": "code",
   "execution_count": null,
   "id": "d32652ca-e56a-406b-9869-dd210386141c",
   "metadata": {},
   "outputs": [],
   "source": []
  },
  {
   "cell_type": "code",
   "execution_count": null,
   "id": "5a39150b-619a-44cf-a2d5-534768f6ba6c",
   "metadata": {},
   "outputs": [],
   "source": [
    "%%time\n",
    "wbIndex = 1 # 0-5\n",
    "wbRanges = [0,14,71,100,178,255]\n",
    "tempIndex = wbRanges[wbIndex]\n",
    "\n",
    "import pandas as pd\n",
    "\n",
    "data = {'sampleNr': [], 'Brightness': [], 'Kelvin': [], 'dUV': [], 'mixedR': [], 'mixedG': [], 'mixedB': [], 'mixedW': [], 'redActual': [], 'lampTemp': [], 'lampTempTarget': [], 'fanSpeed': []}\n",
    "df = pd.DataFrame(data)\n",
    "\n",
    "lamp1.color = [1,1,1,tempIndex,0]\n",
    "lamp1.update(rgbtMode=True)\n",
    "time.sleep(10)\n",
    "\n",
    "for i in range(1,255):\n",
    "    lamp1.color = [i,i,i,tempIndex,0]\n",
    "    lamp1.update(rgbtMode=True)\n",
    "    time.sleep(0.3)\n",
    "    lamp1.read()\n",
    "    \n",
    "    timeout = 2\n",
    "    if i<50:\n",
    "        timeout = 7\n",
    "    if i<100:\n",
    "        timeout = 3\n",
    "        \n",
    "    time.sleep(timeout)\n",
    "    readBrightness = Brightness.update()\n",
    "    readKelvin = Kelvin.update()\n",
    "    readDuv = dUV.update()\n",
    "    \n",
    "    jsonString = \"{\"+lamp1.lastValAsJsonString[1:-1]+\"}\"\n",
    "    jsonObject = eval(jsonString)\n",
    "    \n",
    "    new_line = pd.DataFrame([{\n",
    "        'sampleNr':i,\n",
    "        'Kelvin':readKelvin,\n",
    "        'Brightness':readBrightness,\n",
    "        'dUV':readDuv,\n",
    "        'mixedR': jsonObject['mixed_red'],\n",
    "        'mixedG': jsonObject['mixed_green'],\n",
    "        'mixedB': jsonObject['mixed_blue'],\n",
    "        'mixedW': jsonObject['mixed_white'],\n",
    "        'redActual': jsonObject['red_actual'],\n",
    "        'lampTemp': jsonObject['lamp_temp'],\n",
    "        'lampTempTarget': jsonObject['lamp_target'],\n",
    "        'fanSpeed': jsonObject['fan_speed']}])\n",
    "    \n",
    "    df = pd.concat([df, new_line],ignore_index=True)\n",
    "    \n",
    "    print('i:'+str(i)+\", dUV:\"+str(readDuv)+\" Kelvin:\"+str(readKelvin)+\"K Brightness:\"+str(readBrightness)+\"lx\")\n",
    "    \n",
    "\n",
    "file_path = \"Apollo\"+str(lamp1.macId)+\"_\"+str(wbIndex)+\"_\"+datetime.datetime.now().strftime(\"%d%m%Y_%H%M%S\")+\".py\"\n",
    "df.to_csv(file_path, index=False)\n",
    "print(\"Saved to: \"+file_path)"
   ]
  },
  {
   "cell_type": "code",
   "execution_count": 36,
   "id": "1bbb58b3-5b0b-44f2-9685-ec494806574c",
   "metadata": {},
   "outputs": [
    {
     "data": {
      "text/html": [
       "<div><div id=e17a6d26-d996-4100-878e-a0e858d6fb3b style=\"display:none; background-color:#9D6CFF; color:white; width:200px; height:30px; padding-left:5px; border-radius:4px; flex-direction:row; justify-content:space-around; align-items:center;\" onmouseover=\"this.style.backgroundColor='#BA9BF8'\" onmouseout=\"this.style.backgroundColor='#9D6CFF'\" onclick=\"window.commands?.execute('create-mitosheet-from-dataframe-output');\">See Full Dataframe in Mito</div> <script> if (window.commands?.hasCommand('create-mitosheet-from-dataframe-output')) document.getElementById('e17a6d26-d996-4100-878e-a0e858d6fb3b').style.display = 'flex' </script> <table border=\"1\" class=\"dataframe\">\n",
       "  <thead>\n",
       "    <tr style=\"text-align: right;\">\n",
       "      <th></th>\n",
       "      <th>sampleNr</th>\n",
       "      <th>Brightness</th>\n",
       "      <th>Kelvin</th>\n",
       "      <th>dUV</th>\n",
       "    </tr>\n",
       "  </thead>\n",
       "  <tbody>\n",
       "    <tr>\n",
       "      <th>0</th>\n",
       "      <td>1.0</td>\n",
       "      <td>62.7</td>\n",
       "      <td>3185.0</td>\n",
       "      <td>0.0044</td>\n",
       "    </tr>\n",
       "    <tr>\n",
       "      <th>1</th>\n",
       "      <td>2.0</td>\n",
       "      <td>62.5</td>\n",
       "      <td>3175.0</td>\n",
       "      <td>0.0046</td>\n",
       "    </tr>\n",
       "    <tr>\n",
       "      <th>2</th>\n",
       "      <td>3.0</td>\n",
       "      <td>62.9</td>\n",
       "      <td>3191.0</td>\n",
       "      <td>0.0044</td>\n",
       "    </tr>\n",
       "    <tr>\n",
       "      <th>3</th>\n",
       "      <td>4.0</td>\n",
       "      <td>62.3</td>\n",
       "      <td>3170.0</td>\n",
       "      <td>0.0044</td>\n",
       "    </tr>\n",
       "    <tr>\n",
       "      <th>4</th>\n",
       "      <td>5.0</td>\n",
       "      <td>62.6</td>\n",
       "      <td>3182.0</td>\n",
       "      <td>0.0047</td>\n",
       "    </tr>\n",
       "    <tr>\n",
       "      <th>5</th>\n",
       "      <td>6.0</td>\n",
       "      <td>66.4</td>\n",
       "      <td>2752.0</td>\n",
       "      <td>-0.0015</td>\n",
       "    </tr>\n",
       "    <tr>\n",
       "      <th>6</th>\n",
       "      <td>7.0</td>\n",
       "      <td>69.0</td>\n",
       "      <td>2891.0</td>\n",
       "      <td>0.0018</td>\n",
       "    </tr>\n",
       "    <tr>\n",
       "      <th>7</th>\n",
       "      <td>8.0</td>\n",
       "      <td>72.9</td>\n",
       "      <td>3081.0</td>\n",
       "      <td>0.0060</td>\n",
       "    </tr>\n",
       "    <tr>\n",
       "      <th>8</th>\n",
       "      <td>9.0</td>\n",
       "      <td>73.3</td>\n",
       "      <td>3091.0</td>\n",
       "      <td>0.0056</td>\n",
       "    </tr>\n",
       "    <tr>\n",
       "      <th>9</th>\n",
       "      <td>10.0</td>\n",
       "      <td>77.0</td>\n",
       "      <td>2710.0</td>\n",
       "      <td>0.0007</td>\n",
       "    </tr>\n",
       "  </tbody>\n",
       "</table></div>"
      ],
      "text/plain": [
       "   sampleNr  Brightness  Kelvin     dUV\n",
       "0       1.0        62.7  3185.0  0.0044\n",
       "1       2.0        62.5  3175.0  0.0046\n",
       "2       3.0        62.9  3191.0  0.0044\n",
       "3       4.0        62.3  3170.0  0.0044\n",
       "4       5.0        62.6  3182.0  0.0047\n",
       "5       6.0        66.4  2752.0 -0.0015\n",
       "6       7.0        69.0  2891.0  0.0018\n",
       "7       8.0        72.9  3081.0  0.0060\n",
       "8       9.0        73.3  3091.0  0.0056\n",
       "9      10.0        77.0  2710.0  0.0007"
      ]
     },
     "execution_count": 36,
     "metadata": {},
     "output_type": "execute_result"
    }
   ],
   "source": [
    "df.head(10)"
   ]
  },
  {
   "cell_type": "code",
   "execution_count": 67,
   "id": "5e7e2758-b2c2-4689-8a5b-6488c86fbc39",
   "metadata": {},
   "outputs": [],
   "source": [
    "for wbIndex in range(6):\n",
    "    wbRanges = [0,14,71,100,178,255]\n",
    "    tempIndex = wbRanges[wbIndex]\n",
    "\n",
    "    import pandas as pd\n",
    "\n",
    "    data = {'sampleNr': [], 'Brightness': [], 'Kelvin': [], 'dUV': [], 'mixedR': [], 'mixedG': [], 'mixedB': [], 'mixedW': [], 'redActual': [], 'lampTemp': [], 'lampTempTarget': [], 'fanSpeed': []}\n",
    "    df = pd.DataFrame(data)\n",
    "\n",
    "    lamp1.color = [1,1,1,tempIndex,0]\n",
    "    lamp1.update(rgbtMode=True)\n",
    "    time.sleep(10)\n",
    "\n",
    "    for i in range(1,255):\n",
    "        lamp1.color = [i,i,i,tempIndex,0]\n",
    "        lamp1.update(rgbtMode=True)\n",
    "        time.sleep(0.3)\n",
    "        lamp1.read()\n",
    "\n",
    "        timeout = 2\n",
    "        if i<50:\n",
    "            timeout = 7\n",
    "        if i<100:\n",
    "            timeout = 3\n",
    "\n",
    "        time.sleep(timeout)\n",
    "        readBrightness = Brightness.update()\n",
    "        readKelvin = Kelvin.update()\n",
    "        readDuv = dUV.update()\n",
    "\n",
    "        jsonString = \"{\"+lamp1.lastValAsJsonString[1:-1]+\"}\"\n",
    "        jsonObject = eval(jsonString)\n",
    "\n",
    "        new_line = pd.DataFrame([{\n",
    "            'sampleNr':i,\n",
    "            'Kelvin':readKelvin,\n",
    "            'Brightness':readBrightness,\n",
    "            'dUV':readDuv,\n",
    "            'mixedR': jsonObject['mixed_red'],\n",
    "            'mixedG': jsonObject['mixed_green'],\n",
    "            'mixedB': jsonObject['mixed_blue'],\n",
    "            'mixedW': jsonObject['mixed_white'],\n",
    "            'redActual': jsonObject['red_actual'],\n",
    "            'lampTemp': jsonObject['lamp_temp'],\n",
    "            'lampTempTarget': jsonObject['lamp_target'],\n",
    "            'fanSpeed': jsonObject['fan_speed']}])\n",
    "\n",
    "        df = pd.concat([df, new_line],ignore_index=True)\n",
    "\n",
    "        print('i:'+str(i)+\", dUV:\"+str(readDuv)+\" Kelvin:\"+str(readKelvin)+\"K Brightness:\"+str(readBrightness)+\"lx\")\n",
    "\n",
    "\n",
    "    file_path = \"Apollo\"+str(lamp1.macId)+\"_\"+str(wbIndex)+\"_\"+datetime.datetime.now().strftime(\"%d%m%Y_%H%M%S\")+\".py\"\n",
    "    df.to_csv(file_path, index=False)\n",
    "    print(\"Saved to: \"+file_path)"
   ]
  },
  {
   "cell_type": "markdown",
   "id": "75b1d61b-ed9b-4c30-851d-ace3e23a7d3f",
   "metadata": {},
   "source": [
    "Write the last dataframe into file"
   ]
  },
  {
   "cell_type": "code",
   "execution_count": 40,
   "id": "bef2839e-2fdc-436d-bf3c-74d90df698db",
   "metadata": {},
   "outputs": [],
   "source": [
    "import datetime\n",
    "\n",
    "wbIndex = 0 # 0-5\n",
    "wbRanges = [0,14,71,100,178,255]\n",
    "tempIndex = wbRanges[wbIndex]\n",
    "\n",
    "file_path = \"Apollo\"+str(lamp1.macId)+\"_\"+str(wbIndex)+\"_\"+datetime.datetime.now().strftime(\"%d%m%Y_%H%M%S\")+\".py\"\n",
    "df.to_csv(file_path, index=False)"
   ]
  },
  {
   "cell_type": "markdown",
   "id": "d0ff83fe-34bf-4393-9212-149211dd5dd6",
   "metadata": {},
   "source": [
    "Draw a graph"
   ]
  },
  {
   "cell_type": "code",
   "execution_count": 3,
   "id": "2c197ce1-422c-4d02-91ff-0e1c30215312",
   "metadata": {},
   "outputs": [
    {
     "ename": "NameError",
     "evalue": "name 'dn' is not defined",
     "output_type": "error",
     "traceback": [
      "\u001b[1;31m---------------------------------------------------------------------------\u001b[0m",
      "\u001b[1;31mNameError\u001b[0m                                 Traceback (most recent call last)",
      "Cell \u001b[1;32mIn [3], line 3\u001b[0m\n\u001b[0;32m      1\u001b[0m \u001b[38;5;28;01mimport\u001b[39;00m \u001b[38;5;21;01mmatplotlib\u001b[39;00m\u001b[38;5;21;01m.\u001b[39;00m\u001b[38;5;21;01mpyplot\u001b[39;00m \u001b[38;5;28;01mas\u001b[39;00m \u001b[38;5;21;01mplt\u001b[39;00m\n\u001b[1;32m----> 3\u001b[0m data \u001b[38;5;241m=\u001b[39m dn\n\u001b[0;32m      5\u001b[0m \u001b[38;5;66;03m# Create a plot for dUV against sampleNr\u001b[39;00m\n\u001b[0;32m      6\u001b[0m plt\u001b[38;5;241m.\u001b[39mfigure(figsize\u001b[38;5;241m=\u001b[39m(\u001b[38;5;241m20\u001b[39m, \u001b[38;5;241m4\u001b[39m))\n",
      "\u001b[1;31mNameError\u001b[0m: name 'dn' is not defined"
     ]
    }
   ],
   "source": [
    "import matplotlib.pyplot as plt\n",
    "\n",
    "data = dn\n",
    "\n",
    "# Create a plot for dUV against sampleNr\n",
    "plt.figure(figsize=(20, 4))\n",
    "plt.plot(data['sampleNr'], data['dUV'], color='b')\n",
    "plt.title('dUV vs sampleNr')\n",
    "plt.xlabel('Sample Number')\n",
    "plt.ylabel('dUV')\n",
    "plt.grid(True)\n",
    "\n",
    "# Show the graph\n",
    "plt.show()"
   ]
  },
  {
   "cell_type": "code",
   "execution_count": null,
   "id": "05a82f52-ff0a-4fb3-9df1-352f6cb42156",
   "metadata": {},
   "outputs": [],
   "source": []
  }
 ],
 "metadata": {
  "kernelspec": {
   "display_name": "Python 3 (ipykernel)",
   "language": "python",
   "name": "python3"
  },
  "language_info": {
   "codemirror_mode": {
    "name": "ipython",
    "version": 3
   },
   "file_extension": ".py",
   "mimetype": "text/x-python",
   "name": "python",
   "nbconvert_exporter": "python",
   "pygments_lexer": "ipython3",
   "version": "3.10.7"
  }
 },
 "nbformat": 4,
 "nbformat_minor": 5
}
