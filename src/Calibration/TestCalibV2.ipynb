{
 "cells": [
  {
   "cell_type": "markdown",
   "id": "3a1a2094-5c7f-4cd5-bf0f-27047ad8e575",
   "metadata": {},
   "source": [
    "# Testing Calibration V2Worksheet"
   ]
  },
  {
   "cell_type": "markdown",
   "id": "c1cd6544-7af1-401a-a8ec-94ea3e2ab51a",
   "metadata": {
    "tags": []
   },
   "source": [
    "## 1. Setup\n",
    "This section load python objects and variables please check the ```cam``` variable"
   ]
  },
  {
   "cell_type": "markdown",
   "id": "c826bdde-f662-471a-a159-0af31b9dd8c1",
   "metadata": {
    "tags": []
   },
   "source": [
    "### 1.1 Load python objects\n",
    "Loads ```scope``` and ```lamp``` python objects for reading sekonic and communication with the lamp"
   ]
  },
  {
   "cell_type": "code",
   "execution_count": null,
   "id": "7b12f1d2-2245-4c56-afd7-d06cc626d68a",
   "metadata": {},
   "outputs": [],
   "source": [
    "cam = \"http://192.168.2.224/video_feed\"\n",
    "sharedFolder = r\"C:\\Users\\Virtual Production 2\\Documents\\ApolloLogs\\\\\"\n",
    "comPort = 'COM6'\n",
    "brightnessString = \"self.slider_h.value = (240, 399)\\nself.slider_v.value = (378, 436)\\nself.minus_comp.value = False\\nself.minus_brightness.value = '150'\\nself.offset_x.value = 0\\nself.offset_y.value = 0\\nself.rota.value = '90'\\nself.flip.value = False\\nself.flop.value = False\\nself.replacement_list.value =str([('o', '0'), ('O', '0'), (',', '.')]) \\n\"\n",
    "duvString = \"self.slider_h.value = (261, 450)\\nself.slider_v.value = (296, 354)\\nself.minus_comp.value = True\\nself.minus_brightness.value = '150'\\nself.offset_x.value = -85\\nself.offset_y.value = 3\\nself.rota.value = '90'\\nself.flip.value = False\\nself.flop.value = False\\nself.replacement_list.value =str([('o', '0'), ('O', '0'), (',', '.'), ('20.0', '0,0'), ('0.6', '0.0'), ('0.8', '0.0')]) \\n\"\n",
    "kelvinString = \"self.slider_h.value = (265, 423)\\nself.slider_v.value = (214, 272)\\nself.minus_comp.value = False\\nself.minus_brightness.value = '150'\\nself.offset_x.value = 0\\nself.offset_y.value = 0\\nself.rota.value = '90'\\nself.flip.value = False\\nself.flop.value = False\\nself.replacement_list.value =str([('o', '0'), ('O', '0'), (',', '.'), ('G', '6')]) \\n\"\n",
    "data = None\n",
    "\n",
    "%run calibration_setup_v2.ipynb"
   ]
  },
  {
   "cell_type": "markdown",
   "id": "69cad74d-7c52-42d3-89e1-3b61847aa6ad",
   "metadata": {
    "tags": []
   },
   "source": [
    "#### [Optional] Find COM port"
   ]
  },
  {
   "cell_type": "code",
   "execution_count": null,
   "id": "94e345e2-abd8-484b-a462-0ea67666b260",
   "metadata": {
    "tags": []
   },
   "outputs": [],
   "source": [
    "# Get COM port list\n",
    "import serial.tools.list_ports\n",
    "\n",
    "com_ports = list(serial.tools.list_ports.comports())\n",
    "\n",
    "for port, desc, hwid in com_ports:\n",
    "    print(str(port)+\" \"+str(desc))"
   ]
  },
  {
   "cell_type": "markdown",
   "id": "76bf20b2-c593-470c-a7c3-759be9e590dc",
   "metadata": {
    "tags": []
   },
   "source": [
    "### 1.2 Connect to lamp\n",
    "Lamp needs to be closed before it can be opened again.\n",
    "If you dont know the serial port where the lamp is connected use the Find COM port section\n",
    "1st You need to setup sekonic and feedback camera (the areas where the data will be read, 1st -green value is set up so it would be possibel to get dUV - sign location), then close the lamp and start again with the scope objects"
   ]
  },
  {
   "cell_type": "code",
   "execution_count": null,
   "id": "f8f748a0-aed4-42a2-957c-df258f6132f4",
   "metadata": {},
   "outputs": [],
   "source": [
    "lamp1.close()"
   ]
  },
  {
   "cell_type": "code",
   "execution_count": null,
   "id": "290f74e3-10d6-47e5-b533-d8fd39080df3",
   "metadata": {},
   "outputs": [],
   "source": [
    "lamp1 = apollo_device(ComPort=comPort)\n",
    "lamp1.getId()\n",
    "lamp1.macId = lamp1.macId.replace(\":\",\"\")\n",
    "lamp1.macId"
   ]
  },
  {
   "cell_type": "code",
   "execution_count": null,
   "id": "d672a386-04aa-49d8-8cfa-025af8bcd9d1",
   "metadata": {},
   "outputs": [],
   "source": [
    "lamp1.color = [200,50,50,500,0]\n",
    "lamp1.update()"
   ]
  },
  {
   "cell_type": "markdown",
   "id": "780031a4-8098-48ce-aa04-bfa87337fff8",
   "metadata": {
    "tags": []
   },
   "source": [
    "### 1.3 Set Sekonic camera areas\n",
    "Set the area where to \"read\" the Tcp, dUV and lux variables\n",
    "Once the object is initalized tune the paramters and test by ```update()```\n",
    "To save the paramteres use the Setup below to generate the ```saved_string``` and copy and paste it into funtion paramter and save the workbook"
   ]
  },
  {
   "cell_type": "code",
   "execution_count": null,
   "id": "4d8b3113-1a5f-43a7-bb9c-b0247245edf4",
   "metadata": {},
   "outputs": [],
   "source": [
    "Brightness = scope(saved_string=brightnessString)"
   ]
  },
  {
   "cell_type": "code",
   "execution_count": null,
   "id": "67427f1d-0eb5-4ff1-9046-8536aaa303d8",
   "metadata": {},
   "outputs": [],
   "source": [
    "Brightness.update()"
   ]
  },
  {
   "cell_type": "code",
   "execution_count": null,
   "id": "0a492722-1993-4fcc-ae06-eb43f1fb4b89",
   "metadata": {},
   "outputs": [],
   "source": [
    "dUV = scope(saved_string=duvString)"
   ]
  },
  {
   "cell_type": "code",
   "execution_count": null,
   "id": "c5021012-1724-419b-996a-ac541b825415",
   "metadata": {},
   "outputs": [],
   "source": [
    "dUV.update()"
   ]
  },
  {
   "cell_type": "code",
   "execution_count": null,
   "id": "24693481-460e-4d4f-9354-15935117b55f",
   "metadata": {},
   "outputs": [],
   "source": [
    "Kelvin = scope(saved_string=kelvinString)"
   ]
  },
  {
   "cell_type": "code",
   "execution_count": null,
   "id": "36647249-0721-4913-9ca6-688348e3bfc9",
   "metadata": {},
   "outputs": [],
   "source": [
    "Kelvin.update()"
   ]
  },
  {
   "cell_type": "markdown",
   "id": "c1b74fda-7424-4647-a88a-bee5abb5ca55",
   "metadata": {
    "jp-MarkdownHeadingCollapsed": true,
    "tags": []
   },
   "source": [
    "#### Setup"
   ]
  },
  {
   "cell_type": "code",
   "execution_count": null,
   "id": "6371d03b-1650-4efa-8bec-4d46e79c9e60",
   "metadata": {},
   "outputs": [],
   "source": [
    "Brightness.save_string()"
   ]
  },
  {
   "cell_type": "code",
   "execution_count": null,
   "id": "3f4b23c6-9c89-419f-b6f0-5855b094b867",
   "metadata": {},
   "outputs": [],
   "source": [
    "dUV.save_string()"
   ]
  },
  {
   "cell_type": "code",
   "execution_count": null,
   "id": "59afa913-b12f-4fd1-a8f4-24edbd83967d",
   "metadata": {},
   "outputs": [],
   "source": [
    "Kelvin.save_string()"
   ]
  },
  {
   "cell_type": "markdown",
   "id": "69c5129a-a0ba-406e-8567-21315095af2e",
   "metadata": {},
   "source": [
    "# Test"
   ]
  },
  {
   "cell_type": "code",
   "execution_count": null,
   "id": "f4acf2a0-1a9d-4cfc-bd55-7204f7b04567",
   "metadata": {},
   "outputs": [],
   "source": [
    "lamp1.close()\n",
    "time.sleep(0.5)"
   ]
  },
  {
   "cell_type": "code",
   "execution_count": null,
   "id": "b6aed229-3260-45cd-97d7-c813751a1990",
   "metadata": {},
   "outputs": [],
   "source": [
    "lamp1 = apollo_device(ComPort=comPort,SekBrightnes=Brightness, SekDuv=dUV, SekKelvin=Kelvin)\n",
    "lamp1.getId()\n",
    "\n",
    "# Disable DMX\n",
    "cmd = \"De0 \\n\"\n",
    "lamp1.send(cmd.encode('utf-8'))\n",
    "lamp1.read()\n",
    "print(lamp1.lastValAsJsonString)\n",
    "\n",
    "lamp1.macId = lamp1.macId.replace(\":\",\"\")\n",
    "lamp1.macId"
   ]
  },
  {
   "cell_type": "code",
   "execution_count": null,
   "id": "cdb645b2-f433-42a5-a288-94663ba0d515",
   "metadata": {
    "scrolled": true,
    "tags": []
   },
   "outputs": [],
   "source": [
    "%%time\n",
    "\n",
    "startCalib = 3\n",
    "endCalib = 5\n",
    "readCalibration = True\n",
    "writeCalibration = True\n",
    "allowedKelvinDifference = 20\n",
    "allowedDuvDifference = 0.0002\n",
    "maxTries = 30\n",
    "\n",
    "data = None\n",
    "\n",
    "# try N times to get the dUV & Kelvin difference low enough\n",
    "for kelvin in range(startCalib,endCalib+1):\n",
    "    print(f\"starting kelvin range {KelvinRangeIds[kelvin]}\\n\")\n",
    "    done = False\n",
    "    for i in range(maxTries):\n",
    "        if done:\n",
    "            break  # Exit the inner loop when calibration is successful\n",
    "        measured = calRange(KelvinTemp=kelvin, readCalibration=readCalibration, writeCalibration=writeCalibration)\n",
    "        if (abs(measured[1]) < allowedDuvDifference) and (abs(measured[0]-KelvinRangeIds[kelvin]) < allowedKelvinDifference):\n",
    "            done = True\n",
    "    if done:\n",
    "        # Record final results for proofing\n",
    "        new_data_line = {\n",
    "            'wb': [KelvinRangeIds[kelvin]],\n",
    "            'brightness_point': [8],\n",
    "            'kelvin': [measured[0]],\n",
    "            'duv': [measured[1]],\n",
    "            'lux': [measured[2]]\n",
    "        }\n",
    "        new_data_line_df = pd.DataFrame(new_data_line)\n",
    "        print(\"Debug new_data_line: \" + str(new_data_line))\n",
    "        if data is None:\n",
    "            data = new_data_line_df\n",
    "        else:\n",
    "            data = pd.concat([data, new_data_line_df], ignore_index=True)\n",
    "        "
   ]
  },
  {
   "cell_type": "code",
   "execution_count": null,
   "id": "411fe06e-42e2-4c2d-b145-54c9ac11c56a",
   "metadata": {
    "scrolled": true,
    "tags": []
   },
   "outputs": [],
   "source": [
    "%%time\n",
    "\n",
    "startCalib = 3     # 0 0-5 [2800,3200,4800,5600,7800,10000]\n",
    "endCalib = 5       # 5 0-5 [2800,3200,4800,5600,7800,10000]\n",
    "brightnessSart = 7 # 7 1-7 \n",
    "readCalibration = True\n",
    "writeCalibration = True\n",
    "maxTries = 30\n",
    "allowedRanges = [\n",
    "    [0,0.0000,0],\n",
    "    [1,0.0050,500],\n",
    "    [2,0.0020,300],\n",
    "    [3,0.0005,200],\n",
    "    [4,0.0005,100],\n",
    "    [5,0.0005,100],\n",
    "    [6,0.0005,100],\n",
    "    [7,0.0005,100]]\n",
    "       \n",
    "\n",
    "def calKelvinRange(KelvinTemp = 2, readCalibration = True, writeCalibration = True):\n",
    "    global calibration_points, data, mergedLux;\n",
    "\n",
    "    if readCalibration:\n",
    "        print(\"Loading calibartion from lamp\\n\")\n",
    "        lamp1.send((\"Cr\"+str(KelvinTemp)+\" \"+str(brightnessSart+1)+\" \\n\").encode('utf-8'))\n",
    "        lamp1.read()\n",
    "        jsonString = \"{\"+lamp1.lastValAsJsonString[1:-1]+\"}\"\n",
    "        jsonObject = eval(jsonString)\n",
    "\n",
    "        print(\"loaded values: \"+str(jsonObject)+\"\\n\")\n",
    "        # If below 1 do not read the value, Us the last good value (factory setting or last lamp)\n",
    "        if jsonObject['r'] > 0:\n",
    "            calibration_points[KelvinTemp][brightnessSart + 1][2] = jsonObject['r']\n",
    "        if jsonObject['g'] > 0:\n",
    "            calibration_points[KelvinTemp][brightnessSart + 1][3] = jsonObject['g']\n",
    "        if jsonObject['b'] > 0:\n",
    "            calibration_points[KelvinTemp][brightnessSart + 1][4] = jsonObject['b']\n",
    "        if jsonObject['w'] > 0:\n",
    "            calibration_points[KelvinTemp][brightnessSart + 1][5] = jsonObject['w']\n",
    "\n",
    "        # The answer is 2 line, so to clear the buffer\n",
    "        lamp1.read()\n",
    "\n",
    "    for lx in reversed(range(1,7+1)):\n",
    "        # on first passthrough skip the lx above the brightness start, later kelvin values will be started from 7 agaian\n",
    "        if KelvinTemp == startCalib and lx > brightnessSart:\n",
    "            break\n",
    "            \n",
    "        ratio = mergedLux[KelvinTemp][lx+1] / mergedLux[KelvinTemp][lx]\n",
    "        calibration_points[KelvinTemp][lx] = [round(x/ratio) for x in calibration_points[KelvinTemp][lx+1]]\n",
    "\n",
    "        done = False\n",
    "        \n",
    "        # try N times to get the dUV & Kelvin difference low enough\n",
    "        for i in range(maxTries):\n",
    "            if done:\n",
    "                break\n",
    "            measured = calRange(KelvinTemp=KelvinTemp,BrightnessV=lx,readCalibration=False,writeCalibration=writeCalibration)\n",
    "            if (abs(measured[1]) < allowedRanges[lx][1]) and (abs(measured[0]-KelvinRangeIds[kelvin]) < allowedRanges[lx][2]):\n",
    "                done = True\n",
    "        \n",
    "        if done:\n",
    "            # record final results for proofing\n",
    "            newDataLine = {\n",
    "                'wb': [KelvinRangeIds[KelvinTemp]],\n",
    "                'brightness_point': [lx],\n",
    "                'kelvin': [measured[0]],\n",
    "                'duv': [measured[1]],\n",
    "                'lux': [measured[2]]\n",
    "            }\n",
    "            newDataLineDf = pd.DataFrame(newDataLine)\n",
    "            print(\"Debug newDataLine: \"+str(newDataLine))\n",
    "            if data is None:\n",
    "                data = newDataLineDf\n",
    "            else:\n",
    "                data = pd.concat([data, newDataLineDf], ignore_index=True)\n",
    "\n",
    "#\n",
    "for kelvin in range(startCalib,endCalib+1):\n",
    "    print(f\"starting kelvin range {KelvinRangeIds[kelvin]}\\n\")\n",
    "    calKelvinRange(KelvinTemp=kelvin,readCalibration=readCalibration,writeCalibration=writeCalibration)  "
   ]
  },
  {
   "cell_type": "code",
   "execution_count": null,
   "id": "87d0fa28-1b93-457a-b6b5-5a8936971477",
   "metadata": {},
   "outputs": [],
   "source": [
    "import datetime\n",
    "\n",
    "# Save Log\n",
    "file_path = sharedFolder+\"Apollo\"+str(lamp1.macId)+\"_\"+datetime.datetime.now().strftime(\"%d%m%Y_%H%M%S\")+\"caliblog.csv\"\n",
    "data.to_csv(file_path, index=False)\n",
    "print(\"Saved to: \"+file_path)\n",
    "\n",
    "# Save Calibration\n",
    "with open(sharedFolder+\"Apollo\"+str(lamp1.macId)+\"_\"+datetime.datetime.now().strftime(\"%d%m%Y_%H%M%S\")+\"calib.py\", \"w\") as file:\n",
    "    file.write(str(calibration_points))\n"
   ]
  },
  {
   "cell_type": "code",
   "execution_count": null,
   "id": "524dec83-f413-4ab5-be7e-f2147c29cbe0",
   "metadata": {},
   "outputs": [],
   "source": [
    "from mitosheet import *; register_analysis(\"id-uhsskvzpjn\");\n",
    "\n",
    "# Filtered duv\n",
    "data = data[data['duv'] > 0.001]\n",
    "\n",
    "# Formatted dataframes. View these styling objects to see the formatted dataframe\n",
    "data_styler = data.style\\\n",
    "    .format(\"{:.4f}\", subset=['duv'])\n"
   ]
  },
  {
   "cell_type": "code",
   "execution_count": null,
   "id": "aa9b2ca4-db15-4d65-9d17-b083588d05c3",
   "metadata": {},
   "outputs": [],
   "source": []
  },
  {
   "cell_type": "code",
   "execution_count": null,
   "id": "7f2e902f-7671-4ba2-96f5-4d38d8f70cda",
   "metadata": {},
   "outputs": [],
   "source": [
    "playSucess()"
   ]
  },
  {
   "cell_type": "code",
   "execution_count": null,
   "id": "94543c1e-8098-461b-addc-18cb120fad52",
   "metadata": {},
   "outputs": [],
   "source": [
    "cmd = \"Cr3 8\\n\"\n",
    "lamp1.send(cmd.encode('utf-8'))\n",
    "lamp1.read()\n",
    "print(lamp1.lastValAsJsonString)\n",
    "lamp1.read()\n",
    "print(lamp1.lastValAsJsonString)"
   ]
  },
  {
   "cell_type": "code",
   "execution_count": null,
   "id": "1829a67d-d2ff-44cb-a039-91828e2f1a3d",
   "metadata": {},
   "outputs": [],
   "source": [
    "lamp1.read()"
   ]
  },
  {
   "cell_type": "code",
   "execution_count": null,
   "id": "32734369-6451-4d72-9fd4-603234bbc33f",
   "metadata": {},
   "outputs": [],
   "source": [
    "\n",
    "cmd = \"Cw4 7 15000 100 30 30 21 \\n\"\n",
    "lamp1.send(cmd.encode('utf-8'))\n",
    "lamp1.read()\n",
    "print(lamp1.lastValAsJsonString)\n"
   ]
  },
  {
   "cell_type": "code",
   "execution_count": null,
   "id": "d57a55fb-f8a6-467d-995c-baa679ee971b",
   "metadata": {},
   "outputs": [],
   "source": []
  }
 ],
 "metadata": {
  "kernelspec": {
   "display_name": "Python 3 (ipykernel)",
   "language": "python",
   "name": "python3"
  },
  "language_info": {
   "codemirror_mode": {
    "name": "ipython",
    "version": 3
   },
   "file_extension": ".py",
   "mimetype": "text/x-python",
   "name": "python",
   "nbconvert_exporter": "python",
   "pygments_lexer": "ipython3",
   "version": "3.10.7"
  }
 },
 "nbformat": 4,
 "nbformat_minor": 5
}
