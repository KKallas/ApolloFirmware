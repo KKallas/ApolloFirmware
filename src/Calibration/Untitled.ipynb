{
 "cells": [
  {
   "cell_type": "markdown",
   "id": "ccb2f6fc-4cda-42dd-823c-244fad3da289",
   "metadata": {},
   "source": [
    "## ToDo\n",
    " - [X] Multicalibration for only 10K\n",
    " - [ ] DMX interploation 0 50 0\n",
    " - [ ] Measure anlyze worksheet\n",
    " - [ ] Measure skip steps\n",
    " - [X] Arduino Json fix\n",
    " - [X] Calibration overshoot and last 3 values"
   ]
  },
  {
   "cell_type": "markdown",
   "id": "2b51432a-4894-419d-b27a-a07507aabfd1",
   "metadata": {},
   "source": [
    " * Up step\n",
    " * Down step\n",
    " * step size 1/10\n",
    " * 8,7 step size *5\n",
    " \n",
    " lx: max value (get the second lowest value and devide all RGBW)\n",
    " \n",
    " duv: +/- green\n",
    " \n",
    " kelvin: +r -w or -b\n",
    " "
   ]
  },
  {
   "cell_type": "code",
   "execution_count": null,
   "id": "3aff8556-17ee-4460-a5dc-a821408f151d",
   "metadata": {},
   "outputs": [],
   "source": []
  }
 ],
 "metadata": {
  "kernelspec": {
   "display_name": "Python 3 (ipykernel)",
   "language": "python",
   "name": "python3"
  },
  "language_info": {
   "codemirror_mode": {
    "name": "ipython",
    "version": 3
   },
   "file_extension": ".py",
   "mimetype": "text/x-python",
   "name": "python",
   "nbconvert_exporter": "python",
   "pygments_lexer": "ipython3",
   "version": "3.10.7"
  }
 },
 "nbformat": 4,
 "nbformat_minor": 5
}
