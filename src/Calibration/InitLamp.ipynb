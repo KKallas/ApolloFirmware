{
 "cells": [
  {
   "cell_type": "code",
   "execution_count": 1,
   "id": "7521e53a-bd39-4396-b778-35982537e640",
   "metadata": {},
   "outputs": [
    {
     "name": "stdout",
     "output_type": "stream",
     "text": [
      "pygame 2.1.2 (SDL 2.0.18, Python 3.10.7)\n",
      "Hello from the pygame community. https://www.pygame.org/contribute.html\n"
     ]
    }
   ],
   "source": [
    "%run calibration_setup_v2.ipynb"
   ]
  },
  {
   "cell_type": "markdown",
   "id": "c98b11cc-d77a-4559-8a32-619af3988521",
   "metadata": {},
   "source": [
    "Connect to lamp"
   ]
  },
  {
   "cell_type": "code",
   "execution_count": 4,
   "id": "030fa913-1c84-4ee7-9121-6e79895fb39c",
   "metadata": {},
   "outputs": [],
   "source": [
    "lamp1.close()\n",
    "time.sleep(0.5)"
   ]
  },
  {
   "cell_type": "code",
   "execution_count": 5,
   "id": "21c33ac8-b7f5-4b78-b3d0-cc4197cec522",
   "metadata": {},
   "outputs": [
    {
     "data": {
      "text/plain": [
       "'CCDBA78AE200'"
      ]
     },
     "execution_count": 5,
     "metadata": {},
     "output_type": "execute_result"
    }
   ],
   "source": [
    "lamp1 = apollo_device(ComPort='COM6')\n",
    "lamp1.getId()\n",
    "lamp1.macId = lamp1.macId.replace(\":\",\"\")\n",
    "lamp1.macId"
   ]
  },
  {
   "cell_type": "markdown",
   "id": "0aaaf704-ae0a-4b22-8427-ab54a46f0324",
   "metadata": {},
   "source": [
    "1. encode 2800K max value"
   ]
  },
  {
   "cell_type": "code",
   "execution_count": 6,
   "id": "393e4859-21c9-43cb-bc9c-bd0b46567238",
   "metadata": {},
   "outputs": [
    {
     "name": "stdout",
     "output_type": "stream",
     "text": [
      "{\"wb\":0, \"brightness\":8, \"r\":1181, \"g\":668, \"b\":9, \"w\":449,\"Timestamp\":1702659855157004200}\n"
     ]
    }
   ],
   "source": [
    "cmd = \"Cw0 8 1181 668 9 449 \\n\"\n",
    "lamp1.send(cmd.encode('utf-8'))\n",
    "lamp1.read()\n",
    "print(lamp1.lastValAsJsonString)\n"
   ]
  },
  {
   "cell_type": "markdown",
   "id": "d80a6d21-440c-4db9-ab52-51be05ac0a42",
   "metadata": {},
   "source": [
    "2. encode 3200K max value"
   ]
  },
  {
   "cell_type": "code",
   "execution_count": 7,
   "id": "4439edc6-aebe-4e26-9b07-a3c746d4d46e",
   "metadata": {},
   "outputs": [
    {
     "name": "stdout",
     "output_type": "stream",
     "text": [
      "{\"wb\":1, \"brightness\":8, \"r\":976, \"g\":596, \"b\":9, \"w\":606,\"Timestamp\":1702659856724430900}\n"
     ]
    }
   ],
   "source": [
    "cmd = \"Cw1 8 976 596 9 606 \\n\"\n",
    "lamp1.send(cmd.encode('utf-8'))\n",
    "lamp1.read()\n",
    "print(lamp1.lastValAsJsonString)\n"
   ]
  },
  {
   "cell_type": "markdown",
   "id": "502eaba6-d19b-4342-8ea1-acc3f43cdb2e",
   "metadata": {},
   "source": [
    "3. encode 4800K max value"
   ]
  },
  {
   "cell_type": "code",
   "execution_count": 8,
   "id": "637c1d35-201d-4c10-81cc-76e2e2cbf4fb",
   "metadata": {},
   "outputs": [
    {
     "name": "stdout",
     "output_type": "stream",
     "text": [
      "{\"wb\":2, \"brightness\":8, \"r\":838, \"g\":664, \"b\":17, \"w\":2047,\"Timestamp\":1702659857492903300}\n"
     ]
    }
   ],
   "source": [
    "cmd = \"Cw2 8 838 664 17 2047 \\n\"\n",
    "lamp1.send(cmd.encode('utf-8'))\n",
    "lamp1.read()\n",
    "print(lamp1.lastValAsJsonString)\n"
   ]
  },
  {
   "cell_type": "markdown",
   "id": "7afcee4b-2164-43a2-b8cd-c53614e817c6",
   "metadata": {},
   "source": [
    "4. encode 5600K max value"
   ]
  },
  {
   "cell_type": "code",
   "execution_count": 9,
   "id": "19d41b06-4260-4404-b0cb-dc848f0e7f00",
   "metadata": {},
   "outputs": [
    {
     "name": "stdout",
     "output_type": "stream",
     "text": [
      "{\"wb\":3, \"brightness\":8, \"r\":705, \"g\":691, \"b\":130, \"w\":2047,\"Timestamp\":1702659858276378300}\n"
     ]
    }
   ],
   "source": [
    "cmd = \"Cw3 8 705 691 130 2047 \\n\"\n",
    "lamp1.send(cmd.encode('utf-8'))\n",
    "lamp1.read()\n",
    "print(lamp1.lastValAsJsonString)\n"
   ]
  },
  {
   "cell_type": "markdown",
   "id": "527b5d7f-0279-4d38-8892-f6a50aa4bb10",
   "metadata": {},
   "source": [
    "5. encode 7800K max value"
   ]
  },
  {
   "cell_type": "code",
   "execution_count": 10,
   "id": "9514e61d-69c9-4a0b-87aa-309737a0043d",
   "metadata": {},
   "outputs": [
    {
     "name": "stdout",
     "output_type": "stream",
     "text": [
      "{\"wb\":4, \"brightness\":8, \"r\":479, \"g\":741, \"b\":345, \"w\":2047,\"Timestamp\":1702659859108185900}\n"
     ]
    }
   ],
   "source": [
    "cmd = \"Cw4 8 479 741 345 2047 \\n\"\n",
    "lamp1.send(cmd.encode('utf-8'))\n",
    "lamp1.read()\n",
    "print(lamp1.lastValAsJsonString)\n"
   ]
  },
  {
   "cell_type": "markdown",
   "id": "a429415a-8b94-431f-851f-ebfa67e0afbf",
   "metadata": {},
   "source": [
    "6. encode 10000K max value"
   ]
  },
  {
   "cell_type": "code",
   "execution_count": 11,
   "id": "c8d47731-a6c1-44a6-8f72-79cd279db9dc",
   "metadata": {},
   "outputs": [
    {
     "name": "stdout",
     "output_type": "stream",
     "text": [
      "{\"wb\":5, \"brightness\":8, \"r\":386, \"g\":760, \"b\":485, \"w\":2047,\"Timestamp\":1702659860068624400}\n"
     ]
    }
   ],
   "source": [
    "cmd = \"Cw5 8 386 760 485 2047 \\n\"\n",
    "lamp1.send(cmd.encode('utf-8'))\n",
    "lamp1.read()\n",
    "print(lamp1.lastValAsJsonString)\n"
   ]
  },
  {
   "cell_type": "markdown",
   "id": "4411f48e-7acd-4b51-acc1-65ecd086a696",
   "metadata": {},
   "source": [
    "7. set DMX offset"
   ]
  },
  {
   "cell_type": "code",
   "execution_count": 12,
   "id": "f54cb01f-3e7d-4070-b9ff-a70b752498e1",
   "metadata": {},
   "outputs": [
    {
     "data": {
      "text/plain": [
       "'{\"dmx_offset\":0,\"Timestamp\":1702659860947552400}'"
      ]
     },
     "execution_count": 12,
     "metadata": {},
     "output_type": "execute_result"
    }
   ],
   "source": [
    "offset = 0\n",
    "\n",
    "lamp1.send((\"Dw \"+str(offset)+\"\\n\").encode('utf-8'))\n",
    "lamp1.read()\n",
    "lamp1.lastValAsJsonString"
   ]
  },
  {
   "cell_type": "code",
   "execution_count": 13,
   "id": "1fd9b236-0a61-4166-b168-366c8a5f07fc",
   "metadata": {},
   "outputs": [],
   "source": [
    "lamp1.close()"
   ]
  },
  {
   "cell_type": "code",
   "execution_count": null,
   "id": "43a672b8-266c-47eb-a9aa-646706849c12",
   "metadata": {},
   "outputs": [],
   "source": []
  }
 ],
 "metadata": {
  "kernelspec": {
   "display_name": "Python 3 (ipykernel)",
   "language": "python",
   "name": "python3"
  },
  "language_info": {
   "codemirror_mode": {
    "name": "ipython",
    "version": 3
   },
   "file_extension": ".py",
   "mimetype": "text/x-python",
   "name": "python",
   "nbconvert_exporter": "python",
   "pygments_lexer": "ipython3",
   "version": "3.10.7"
  }
 },
 "nbformat": 4,
 "nbformat_minor": 5
}
