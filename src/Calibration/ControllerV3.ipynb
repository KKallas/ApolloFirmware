{
 "cells": [
  {
   "cell_type": "code",
   "execution_count": 98,
   "id": "4936893e-520f-4066-a444-691d34f4819d",
   "metadata": {},
   "outputs": [],
   "source": [
    "sharedFolder = r\"C:\\Users\\Virtual Production 2\\Documents\\ApolloLogs\\\\\"\n",
    "comPort = 'COM20'\n",
    "%run calibration_setup_v3.ipynb"
   ]
  },
  {
   "cell_type": "code",
   "execution_count": 99,
   "id": "b6926e6d-2ccb-4d6e-84ea-791622e017db",
   "metadata": {},
   "outputs": [],
   "source": [
    "lamp1 = apollo_device(ComPort=comPort)"
   ]
  },
  {
   "cell_type": "code",
   "execution_count": 100,
   "id": "9c2008d9-3e94-4a66-bc22-083fc510b6e5",
   "metadata": {},
   "outputs": [
    {
     "data": {
      "application/vnd.jupyter.widget-view+json": {
       "model_id": "478b1133d9d543e287c5d8b4e21a7e1c",
       "version_major": 2,
       "version_minor": 0
      },
      "text/plain": [
       "IntSlider(value=0, description='Red', max=255)"
      ]
     },
     "metadata": {},
     "output_type": "display_data"
    },
    {
     "data": {
      "application/vnd.jupyter.widget-view+json": {
       "model_id": "e9209b689f6843a39edb7408599a4b3a",
       "version_major": 2,
       "version_minor": 0
      },
      "text/plain": [
       "IntSlider(value=0, description='Green', max=255)"
      ]
     },
     "metadata": {},
     "output_type": "display_data"
    },
    {
     "data": {
      "application/vnd.jupyter.widget-view+json": {
       "model_id": "e66a0d8f088f4233ac147aa155584221",
       "version_major": 2,
       "version_minor": 0
      },
      "text/plain": [
       "IntSlider(value=0, description='Blue', max=255)"
      ]
     },
     "metadata": {},
     "output_type": "display_data"
    },
    {
     "data": {
      "application/vnd.jupyter.widget-view+json": {
       "model_id": "7b527fb792404f338aa6b17b90091820",
       "version_major": 2,
       "version_minor": 0
      },
      "text/plain": [
       "IntSlider(value=0, description='White Balance', max=255)"
      ]
     },
     "metadata": {},
     "output_type": "display_data"
    }
   ],
   "source": [
    "# Create sliders for Red, Green, Blue, and White Balance\n",
    "red_slider = widgets.IntSlider(description='Red', min=0, max=255, step=1)\n",
    "green_slider = widgets.IntSlider(description='Green', min=0, max=255, step=1)\n",
    "blue_slider = widgets.IntSlider(description='Blue', min=0, max=255, step=1)\n",
    "white_balance_slider = widgets.IntSlider(description='White Balance', min=0, max=255, step=1)\n",
    "\n",
    "# Function to update lamp color when sliders change\n",
    "def update_color(change):\n",
    "    lamp1.color = [red_slider.value, green_slider.value, blue_slider.value, white_balance_slider.value,0]\n",
    "    lamp1.update(rgbtMode=True, debugFlag=True)\n",
    "\n",
    "# Attach the event handler to the sliders' value change\n",
    "red_slider.observe(update_color, names='value')\n",
    "green_slider.observe(update_color, names='value')\n",
    "blue_slider.observe(update_color, names='value')\n",
    "white_balance_slider.observe(update_color, names='value')\n",
    "\n",
    "# Display the sliders in Jupyter Lab\n",
    "display(red_slider, green_slider, blue_slider, white_balance_slider)"
   ]
  },
  {
   "cell_type": "code",
   "execution_count": 104,
   "id": "0ba54c9a-7256-4c70-a8a6-ab913064da3c",
   "metadata": {},
   "outputs": [],
   "source": [
    "lamp1.send(\"DS00->0\")"
   ]
  },
  {
   "cell_type": "code",
   "execution_count": 105,
   "id": "172a010b-39bb-4de2-bf5c-359e514a5c5b",
   "metadata": {},
   "outputs": [],
   "source": [
    "lamp1.read()"
   ]
  },
  {
   "cell_type": "code",
   "execution_count": 106,
   "id": "344b69f7-c1d7-43d4-88dc-667d789b5624",
   "metadata": {},
   "outputs": [
    {
     "data": {
      "text/plain": [
       "[['DS10->InfoPage: [1], Version: [20240125], MacId: [E4:65:B8:16:92:58]//12bc:::\\r\\n',\n",
       "  ['1', '20240125', 'E4:65:B8:16:92:58']],\n",
       " ['DS10->InfoPage: [2], Current/TargetTemp: [24.50:65.00]C, FanPower(0-2048): [0], FanSpeed: [0]RPM, CurrentColor(0-2048): [RGBW(-1:-1:-1:-1)], uncalRed: [1]//2cbb:::\\r\\n',\n",
       "  ['2', '24.50:65.00', '0', '0', 'RGBW(-1:-1:-1:-1)', '1']],\n",
       " ['DS10->InfoPage: [3], CalA: [RGBW(-1:-1:-1:-1)], CalB: [RGBW(-1:-1:-1:-1)], CalMixed: [RGBW(-1:-1:-1:-1)]//1ace:::\\r\\n',\n",
       "  ['3', 'RGBW(-1:-1:-1:-1)', 'RGBW(-1:-1:-1:-1)', 'RGBW(-1:-1:-1:-1)']]]"
      ]
     },
     "execution_count": 106,
     "metadata": {},
     "output_type": "execute_result"
    }
   ],
   "source": [
    "lamp1.responses"
   ]
  },
  {
   "cell_type": "code",
   "execution_count": 97,
   "id": "90dc9da8-c06e-41b9-84a7-546081814443",
   "metadata": {},
   "outputs": [],
   "source": [
    "lamp1.close()"
   ]
  },
  {
   "cell_type": "code",
   "execution_count": 94,
   "id": "a3edabc8-eeeb-4a73-951b-5d2edc3a7d6c",
   "metadata": {},
   "outputs": [
    {
     "data": {
      "text/plain": [
       "[['DS10->ReadCalibartion addr:actual lux|r:g:b:W| 20:[490][28:16:0:8]//1575:::\\r\\n',\n",
       "  ['490', '28:16:0:8']]]"
      ]
     },
     "execution_count": 94,
     "metadata": {},
     "output_type": "execute_result"
    }
   ],
   "source": [
    "lamp1.send(\"DS94->0:1\")\n",
    "time.sleep(0.2)\n",
    "lamp1.read()\n",
    "lamp1.responses"
   ]
  },
  {
   "cell_type": "code",
   "execution_count": 92,
   "id": "e9f94311-9ef0-4b27-8183-fee365014cf7",
   "metadata": {},
   "outputs": [
    {
     "data": {
      "text/plain": [
       "[['DS10->WriteCalibartion 900[0][0:0:0:0]//0bfb:::\\r\\n', ['0', '0:0:0:0']]]"
      ]
     },
     "execution_count": 92,
     "metadata": {},
     "output_type": "execute_result"
    }
   ],
   "source": [
    "lamp1.send(\"DS93->5:0:0[0:0:0:0]\")\n",
    "time.sleep(0.2)\n",
    "lamp1.read()\n",
    "lamp1.responses"
   ]
  },
  {
   "cell_type": "code",
   "execution_count": null,
   "id": "06a580f0-c120-4963-9cad-0f50f4c01d5b",
   "metadata": {},
   "outputs": [],
   "source": []
  }
 ],
 "metadata": {
  "kernelspec": {
   "display_name": "Python 3 (ipykernel)",
   "language": "python",
   "name": "python3"
  },
  "language_info": {
   "codemirror_mode": {
    "name": "ipython",
    "version": 3
   },
   "file_extension": ".py",
   "mimetype": "text/x-python",
   "name": "python",
   "nbconvert_exporter": "python",
   "pygments_lexer": "ipython3",
   "version": "3.10.7"
  }
 },
 "nbformat": 4,
 "nbformat_minor": 5
}
