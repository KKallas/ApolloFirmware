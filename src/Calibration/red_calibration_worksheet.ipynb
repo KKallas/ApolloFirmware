{
 "cells": [
  {
   "cell_type": "markdown",
   "id": "3a1a2094-5c7f-4cd5-bf0f-27047ad8e575",
   "metadata": {},
   "source": [
    "# Red Calibration Worksheet"
   ]
  },
  {
   "cell_type": "markdown",
   "id": "c1cd6544-7af1-401a-a8ec-94ea3e2ab51a",
   "metadata": {
    "tags": []
   },
   "source": [
    "## 1. Setup\n",
    "This section load python objects and variables please check the ```cam``` variable"
   ]
  },
  {
   "cell_type": "markdown",
   "id": "c826bdde-f662-471a-a159-0af31b9dd8c1",
   "metadata": {
    "tags": []
   },
   "source": [
    "### 1.1 Load python objects\n",
    "Loads ```scope``` and ```lamp``` python objects for reading sekonic and communication with the lamp"
   ]
  },
  {
   "cell_type": "code",
   "execution_count": 1,
   "id": "7b12f1d2-2245-4c56-afd7-d06cc626d68a",
   "metadata": {},
   "outputs": [],
   "source": [
    "cam = \"http://192.168.2.224/video_feed\"\n",
    "whiteTreshold = 150\n",
    "\n",
    "%run calibration_setup.ipynb"
   ]
  },
  {
   "cell_type": "markdown",
   "id": "76bf20b2-c593-470c-a7c3-759be9e590dc",
   "metadata": {
    "tags": []
   },
   "source": [
    "### 1.2 Connect to lamp\n",
    "Lamp needs to be closed before it can be opened again.\n",
    "If you dont know the serial port where the lamp is connected use the Find COM port section\n",
    "1st You need to setup sekonic and feedback camera (the areas where the data will be read, 1st -green value is set up so it would be possibel to get dUV - sign location), then close the lamp and start again with the scope objects"
   ]
  },
  {
   "cell_type": "code",
   "execution_count": 3,
   "id": "f8f748a0-aed4-42a2-957c-df258f6132f4",
   "metadata": {},
   "outputs": [
    {
     "ename": "NameError",
     "evalue": "name 'lamp1' is not defined",
     "output_type": "error",
     "traceback": [
      "\u001b[1;31m---------------------------------------------------------------------------\u001b[0m",
      "\u001b[1;31mNameError\u001b[0m                                 Traceback (most recent call last)",
      "Cell \u001b[1;32mIn [3], line 1\u001b[0m\n\u001b[1;32m----> 1\u001b[0m lamp1\u001b[38;5;241m.\u001b[39mclose()\n",
      "\u001b[1;31mNameError\u001b[0m: name 'lamp1' is not defined"
     ]
    }
   ],
   "source": [
    "lamp1.close()"
   ]
  },
  {
   "cell_type": "code",
   "execution_count": 4,
   "id": "290f74e3-10d6-47e5-b533-d8fd39080df3",
   "metadata": {},
   "outputs": [
    {
     "data": {
      "text/plain": [
       "'782184456C74'"
      ]
     },
     "execution_count": 4,
     "metadata": {},
     "output_type": "execute_result"
    }
   ],
   "source": [
    "lamp1 = apollo_device(ComPort='COM6')\n",
    "lamp1.getId()\n",
    "lamp1.macId = lamp1.macId.replace(\":\",\"\")\n",
    "lamp1.macId"
   ]
  },
  {
   "cell_type": "code",
   "execution_count": 6,
   "id": "d672a386-04aa-49d8-8cfa-025af8bcd9d1",
   "metadata": {},
   "outputs": [],
   "source": [
    "lamp1.color = [200,50,50,500,0]\n",
    "lamp1.update()"
   ]
  },
  {
   "cell_type": "markdown",
   "id": "69cad74d-7c52-42d3-89e1-3b61847aa6ad",
   "metadata": {
    "tags": []
   },
   "source": [
    "#### [Optional] Find COM port"
   ]
  },
  {
   "cell_type": "code",
   "execution_count": 9,
   "id": "94e345e2-abd8-484b-a462-0ea67666b260",
   "metadata": {},
   "outputs": [
    {
     "name": "stdout",
     "output_type": "stream",
     "text": [
      "COM5 USB Serial Port (COM5)\n",
      "COM6 USB Serial Port (COM6)\n"
     ]
    }
   ],
   "source": [
    "# Get COM port list\n",
    "import serial.tools.list_ports\n",
    "\n",
    "com_ports = list(serial.tools.list_ports.comports())\n",
    "\n",
    "for port, desc, hwid in com_ports:\n",
    "    print(str(port)+\" \"+str(desc))"
   ]
  },
  {
   "cell_type": "markdown",
   "id": "780031a4-8098-48ce-aa04-bfa87337fff8",
   "metadata": {
    "tags": []
   },
   "source": [
    "### 1.3 Set Sekonic camera areas\n",
    "Set the area where to \"read\" the Tcp, dUV and lux variables\n",
    "Once the object is initalized tune the paramters and test by ```update()```\n",
    "To save the paramteres use the Setup below to generate the ```saved_string``` and copy and paste it into funtion paramter and save the workbook"
   ]
  },
  {
   "cell_type": "code",
   "execution_count": 5,
   "id": "4d8b3113-1a5f-43a7-bb9c-b0247245edf4",
   "metadata": {},
   "outputs": [
    {
     "name": "stderr",
     "output_type": "stream",
     "text": [
      "CUDA not available - defaulting to CPU. Note: This module is much faster with a GPU.\n"
     ]
    },
    {
     "data": {
      "application/vnd.jupyter.widget-view+json": {
       "model_id": "d53713cc04854790a6493a8511ca85af",
       "version_major": 2,
       "version_minor": 0
      },
      "text/plain": [
       "Tab(children=(VBox(children=(Label(value='Width:'), IntRangeSlider(value=(315, 450), layout=Layout(width='90%'…"
      ]
     },
     "metadata": {},
     "output_type": "display_data"
    },
    {
     "data": {
      "application/vnd.jupyter.widget-view+json": {
       "model_id": "cbb957952b16428bacc3bade80104c86",
       "version_major": 2,
       "version_minor": 0
      },
      "text/plain": [
       "Label(value='Out:')"
      ]
     },
     "metadata": {},
     "output_type": "display_data"
    },
    {
     "data": {
      "application/vnd.jupyter.widget-view+json": {
       "model_id": "e4fe5807205f47d58d0a27a3dcf0f0cb",
       "version_major": 2,
       "version_minor": 0
      },
      "text/plain": [
       "Image(value=b'\\x89PNG\\r\\n\\x1a\\n\\x00\\x00\\x00\\rIHDR\\x00\\x00\\x00\\x87\\x00\\x00\\x002\\x08\\x02\\x00\\x00\\x00\\xf9\\x82_\\x9…"
      ]
     },
     "metadata": {},
     "output_type": "display_data"
    },
    {
     "data": {
      "application/vnd.jupyter.widget-view+json": {
       "model_id": "c351527eec0f43ef9a671408c874899c",
       "version_major": 2,
       "version_minor": 0
      },
      "text/plain": [
       "Output()"
      ]
     },
     "metadata": {},
     "output_type": "display_data"
    }
   ],
   "source": [
    "Brightness = scope(saved_string=\"self.slider_h.value = (231, 390)\\nself.slider_v.value = (375, 433)\\nself.minus_comp.value = False\\nself.offset_x.value = 0\\nself.offset_y.value = 0\\nself.replacement_list.value =str([('o', '0'), ('O', '0'), (',', '.')]) \\n\")"
   ]
  },
  {
   "cell_type": "code",
   "execution_count": 9,
   "id": "67427f1d-0eb5-4ff1-9046-8536aaa303d8",
   "metadata": {},
   "outputs": [
    {
     "data": {
      "text/plain": [
       "4060"
      ]
     },
     "execution_count": 9,
     "metadata": {},
     "output_type": "execute_result"
    }
   ],
   "source": [
    "Brightness.update()"
   ]
  },
  {
   "cell_type": "code",
   "execution_count": 10,
   "id": "0a492722-1993-4fcc-ae06-eb43f1fb4b89",
   "metadata": {},
   "outputs": [
    {
     "name": "stderr",
     "output_type": "stream",
     "text": [
      "CUDA not available - defaulting to CPU. Note: This module is much faster with a GPU.\n"
     ]
    },
    {
     "data": {
      "application/vnd.jupyter.widget-view+json": {
       "model_id": "debe66f67171463b93e9c881d0b189b0",
       "version_major": 2,
       "version_minor": 0
      },
      "text/plain": [
       "Tab(children=(VBox(children=(Label(value='Width:'), IntRangeSlider(value=(315, 450), layout=Layout(width='90%'…"
      ]
     },
     "metadata": {},
     "output_type": "display_data"
    },
    {
     "data": {
      "application/vnd.jupyter.widget-view+json": {
       "model_id": "2d66cd77ebd54779898125f1ae4ea97c",
       "version_major": 2,
       "version_minor": 0
      },
      "text/plain": [
       "Label(value='Out:')"
      ]
     },
     "metadata": {},
     "output_type": "display_data"
    },
    {
     "data": {
      "application/vnd.jupyter.widget-view+json": {
       "model_id": "780137eda46d41edac57f0d64adc385c",
       "version_major": 2,
       "version_minor": 0
      },
      "text/plain": [
       "Image(value=b'\\x89PNG\\r\\n\\x1a\\n\\x00\\x00\\x00\\rIHDR\\x00\\x00\\x00\\x87\\x00\\x00\\x002\\x08\\x02\\x00\\x00\\x00\\xf9\\x82_\\x9…"
      ]
     },
     "metadata": {},
     "output_type": "display_data"
    },
    {
     "data": {
      "application/vnd.jupyter.widget-view+json": {
       "model_id": "2fc672ea67894c2686f18e92fd2c4c6d",
       "version_major": 2,
       "version_minor": 0
      },
      "text/plain": [
       "Output()"
      ]
     },
     "metadata": {},
     "output_type": "display_data"
    }
   ],
   "source": [
    "dUV = scope(saved_string=\"self.slider_h.value = (251, 444)\\nself.slider_v.value = (289, 353)\\nself.minus_comp.value = True\\nself.offset_x.value = -80\\nself.offset_y.value = 2\\nself.replacement_list.value =str([('o', '0'), ('O', '0'), (',', '.'), ('20.0', '0,0'), ('0.6', '0.0'), ('0.8', '0.0')]) \\n\")"
   ]
  },
  {
   "cell_type": "code",
   "execution_count": 11,
   "id": "c5021012-1724-419b-996a-ac541b825415",
   "metadata": {},
   "outputs": [
    {
     "data": {
      "text/plain": [
       "-0.0286"
      ]
     },
     "execution_count": 11,
     "metadata": {},
     "output_type": "execute_result"
    }
   ],
   "source": [
    "dUV.update()"
   ]
  },
  {
   "cell_type": "code",
   "execution_count": 12,
   "id": "24693481-460e-4d4f-9354-15935117b55f",
   "metadata": {},
   "outputs": [
    {
     "name": "stderr",
     "output_type": "stream",
     "text": [
      "CUDA not available - defaulting to CPU. Note: This module is much faster with a GPU.\n"
     ]
    },
    {
     "data": {
      "application/vnd.jupyter.widget-view+json": {
       "model_id": "ebd6ffdcccca489e967ea7d16860aec6",
       "version_major": 2,
       "version_minor": 0
      },
      "text/plain": [
       "Tab(children=(VBox(children=(Label(value='Width:'), IntRangeSlider(value=(315, 450), layout=Layout(width='90%'…"
      ]
     },
     "metadata": {},
     "output_type": "display_data"
    },
    {
     "data": {
      "application/vnd.jupyter.widget-view+json": {
       "model_id": "d852b5ef32c449689bd7bc27439fb163",
       "version_major": 2,
       "version_minor": 0
      },
      "text/plain": [
       "Label(value='Out:')"
      ]
     },
     "metadata": {},
     "output_type": "display_data"
    },
    {
     "data": {
      "application/vnd.jupyter.widget-view+json": {
       "model_id": "257a1a848aba4bdc9c6f5a019f6effe1",
       "version_major": 2,
       "version_minor": 0
      },
      "text/plain": [
       "Image(value=b'\\x89PNG\\r\\n\\x1a\\n\\x00\\x00\\x00\\rIHDR\\x00\\x00\\x00\\x87\\x00\\x00\\x002\\x08\\x02\\x00\\x00\\x00\\xf9\\x82_\\x9…"
      ]
     },
     "metadata": {},
     "output_type": "display_data"
    },
    {
     "data": {
      "application/vnd.jupyter.widget-view+json": {
       "model_id": "7318a74a58334125ae6733c943737d6a",
       "version_major": 2,
       "version_minor": 0
      },
      "text/plain": [
       "Output()"
      ]
     },
     "metadata": {},
     "output_type": "display_data"
    }
   ],
   "source": [
    "Kelvin = scope(saved_string=\"self.slider_h.value = (259, 417)\\nself.slider_v.value = (217, 275)\\nself.minus_comp.value = False\\nself.offset_x.value = 0\\nself.offset_y.value = 0\\nself.replacement_list.value =str([('o', '0'), ('O', '0'), (',', '.'), ('G', '6')]) \\n\")"
   ]
  },
  {
   "cell_type": "code",
   "execution_count": 14,
   "id": "36647249-0721-4913-9ca6-688348e3bfc9",
   "metadata": {},
   "outputs": [
    {
     "data": {
      "text/plain": [
       "5157"
      ]
     },
     "execution_count": 14,
     "metadata": {},
     "output_type": "execute_result"
    }
   ],
   "source": [
    "Kelvin.update()"
   ]
  },
  {
   "cell_type": "markdown",
   "id": "c1b74fda-7424-4647-a88a-bee5abb5ca55",
   "metadata": {
    "tags": []
   },
   "source": [
    "#### Setup"
   ]
  },
  {
   "cell_type": "code",
   "execution_count": 15,
   "id": "6371d03b-1650-4efa-8bec-4d46e79c9e60",
   "metadata": {},
   "outputs": [
    {
     "data": {
      "text/plain": [
       "\"self.slider_h.value = (231, 390)\\nself.slider_v.value = (375, 433)\\nself.minus_comp.value = False\\nself.offset_x.value = 0\\nself.offset_y.value = 0\\nself.replacement_list.value =str([('o', '0'), ('O', '0'), (',', '.')]) \\n\""
      ]
     },
     "execution_count": 15,
     "metadata": {},
     "output_type": "execute_result"
    }
   ],
   "source": [
    "Brightness.save_string()"
   ]
  },
  {
   "cell_type": "code",
   "execution_count": 16,
   "id": "3f4b23c6-9c89-419f-b6f0-5855b094b867",
   "metadata": {},
   "outputs": [
    {
     "data": {
      "text/plain": [
       "\"self.slider_h.value = (251, 444)\\nself.slider_v.value = (289, 353)\\nself.minus_comp.value = True\\nself.offset_x.value = -80\\nself.offset_y.value = 2\\nself.replacement_list.value =str([('o', '0'), ('O', '0'), (',', '.'), ('20.0', '0,0'), ('0.6', '0.0'), ('0.8', '0.0')]) \\n\""
      ]
     },
     "execution_count": 16,
     "metadata": {},
     "output_type": "execute_result"
    }
   ],
   "source": [
    "dUV.save_string()"
   ]
  },
  {
   "cell_type": "code",
   "execution_count": 17,
   "id": "59afa913-b12f-4fd1-a8f4-24edbd83967d",
   "metadata": {},
   "outputs": [
    {
     "data": {
      "text/plain": [
       "\"self.slider_h.value = (259, 417)\\nself.slider_v.value = (217, 275)\\nself.minus_comp.value = False\\nself.offset_x.value = 0\\nself.offset_y.value = 0\\nself.replacement_list.value =str([('o', '0'), ('O', '0'), (',', '.'), ('G', '6')]) \\n\""
      ]
     },
     "execution_count": 17,
     "metadata": {},
     "output_type": "execute_result"
    }
   ],
   "source": [
    "Kelvin.save_string()"
   ]
  },
  {
   "cell_type": "markdown",
   "id": "69c5129a-a0ba-406e-8567-21315095af2e",
   "metadata": {},
   "source": [
    "# Measure"
   ]
  },
  {
   "cell_type": "code",
   "execution_count": 72,
   "id": "f4acf2a0-1a9d-4cfc-bd55-7204f7b04567",
   "metadata": {},
   "outputs": [],
   "source": [
    "lamp1.close()"
   ]
  },
  {
   "cell_type": "code",
   "execution_count": 25,
   "id": "b6aed229-3260-45cd-97d7-c813751a1990",
   "metadata": {},
   "outputs": [
    {
     "data": {
      "text/plain": [
       "'782184456C74'"
      ]
     },
     "execution_count": 25,
     "metadata": {},
     "output_type": "execute_result"
    }
   ],
   "source": [
    "lamp1 = apollo_device(ComPort='COM6',SekBrightnes=Brightness, SekDuv=dUV, SekKelvin=Kelvin)\n",
    "lamp1.getId()\n",
    "lamp1.macId = lamp1.macId.replace(\":\",\"\")\n",
    "lamp1.macId"
   ]
  },
  {
   "cell_type": "code",
   "execution_count": 48,
   "id": "d32652ca-e56a-406b-9869-dd210386141c",
   "metadata": {},
   "outputs": [
    {
     "name": "stdout",
     "output_type": "stream",
     "text": [
      "Measuring for: 0\n",
      "\"ready\":False,\"current_temp\":31.5\n",
      "\"ready\":False,\"current_temp\":31.5\n",
      "\"ready\":False,\"current_temp\":31.5\n",
      "\"ready\":False,\"current_temp\":31.625\n",
      "\"ready\":False,\"current_temp\":31.875\n",
      "\"ready\":False,\"current_temp\":32.5\n",
      "\"ready\":False,\"current_temp\":33.25\n",
      "\"ready\":False,\"current_temp\":34.125\n",
      "\"ready\":False,\"current_temp\":35.875\n",
      "\"ready\":False,\"current_temp\":35.875\n",
      "\"ready\":False,\"current_temp\":36.5\n",
      "\"ready\":False,\"current_temp\":37.25\n",
      "\"ready\":False,\"current_temp\":38.125\n",
      "\"ready\":False,\"current_temp\":39.5\n",
      "\"ready\":False,\"current_temp\":39.75\n",
      "\"ready\":False,\"current_temp\":40.25\n",
      "\"ready\":False,\"current_temp\":41.625\n",
      "\"ready\":False,\"current_temp\":41.875\n",
      "\"ready\":False,\"current_temp\":42.25\n",
      "\"ready\":False,\"current_temp\":43.125\n",
      "\"ready\":False,\"current_temp\":44.375\n",
      "\"ready\":False,\"current_temp\":44.75\n",
      "\"ready\":False,\"current_temp\":45.625\n",
      "\"ready\":False,\"current_temp\":45.875\n",
      "\"ready\":False,\"current_temp\":46.0\n",
      "\"ready\":False,\"current_temp\":47.625\n",
      "\"ready\":False,\"current_temp\":47.875\n",
      "\"ready\":False,\"current_temp\":48.125\n",
      "\"ready\":False,\"current_temp\":49.375\n",
      "\"ready\":False,\"current_temp\":49.75\n",
      "\"ready\":False,\"current_temp\":50.125\n",
      "\"ready\":False,\"current_temp\":51.0\n",
      "\"ready\":False,\"current_temp\":51.5\n",
      "\"ready\":False,\"current_temp\":52.25\n",
      "\"ready\":False,\"current_temp\":52.625\n",
      "\"ready\":False,\"current_temp\":53.0\n",
      "\"ready\":False,\"current_temp\":54.0\n",
      "\"ready\":False,\"current_temp\":54.375\n",
      "\"ready\":False,\"current_temp\":55.125\n",
      "\"ready\":False,\"current_temp\":55.625\n",
      "\"ready\":False,\"current_temp\":56.0\n",
      "\"ready\":False,\"current_temp\":56.625\n",
      "\"ready\":False,\"current_temp\":57.25\n",
      "\"ready\":False,\"current_temp\":57.625\n",
      "\"ready\":False,\"current_temp\":58.25\n",
      "\"ready\":False,\"current_temp\":58.875\n",
      "\"ready\":False,\"current_temp\":59.25\n",
      "\"ready\":False,\"current_temp\":59.625\n",
      "\"ready\":False,\"current_temp\":60.375\n",
      "\"ready\":False,\"current_temp\":60.875\n",
      "\"ready\":False,\"current_temp\":61.125\n",
      "\"ready\":False,\"current_temp\":61.75\n",
      "\"ready\":False,\"current_temp\":62.25\n",
      "\"ready\":False,\"current_temp\":62.625\n",
      "\"ready\":False,\"current_temp\":63.0\n",
      "\"ready\":False,\"current_temp\":63.625\n",
      "\"ready\":False,\"current_temp\":64.0\n",
      "\"ready\":False,\"current_temp\":64.75\n",
      "\"ready\":False,\"current_temp\":65.375\n",
      "\"ready\":False,\"current_temp\":65.375\n",
      "\"ready\":False,\"current_temp\":65.875\n",
      "\"ready\":False,\"current_temp\":66.25\n",
      "\"ready\":False,\"current_temp\":66.75\n",
      "\"ready\":False,\"current_temp\":67.25\n",
      "\"ready\":False,\"current_temp\":67.625\n",
      "\"ready\":False,\"current_temp\":68.0\n",
      "\"ready\":False,\"current_temp\":68.625\n",
      "\"ready\":False,\"current_temp\":69.0\n",
      "\"ready\":False,\"current_temp\":69.375\n",
      "\"ready\":False,\"current_temp\":70.25\n",
      "\"ready\":False,\"current_temp\":70.5\n",
      "\"ready\":False,\"current_temp\":70.5\n",
      "\"ready\":False,\"current_temp\":70.875\n",
      "\"ready\":False,\"current_temp\":71.375\n",
      "\"ready\":False,\"current_temp\":71.875\n",
      "\"ready\":False,\"current_temp\":72.0\n",
      "\"ready\":False,\"current_temp\":72.75\n",
      "\"ready\":False,\"current_temp\":73.125\n",
      "\"ready\":False,\"current_temp\":73.375\n",
      "\"ready\":False,\"current_temp\":73.75\n",
      "\"ready\":False,\"current_temp\":74.0\n",
      "\"ready\":False,\"current_temp\":74.375\n",
      "\"ready\":False,\"current_temp\":75.25\n",
      "\"ready\":False,\"current_temp\":75.5\n",
      "\"ready\":False,\"current_temp\":75.75\n",
      "\"ready\":False,\"current_temp\":76.125\n",
      "\"ready\":False,\"current_temp\":76.375\n",
      "\"ready\":False,\"current_temp\":76.75\n",
      "\"ready\":False,\"current_temp\":77.0\n",
      "\"ready\":False,\"current_temp\":77.5\n",
      "\"ready\":False,\"current_temp\":78.25\n",
      "\"ready\":False,\"current_temp\":78.375\n",
      "\"ready\":False,\"current_temp\":78.625\n",
      "\"ready\":False,\"current_temp\":78.875\n",
      "\"ready\":False,\"current_temp\":79.25\n",
      "\"ready\":True,\"current_temp\":79.625\n",
      "{\"ready\":True,\"current_temp\":80.125,\"brightness\":5970}\n",
      "Measuring for: 1\n",
      "\"ready\":False,\"current_temp\":80.125\n",
      "\"ready\":False,\"current_temp\":80.125\n",
      "\"ready\":False,\"current_temp\":80.125\n",
      "\"ready\":False,\"current_temp\":80.125\n",
      "\"ready\":True,\"current_temp\":79.5\n",
      "{\"ready\":False,\"current_temp\":77.875,\"brightness\":6550}\n",
      "Measuring for: 2\n",
      "\"ready\":False,\"current_temp\":75.875\n",
      "\"ready\":False,\"current_temp\":73.75\n",
      "\"ready\":False,\"current_temp\":72.875\n",
      "\"ready\":False,\"current_temp\":72.5\n",
      "\"ready\":False,\"current_temp\":72.5\n",
      "\"ready\":False,\"current_temp\":72.875\n",
      "\"ready\":False,\"current_temp\":73.25\n",
      "\"ready\":False,\"current_temp\":73.75\n",
      "\"ready\":False,\"current_temp\":74.25\n",
      "\"ready\":False,\"current_temp\":74.75\n",
      "\"ready\":False,\"current_temp\":75.0\n",
      "\"ready\":False,\"current_temp\":75.75\n",
      "\"ready\":False,\"current_temp\":76.25\n",
      "\"ready\":False,\"current_temp\":76.5\n",
      "\"ready\":False,\"current_temp\":76.75\n",
      "\"ready\":False,\"current_temp\":77.0\n",
      "\"ready\":True,\"current_temp\":77.625\n",
      "{\"ready\":True,\"current_temp\":78.0,\"brightness\":6090}\n",
      "Measuring for: 3\n",
      "\"ready\":False,\"current_temp\":78.125\n",
      "\"ready\":False,\"current_temp\":78.375\n",
      "\"ready\":False,\"current_temp\":78.125\n",
      "\"ready\":False,\"current_temp\":78.125\n",
      "\"ready\":False,\"current_temp\":76.25\n",
      "\"ready\":False,\"current_temp\":75.5\n",
      "\"ready\":False,\"current_temp\":73.875\n",
      "\"ready\":False,\"current_temp\":72.375\n",
      "\"ready\":False,\"current_temp\":72.0\n",
      "\"ready\":False,\"current_temp\":72.0\n",
      "\"ready\":False,\"current_temp\":72.375\n",
      "\"ready\":False,\"current_temp\":73.125\n",
      "\"ready\":False,\"current_temp\":73.375\n",
      "\"ready\":False,\"current_temp\":73.625\n",
      "\"ready\":False,\"current_temp\":74.25\n",
      "\"ready\":False,\"current_temp\":74.625\n",
      "\"ready\":False,\"current_temp\":75.0\n",
      "\"ready\":False,\"current_temp\":75.625\n",
      "\"ready\":False,\"current_temp\":76.25\n",
      "\"ready\":True,\"current_temp\":76.5\n",
      "{\"ready\":True,\"current_temp\":76.75,\"brightness\":6190}\n",
      "Measuring for: 4\n",
      "\"ready\":False,\"current_temp\":76.75\n",
      "\"ready\":False,\"current_temp\":77.25\n",
      "\"ready\":False,\"current_temp\":77.25\n",
      "\"ready\":False,\"current_temp\":77.25\n",
      "\"ready\":True,\"current_temp\":76.5\n",
      "{\"ready\":False,\"current_temp\":73.25,\"brightness\":6710}\n",
      "Measuring for: 5\n",
      "\"ready\":False,\"current_temp\":73.25\n",
      "\"ready\":False,\"current_temp\":72.625\n",
      "\"ready\":False,\"current_temp\":70.75\n",
      "\"ready\":False,\"current_temp\":70.125\n",
      "\"ready\":False,\"current_temp\":70.125\n",
      "\"ready\":False,\"current_temp\":70.125\n",
      "\"ready\":False,\"current_temp\":71.0\n",
      "\"ready\":False,\"current_temp\":71.5\n",
      "\"ready\":False,\"current_temp\":72.0\n",
      "\"ready\":False,\"current_temp\":72.75\n",
      "\"ready\":False,\"current_temp\":73.25\n",
      "\"ready\":False,\"current_temp\":73.375\n",
      "\"ready\":False,\"current_temp\":73.75\n",
      "\"ready\":False,\"current_temp\":74.375\n",
      "\"ready\":True,\"current_temp\":74.75\n",
      "{\"ready\":False,\"current_temp\":75.75,\"brightness\":6280}\n",
      "Measuring for: 6\n",
      "\"ready\":False,\"current_temp\":75.75\n",
      "\"ready\":False,\"current_temp\":76.0\n",
      "\"ready\":False,\"current_temp\":76.0\n",
      "\"ready\":False,\"current_temp\":76.0\n",
      "\"ready\":True,\"current_temp\":74.25\n",
      "{\"ready\":True,\"current_temp\":73.625,\"brightness\":6800}\n",
      "Measuring for: 7\n",
      "\"ready\":False,\"current_temp\":71.25\n",
      "\"ready\":False,\"current_temp\":70.875\n",
      "\"ready\":False,\"current_temp\":68.75\n",
      "\"ready\":False,\"current_temp\":68.75\n",
      "\"ready\":False,\"current_temp\":68.75\n",
      "\"ready\":False,\"current_temp\":69.625\n",
      "\"ready\":False,\"current_temp\":69.875\n",
      "\"ready\":False,\"current_temp\":70.375\n",
      "\"ready\":False,\"current_temp\":70.75\n",
      "\"ready\":False,\"current_temp\":71.0\n",
      "\"ready\":False,\"current_temp\":72.375\n",
      "\"ready\":True,\"current_temp\":72.625\n",
      "{\"ready\":True,\"current_temp\":72.875,\"brightness\":6440}\n",
      "Measuring for: 8\n",
      "\"ready\":False,\"current_temp\":73.125\n",
      "\"ready\":False,\"current_temp\":73.125\n",
      "\"ready\":False,\"current_temp\":73.125\n",
      "\"ready\":False,\"current_temp\":73.0\n",
      "\"ready\":False,\"current_temp\":72.625\n",
      "\"ready\":False,\"current_temp\":70.125\n",
      "\"ready\":False,\"current_temp\":69.75\n",
      "\"ready\":False,\"current_temp\":67.25\n",
      "\"ready\":False,\"current_temp\":66.75\n",
      "\"ready\":False,\"current_temp\":66.75\n",
      "\"ready\":False,\"current_temp\":66.75\n",
      "\"ready\":False,\"current_temp\":67.25\n",
      "\"ready\":False,\"current_temp\":67.75\n",
      "\"ready\":False,\"current_temp\":68.5\n",
      "\"ready\":False,\"current_temp\":68.75\n",
      "\"ready\":False,\"current_temp\":69.0\n",
      "\"ready\":False,\"current_temp\":70.375\n",
      "\"ready\":False,\"current_temp\":70.5\n",
      "\"ready\":False,\"current_temp\":70.875\n",
      "\"ready\":True,\"current_temp\":71.5\n",
      "{\"ready\":True,\"current_temp\":71.875,\"brightness\":6530}\n",
      "Measuring for: 9\n",
      "\"ready\":False,\"current_temp\":71.875\n",
      "\"ready\":False,\"current_temp\":72.625\n",
      "\"ready\":False,\"current_temp\":72.625\n",
      "\"ready\":False,\"current_temp\":72.625\n",
      "\"ready\":False,\"current_temp\":71.75\n",
      "\"ready\":False,\"current_temp\":70.25\n",
      "\"ready\":False,\"current_temp\":69.875\n",
      "\"ready\":False,\"current_temp\":67.375\n",
      "\"ready\":False,\"current_temp\":66.25\n",
      "\"ready\":False,\"current_temp\":65.875\n",
      "\"ready\":False,\"current_temp\":65.875\n",
      "\"ready\":False,\"current_temp\":65.875\n",
      "\"ready\":False,\"current_temp\":66.0\n",
      "\"ready\":False,\"current_temp\":67.125\n",
      "\"ready\":False,\"current_temp\":67.75\n",
      "\"ready\":False,\"current_temp\":68.125\n",
      "\"ready\":False,\"current_temp\":68.75\n",
      "\"ready\":False,\"current_temp\":69.25\n",
      "\"ready\":False,\"current_temp\":69.625\n",
      "\"ready\":False,\"current_temp\":70.0\n",
      "\"ready\":True,\"current_temp\":70.625\n",
      "{\"ready\":False,\"current_temp\":71.625,\"brightness\":6550}\n",
      "Measuring for: 10\n",
      "\"ready\":False,\"current_temp\":71.625\n",
      "\"ready\":False,\"current_temp\":72.0\n",
      "\"ready\":False,\"current_temp\":72.0\n",
      "\"ready\":False,\"current_temp\":72.0\n",
      "\"ready\":False,\"current_temp\":71.0\n",
      "\"ready\":False,\"current_temp\":70.625\n",
      "\"ready\":False,\"current_temp\":68.0\n",
      "\"ready\":False,\"current_temp\":67.625\n",
      "\"ready\":False,\"current_temp\":65.5\n",
      "\"ready\":False,\"current_temp\":64.375\n",
      "\"ready\":False,\"current_temp\":64.0\n",
      "\"ready\":False,\"current_temp\":64.0\n",
      "\"ready\":False,\"current_temp\":64.0\n",
      "\"ready\":False,\"current_temp\":65.0\n",
      "\"ready\":False,\"current_temp\":65.375\n",
      "\"ready\":False,\"current_temp\":66.25\n",
      "\"ready\":False,\"current_temp\":66.5\n",
      "\"ready\":False,\"current_temp\":67.25\n",
      "\"ready\":False,\"current_temp\":67.75\n",
      "\"ready\":False,\"current_temp\":68.125\n",
      "\"ready\":False,\"current_temp\":68.75\n",
      "\"ready\":False,\"current_temp\":69.25\n",
      "\"ready\":True,\"current_temp\":69.75\n",
      "{\"ready\":False,\"current_temp\":70.625,\"brightness\":6610}\n",
      "Measuring for: 11\n",
      "\"ready\":False,\"current_temp\":70.625\n",
      "\"ready\":False,\"current_temp\":70.625\n",
      "\"ready\":False,\"current_temp\":70.75\n",
      "\"ready\":False,\"current_temp\":70.75\n",
      "\"ready\":False,\"current_temp\":70.125\n",
      "\"ready\":False,\"current_temp\":68.25\n",
      "\"ready\":False,\"current_temp\":67.875\n",
      "\"ready\":False,\"current_temp\":65.625\n",
      "\"ready\":False,\"current_temp\":64.875\n",
      "\"ready\":False,\"current_temp\":64.75\n",
      "\"ready\":False,\"current_temp\":64.75\n",
      "\"ready\":False,\"current_temp\":64.875\n",
      "\"ready\":False,\"current_temp\":65.0\n",
      "\"ready\":False,\"current_temp\":66.125\n",
      "\"ready\":False,\"current_temp\":66.5\n",
      "\"ready\":False,\"current_temp\":67.125\n",
      "\"ready\":False,\"current_temp\":67.75\n",
      "\"ready\":False,\"current_temp\":68.125\n",
      "\"ready\":True,\"current_temp\":68.75\n",
      "{\"ready\":True,\"current_temp\":69.25,\"brightness\":6680}\n",
      "Measuring for: 12\n",
      "\"ready\":False,\"current_temp\":69.625\n",
      "\"ready\":False,\"current_temp\":69.875\n",
      "\"ready\":False,\"current_temp\":69.875\n",
      "\"ready\":False,\"current_temp\":69.875\n",
      "\"ready\":False,\"current_temp\":68.625\n",
      "\"ready\":False,\"current_temp\":67.25\n",
      "\"ready\":False,\"current_temp\":66.0\n",
      "\"ready\":False,\"current_temp\":65.375\n",
      "\"ready\":False,\"current_temp\":63.625\n",
      "\"ready\":False,\"current_temp\":63.625\n",
      "\"ready\":False,\"current_temp\":63.625\n",
      "\"ready\":False,\"current_temp\":64.0\n",
      "\"ready\":False,\"current_temp\":65.0\n",
      "\"ready\":False,\"current_temp\":65.375\n",
      "\"ready\":False,\"current_temp\":66.0\n",
      "\"ready\":False,\"current_temp\":66.5\n",
      "\"ready\":False,\"current_temp\":67.125\n",
      "\"ready\":True,\"current_temp\":67.75\n",
      "{\"ready\":True,\"current_temp\":68.125,\"brightness\":6760}\n",
      "Measuring for: 13\n",
      "\"ready\":False,\"current_temp\":68.75\n",
      "\"ready\":False,\"current_temp\":68.75\n",
      "\"ready\":False,\"current_temp\":68.75\n",
      "\"ready\":False,\"current_temp\":68.75\n",
      "\"ready\":True,\"current_temp\":67.25\n",
      "{\"ready\":False,\"current_temp\":66.0,\"brightness\":7190}\n",
      "Measuring for: 14\n",
      "{\"ready\":True,\"current_temp\":65.625,\"brightness\":7180}\n",
      "Measuring for: 15\n",
      "\"ready\":False,\"current_temp\":65.625\n",
      "\"ready\":False,\"current_temp\":63.75\n",
      "\"ready\":False,\"current_temp\":62.625\n",
      "\"ready\":False,\"current_temp\":62.5\n",
      "\"ready\":False,\"current_temp\":62.5\n",
      "\"ready\":False,\"current_temp\":62.125\n",
      "\"ready\":False,\"current_temp\":62.5\n",
      "\"ready\":False,\"current_temp\":62.5\n",
      "\"ready\":False,\"current_temp\":63.5\n",
      "\"ready\":False,\"current_temp\":63.75\n",
      "\"ready\":False,\"current_temp\":64.125\n",
      "\"ready\":True,\"current_temp\":65.125\n",
      "{\"ready\":False,\"current_temp\":66.0,\"brightness\":6920}\n",
      "Measuring for: 16\n",
      "\"ready\":False,\"current_temp\":66.0\n",
      "\"ready\":False,\"current_temp\":66.75\n",
      "\"ready\":False,\"current_temp\":66.75\n",
      "\"ready\":False,\"current_temp\":66.0\n",
      "\"ready\":False,\"current_temp\":65.625\n",
      "\"ready\":True,\"current_temp\":64.25\n",
      "{\"ready\":False,\"current_temp\":63.0,\"brightness\":7400}\n",
      "Measuring for: 17\n",
      "{\"ready\":True,\"current_temp\":62.875,\"brightness\":7390}\n",
      "Measuring for: 18\n",
      "\"ready\":False,\"current_temp\":60.75\n",
      "\"ready\":False,\"current_temp\":59.75\n",
      "\"ready\":False,\"current_temp\":59.5\n",
      "\"ready\":False,\"current_temp\":59.5\n",
      "\"ready\":False,\"current_temp\":59.75\n",
      "\"ready\":False,\"current_temp\":60.125\n",
      "\"ready\":False,\"current_temp\":61.25\n",
      "\"ready\":True,\"current_temp\":61.875\n",
      "{\"ready\":True,\"current_temp\":62.5,\"brightness\":7140}\n",
      "Measuring for: 19\n",
      "\"ready\":False,\"current_temp\":62.5\n",
      "\"ready\":False,\"current_temp\":62.875\n",
      "\"ready\":False,\"current_temp\":62.875\n",
      "\"ready\":False,\"current_temp\":62.5\n",
      "\"ready\":False,\"current_temp\":62.125\n",
      "\"ready\":False,\"current_temp\":62.0\n",
      "\"ready\":False,\"current_temp\":61.75\n",
      "\"ready\":False,\"current_temp\":59.75\n",
      "\"ready\":False,\"current_temp\":58.375\n",
      "\"ready\":False,\"current_temp\":57.375\n",
      "\"ready\":False,\"current_temp\":56.75\n",
      "\"ready\":False,\"current_temp\":56.5\n",
      "\"ready\":False,\"current_temp\":56.5\n",
      "\"ready\":False,\"current_temp\":56.75\n",
      "\"ready\":False,\"current_temp\":57.0\n",
      "\"ready\":False,\"current_temp\":58.25\n",
      "\"ready\":False,\"current_temp\":58.75\n",
      "\"ready\":False,\"current_temp\":59.5\n",
      "\"ready\":False,\"current_temp\":59.75\n",
      "\"ready\":False,\"current_temp\":60.25\n",
      "\"ready\":True,\"current_temp\":61.25\n",
      "{\"ready\":False,\"current_temp\":62.25,\"brightness\":7160}\n",
      "Measuring for: 20\n",
      "\"ready\":False,\"current_temp\":62.25\n",
      "\"ready\":False,\"current_temp\":62.25\n",
      "\"ready\":False,\"current_temp\":62.375\n",
      "\"ready\":False,\"current_temp\":62.25\n",
      "\"ready\":False,\"current_temp\":62.25\n",
      "\"ready\":False,\"current_temp\":61.125\n",
      "\"ready\":True,\"current_temp\":60.0\n",
      "{\"ready\":False,\"current_temp\":57.625,\"brightness\":7660}\n",
      "Measuring for: 21\n",
      "\"ready\":False,\"current_temp\":57.625\n",
      "\"ready\":False,\"current_temp\":56.875\n",
      "\"ready\":False,\"current_temp\":56.75\n",
      "\"ready\":False,\"current_temp\":56.375\n",
      "\"ready\":False,\"current_temp\":56.375\n",
      "\"ready\":False,\"current_temp\":56.75\n",
      "\"ready\":False,\"current_temp\":57.25\n",
      "\"ready\":False,\"current_temp\":58.375\n",
      "\"ready\":True,\"current_temp\":58.875\n",
      "{\"ready\":False,\"current_temp\":59.625,\"brightness\":7320}\n",
      "Measuring for: 22\n",
      "\"ready\":False,\"current_temp\":59.875\n",
      "\"ready\":False,\"current_temp\":60.5\n",
      "\"ready\":False,\"current_temp\":60.5\n",
      "\"ready\":False,\"current_temp\":60.5\n",
      "\"ready\":False,\"current_temp\":59.625\n",
      "\"ready\":True,\"current_temp\":58.375\n",
      "{\"ready\":False,\"current_temp\":57.25,\"brightness\":7720}\n",
      "Measuring for: 23\n",
      "{\"ready\":False,\"current_temp\":56.25,\"brightness\":7710}\n",
      "Measuring for: 24\n",
      "{\"ready\":True,\"current_temp\":55.5,\"brightness\":7700}\n",
      "Measuring for: 25\n",
      "{\"ready\":True,\"current_temp\":54.5,\"brightness\":7720}\n",
      "Measuring for: 26\n",
      "{\"ready\":True,\"current_temp\":54.5,\"brightness\":7720}\n",
      "Measuring for: 27\n",
      "\"ready\":False,\"current_temp\":54.375\n",
      "\"ready\":False,\"current_temp\":54.375\n",
      "\"ready\":False,\"current_temp\":54.375\n",
      "\"ready\":False,\"current_temp\":54.375\n",
      "\"ready\":True,\"current_temp\":53.125\n",
      "{\"ready\":True,\"current_temp\":53.0,\"brightness\":7960}\n",
      "Measuring for: 28\n",
      "\"ready\":True,\"current_temp\":52.25\n",
      "{\"ready\":True,\"current_temp\":51.875,\"brightness\":7970}\n",
      "Measuring for: 29\n",
      "\"ready\":False,\"current_temp\":51.875\n",
      "\"ready\":True,\"current_temp\":50.5\n",
      "{\"ready\":False,\"current_temp\":50.25,\"brightness\":8040}\n",
      "Measuring for: 30\n",
      "{\"ready\":True,\"current_temp\":50.25,\"brightness\":8020}\n",
      "Measuring for: 31\n",
      "\"ready\":False,\"current_temp\":50.25\n",
      "\"ready\":False,\"current_temp\":49.625\n",
      "\"ready\":False,\"current_temp\":49.625\n",
      "\"ready\":True,\"current_temp\":49.5\n",
      "{\"ready\":True,\"current_temp\":49.125,\"brightness\":8050}\n",
      "Measuring for: 32\n",
      "\"ready\":False,\"current_temp\":48.75\n",
      "\"ready\":True,\"current_temp\":47.875\n",
      "{\"ready\":False,\"current_temp\":47.25,\"brightness\":8100}\n",
      "Measuring for: 33\n",
      "{\"ready\":True,\"current_temp\":47.0,\"brightness\":8090}\n",
      "Measuring for: 34\n",
      "\"ready\":False,\"current_temp\":47.0\n",
      "\"ready\":True,\"current_temp\":46.5\n",
      "{\"ready\":True,\"current_temp\":46.5,\"brightness\":8130}\n",
      "Measuring for: 35\n",
      "\"ready\":False,\"current_temp\":46.5\n",
      "\"ready\":False,\"current_temp\":46.375\n",
      "\"ready\":False,\"current_temp\":46.0\n",
      "\"ready\":False,\"current_temp\":45.625\n",
      "\"ready\":True,\"current_temp\":45.375\n",
      "{\"ready\":True,\"current_temp\":44.5,\"brightness\":8280}\n",
      "Measuring for: 36\n",
      "{\"ready\":True,\"current_temp\":44.5,\"brightness\":8270}\n",
      "Measuring for: 37\n",
      "\"ready\":False,\"current_temp\":44.0\n",
      "\"ready\":True,\"current_temp\":43.5\n",
      "{\"ready\":True,\"current_temp\":43.5,\"brightness\":8320}\n",
      "Measuring for: 38\n",
      "\"ready\":False,\"current_temp\":43.375\n",
      "\"ready\":False,\"current_temp\":43.125\n",
      "\"ready\":False,\"current_temp\":42.75\n",
      "\"ready\":True,\"current_temp\":42.5\n",
      "{\"ready\":True,\"current_temp\":42.5,\"brightness\":8400}\n",
      "Measuring for: 39\n",
      "\"ready\":False,\"current_temp\":42.5\n",
      "\"ready\":False,\"current_temp\":42.0\n",
      "\"ready\":False,\"current_temp\":41.875\n",
      "\"ready\":True,\"current_temp\":41.375\n",
      "{\"ready\":True,\"current_temp\":40.875,\"brightness\":8480}\n",
      "Measuring for: 40\n",
      "\"ready\":False,\"current_temp\":40.875\n",
      "\"ready\":True,\"current_temp\":40.5\n",
      "{\"ready\":True,\"current_temp\":39.875,\"brightness\":8470}\n",
      "Measuring for: 41\n",
      "\"ready\":False,\"current_temp\":39.875\n",
      "\"ready\":False,\"current_temp\":39.625\n",
      "\"ready\":False,\"current_temp\":39.625\n",
      "\"ready\":False,\"current_temp\":39.625\n",
      "\"ready\":True,\"current_temp\":39.25\n",
      "{\"ready\":True,\"current_temp\":39.0,\"brightness\":8570}\n",
      "Measuring for: 42\n",
      "{\"ready\":True,\"current_temp\":38.25,\"brightness\":8560}\n",
      "Measuring for: 43\n",
      "\"ready\":False,\"current_temp\":38.0\n",
      "\"ready\":False,\"current_temp\":38.0\n",
      "\"ready\":False,\"current_temp\":38.0\n",
      "\"ready\":False,\"current_temp\":38.0\n",
      "\"ready\":False,\"current_temp\":37.75\n",
      "\"ready\":True,\"current_temp\":37.5\n",
      "{\"ready\":True,\"current_temp\":37.125,\"brightness\":8640}\n",
      "Measuring for: 44\n",
      "\"ready\":True,\"current_temp\":36.5\n",
      "{\"ready\":True,\"current_temp\":36.5,\"brightness\":8650}\n",
      "Measuring for: 45\n",
      "\"ready\":False,\"current_temp\":36.5\n",
      "\"ready\":False,\"current_temp\":36.5\n",
      "\"ready\":False,\"current_temp\":36.5\n",
      "\"ready\":False,\"current_temp\":36.5\n",
      "\"ready\":False,\"current_temp\":36.5\n",
      "\"ready\":False,\"current_temp\":36.25\n",
      "\"ready\":True,\"current_temp\":35.5\n",
      "{\"ready\":True,\"current_temp\":35.25,\"brightness\":8740}\n",
      "Measuring for: 46\n",
      "\"ready\":False,\"current_temp\":35.25\n",
      "\"ready\":False,\"current_temp\":35.0\n",
      "\"ready\":False,\"current_temp\":34.75\n",
      "\"ready\":False,\"current_temp\":34.625\n",
      "\"ready\":False,\"current_temp\":34.625\n",
      "\"ready\":False,\"current_temp\":34.625\n",
      "\"ready\":True,\"current_temp\":34.375\n",
      "{\"ready\":True,\"current_temp\":33.5,\"brightness\":8800}\n",
      "Measuring for: 47\n",
      "{\"ready\":True,\"current_temp\":33.5,\"brightness\":8800}\n",
      "Measuring for: 48\n",
      "\"ready\":False,\"current_temp\":33.5\n",
      "\"ready\":False,\"current_temp\":33.5\n",
      "\"ready\":False,\"current_temp\":33.25\n",
      "\"ready\":False,\"current_temp\":33.5\n",
      "\"ready\":False,\"current_temp\":33.5\n",
      "\"ready\":False,\"current_temp\":33.25\n",
      "\"ready\":False,\"current_temp\":32.625\n",
      "\"ready\":True,\"current_temp\":32.375\n",
      "{\"ready\":True,\"current_temp\":32.375,\"brightness\":8850}\n",
      "Measuring for: 49\n",
      "\"ready\":False,\"current_temp\":32.25\n",
      "\"ready\":False,\"current_temp\":32.125\n",
      "\"ready\":False,\"current_temp\":32.125\n",
      "\"ready\":False,\"current_temp\":32.125\n",
      "\"ready\":False,\"current_temp\":32.125\n",
      "\"ready\":False,\"current_temp\":31.875\n",
      "\"ready\":True,\"current_temp\":31.5\n",
      "{\"ready\":True,\"current_temp\":31.375,\"brightness\":8900}\n",
      "Measuring for: 50\n",
      "\"ready\":False,\"current_temp\":31.375\n",
      "\"ready\":False,\"current_temp\":31.25\n",
      "\"ready\":False,\"current_temp\":31.25\n",
      "\"ready\":False,\"current_temp\":31.25\n",
      "\"ready\":False,\"current_temp\":31.25\n",
      "\"ready\":False,\"current_temp\":31.25\n",
      "\"ready\":False,\"current_temp\":31.125\n",
      "\"ready\":False,\"current_temp\":30.75\n",
      "\"ready\":True,\"current_temp\":30.5\n",
      "{\"ready\":True,\"current_temp\":30.25,\"brightness\":8950}\n",
      "Measuring for: 51\n",
      "\"ready\":False,\"current_temp\":30.25\n",
      "\"ready\":False,\"current_temp\":30.25\n",
      "\"ready\":False,\"current_temp\":30.125\n",
      "\"ready\":False,\"current_temp\":30.125\n",
      "\"ready\":False,\"current_temp\":30.25\n",
      "\"ready\":False,\"current_temp\":30.125\n",
      "\"ready\":False,\"current_temp\":30.0\n",
      "\"ready\":False,\"current_temp\":29.75\n",
      "\"ready\":False,\"current_temp\":29.75\n",
      "\"ready\":True,\"current_temp\":29.375\n",
      "{\"ready\":True,\"current_temp\":29.375,\"brightness\":8990}\n",
      "Measuring for: 52\n",
      "\"ready\":False,\"current_temp\":29.375\n",
      "\"ready\":False,\"current_temp\":29.375\n",
      "\"ready\":False,\"current_temp\":29.375\n",
      "\"ready\":False,\"current_temp\":29.375\n",
      "\"ready\":False,\"current_temp\":29.375\n",
      "\"ready\":False,\"current_temp\":29.375\n",
      "\"ready\":False,\"current_temp\":29.0\n",
      "\"ready\":False,\"current_temp\":29.0\n",
      "\"ready\":False,\"current_temp\":28.75\n",
      "\"ready\":False,\"current_temp\":28.625\n",
      "\"ready\":False,\"current_temp\":28.625\n",
      "\"ready\":True,\"current_temp\":28.5\n",
      "{\"ready\":True,\"current_temp\":28.5,\"brightness\":9040}\n",
      "Measuring for: 53\n",
      "\"ready\":False,\"current_temp\":28.5\n",
      "\"ready\":False,\"current_temp\":28.5\n",
      "\"ready\":False,\"current_temp\":28.5\n",
      "\"ready\":False,\"current_temp\":28.5\n",
      "\"ready\":False,\"current_temp\":28.375\n",
      "\"ready\":False,\"current_temp\":28.25\n",
      "\"ready\":False,\"current_temp\":28.25\n",
      "\"ready\":False,\"current_temp\":28.25\n",
      "\"ready\":False,\"current_temp\":28.125\n",
      "\"ready\":False,\"current_temp\":28.0\n",
      "\"ready\":False,\"current_temp\":27.75\n",
      "\"ready\":False,\"current_temp\":27.625\n",
      "\"ready\":False,\"current_temp\":27.625\n",
      "\"ready\":True,\"current_temp\":27.5\n",
      "{\"ready\":True,\"current_temp\":27.375,\"brightness\":9060}\n",
      "Measuring for: 54\n",
      "\"ready\":False,\"current_temp\":27.375\n",
      "\"ready\":False,\"current_temp\":27.375\n",
      "\"ready\":False,\"current_temp\":27.5\n",
      "\"ready\":False,\"current_temp\":27.5\n",
      "\"ready\":False,\"current_temp\":27.5\n",
      "\"ready\":False,\"current_temp\":27.375\n",
      "\"ready\":False,\"current_temp\":27.375\n",
      "\"ready\":False,\"current_temp\":27.375\n",
      "\"ready\":False,\"current_temp\":27.25\n",
      "\"ready\":False,\"current_temp\":27.25\n",
      "\"ready\":False,\"current_temp\":27.125\n",
      "\"ready\":False,\"current_temp\":27.125\n",
      "\"ready\":False,\"current_temp\":27.0\n",
      "\"ready\":False,\"current_temp\":27.0\n",
      "\"ready\":False,\"current_temp\":27.0\n",
      "\"ready\":False,\"current_temp\":27.0\n",
      "\"ready\":False,\"current_temp\":26.875\n",
      "\"ready\":False,\"current_temp\":26.75\n",
      "\"ready\":False,\"current_temp\":26.625\n",
      "\"ready\":False,\"current_temp\":26.625\n",
      "\"ready\":False,\"current_temp\":26.625\n",
      "\"ready\":False,\"current_temp\":26.625\n",
      "\"ready\":True,\"current_temp\":26.5\n",
      "{\"ready\":True,\"current_temp\":26.5,\"brightness\":9110}\n"
     ]
    }
   ],
   "source": [
    "out = []\n",
    "def measure(temp = 35):\n",
    "    print(\"Measuring for: \"+str(i))\n",
    "    lamp1.send((\"R \"+str(temp)+\"\\n\").encode('utf-8'))\n",
    "    lamp1.read(debug=False)\n",
    "    answer = eval('{'+lamp1.lastValAsJsonString[1:-1]+'}')\n",
    "    while answer['ready'] == False:\n",
    "        lamp1.send((\"R \"+str(temp)+\"\\n\").encode('utf-8'))\n",
    "        lamp1.read(debug=False)\n",
    "        answer = eval('{'+lamp1.lastValAsJsonString[1:-1]+'}')\n",
    "        print('\\\"ready\\\":'+str(answer['ready'])+',\\\"current_temp\\\":'+str(answer['tempC']))\n",
    "        time.sleep(5)\n",
    "    time.sleep(3)\n",
    "    lamp1.send((\"R \"+str(temp)+\"\\n\").encode('utf-8'))\n",
    "    lamp1.read(debug=False)\n",
    "    answer = eval('{'+lamp1.lastValAsJsonString[1:-1]+'}')\n",
    "    lux = Brightness.update()\n",
    "    answerJson = \"{\"+'\\\"ready\\\":'+str(answer['ready'])+',\\\"current_temp\\\":'+str(answer['tempC'])+\",\\\"brightness\\\":\"+str(lux)+\"}\"\n",
    "    print(answerJson)\n",
    "    return(answerJson)\n",
    "\n",
    "for i in range(55):\n",
    "    out.append(eval(measure(temp = 80-i)))"
   ]
  },
  {
   "cell_type": "code",
   "execution_count": 47,
   "id": "d71b3c5a-ff02-4483-9d5f-8974aa65e115",
   "metadata": {},
   "outputs": [],
   "source": [
    "out3 = out"
   ]
  },
  {
   "cell_type": "code",
   "execution_count": 41,
   "id": "0a66ef71-4646-4034-b24d-8c6f4704efd1",
   "metadata": {},
   "outputs": [
    {
     "data": {
      "text/plain": [
       "[{'ready': True, 'current_temp': 30.5, 'brightness': 8910},\n",
       " {'ready': True, 'current_temp': 30.75, 'brightness': 8750},\n",
       " {'ready': True, 'current_temp': 31.5, 'brightness': 8770},\n",
       " {'ready': True, 'current_temp': 32.5, 'brightness': 8750},\n",
       " {'ready': True, 'current_temp': 33.5, 'brightness': 8760},\n",
       " {'ready': True, 'current_temp': 34.625, 'brightness': 8550},\n",
       " {'ready': True, 'current_temp': 36.25, 'brightness': 8520},\n",
       " {'ready': True, 'current_temp': 37.5, 'brightness': 8520},\n",
       " {'ready': True, 'current_temp': 37.5, 'brightness': 8500},\n",
       " {'ready': True, 'current_temp': 38.5, 'brightness': 8450},\n",
       " {'ready': True, 'current_temp': 40.125, 'brightness': 8280},\n",
       " {'ready': True, 'current_temp': 41.5, 'brightness': 8290},\n",
       " {'ready': True, 'current_temp': 41.625, 'brightness': 8290},\n",
       " {'ready': True, 'current_temp': 42.5, 'brightness': 8210},\n",
       " {'ready': True, 'current_temp': 43.875, 'brightness': 8140},\n",
       " {'ready': True, 'current_temp': 44.625, 'brightness': 8120},\n",
       " {'ready': True, 'current_temp': 46.5, 'brightness': 8080},\n",
       " {'ready': True, 'current_temp': 46.75, 'brightness': 8080},\n",
       " {'ready': True, 'current_temp': 48.0, 'brightness': 8040},\n",
       " {'ready': True, 'current_temp': 48.625, 'brightness': 8010},\n",
       " {'ready': True, 'current_temp': 49.5, 'brightness': 7890},\n",
       " {'ready': True, 'current_temp': 51.25, 'brightness': 7860},\n",
       " {'ready': True, 'current_temp': 51.875, 'brightness': 7820},\n",
       " {'ready': True, 'current_temp': 52.5, 'brightness': 7710},\n",
       " {'ready': True, 'current_temp': 54.125, 'brightness': 7650},\n",
       " {'ready': True, 'current_temp': 54.75, 'brightness': 7620},\n",
       " {'ready': True, 'current_temp': 55.5, 'brightness': 7630},\n",
       " {'ready': True, 'current_temp': 56.5, 'brightness': 7450},\n",
       " {'ready': True, 'current_temp': 58.125, 'brightness': 7420},\n",
       " {'ready': True, 'current_temp': 58.5, 'brightness': 7440},\n",
       " {'ready': True, 'current_temp': 60.0, 'brightness': 7230},\n",
       " {'ready': True, 'current_temp': 60.5, 'brightness': 7250},\n",
       " {'ready': True, 'current_temp': 61.5, 'brightness': 7260},\n",
       " {'ready': True, 'current_temp': 62.75, 'brightness': 7070},\n",
       " {'ready': True, 'current_temp': 63.75, 'brightness': 7050},\n",
       " {'ready': True, 'current_temp': 64.5, 'brightness': 6970},\n",
       " {'ready': True, 'current_temp': 65.5, 'brightness': 7000},\n",
       " {'ready': True, 'current_temp': 67.5, 'brightness': 6780},\n",
       " {'ready': True, 'current_temp': 67.75, 'brightness': 6800},\n",
       " {'ready': True, 'current_temp': 68.5, 'brightness': 6690},\n",
       " {'ready': True, 'current_temp': 69.5, 'brightness': 6690},\n",
       " {'ready': True, 'current_temp': 70.5, 'brightness': 6610},\n",
       " {'ready': True, 'current_temp': 71.625, 'brightness': 6470},\n",
       " {'ready': True, 'current_temp': 72.75, 'brightness': 6490},\n",
       " {'ready': True, 'current_temp': 73.875, 'brightness': 6330},\n",
       " {'ready': True, 'current_temp': 74.75, 'brightness': 6340},\n",
       " {'ready': True, 'current_temp': 76.125, 'brightness': 6200},\n",
       " {'ready': True, 'current_temp': 76.625, 'brightness': 6210},\n",
       " {'ready': True, 'current_temp': 77.75, 'brightness': 6070},\n",
       " {'ready': True, 'current_temp': 78.5, 'brightness': 6120}]"
      ]
     },
     "execution_count": 41,
     "metadata": {},
     "output_type": "execute_result"
    }
   ],
   "source": [
    "out1"
   ]
  },
  {
   "cell_type": "code",
   "execution_count": 42,
   "id": "1e143d75-cf14-4190-a04e-1f594300952f",
   "metadata": {},
   "outputs": [
    {
     "data": {
      "text/plain": [
       "[{'ready': True, 'current_temp': 25.0, 'brightness': 9070},\n",
       " {'ready': False, 'current_temp': 27.25, 'brightness': 9000},\n",
       " {'ready': True, 'current_temp': 27.25, 'brightness': 9010},\n",
       " {'ready': True, 'current_temp': 27.5, 'brightness': 8990},\n",
       " {'ready': True, 'current_temp': 28.75, 'brightness': 8950},\n",
       " {'ready': False, 'current_temp': 31.0, 'brightness': 8800},\n",
       " {'ready': False, 'current_temp': 32.5, 'brightness': 8830},\n",
       " {'ready': True, 'current_temp': 32.5, 'brightness': 8840},\n",
       " {'ready': True, 'current_temp': 32.5, 'brightness': 8820},\n",
       " {'ready': True, 'current_temp': 34.375, 'brightness': 8630},\n",
       " {'ready': False, 'current_temp': 36.125, 'brightness': 8600},\n",
       " {'ready': True, 'current_temp': 36.375, 'brightness': 8600},\n",
       " {'ready': True, 'current_temp': 37.0, 'brightness': 8560},\n",
       " {'ready': True, 'current_temp': 37.5, 'brightness': 8560},\n",
       " {'ready': True, 'current_temp': 39.375, 'brightness': 8390},\n",
       " {'ready': False, 'current_temp': 41.625, 'brightness': 8340},\n",
       " {'ready': False, 'current_temp': 40.125, 'brightness': 8500},\n",
       " {'ready': True, 'current_temp': 41.75, 'brightness': 8240},\n",
       " {'ready': True, 'current_temp': 43.375, 'brightness': 8190},\n",
       " {'ready': True, 'current_temp': 44.25, 'brightness': 8200},\n",
       " {'ready': False, 'current_temp': 44.0, 'brightness': 8300},\n",
       " {'ready': True, 'current_temp': 46.25, 'brightness': 8120},\n",
       " {'ready': True, 'current_temp': 47.375, 'brightness': 8090},\n",
       " {'ready': True, 'current_temp': 47.625, 'brightness': 7980},\n",
       " {'ready': False, 'current_temp': 47.875, 'brightness': 8120},\n",
       " {'ready': False, 'current_temp': 51.125, 'brightness': 7860},\n",
       " {'ready': True, 'current_temp': 51.5, 'brightness': 7880},\n",
       " {'ready': True, 'current_temp': 51.5, 'brightness': 7890},\n",
       " {'ready': False, 'current_temp': 53.75, 'brightness': 7660},\n",
       " {'ready': True, 'current_temp': 54.0, 'brightness': 7680},\n",
       " {'ready': True, 'current_temp': 54.5, 'brightness': 7700},\n",
       " {'ready': True, 'current_temp': 56.0, 'brightness': 7520},\n",
       " {'ready': True, 'current_temp': 57.5, 'brightness': 7500},\n",
       " {'ready': True, 'current_temp': 57.5, 'brightness': 7510},\n",
       " {'ready': True, 'current_temp': 59.5, 'brightness': 7310},\n",
       " {'ready': True, 'current_temp': 60.375, 'brightness': 7330},\n",
       " {'ready': False, 'current_temp': 61.875, 'brightness': 7170},\n",
       " {'ready': True, 'current_temp': 62.125, 'brightness': 7210},\n",
       " {'ready': True, 'current_temp': 63.375, 'brightness': 7060},\n",
       " {'ready': True, 'current_temp': 64.125, 'brightness': 7080},\n",
       " {'ready': True, 'current_temp': 64.5, 'brightness': 7100},\n",
       " {'ready': False, 'current_temp': 66.875, 'brightness': 6850},\n",
       " {'ready': True, 'current_temp': 67.25, 'brightness': 6890},\n",
       " {'ready': True, 'current_temp': 68.5, 'brightness': 6720},\n",
       " {'ready': True, 'current_temp': 69.0, 'brightness': 6750},\n",
       " {'ready': True, 'current_temp': 69.75, 'brightness': 6640},\n",
       " {'ready': False, 'current_temp': 71.625, 'brightness': 6530},\n",
       " {'ready': True, 'current_temp': 72.0, 'brightness': 6570},\n",
       " {'ready': False, 'current_temp': 72.0, 'brightness': 6490},\n",
       " {'ready': True, 'current_temp': 73.5, 'brightness': 6390},\n",
       " {'ready': True, 'current_temp': 74.75, 'brightness': 6320},\n",
       " {'ready': True, 'current_temp': 76.5, 'brightness': 6210},\n",
       " {'ready': True, 'current_temp': 76.5, 'brightness': 6240},\n",
       " {'ready': False, 'current_temp': 78.625, 'brightness': 6090},\n",
       " {'ready': True, 'current_temp': 78.625, 'brightness': 6130}]"
      ]
     },
     "execution_count": 42,
     "metadata": {},
     "output_type": "execute_result"
    }
   ],
   "source": [
    "out2"
   ]
  },
  {
   "cell_type": "code",
   "execution_count": 12,
   "id": "8a4ed29e-fa47-419b-bf49-78c48a0f5c16",
   "metadata": {},
   "outputs": [],
   "source": [
    "out3 = [{'ready': False, 'current_temp': 80.75, 'brightness': 9300},\n",
    " {'ready': False, 'current_temp': 75.25, 'brightness': 10800},\n",
    " {'ready': True, 'current_temp': 78.0, 'brightness': 9560},\n",
    " {'ready': False, 'current_temp': 78.0, 'brightness': 9570},\n",
    " {'ready': False, 'current_temp': 77.375, 'brightness': 9660},\n",
    " {'ready': False, 'current_temp': 76.375, 'brightness': 9790},\n",
    " {'ready': False, 'current_temp': 75.625, 'brightness': 9910},\n",
    " {'ready': False, 'current_temp': 73.625, 'brightness': 10100},\n",
    " {'ready': False, 'current_temp': 74.0, 'brightness': 10100},\n",
    " {'ready': False, 'current_temp': 71.625, 'brightness': 10300},\n",
    " {'ready': True, 'current_temp': 69.75, 'brightness': 10400},\n",
    " {'ready': False, 'current_temp': 67.0, 'brightness': 11600},\n",
    " {'ready': False, 'current_temp': 69.625, 'brightness': 10600},\n",
    " {'ready': False, 'current_temp': 69.125, 'brightness': 10500},\n",
    " {'ready': False, 'current_temp': 61.75, 'brightness': 11900},\n",
    " {'ready': False, 'current_temp': 65.625, 'brightness': 10800},\n",
    " {'ready': False, 'current_temp': 64.75, 'brightness': 10900},\n",
    " {'ready': False, 'current_temp': 64.375, 'brightness': 11000},\n",
    " {'ready': False, 'current_temp': 56.875, 'brightness': 12300},\n",
    " {'ready': False, 'current_temp': 63.5, 'brightness': 11100},\n",
    " {'ready': False, 'current_temp': 56.0, 'brightness': 12400},\n",
    " {'ready': False, 'current_temp': 59.875, 'brightness': 11400},\n",
    " {'ready': False, 'current_temp': 55.625, 'brightness': 12500},\n",
    " {'ready': False, 'current_temp': 58.75, 'brightness': 11500},\n",
    " {'ready': False, 'current_temp': 58.625, 'brightness': 11600},\n",
    " {'ready': False, 'current_temp': 56.0, 'brightness': 11700},\n",
    " {'ready': False, 'current_temp': 51.125, 'brightness': 12800},\n",
    " {'ready': False, 'current_temp': 50.0, 'brightness': 12800},\n",
    " {'ready': False, 'current_temp': 54.125, 'brightness': 12000},\n",
    " {'ready': False, 'current_temp': 48.125, 'brightness': 12900},\n",
    " {'ready': True, 'current_temp': 50.0, 'brightness': 12200},\n",
    " {'ready': False, 'current_temp': 50.625, 'brightness': 12200},\n",
    " {'ready': True, 'current_temp': 48.125, 'brightness': 12400},\n",
    " {'ready': False, 'current_temp': 49.875, 'brightness': 12400},\n",
    " {'ready': False, 'current_temp': 43.625, 'brightness': 13300},\n",
    " {'ready': True, 'current_temp': 45.0, 'brightness': 12800},\n",
    " {'ready': False, 'current_temp': 42.5, 'brightness': 13400},\n",
    " {'ready': False, 'current_temp': 41.5, 'brightness': 13400},\n",
    " {'ready': False, 'current_temp': 40.75, 'brightness': 13300},\n",
    " {'ready': False, 'current_temp': 40.375, 'brightness': 13300},\n",
    " {'ready': True, 'current_temp': 40.375, 'brightness': 13200},\n",
    " {'ready': True, 'current_temp': 39.0, 'brightness': 13600},\n",
    " {'ready': False, 'current_temp': 37.25, 'brightness': 13600},\n",
    " {'ready': True, 'current_temp': 37.25, 'brightness': 13600},\n",
    " {'ready': False, 'current_temp': 38.5, 'brightness': 13400},\n",
    " {'ready': True, 'current_temp': 35.0, 'brightness': 13900},\n",
    " {'ready': True, 'current_temp': 34.5, 'brightness': 13900},\n",
    " {'ready': True, 'current_temp': 33.375, 'brightness': 13900},\n",
    " {'ready': True, 'current_temp': 31.625, 'brightness': 14100},\n",
    " {'ready': True, 'current_temp': 31.0, 'brightness': 14100},\n",
    " {'ready': True, 'current_temp': 30.375, 'brightness': 14100},\n",
    " {'ready': True, 'current_temp': 28.625, 'brightness': 14100},\n",
    " {'ready': True, 'current_temp': 28.5, 'brightness': 14100},\n",
    " {'ready': True, 'current_temp': 27.25, 'brightness': 14200},\n",
    " {'ready': True, 'current_temp': 26.375, 'brightness': 14300}]"
   ]
  },
  {
   "cell_type": "code",
   "execution_count": null,
   "id": "306c7eeb-77ed-4abe-bffc-7f40f37bd415",
   "metadata": {},
   "outputs": [],
   "source": []
  },
  {
   "cell_type": "markdown",
   "id": "d5ea665c-721a-491b-b2b2-1226e25d0d3c",
   "metadata": {},
   "source": [
    "Plot 2 datasets"
   ]
  },
  {
   "cell_type": "code",
   "execution_count": 13,
   "id": "ae0c0bee-061f-4a97-ba4a-a94d46a92f47",
   "metadata": {},
   "outputs": [
    {
     "data": {
      "image/png": "[encoded data removed]",
      "text/plain": [
       "<Figure size 1000x600 with 1 Axes>"
      ]
     },
     "metadata": {},
     "output_type": "display_data"
    }
   ],
   "source": [
    "import matplotlib.pyplot as plt\n",
    "\n",
    "# Extract temperature and brightness data\n",
    "temp_out = [data[\"current_temp\"] for data in out]\n",
    "brightness_out = [data[\"brightness\"] for data in out]\n",
    "\n",
    "temp_out1 = [data[\"current_temp\"] for data in out1]\n",
    "brightness_out1 = [data[\"brightness\"] for data in out1]\n",
    "\n",
    "temp_out2 = [data[\"current_temp\"] for data in out2]\n",
    "brightness_out2 = [data[\"brightness\"] for data in out2]\n",
    "\n",
    "temp_out3 = [data[\"current_temp\"] for data in out3]\n",
    "brightness_out3 = [data[\"brightness\"] for data in out3]\n",
    "\n",
    "# Create a scatter plot\n",
    "plt.figure(figsize=(10, 6))\n",
    "plt.scatter(temp_out, brightness_out, label='out', marker='o', alpha=0.5)\n",
    "plt.scatter(temp_out1, brightness_out1, label='out1', marker='x', alpha=0.5)\n",
    "plt.scatter(temp_out2, brightness_out2, label='out3', marker='v', alpha=0.5)\n",
    "plt.scatter(temp_out2, brightness_out2, label='out4', marker='.', alpha=0.5)\n",
    "\n",
    "# Add labels and a legend\n",
    "plt.xlabel('Temperature')\n",
    "plt.ylabel('Brightness')\n",
    "plt.legend()\n",
    "\n",
    "# Show the plot\n",
    "plt.title('Temperature vs Brightness')\n",
    "plt.show()"
   ]
  },
  {
   "cell_type": "markdown",
   "id": "da776590-a356-4d63-bc56-6ab2a19347b4",
   "metadata": {},
   "source": [
    "# Try fit a curve"
   ]
  },
  {
   "cell_type": "code",
   "execution_count": 14,
   "id": "5a39150b-619a-44cf-a2d5-534768f6ba6c",
   "metadata": {},
   "outputs": [
    {
     "data": {
      "image/png": "[encoded data removed]",
      "text/plain": [
       "<Figure size 1000x600 with 1 Axes>"
      ]
     },
     "metadata": {},
     "output_type": "display_data"
    }
   ],
   "source": [
    "import numpy as np\n",
    "from scipy.optimize import curve_fit\n",
    "import matplotlib.pyplot as plt\n",
    "\n",
    "# Extract temperature and brightness data\n",
    "temp_out2 = np.array([data[\"current_temp\"] for data in out2])\n",
    "brightness_out2 = np.array([data[\"brightness\"] for data in out2])\n",
    "\n",
    "temp_out1 = np.array([data[\"current_temp\"] for data in out1])\n",
    "brightness_out1 = np.array([data[\"brightness\"] for data in out1])\n",
    "\n",
    "# Define a polynomial function to fit the data\n",
    "def polynomial_function(x, a, b, c):\n",
    "    return a * x**2 + b * x + c\n",
    "\n",
    "# Fit the curve to the data for 'out'\n",
    "params_out2, _ = curve_fit(polynomial_function, temp_out2, brightness_out2)\n",
    "\n",
    "# Fit the curve to the data for 'out1'\n",
    "params_out1, _ = curve_fit(polynomial_function, temp_out1, brightness_out1)\n",
    "\n",
    "# Create a scatter plot\n",
    "plt.figure(figsize=(10, 6))\n",
    "plt.scatter(temp_out2, brightness_out2, label='out2', marker='o', alpha=0.5)\n",
    "plt.scatter(temp_out1, brightness_out1, label='out1', marker='x', alpha=0.5)\n",
    "\n",
    "# Plot the fitted curves\n",
    "x_range = np.linspace(min(temp_out2.min(), temp_out1.min()), max(temp_out2.max(), temp_out1.max()), 100)\n",
    "plt.plot(x_range, polynomial_function(x_range, *params_out2), label='Fitted Curve (out2)', color='blue')\n",
    "plt.plot(x_range, polynomial_function(x_range, *params_out1), label='Fitted Curve (out1)', color='red')\n",
    "\n",
    "# Add labels and a legend\n",
    "plt.xlabel('Temperature')\n",
    "plt.ylabel('Brightness')\n",
    "plt.legend()\n",
    "\n",
    "# Show the plot\n",
    "plt.title('Temperature vs Brightness with Fitted Curves')\n",
    "plt.show()"
   ]
  },
  {
   "cell_type": "code",
   "execution_count": 52,
   "id": "bb9782e7-1193-4625-91c3-115ccfdd6496",
   "metadata": {},
   "outputs": [],
   "source": [
    "params_out = params_out1"
   ]
  },
  {
   "cell_type": "code",
   "execution_count": 18,
   "id": "1bbb58b3-5b0b-44f2-9685-ec494806574c",
   "metadata": {},
   "outputs": [
    {
     "name": "stdout",
     "output_type": "stream",
     "text": [
      "Interpolated Brightness at -20.0°C (out): 17122.925277416864\n"
     ]
    }
   ],
   "source": [
    "# Temperature at which you want to interpolate brightness (-20°C)\n",
    "temperature_to_interpolate = -20.0\n",
    "\n",
    "# Use the fitted parameters to interpolate brightness\n",
    "interpolated_brightness = polynomial_function(temperature_to_interpolate, *params_out)\n",
    "\n",
    "print(f'Interpolated Brightness at {temperature_to_interpolate}°C (out): {interpolated_brightness}')"
   ]
  },
  {
   "cell_type": "markdown",
   "id": "60acb74f-ce62-4864-bc8a-01740bf11522",
   "metadata": {},
   "source": [
    "Generate Arduino LUT variable"
   ]
  },
  {
   "cell_type": "code",
   "execution_count": 57,
   "id": "5e7e2758-b2c2-4689-8a5b-6488c86fbc39",
   "metadata": {},
   "outputs": [
    {
     "name": "stdout",
     "output_type": "stream",
     "text": [
      "int red_lut[] = {1134, 1162, 1198, 1242, 1296, 1362, 1443, 1544, 1671, 1834, 2048};\n"
     ]
    }
   ],
   "source": [
    "import numpy as np\n",
    "\n",
    "# Define the temperature range (-20°C to 80°C in 10°C increments)\n",
    "temperature_range = np.arange(-20, 81, 10)\n",
    "\n",
    "# Initialize an empty Arduino-compatible LUT array\n",
    "lut_array = []\n",
    "\n",
    "# Calculate the maximum brightness multiplier for each temperature in the range\n",
    "for temperature in temperature_range:\n",
    "    brightness_multiplier = polynomial_function(temperature, *params_out)\n",
    "    # Format the entry as max Red value at temperature\n",
    "    lut_entry = f\"{round(((17122/2+917)/brightness_multiplier)*2048)}, \"\n",
    "    lut_array.append(lut_entry)\n",
    "\n",
    "# Create a formatted Arduino-compatible array\n",
    "arduino_lut = \"{\"+''.join(lut_array)[:-2] + \"}\"\n",
    "\n",
    "# Print the Arduino-compatible array\n",
    "print(\"int red_lut[] = \" + arduino_lut + \";\")\n"
   ]
  },
  {
   "cell_type": "code",
   "execution_count": 71,
   "id": "216582b4-b23a-4f85-81f9-1686ab0168c0",
   "metadata": {},
   "outputs": [
    {
     "data": {
      "text/plain": [
       "11"
      ]
     },
     "execution_count": 71,
     "metadata": {},
     "output_type": "execute_result"
    }
   ],
   "source": [
    "len(lut_array)"
   ]
  },
  {
   "cell_type": "code",
   "execution_count": 60,
   "id": "05b9988b-2be8-4f51-b1cc-cd366ff0abb0",
   "metadata": {},
   "outputs": [
    {
     "data": {
      "text/plain": [
       "0.973384354805721"
      ]
     },
     "execution_count": 60,
     "metadata": {},
     "output_type": "execute_result"
    }
   ],
   "source": [
    "5800/polynomial_function(80, *params_out)"
   ]
  },
  {
   "cell_type": "markdown",
   "id": "75b1d61b-ed9b-4c30-851d-ace3e23a7d3f",
   "metadata": {},
   "source": [
    "Write the last dataframe into file"
   ]
  },
  {
   "cell_type": "code",
   "execution_count": 40,
   "id": "bef2839e-2fdc-436d-bf3c-74d90df698db",
   "metadata": {},
   "outputs": [],
   "source": [
    "import datetime\n",
    "\n",
    "wbIndex = 0 # 0-5\n",
    "wbRanges = [0,14,71,100,178,255]\n",
    "tempIndex = wbRanges[wbIndex]\n",
    "\n",
    "file_path = \"Apollo\"+str(lamp1.macId)+\"_\"+str(wbIndex)+\"_\"+datetime.datetime.now().strftime(\"%d%m%Y_%H%M%S\")+\".py\"\n",
    "df.to_csv(file_path, index=False)"
   ]
  },
  {
   "cell_type": "markdown",
   "id": "d0ff83fe-34bf-4393-9212-149211dd5dd6",
   "metadata": {},
   "source": [
    "Draw a graph"
   ]
  },
  {
   "cell_type": "code",
   "execution_count": 55,
   "id": "2c197ce1-422c-4d02-91ff-0e1c30215312",
   "metadata": {},
   "outputs": [
    {
     "data": {
      "image/png": "[encoded data removed]",
      "text/plain": [
       "<Figure size 2000x400 with 1 Axes>"
      ]
     },
     "metadata": {},
     "output_type": "display_data"
    }
   ],
   "source": [
    "import matplotlib.pyplot as plt\n",
    "\n",
    "data = df\n",
    "\n",
    "# Create a plot for dUV against sampleNr\n",
    "plt.figure(figsize=(20, 4))\n",
    "plt.plot(data['sampleNr'], data['dUV'], color='b')\n",
    "plt.title('dUV vs sampleNr')\n",
    "plt.xlabel('Sample Number')\n",
    "plt.ylabel('dUV')\n",
    "plt.grid(True)\n",
    "\n",
    "# Show the graph\n",
    "plt.show()"
   ]
  },
  {
   "cell_type": "code",
   "execution_count": 54,
   "id": "05a82f52-ff0a-4fb3-9df1-352f6cb42156",
   "metadata": {},
   "outputs": [],
   "source": [
    "lamp1.color = [10,50,10,100,0]\n",
    "lamp1.update(rgbtMode=True)"
   ]
  },
  {
   "cell_type": "code",
   "execution_count": null,
   "id": "e08b03a2-8178-4972-ab3a-6a9bed88851c",
   "metadata": {},
   "outputs": [],
   "source": []
  }
 ],
 "metadata": {
  "kernelspec": {
   "display_name": "Python 3 (ipykernel)",
   "language": "python",
   "name": "python3"
  },
  "language_info": {
   "codemirror_mode": {
    "name": "ipython",
    "version": 3
   },
   "file_extension": ".py",
   "mimetype": "text/x-python",
   "name": "python",
   "nbconvert_exporter": "python",
   "pygments_lexer": "ipython3",
   "version": "3.10.7"
  }
 },
 "nbformat": 4,
 "nbformat_minor": 5
}
