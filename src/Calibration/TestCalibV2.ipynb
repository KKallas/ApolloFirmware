{
 "cells": [
  {
   "cell_type": "markdown",
   "id": "3a1a2094-5c7f-4cd5-bf0f-27047ad8e575",
   "metadata": {},
   "source": [
    "# Testing Calibration V2Worksheet"
   ]
  },
  {
   "cell_type": "markdown",
   "id": "c1cd6544-7af1-401a-a8ec-94ea3e2ab51a",
   "metadata": {
    "tags": []
   },
   "source": [
    "## 1. Setup\n",
    "This section load python objects and variables please check the ```cam``` variable"
   ]
  },
  {
   "cell_type": "markdown",
   "id": "c826bdde-f662-471a-a159-0af31b9dd8c1",
   "metadata": {
    "tags": []
   },
   "source": [
    "### 1.1 Load python objects\n",
    "Loads ```scope``` and ```lamp``` python objects for reading sekonic and communication with the lamp"
   ]
  },
  {
   "cell_type": "code",
   "execution_count": 338,
   "id": "7b12f1d2-2245-4c56-afd7-d06cc626d68a",
   "metadata": {},
   "outputs": [],
   "source": [
    "cam = \"http://192.168.2.224/video_feed\"\n",
    "whiteTreshold = 150\n",
    "\n",
    "%run calibration_setup_v2.ipynb"
   ]
  },
  {
   "cell_type": "markdown",
   "id": "76bf20b2-c593-470c-a7c3-759be9e590dc",
   "metadata": {
    "tags": []
   },
   "source": [
    "### 1.2 Connect to lamp\n",
    "Lamp needs to be closed before it can be opened again.\n",
    "If you dont know the serial port where the lamp is connected use the Find COM port section\n",
    "1st You need to setup sekonic and feedback camera (the areas where the data will be read, 1st -green value is set up so it would be possibel to get dUV - sign location), then close the lamp and start again with the scope objects"
   ]
  },
  {
   "cell_type": "code",
   "execution_count": 58,
   "id": "f8f748a0-aed4-42a2-957c-df258f6132f4",
   "metadata": {},
   "outputs": [],
   "source": [
    "lamp1.close()"
   ]
  },
  {
   "cell_type": "code",
   "execution_count": 60,
   "id": "290f74e3-10d6-47e5-b533-d8fd39080df3",
   "metadata": {},
   "outputs": [
    {
     "data": {
      "text/plain": [
       "'782184456C74'"
      ]
     },
     "execution_count": 60,
     "metadata": {},
     "output_type": "execute_result"
    }
   ],
   "source": [
    "lamp1 = apollo_device(ComPort='COM6')\n",
    "lamp1.getId()\n",
    "lamp1.macId = lamp1.macId.replace(\":\",\"\")\n",
    "lamp1.macId"
   ]
  },
  {
   "cell_type": "code",
   "execution_count": 61,
   "id": "d672a386-04aa-49d8-8cfa-025af8bcd9d1",
   "metadata": {},
   "outputs": [],
   "source": [
    "lamp1.color = [200,50,50,500,0]\n",
    "lamp1.update()"
   ]
  },
  {
   "cell_type": "markdown",
   "id": "69cad74d-7c52-42d3-89e1-3b61847aa6ad",
   "metadata": {
    "tags": []
   },
   "source": [
    "#### [Optional] Find COM port"
   ]
  },
  {
   "cell_type": "code",
   "execution_count": 9,
   "id": "94e345e2-abd8-484b-a462-0ea67666b260",
   "metadata": {},
   "outputs": [
    {
     "name": "stdout",
     "output_type": "stream",
     "text": [
      "COM5 USB Serial Port (COM5)\n",
      "COM6 USB Serial Port (COM6)\n"
     ]
    }
   ],
   "source": [
    "# Get COM port list\n",
    "import serial.tools.list_ports\n",
    "\n",
    "com_ports = list(serial.tools.list_ports.comports())\n",
    "\n",
    "for port, desc, hwid in com_ports:\n",
    "    print(str(port)+\" \"+str(desc))"
   ]
  },
  {
   "cell_type": "markdown",
   "id": "780031a4-8098-48ce-aa04-bfa87337fff8",
   "metadata": {
    "tags": []
   },
   "source": [
    "### 1.3 Set Sekonic camera areas\n",
    "Set the area where to \"read\" the Tcp, dUV and lux variables\n",
    "Once the object is initalized tune the paramters and test by ```update()```\n",
    "To save the paramteres use the Setup below to generate the ```saved_string``` and copy and paste it into funtion paramter and save the workbook"
   ]
  },
  {
   "cell_type": "code",
   "execution_count": 329,
   "id": "4d8b3113-1a5f-43a7-bb9c-b0247245edf4",
   "metadata": {},
   "outputs": [
    {
     "name": "stderr",
     "output_type": "stream",
     "text": [
      "CUDA not available - defaulting to CPU. Note: This module is much faster with a GPU.\n"
     ]
    },
    {
     "data": {
      "application/vnd.jupyter.widget-view+json": {
       "model_id": "772aff9a999441bba7677440885f459a",
       "version_major": 2,
       "version_minor": 0
      },
      "text/plain": [
       "Tab(children=(VBox(children=(Label(value='Width:'), IntRangeSlider(value=(315, 450), layout=Layout(width='90%'…"
      ]
     },
     "metadata": {},
     "output_type": "display_data"
    },
    {
     "data": {
      "application/vnd.jupyter.widget-view+json": {
       "model_id": "00f0718ab51f4282aa7f8fb209ec7fdd",
       "version_major": 2,
       "version_minor": 0
      },
      "text/plain": [
       "Label(value='Out:')"
      ]
     },
     "metadata": {},
     "output_type": "display_data"
    },
    {
     "data": {
      "application/vnd.jupyter.widget-view+json": {
       "model_id": "418722a8541544138b6bd3e0dcee353c",
       "version_major": 2,
       "version_minor": 0
      },
      "text/plain": [
       "Image(value=b'\\x89PNG\\r\\n\\x1a\\n\\x00\\x00\\x00\\rIHDR\\x00\\x00\\x00\\x87\\x00\\x00\\x002\\x08\\x02\\x00\\x00\\x00\\xf9\\x82_\\x9…"
      ]
     },
     "metadata": {},
     "output_type": "display_data"
    },
    {
     "data": {
      "application/vnd.jupyter.widget-view+json": {
       "model_id": "766d90f81e5f4caa9e6c9d9fefd05d69",
       "version_major": 2,
       "version_minor": 0
      },
      "text/plain": [
       "Output()"
      ]
     },
     "metadata": {},
     "output_type": "display_data"
    }
   ],
   "source": [
    "Brightness = scope(saved_string=\"self.slider_h.value = (229, 388)\\nself.slider_v.value = (390, 448)\\nself.minus_comp.value = False\\nself.offset_x.value = 0\\nself.offset_y.value = 0\\nself.replacement_list.value =str([('o', '0'), ('O', '0'), (',', '.')]) \\n\")"
   ]
  },
  {
   "cell_type": "code",
   "execution_count": 63,
   "id": "67427f1d-0eb5-4ff1-9046-8536aaa303d8",
   "metadata": {},
   "outputs": [
    {
     "data": {
      "text/plain": [
       "4090"
      ]
     },
     "execution_count": 63,
     "metadata": {},
     "output_type": "execute_result"
    }
   ],
   "source": [
    "Brightness.update()"
   ]
  },
  {
   "cell_type": "code",
   "execution_count": 64,
   "id": "0a492722-1993-4fcc-ae06-eb43f1fb4b89",
   "metadata": {},
   "outputs": [
    {
     "name": "stderr",
     "output_type": "stream",
     "text": [
      "CUDA not available - defaulting to CPU. Note: This module is much faster with a GPU.\n"
     ]
    },
    {
     "data": {
      "application/vnd.jupyter.widget-view+json": {
       "model_id": "c4540acba70a462387ec44c41dfd5ed0",
       "version_major": 2,
       "version_minor": 0
      },
      "text/plain": [
       "Tab(children=(VBox(children=(Label(value='Width:'), IntRangeSlider(value=(315, 450), layout=Layout(width='90%'…"
      ]
     },
     "metadata": {},
     "output_type": "display_data"
    },
    {
     "data": {
      "application/vnd.jupyter.widget-view+json": {
       "model_id": "3a8331e4269d4b87a1810054ad9cc06d",
       "version_major": 2,
       "version_minor": 0
      },
      "text/plain": [
       "Label(value='Out:')"
      ]
     },
     "metadata": {},
     "output_type": "display_data"
    },
    {
     "data": {
      "application/vnd.jupyter.widget-view+json": {
       "model_id": "d46efc326a8c4711bb049c6fc399ef44",
       "version_major": 2,
       "version_minor": 0
      },
      "text/plain": [
       "Image(value=b'\\x89PNG\\r\\n\\x1a\\n\\x00\\x00\\x00\\rIHDR\\x00\\x00\\x00\\x87\\x00\\x00\\x002\\x08\\x02\\x00\\x00\\x00\\xf9\\x82_\\x9…"
      ]
     },
     "metadata": {},
     "output_type": "display_data"
    },
    {
     "data": {
      "application/vnd.jupyter.widget-view+json": {
       "model_id": "ea0bb13819df41ad8c4c1745351f0990",
       "version_major": 2,
       "version_minor": 0
      },
      "text/plain": [
       "Output()"
      ]
     },
     "metadata": {},
     "output_type": "display_data"
    }
   ],
   "source": [
    "dUV = scope(saved_string=\"self.slider_h.value = (250, 443)\\nself.slider_v.value = (304, 368)\\nself.minus_comp.value = True\\nself.offset_x.value = -80\\nself.offset_y.value = 2\\nself.replacement_list.value =str([('o', '0'), ('O', '0'), (',', '.'), ('20.0', '0,0'), ('0.6', '0.0'), ('0.8', '0.0')]) \\n\")"
   ]
  },
  {
   "cell_type": "code",
   "execution_count": 66,
   "id": "c5021012-1724-419b-996a-ac541b825415",
   "metadata": {},
   "outputs": [
    {
     "data": {
      "text/plain": [
       "-0.0288"
      ]
     },
     "execution_count": 66,
     "metadata": {},
     "output_type": "execute_result"
    }
   ],
   "source": [
    "dUV.update()"
   ]
  },
  {
   "cell_type": "code",
   "execution_count": 67,
   "id": "24693481-460e-4d4f-9354-15935117b55f",
   "metadata": {},
   "outputs": [
    {
     "name": "stderr",
     "output_type": "stream",
     "text": [
      "CUDA not available - defaulting to CPU. Note: This module is much faster with a GPU.\n"
     ]
    },
    {
     "data": {
      "application/vnd.jupyter.widget-view+json": {
       "model_id": "4870aa6790f94138a4de0caf5aa0c2be",
       "version_major": 2,
       "version_minor": 0
      },
      "text/plain": [
       "Tab(children=(VBox(children=(Label(value='Width:'), IntRangeSlider(value=(315, 450), layout=Layout(width='90%'…"
      ]
     },
     "metadata": {},
     "output_type": "display_data"
    },
    {
     "data": {
      "application/vnd.jupyter.widget-view+json": {
       "model_id": "65828f0a54d14c33ace7f0513dcc5de8",
       "version_major": 2,
       "version_minor": 0
      },
      "text/plain": [
       "Label(value='Out:')"
      ]
     },
     "metadata": {},
     "output_type": "display_data"
    },
    {
     "data": {
      "application/vnd.jupyter.widget-view+json": {
       "model_id": "38a1370c01294931a867f7fbf3ab5dee",
       "version_major": 2,
       "version_minor": 0
      },
      "text/plain": [
       "Image(value=b'\\x89PNG\\r\\n\\x1a\\n\\x00\\x00\\x00\\rIHDR\\x00\\x00\\x00\\x87\\x00\\x00\\x002\\x08\\x02\\x00\\x00\\x00\\xf9\\x82_\\x9…"
      ]
     },
     "metadata": {},
     "output_type": "display_data"
    },
    {
     "data": {
      "application/vnd.jupyter.widget-view+json": {
       "model_id": "ff99c31aae9b488585138f4d4429d182",
       "version_major": 2,
       "version_minor": 0
      },
      "text/plain": [
       "Output()"
      ]
     },
     "metadata": {},
     "output_type": "display_data"
    }
   ],
   "source": [
    "Kelvin = scope(saved_string=\"self.slider_h.value = (254, 412)\\nself.slider_v.value = (228, 286)\\nself.minus_comp.value = False\\nself.offset_x.value = 0\\nself.offset_y.value = 0\\nself.replacement_list.value =str([('o', '0'), ('O', '0'), (',', '.'), ('G', '6')]) \\n\")"
   ]
  },
  {
   "cell_type": "code",
   "execution_count": 25,
   "id": "36647249-0721-4913-9ca6-688348e3bfc9",
   "metadata": {},
   "outputs": [
    {
     "data": {
      "text/plain": [
       "5129"
      ]
     },
     "execution_count": 25,
     "metadata": {},
     "output_type": "execute_result"
    }
   ],
   "source": [
    "Kelvin.update()"
   ]
  },
  {
   "cell_type": "markdown",
   "id": "c1b74fda-7424-4647-a88a-bee5abb5ca55",
   "metadata": {
    "jp-MarkdownHeadingCollapsed": true,
    "tags": []
   },
   "source": [
    "#### Setup"
   ]
  },
  {
   "cell_type": "code",
   "execution_count": 26,
   "id": "6371d03b-1650-4efa-8bec-4d46e79c9e60",
   "metadata": {},
   "outputs": [
    {
     "data": {
      "text/plain": [
       "\"self.slider_h.value = (229, 388)\\nself.slider_v.value = (390, 448)\\nself.minus_comp.value = False\\nself.offset_x.value = 0\\nself.offset_y.value = 0\\nself.replacement_list.value =str([('o', '0'), ('O', '0'), (',', '.')]) \\n\""
      ]
     },
     "execution_count": 26,
     "metadata": {},
     "output_type": "execute_result"
    }
   ],
   "source": [
    "Brightness.save_string()"
   ]
  },
  {
   "cell_type": "code",
   "execution_count": 27,
   "id": "3f4b23c6-9c89-419f-b6f0-5855b094b867",
   "metadata": {},
   "outputs": [
    {
     "data": {
      "text/plain": [
       "\"self.slider_h.value = (250, 443)\\nself.slider_v.value = (304, 368)\\nself.minus_comp.value = True\\nself.offset_x.value = -80\\nself.offset_y.value = 2\\nself.replacement_list.value =str([('o', '0'), ('O', '0'), (',', '.'), ('20.0', '0,0'), ('0.6', '0.0'), ('0.8', '0.0')]) \\n\""
      ]
     },
     "execution_count": 27,
     "metadata": {},
     "output_type": "execute_result"
    }
   ],
   "source": [
    "dUV.save_string()"
   ]
  },
  {
   "cell_type": "code",
   "execution_count": 28,
   "id": "59afa913-b12f-4fd1-a8f4-24edbd83967d",
   "metadata": {},
   "outputs": [
    {
     "data": {
      "text/plain": [
       "\"self.slider_h.value = (254, 412)\\nself.slider_v.value = (228, 286)\\nself.minus_comp.value = False\\nself.offset_x.value = 0\\nself.offset_y.value = 0\\nself.replacement_list.value =str([('o', '0'), ('O', '0'), (',', '.'), ('G', '6')]) \\n\""
      ]
     },
     "execution_count": 28,
     "metadata": {},
     "output_type": "execute_result"
    }
   ],
   "source": [
    "Kelvin.save_string()"
   ]
  },
  {
   "cell_type": "markdown",
   "id": "69c5129a-a0ba-406e-8567-21315095af2e",
   "metadata": {},
   "source": [
    "# Test"
   ]
  },
  {
   "cell_type": "code",
   "execution_count": 339,
   "id": "f4acf2a0-1a9d-4cfc-bd55-7204f7b04567",
   "metadata": {},
   "outputs": [],
   "source": [
    "lamp1.close()"
   ]
  },
  {
   "cell_type": "code",
   "execution_count": 340,
   "id": "b6aed229-3260-45cd-97d7-c813751a1990",
   "metadata": {},
   "outputs": [
    {
     "data": {
      "text/plain": [
       "'782184456C74'"
      ]
     },
     "execution_count": 340,
     "metadata": {},
     "output_type": "execute_result"
    }
   ],
   "source": [
    "lamp1 = apollo_device(ComPort='COM6',SekBrightnes=Brightness, SekDuv=dUV, SekKelvin=Kelvin)\n",
    "lamp1.getId()\n",
    "lamp1.macId = lamp1.macId.replace(\":\",\"\")\n",
    "lamp1.macId"
   ]
  },
  {
   "cell_type": "code",
   "execution_count": 341,
   "id": "d32652ca-e56a-406b-9869-dd210386141c",
   "metadata": {},
   "outputs": [
    {
     "name": "stdout",
     "output_type": "stream",
     "text": [
      "Adjusting lamp brightness to 5000lx in 10000K with [1, 2, 1, 4]/[8, 16, 10, 42] steps\n",
      "current brightness: 143, ideal 5000, diff 4857 : [105, 214, 126, 523, 0]\n",
      "current brightness: 5520, ideal 5000, diff -520 : [113, 230, 136, 565, 0]\n",
      "current brightness: 5120, ideal 5000, diff -120 : [105, 214, 126, 523, 0]\n",
      "current brightness: 5070, ideal 5000, diff -70 : [104, 212, 125, 519, 0]\n",
      "current brightness: 5030, ideal 5000, diff -30 : [103, 210, 124, 515, 0]\n",
      "current brightness: 5000, ideal 5000, diff 0 : [102, 208, 123, 511, 0]\n",
      "current brightness: 5040, ideal 5000, diff -40 : [103, 210, 124, 515, 0]\n",
      "Adjusting lamp dUV to +/- 0.003 in 10000K with [0, 1, 0, 0]/[0, 30, 0, 0] steps\n",
      "current dUV: -0.0005, ideal 0.0000, diff -0.0005 : [102, 208, 123, 511, 0]\n",
      "current dUV: -0.0004, ideal 0.0000, diff -0.0004 : [102, 209, 123, 511, 0]\n",
      "current dUV: -0.0003, ideal 0.0000, diff -0.0003 : [102, 210, 123, 511, 0]\n",
      "current dUV: -0.0002, ideal 0.0000, diff -0.0002 : [102, 211, 123, 511, 0]\n",
      "current dUV: 0.0, ideal 0.0000, diff 0.0 : [102, 212, 123, 511, 0]\n",
      "current dUV: 0.0001, ideal 0.0000, diff 0.0001 : [102, 213, 123, 511, 0]\n",
      "current dUV: 0.0, ideal 0.0000, diff 0.0 : [102, 212, 123, 511, 0]\n",
      "Adjusting lamp Kelvin to 10000K with [-1, 0, 1, 0]/[-10, 0, 10, 0] steps\n",
      "current Kelvin: 11011K, ideal 10000K, diff -1011K : [102, 212, 123, 511, 0]\n",
      "current Kelvin: 11012K, ideal 10000K, diff -1012K : [112, 212, 113, 511, 0]\n",
      "current Kelvin: 9100K, ideal 10000K, diff 900K : [122, 212, 103, 511, 0]\n",
      "current Kelvin: 9966K, ideal 10000K, diff 34K : [112, 212, 113, 511, 0]\n",
      "current Kelvin: 10073K, ideal 10000K, diff -73K : [111, 212, 114, 511, 0]\n",
      "current Kelvin: 9968K, ideal 10000K, diff 32K : [112, 212, 113, 511, 0]\n",
      "current Kelvin: 10037K, ideal 10000K, diff -37K : [111, 212, 114, 511, 0]\n",
      "Temperature: 10039K\n",
      "dUv: -0.0004\n",
      "Brightness: 5040lx\n",
      "CPU times: total: 1min 31s\n",
      "Wall time: 1min 31s\n"
     ]
    }
   ],
   "source": [
    "%%time\n",
    "\n",
    "KelvinTemp = 5 # 0-5 [2800 3200 4800 5600 7800 10000]\n",
    "BrightnessV = 6 # 1-8 [min->max]\n",
    "\n",
    "lamp1.AdjustLux(BrightnessV,KelvinTemp, calibration_points)\n",
    "lamp1.AdjustDuv(BrightnessV,KelvinTemp, calibration_points)\n",
    "lamp1.AdjustKelvin(BrightnessV,KelvinTemp, calibration_points)\n",
    "\n",
    "print(f'Temperature: {lamp1.SekKelvin.update()}K\\ndUv: {lamp1.SekDuv.update()}\\nBrightness: {lamp1.SekBrightnes.update()}lx')"
   ]
  },
  {
   "cell_type": "code",
   "execution_count": 333,
   "id": "dbf95555-2014-45d9-add0-87216816b74c",
   "metadata": {},
   "outputs": [
    {
     "name": "stdout",
     "output_type": "stream",
     "text": [
      "Adjusting lamp brightness to 1250lx in 10000K with [1, 2, 1, 4]/[8, 16, 10, 42] steps\n",
      "current brightness: 1320, ideal 1250, diff -70 : [28, 52, 32, 129, 0]\n",
      "current brightness: 1270, ideal 1250, diff -20 : [27, 50, 31, 125, 0]\n",
      "current brightness: 1230, ideal 1250, diff 20 : [26, 48, 30, 121, 0]\n",
      "current brightness: 1280, ideal 1250, diff -30 : [27, 50, 31, 125, 0]\n",
      "current brightness: 1240, ideal 1250, diff 10 : [26, 48, 30, 121, 0]\n",
      "current brightness: 1280, ideal 1250, diff -30 : [27, 50, 31, 125, 0]\n",
      "current brightness: 1240, ideal 1250, diff 10 : [26, 48, 30, 121, 0]\n",
      "Adjusting lamp dUV to +/- 0.003 in 10000K with [0, 1, 0, 0]/[0, 30, 0, 0] steps\n",
      "current dUV: -0.0001, ideal 0.0000, diff -0.0001 : [26, 48, 30, 121, 0]\n",
      "current dUV: 0.0001, ideal 0.0000, diff 0.0001 : [26, 49, 30, 121, 0]\n",
      "current dUV: -0.0002, ideal 0.0000, diff -0.0002 : [26, 48, 30, 121, 0]\n",
      "current dUV: 0.0001, ideal 0.0000, diff 0.0001 : [26, 49, 30, 121, 0]\n",
      "current dUV: -0.0002, ideal 0.0000, diff -0.0002 : [26, 48, 30, 121, 0]\n",
      "current dUV: 0.0001, ideal 0.0000, diff 0.0001 : [26, 49, 30, 121, 0]\n",
      "current dUV: -0.0002, ideal 0.0000, diff -0.0002 : [26, 48, 30, 121, 0]\n",
      "Adjusting lamp Kelvin to 10000K with [-1, 0, 1, 0]/[-10, 0, 10, 0] steps\n",
      "current Kelvin: 11352K, ideal 10000K, diff -1352K : [26, 48, 30, 121, 0]\n",
      "current Kelvin: 10758K, ideal 10000K, diff -758K : [27, 48, 29, 121, 0]\n",
      "current Kelvin: 10392K, ideal 10000K, diff -392K : [28, 48, 28, 121, 0]\n",
      "current Kelvin: 9905K, ideal 10000K, diff 95K : [29, 48, 27, 121, 0]\n",
      "current Kelvin: 10403K, ideal 10000K, diff -403K : [28, 48, 28, 121, 0]\n",
      "current Kelvin: 9902K, ideal 10000K, diff 98K : [29, 48, 27, 121, 0]\n",
      "current Kelvin: 10395K, ideal 10000K, diff -395K : [28, 48, 28, 121, 0]\n",
      "Temperature: 10403K\n",
      "dUv: -0.0001\n",
      "Brightness: 1240lx\n",
      "CPU times: total: 1min 33s\n",
      "Wall time: 1min 31s\n"
     ]
    }
   ],
   "source": [
    "%%time\n",
    "\n",
    "KelvinTemp = 5 # 0-5 [2800 3200 4800 5600 7800 10000]\n",
    "BrightnessV = 4 # 1-8 [min->max]\n",
    "\n",
    "lamp1.AdjustLux(BrightnessV,KelvinTemp, calibration_points)\n",
    "lamp1.AdjustDuv(BrightnessV,KelvinTemp, calibration_points)\n",
    "lamp1.AdjustKelvin(BrightnessV,KelvinTemp, calibration_points)\n",
    "\n",
    "print(f'Temperature: {lamp1.SekKelvin.update()}K\\ndUv: {lamp1.SekDuv.update()}\\nBrightness: {lamp1.SekBrightnes.update()}lx')"
   ]
  },
  {
   "cell_type": "code",
   "execution_count": 335,
   "id": "cdb645b2-f433-42a5-a288-94663ba0d515",
   "metadata": {},
   "outputs": [
    {
     "name": "stdout",
     "output_type": "stream",
     "text": [
      "Adjusting lamp brightness to 156lx in 10000K with [1, 2, 1, 5]/[9, 18, 10, 45] steps\n",
      "current brightness: 149, ideal 156, diff 7 : [4, 4, 4, 16, 0]\n",
      "current brightness: 199, ideal 156, diff -43 : [5, 6, 5, 21, 0]\n",
      "current brightness: 149, ideal 156, diff 7 : [4, 4, 4, 16, 0]\n",
      "current brightness: 199, ideal 156, diff -43 : [5, 6, 5, 21, 0]\n",
      "current brightness: 149, ideal 156, diff 7 : [4, 4, 4, 16, 0]\n",
      "current brightness: 199, ideal 156, diff -43 : [5, 6, 5, 21, 0]\n",
      "current brightness: 149, ideal 156, diff 7 : [4, 4, 4, 16, 0]\n",
      "Adjusting lamp dUV to +/- 0.003 in 10000K with [0, 1, 0, 0]/[0, 30, 0, 0] steps\n",
      "current dUV: -0.0015, ideal 0.0000, diff -0.0015 : [4, 4, 4, 16, 0]\n",
      "current dUV: 0.0033, ideal 0.0000, diff 0.0033 : [4, 5, 4, 16, 0]\n",
      "current dUV: -0.0015, ideal 0.0000, diff -0.0015 : [4, 4, 4, 16, 0]\n",
      "current dUV: 0.0034, ideal 0.0000, diff 0.0034 : [4, 5, 4, 16, 0]\n",
      "current dUV: -0.0015, ideal 0.0000, diff -0.0015 : [4, 4, 4, 16, 0]\n",
      "current dUV: 0.0033, ideal 0.0000, diff 0.0033 : [4, 5, 4, 16, 0]\n",
      "current dUV: -0.0015, ideal 0.0000, diff -0.0015 : [4, 4, 4, 16, 0]\n",
      "Adjusting lamp Kelvin to 10000K with [-1, 0, 1, 0]/[-10, 0, 10, 0] steps\n",
      "current Kelvin: 10701K, ideal 10000K, diff -701K : [4, 4, 4, 16, 0]\n",
      "current Kelvin: 7993K, ideal 10000K, diff 2007K : [5, 4, 3, 16, 0]\n",
      "current Kelvin: 10681K, ideal 10000K, diff -681K : [4, 4, 4, 16, 0]\n",
      "current Kelvin: 7961K, ideal 10000K, diff 2039K : [5, 4, 3, 16, 0]\n",
      "current Kelvin: 10695K, ideal 10000K, diff -695K : [4, 4, 4, 16, 0]\n",
      "current Kelvin: 7968K, ideal 10000K, diff 2032K : [5, 4, 3, 16, 0]\n",
      "current Kelvin: 10689K, ideal 10000K, diff -689K : [4, 4, 4, 16, 0]\n",
      "Temperature: 10689K\n",
      "dUv: -0.0016\n",
      "Brightness: 149lx\n",
      "CPU times: total: 1min 31s\n",
      "Wall time: 3min 39s\n"
     ]
    }
   ],
   "source": [
    "%%time\n",
    "\n",
    "KelvinTemp = 5 # 0-5 [2800 3200 4800 5600 7800 10000]\n",
    "BrightnessV = 1 # 1-8 [min->max]\n",
    "\n",
    "lamp1.AdjustLux(BrightnessV,KelvinTemp, calibration_points)\n",
    "lamp1.AdjustDuv(BrightnessV,KelvinTemp, calibration_points)\n",
    "lamp1.AdjustKelvin(BrightnessV,KelvinTemp, calibration_points)\n",
    "\n",
    "print(f'Temperature: {lamp1.SekKelvin.update()}K\\ndUv: {lamp1.SekDuv.update()}\\nBrightness: {lamp1.SekBrightnes.update()}lx')"
   ]
  },
  {
   "cell_type": "code",
   "execution_count": 337,
   "id": "411fe06e-42e2-4c2d-b145-54c9ac11c56a",
   "metadata": {},
   "outputs": [
    {
     "name": "stdout",
     "output_type": "stream",
     "text": [
      "Adjusting lamp brightness to 20000lx in 10000K with [1, 2, 1, 5]/[9, 18, 10, 45] steps\n",
      "current brightness: 20100, ideal 20000, diff -100 : [384, 728, 415, 1879, 0]\n",
      "current brightness: 20000, ideal 20000, diff 0 : [383, 726, 414, 1874, 0]\n",
      "current brightness: 20100, ideal 20000, diff -100 : [384, 728, 415, 1879, 0]\n",
      "current brightness: 20000, ideal 20000, diff 0 : [383, 726, 414, 1874, 0]\n",
      "current brightness: 20100, ideal 20000, diff -100 : [384, 728, 415, 1879, 0]\n",
      "current brightness: 20000, ideal 20000, diff 0 : [383, 726, 414, 1874, 0]\n",
      "current brightness: 20100, ideal 20000, diff -100 : [384, 728, 415, 1879, 0]\n",
      "Adjusting lamp dUV to +/- 0.003 in 10000K with [0, 1, 0, 0]/[0, 30, 0, 0] steps\n",
      "current dUV: -0.0001, ideal 0.0000, diff -0.0001 : [383, 726, 414, 1874, 0]\n",
      "current dUV: 0.0, ideal 0.0000, diff 0.0 : [383, 727, 414, 1874, 0]\n",
      "current dUV: -0.0001, ideal 0.0000, diff -0.0001 : [383, 728, 414, 1874, 0]\n",
      "current dUV: 0.0, ideal 0.0000, diff 0.0 : [383, 729, 414, 1874, 0]\n",
      "current dUV: 0.0, ideal 0.0000, diff 0.0 : [383, 730, 414, 1874, 0]\n",
      "current dUV: 0.0, ideal 0.0000, diff 0.0 : [383, 731, 414, 1874, 0]\n",
      "current dUV: 0.0, ideal 0.0000, diff 0.0 : [383, 732, 414, 1874, 0]\n",
      "Adjusting lamp Kelvin to 10000K with [-1, 0, 1, 0]/[-10, 0, 10, 0] steps\n",
      "current Kelvin: 9870K, ideal 10000K, diff 130K : [383, 727, 414, 1874, 0]\n",
      "current Kelvin: 10132K, ideal 10000K, diff -132K : [373, 727, 424, 1874, 0]\n",
      "current Kelvin: 9862K, ideal 10000K, diff 138K : [383, 727, 414, 1874, 0]\n",
      "current Kelvin: 10130K, ideal 10000K, diff -130K : [373, 727, 424, 1874, 0]\n",
      "current Kelvin: 9868K, ideal 10000K, diff 132K : [383, 727, 414, 1874, 0]\n",
      "current Kelvin: 10132K, ideal 10000K, diff -132K : [373, 727, 424, 1874, 0]\n",
      "current Kelvin: 9872K, ideal 10000K, diff 128K : [383, 727, 414, 1874, 0]\n",
      "Temperature: 9872K\n",
      "dUv: -0.0002\n",
      "Brightness: 20100lx\n",
      "Adjusting lamp brightness to 10000lx in 10000K with [1, 2, 1, 5]/[9, 18, 10, 45] steps\n",
      "current brightness: 9430, ideal 10000, diff 570 : [192, 364, 207, 937, 0]\n",
      "current brightness: 9850, ideal 10000, diff 150 : [201, 382, 217, 982, 0]\n",
      "current brightness: 9910, ideal 10000, diff 90 : [202, 384, 218, 987, 0]\n",
      "current brightness: 9960, ideal 10000, diff 40 : [203, 386, 219, 992, 0]\n",
      "current brightness: 10000, ideal 10000, diff 0 : [204, 388, 220, 997, 0]\n",
      "current brightness: 10100, ideal 10000, diff -100 : [205, 390, 221, 1002, 0]\n",
      "current brightness: 10000, ideal 10000, diff 0 : [204, 388, 220, 997, 0]\n",
      "Adjusting lamp dUV to +/- 0.003 in 10000K with [0, 1, 0, 0]/[0, 30, 0, 0] steps\n",
      "current dUV: -0.0009, ideal 0.0000, diff -0.0009 : [204, 388, 220, 997, 0]\n",
      "current dUV: 0.0014, ideal 0.0000, diff 0.0014 : [204, 418, 220, 997, 0]\n",
      "current dUV: -0.0009, ideal 0.0000, diff -0.0009 : [204, 388, 220, 997, 0]\n",
      "current dUV: 0.0014, ideal 0.0000, diff 0.0014 : [204, 418, 220, 997, 0]\n",
      "current dUV: -0.0008, ideal 0.0000, diff -0.0008 : [204, 388, 220, 997, 0]\n",
      "current dUV: 0.0015, ideal 0.0000, diff 0.0015 : [204, 418, 220, 997, 0]\n",
      "current dUV: -0.0008, ideal 0.0000, diff -0.0008 : [204, 388, 220, 997, 0]\n",
      "Adjusting lamp Kelvin to 10000K with [-1, 0, 1, 0]/[-10, 0, 10, 0] steps\n",
      "current Kelvin: 9886K, ideal 10000K, diff 114K : [204, 388, 220, 997, 0]\n",
      "current Kelvin: 10386K, ideal 10000K, diff -386K : [194, 388, 230, 997, 0]\n",
      "current Kelvin: 9895K, ideal 10000K, diff 105K : [204, 388, 220, 997, 0]\n",
      "current Kelvin: 10392K, ideal 10000K, diff -392K : [194, 388, 230, 997, 0]\n",
      "current Kelvin: 9885K, ideal 10000K, diff 115K : [204, 388, 220, 997, 0]\n",
      "current Kelvin: 10380K, ideal 10000K, diff -380K : [194, 388, 230, 997, 0]\n",
      "current Kelvin: 9888K, ideal 10000K, diff 112K : [204, 388, 220, 997, 0]\n",
      "Temperature: 9881K\n",
      "dUv: -0.0009\n",
      "Brightness: 10000lx\n",
      "Adjusting lamp brightness to 5000lx in 10000K with [1, 2, 1, 5]/[9, 18, 10, 45] steps\n",
      "current brightness: 4900, ideal 5000, diff 100 : [102, 194, 110, 498, 0]\n",
      "current brightness: 4940, ideal 5000, diff 60 : [103, 196, 111, 503, 0]\n",
      "current brightness: 4990, ideal 5000, diff 10 : [104, 198, 112, 508, 0]\n",
      "current brightness: 5040, ideal 5000, diff -40 : [105, 200, 113, 513, 0]\n",
      "current brightness: 4990, ideal 5000, diff 10 : [104, 198, 112, 508, 0]\n",
      "current brightness: 5030, ideal 5000, diff -30 : [105, 200, 113, 513, 0]\n",
      "current brightness: 4990, ideal 5000, diff 10 : [104, 198, 112, 508, 0]\n",
      "Adjusting lamp dUV to +/- 0.003 in 10000K with [0, 1, 0, 0]/[0, 30, 0, 0] steps\n",
      "current dUV: -0.0018, ideal 0.0000, diff -0.0018 : [104, 198, 112, 508, 0]\n",
      "current dUV: 0.0024, ideal 0.0000, diff 0.0024 : [104, 228, 112, 508, 0]\n",
      "current dUV: -0.0018, ideal 0.0000, diff -0.0018 : [104, 198, 112, 508, 0]\n",
      "current dUV: 0.0024, ideal 0.0000, diff 0.0024 : [104, 228, 112, 508, 0]\n",
      "current dUV: -0.0018, ideal 0.0000, diff -0.0018 : [104, 198, 112, 508, 0]\n",
      "current dUV: 0.0024, ideal 0.0000, diff 0.0024 : [104, 228, 112, 508, 0]\n",
      "current dUV: -0.0018, ideal 0.0000, diff -0.0018 : [104, 198, 112, 508, 0]\n",
      "Adjusting lamp Kelvin to 10000K with [-1, 0, 1, 0]/[-10, 0, 10, 0] steps\n",
      "current Kelvin: 10231K, ideal 10000K, diff -231K : [104, 198, 112, 508, 0]\n",
      "current Kelvin: 9288K, ideal 10000K, diff 712K : [114, 198, 102, 508, 0]\n",
      "current Kelvin: 10222K, ideal 10000K, diff -222K : [104, 198, 112, 508, 0]\n",
      "current Kelvin: 9302K, ideal 10000K, diff 698K : [114, 198, 102, 508, 0]\n",
      "current Kelvin: 10230K, ideal 10000K, diff -230K : [104, 198, 112, 508, 0]\n",
      "current Kelvin: 9284K, ideal 10000K, diff 716K : [114, 198, 102, 508, 0]\n",
      "current Kelvin: 10224K, ideal 10000K, diff -224K : [104, 198, 112, 508, 0]\n",
      "Temperature: 10224K\n",
      "dUv: -0.0018\n",
      "Brightness: 4990lx\n",
      "Adjusting lamp brightness to 2500lx in 10000K with [1, 2, 1, 5]/[9, 18, 10, 45] steps\n",
      "current brightness: 2490, ideal 2500, diff 10 : [52, 99, 56, 254, 0]\n",
      "current brightness: 2530, ideal 2500, diff -30 : [53, 101, 57, 259, 0]\n",
      "current brightness: 2490, ideal 2500, diff 10 : [52, 99, 56, 254, 0]\n",
      "current brightness: 2530, ideal 2500, diff -30 : [53, 101, 57, 259, 0]\n",
      "current brightness: 2490, ideal 2500, diff 10 : [52, 99, 56, 254, 0]\n",
      "current brightness: 2530, ideal 2500, diff -30 : [53, 101, 57, 259, 0]\n",
      "current brightness: 2490, ideal 2500, diff 10 : [52, 99, 56, 254, 0]\n",
      "Adjusting lamp dUV to +/- 0.003 in 10000K with [0, 1, 0, 0]/[0, 30, 0, 0] steps\n",
      "current dUV: -0.0008, ideal 0.0000, diff -0.0008 : [52, 99, 56, 254, 0]\n",
      "current dUV: -0.0005, ideal 0.0000, diff -0.0005 : [52, 100, 56, 254, 0]\n",
      "current dUV: -0.0002, ideal 0.0000, diff -0.0002 : [52, 101, 56, 254, 0]\n",
      "current dUV: 0.0005, ideal 0.0000, diff 0.0005 : [52, 102, 56, 254, 0]\n",
      "current dUV: 0.0003, ideal 0.0000, diff 0.0003 : [52, 101, 56, 254, 0]\n",
      "current dUV: 0.0001, ideal 0.0000, diff 0.0001 : [52, 100, 56, 254, 0]\n",
      "current dUV: -0.0003, ideal 0.0000, diff -0.0003 : [52, 99, 56, 254, 0]\n",
      "Adjusting lamp Kelvin to 10000K with [-1, 0, 1, 0]/[-10, 0, 10, 0] steps\n",
      "current Kelvin: 10420K, ideal 10000K, diff -420K : [52, 100, 56, 254, 0]\n",
      "current Kelvin: 10165K, ideal 10000K, diff -165K : [53, 100, 55, 254, 0]\n",
      "current Kelvin: 9927K, ideal 10000K, diff 73K : [54, 100, 54, 254, 0]\n",
      "current Kelvin: 10167K, ideal 10000K, diff -167K : [53, 100, 55, 254, 0]\n",
      "current Kelvin: 9932K, ideal 10000K, diff 68K : [54, 100, 54, 254, 0]\n",
      "current Kelvin: 10171K, ideal 10000K, diff -171K : [53, 100, 55, 254, 0]\n",
      "current Kelvin: 9934K, ideal 10000K, diff 66K : [54, 100, 54, 254, 0]\n",
      "Temperature: 9926K\n",
      "dUv: -0.0004\n",
      "Brightness: 2490lx\n",
      "Adjusting lamp brightness to 1250lx in 10000K with [1, 2, 1, 5]/[9, 18, 10, 45] steps\n",
      "current brightness: 1280, ideal 1250, diff -30 : [27, 50, 27, 127, 0]\n",
      "current brightness: 1230, ideal 1250, diff 20 : [26, 48, 26, 122, 0]\n",
      "current brightness: 1280, ideal 1250, diff -30 : [27, 50, 27, 127, 0]\n",
      "current brightness: 1230, ideal 1250, diff 20 : [26, 48, 26, 122, 0]\n",
      "current brightness: 1280, ideal 1250, diff -30 : [27, 50, 27, 127, 0]\n",
      "current brightness: 1230, ideal 1250, diff 20 : [26, 48, 26, 122, 0]\n",
      "current brightness: 1280, ideal 1250, diff -30 : [27, 50, 27, 127, 0]\n",
      "Adjusting lamp dUV to +/- 0.003 in 10000K with [0, 1, 0, 0]/[0, 30, 0, 0] steps\n",
      "current dUV: 0.0018, ideal 0.0000, diff 0.0018 : [26, 48, 26, 122, 0]\n",
      "current dUV: -0.0196, ideal 0.0000, diff -0.0196 : [26, 18, 26, 122, 0]\n",
      "current dUV: 0.0018, ideal 0.0000, diff 0.0018 : [26, 48, 26, 122, 0]\n",
      "current dUV: -0.0197, ideal 0.0000, diff -0.0197 : [26, 18, 26, 122, 0]\n",
      "current dUV: 0.0017, ideal 0.0000, diff 0.0017 : [26, 48, 26, 122, 0]\n",
      "current dUV: -0.0197, ideal 0.0000, diff -0.0197 : [26, 18, 26, 122, 0]\n",
      "current dUV: 0.0018, ideal 0.0000, diff 0.0018 : [26, 48, 26, 122, 0]\n",
      "Adjusting lamp Kelvin to 10000K with [-1, 0, 1, 0]/[-10, 0, 10, 0] steps\n",
      "current Kelvin: 9851K, ideal 10000K, diff 149K : [26, 48, 26, 122, 0]\n",
      "current Kelvin: 10340K, ideal 10000K, diff -340K : [25, 48, 27, 122, 0]\n",
      "current Kelvin: 9846K, ideal 10000K, diff 154K : [26, 48, 26, 122, 0]\n",
      "current Kelvin: 10344K, ideal 10000K, diff -344K : [25, 48, 27, 122, 0]\n",
      "current Kelvin: 9856K, ideal 10000K, diff 144K : [26, 48, 26, 122, 0]\n",
      "current Kelvin: 10327K, ideal 10000K, diff -327K : [25, 48, 27, 122, 0]\n",
      "current Kelvin: 9859K, ideal 10000K, diff 141K : [26, 48, 26, 122, 0]\n",
      "Temperature: 9845K\n",
      "dUv: 0.0018\n",
      "Brightness: 1230lx\n",
      "Adjusting lamp brightness to 625lx in 10000K with [1, 2, 1, 5]/[9, 18, 10, 45] steps\n",
      "current brightness: 629, ideal 625, diff -4 : [13, 24, 13, 61, 0]\n",
      "current brightness: 575, ideal 625, diff 50 : [12, 22, 12, 56, 0]\n",
      "current brightness: 628, ideal 625, diff -3 : [13, 24, 13, 61, 0]\n",
      "current brightness: 575, ideal 625, diff 50 : [12, 22, 12, 56, 0]\n",
      "current brightness: 628, ideal 625, diff -3 : [13, 24, 13, 61, 0]\n",
      "current brightness: 575, ideal 625, diff 50 : [12, 22, 12, 56, 0]\n",
      "current brightness: 627, ideal 625, diff -2 : [13, 24, 13, 61, 0]\n",
      "Adjusting lamp dUV to +/- 0.003 in 10000K with [0, 1, 0, 0]/[0, 30, 0, 0] steps\n",
      "current dUV: 0.0032, ideal 0.0000, diff 0.0032 : [13, 24, 13, 61, 0]\n",
      "current dUV: 0.002, ideal 0.0000, diff 0.002 : [13, 23, 13, 61, 0]\n",
      "current dUV: 0.0007, ideal 0.0000, diff 0.0007 : [13, 22, 13, 61, 0]\n",
      "current dUV: -0.0007, ideal 0.0000, diff -0.0007 : [13, 21, 13, 61, 0]\n",
      "current dUV: 0.0006, ideal 0.0000, diff 0.0006 : [13, 22, 13, 61, 0]\n",
      "current dUV: -0.0007, ideal 0.0000, diff -0.0007 : [13, 21, 13, 61, 0]\n",
      "current dUV: 0.0024, ideal 0.0000, diff 0.0024 : [13, 22, 13, 61, 0]\n",
      "Adjusting lamp Kelvin to 10000K with [-1, 0, 1, 0]/[-10, 0, 10, 0] steps\n",
      "current Kelvin: 10092K, ideal 10000K, diff -92K : [13, 22, 13, 61, 0]\n",
      "current Kelvin: 9197K, ideal 10000K, diff 803K : [14, 22, 12, 61, 0]\n",
      "current Kelvin: 10090K, ideal 10000K, diff -90K : [13, 22, 13, 61, 0]\n",
      "current Kelvin: 9190K, ideal 10000K, diff 810K : [14, 22, 12, 61, 0]\n",
      "current Kelvin: 10097K, ideal 10000K, diff -97K : [13, 22, 13, 61, 0]\n",
      "current Kelvin: 9186K, ideal 10000K, diff 814K : [14, 22, 12, 61, 0]\n",
      "current Kelvin: 10089K, ideal 10000K, diff -89K : [13, 22, 13, 61, 0]\n",
      "Temperature: 10089K\n",
      "dUv: 0.0023\n",
      "Brightness: 609lx\n",
      "Adjusting lamp brightness to 313lx in 10000K with [1, 2, 1, 5]/[9, 18, 10, 45] steps\n",
      "current brightness: 301, ideal 313, diff 12 : [6, 11, 6, 30, 0]\n",
      "current brightness: 352, ideal 313, diff -39 : [7, 13, 7, 35, 0]\n",
      "current brightness: 301, ideal 313, diff 12 : [6, 11, 6, 30, 0]\n",
      "current brightness: 352, ideal 313, diff -39 : [7, 13, 7, 35, 0]\n",
      "current brightness: 301, ideal 313, diff 12 : [6, 11, 6, 30, 0]\n",
      "current brightness: 351, ideal 313, diff -38 : [7, 13, 7, 35, 0]\n",
      "current brightness: 301, ideal 313, diff 12 : [6, 11, 6, 30, 0]\n",
      "Adjusting lamp dUV to +/- 0.003 in 10000K with [0, 1, 0, 0]/[0, 30, 0, 0] steps\n",
      "current dUV: 0.0076, ideal 0.0000, diff 0.0076 : [6, 11, 6, 30, 0]\n",
      "current dUV: 0.006, ideal 0.0000, diff 0.006 : [6, 10, 6, 30, 0]\n",
      "current dUV: 0.0022, ideal 0.0000, diff 0.0022 : [6, 9, 6, 30, 0]\n",
      "current dUV: -0.0006, ideal 0.0000, diff -0.0006 : [6, 8, 6, 30, 0]\n",
      "current dUV: 0.0022, ideal 0.0000, diff 0.0022 : [6, 9, 6, 30, 0]\n",
      "current dUV: -0.0006, ideal 0.0000, diff -0.0006 : [6, 8, 6, 30, 0]\n",
      "current dUV: 0.0022, ideal 0.0000, diff 0.0022 : [6, 9, 6, 30, 0]\n",
      "Adjusting lamp Kelvin to 10000K with [-1, 0, 1, 0]/[-10, 0, 10, 0] steps\n",
      "current Kelvin: 9368K, ideal 10000K, diff 632K : [6, 8, 6, 30, 0]\n",
      "current Kelvin: 11463K, ideal 10000K, diff -1463K : [5, 8, 7, 30, 0]\n",
      "current Kelvin: 9355K, ideal 10000K, diff 645K : [6, 8, 6, 30, 0]\n",
      "current Kelvin: 11451K, ideal 10000K, diff -1451K : [5, 8, 7, 30, 0]\n",
      "current Kelvin: 11445K, ideal 10000K, diff -1445K : [6, 8, 6, 30, 0]\n",
      "current Kelvin: 8299K, ideal 10000K, diff 1701K : [7, 8, 5, 30, 0]\n",
      "current Kelvin: 9367K, ideal 10000K, diff 633K : [6, 8, 6, 30, 0]\n",
      "Temperature: 9367K\n",
      "dUv: -0.0007\n",
      "Brightness: 280lx\n",
      "CPU times: total: 11min 1s\n",
      "Wall time: 12min 56s\n"
     ]
    }
   ],
   "source": [
    "%%time\n",
    "\n",
    "KelvinTemp = 5 # 0-5 [2800 3200 4800 5600 7800 10000]\n",
    "for lx in range(7):\n",
    "    lamp1.AdjustLux(8-lx,KelvinTemp, calibration_points)\n",
    "    lamp1.AdjustDuv(8-lx,KelvinTemp, calibration_points)\n",
    "    lamp1.AdjustKelvin(8-lx,KelvinTemp, calibration_points)\n",
    "    \n",
    "    if (7-lx)> 0:\n",
    "        calibration_points[KelvinTemp][7-lx] = [round(x/2) for x in calibration_points[KelvinTemp][8-lx]]\n",
    "    \n",
    "    print(f'Temperature: {lamp1.SekKelvin.update()}K\\ndUv: {lamp1.SekDuv.update()}\\nBrightness: {lamp1.SekBrightnes.update()}lx')"
   ]
  },
  {
   "cell_type": "code",
   "execution_count": 345,
   "id": "ebccc0ad-8c31-453d-85d4-e7631efe68ff",
   "metadata": {},
   "outputs": [],
   "source": [
    "lamp1.color = [0, 0, 0, 0, 0]\n",
    "lamp1.update()"
   ]
  },
  {
   "cell_type": "code",
   "execution_count": null,
   "id": "9efd0bd1-151e-4e16-8f76-ccda914b9983",
   "metadata": {},
   "outputs": [],
   "source": []
  }
 ],
 "metadata": {
  "kernelspec": {
   "display_name": "Python 3 (ipykernel)",
   "language": "python",
   "name": "python3"
  },
  "language_info": {
   "codemirror_mode": {
    "name": "ipython",
    "version": 3
   },
   "file_extension": ".py",
   "mimetype": "text/x-python",
   "name": "python",
   "nbconvert_exporter": "python",
   "pygments_lexer": "ipython3",
   "version": "3.10.7"
  }
 },
 "nbformat": 4,
 "nbformat_minor": 5
}
