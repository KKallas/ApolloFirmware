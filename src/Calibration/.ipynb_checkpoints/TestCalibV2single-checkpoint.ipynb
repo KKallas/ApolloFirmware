{
 "cells": [
  {
   "cell_type": "markdown",
   "id": "3a1a2094-5c7f-4cd5-bf0f-27047ad8e575",
   "metadata": {},
   "source": [
    "# Testing Calibration V2Worksheet"
   ]
  },
  {
   "cell_type": "markdown",
   "id": "c1cd6544-7af1-401a-a8ec-94ea3e2ab51a",
   "metadata": {
    "tags": []
   },
   "source": [
    "## 1. Setup\n",
    "This section load python objects and variables please check the ```cam``` variable"
   ]
  },
  {
   "cell_type": "markdown",
   "id": "c826bdde-f662-471a-a159-0af31b9dd8c1",
   "metadata": {
    "tags": []
   },
   "source": [
    "### 1.1 Load python objects\n",
    "Loads ```scope``` and ```lamp``` python objects for reading sekonic and communication with the lamp"
   ]
  },
  {
   "cell_type": "code",
   "execution_count": 57,
   "id": "7b12f1d2-2245-4c56-afd7-d06cc626d68a",
   "metadata": {},
   "outputs": [],
   "source": [
    "cam = \"http://192.168.2.224/video_feed\"\n",
    "sharedFolder = \"C:\\\\Users\\\\Virtual\\ Production\\ 2\\\\Documents\\\\ApolloLogs\\\\\"\n",
    "%run calibration_setup_v2.ipynb"
   ]
  },
  {
   "cell_type": "markdown",
   "id": "76bf20b2-c593-470c-a7c3-759be9e590dc",
   "metadata": {
    "tags": []
   },
   "source": [
    "### 1.2 Connect to lamp\n",
    "Lamp needs to be closed before it can be opened again.\n",
    "If you dont know the serial port where the lamp is connected use the Find COM port section\n",
    "1st You need to setup sekonic and feedback camera (the areas where the data will be read, 1st -green value is set up so it would be possibel to get dUV - sign location), then close the lamp and start again with the scope objects"
   ]
  },
  {
   "cell_type": "code",
   "execution_count": 317,
   "id": "f8f748a0-aed4-42a2-957c-df258f6132f4",
   "metadata": {},
   "outputs": [],
   "source": [
    "lamp1.close()"
   ]
  },
  {
   "cell_type": "code",
   "execution_count": 58,
   "id": "290f74e3-10d6-47e5-b533-d8fd39080df3",
   "metadata": {},
   "outputs": [
    {
     "data": {
      "text/plain": [
       "'30C6F7C8DD10'"
      ]
     },
     "execution_count": 58,
     "metadata": {},
     "output_type": "execute_result"
    }
   ],
   "source": [
    "lamp1 = apollo_device(ComPort='COM6')\n",
    "lamp1.getId()\n",
    "lamp1.macId = lamp1.macId.replace(\":\",\"\")\n",
    "lamp1.macId"
   ]
  },
  {
   "cell_type": "code",
   "execution_count": 59,
   "id": "d672a386-04aa-49d8-8cfa-025af8bcd9d1",
   "metadata": {},
   "outputs": [],
   "source": [
    "lamp1.color = [200,50,50,500,0]\n",
    "lamp1.update()"
   ]
  },
  {
   "cell_type": "markdown",
   "id": "69cad74d-7c52-42d3-89e1-3b61847aa6ad",
   "metadata": {
    "tags": []
   },
   "source": [
    "#### [Optional] Find COM port"
   ]
  },
  {
   "cell_type": "code",
   "execution_count": 9,
   "id": "94e345e2-abd8-484b-a462-0ea67666b260",
   "metadata": {},
   "outputs": [
    {
     "name": "stdout",
     "output_type": "stream",
     "text": [
      "COM5 USB Serial Port (COM5)\n",
      "COM6 USB Serial Port (COM6)\n"
     ]
    }
   ],
   "source": [
    "# Get COM port list\n",
    "import serial.tools.list_ports\n",
    "\n",
    "com_ports = list(serial.tools.list_ports.comports())\n",
    "\n",
    "for port, desc, hwid in com_ports:\n",
    "    print(str(port)+\" \"+str(desc))"
   ]
  },
  {
   "cell_type": "markdown",
   "id": "780031a4-8098-48ce-aa04-bfa87337fff8",
   "metadata": {
    "tags": []
   },
   "source": [
    "### 1.3 Set Sekonic camera areas\n",
    "Set the area where to \"read\" the Tcp, dUV and lux variables\n",
    "Once the object is initalized tune the paramters and test by ```update()```\n",
    "To save the paramteres use the Setup below to generate the ```saved_string``` and copy and paste it into funtion paramter and save the workbook"
   ]
  },
  {
   "cell_type": "code",
   "execution_count": 60,
   "id": "4d8b3113-1a5f-43a7-bb9c-b0247245edf4",
   "metadata": {},
   "outputs": [
    {
     "name": "stderr",
     "output_type": "stream",
     "text": [
      "CUDA not available - defaulting to CPU. Note: This module is much faster with a GPU.\n"
     ]
    },
    {
     "data": {
      "application/vnd.jupyter.widget-view+json": {
       "model_id": "f7dae718079644a08ada658e33639621",
       "version_major": 2,
       "version_minor": 0
      },
      "text/plain": [
       "Tab(children=(VBox(children=(Label(value='Width:'), IntRangeSlider(value=(315, 450), layout=Layout(width='90%'…"
      ]
     },
     "metadata": {},
     "output_type": "display_data"
    },
    {
     "data": {
      "application/vnd.jupyter.widget-view+json": {
       "model_id": "6686a6b1ec14423d9062fdd59ca55392",
       "version_major": 2,
       "version_minor": 0
      },
      "text/plain": [
       "Label(value='Out:')"
      ]
     },
     "metadata": {},
     "output_type": "display_data"
    },
    {
     "data": {
      "application/vnd.jupyter.widget-view+json": {
       "model_id": "d0d3ae6129d44e58b1a858bc85b8d0fc",
       "version_major": 2,
       "version_minor": 0
      },
      "text/plain": [
       "Image(value=b'\\x89PNG\\r\\n\\x1a\\n\\x00\\x00\\x00\\rIHDR\\x00\\x00\\x00\\x87\\x00\\x00\\x002\\x08\\x02\\x00\\x00\\x00\\xf9\\x82_\\x9…"
      ]
     },
     "metadata": {},
     "output_type": "display_data"
    },
    {
     "data": {
      "application/vnd.jupyter.widget-view+json": {
       "model_id": "81f4e0ae591646c2a3e1160fe561e800",
       "version_major": 2,
       "version_minor": 0
      },
      "text/plain": [
       "Output()"
      ]
     },
     "metadata": {},
     "output_type": "display_data"
    }
   ],
   "source": [
    "Brightness = scope(saved_string=\"self.slider_h.value = (232, 391)\\nself.slider_v.value = (319, 377)\\nself.minus_comp.value = False\\nself.minus_brightness.value = '150'\\nself.offset_x.value = 0\\nself.offset_y.value = 0\\nself.rota.value = '90'\\nself.flip.value = False\\nself.flop.value = False\\nself.replacement_list.value =str([('o', '0'), ('O', '0'), (',', '.')]) \\n\")"
   ]
  },
  {
   "cell_type": "code",
   "execution_count": 33,
   "id": "67427f1d-0eb5-4ff1-9046-8536aaa303d8",
   "metadata": {},
   "outputs": [
    {
     "data": {
      "text/plain": [
       "4190"
      ]
     },
     "execution_count": 33,
     "metadata": {},
     "output_type": "execute_result"
    }
   ],
   "source": [
    "Brightness.update()"
   ]
  },
  {
   "cell_type": "code",
   "execution_count": 61,
   "id": "0a492722-1993-4fcc-ae06-eb43f1fb4b89",
   "metadata": {},
   "outputs": [
    {
     "name": "stderr",
     "output_type": "stream",
     "text": [
      "CUDA not available - defaulting to CPU. Note: This module is much faster with a GPU.\n"
     ]
    },
    {
     "data": {
      "application/vnd.jupyter.widget-view+json": {
       "model_id": "813dca829ced4feb9476e97915c8f827",
       "version_major": 2,
       "version_minor": 0
      },
      "text/plain": [
       "Tab(children=(VBox(children=(Label(value='Width:'), IntRangeSlider(value=(315, 450), layout=Layout(width='90%'…"
      ]
     },
     "metadata": {},
     "output_type": "display_data"
    },
    {
     "data": {
      "application/vnd.jupyter.widget-view+json": {
       "model_id": "205cf3d21d484e488169266a6d4ffa02",
       "version_major": 2,
       "version_minor": 0
      },
      "text/plain": [
       "Label(value='Out:')"
      ]
     },
     "metadata": {},
     "output_type": "display_data"
    },
    {
     "data": {
      "application/vnd.jupyter.widget-view+json": {
       "model_id": "6ba8fa8716a44ebd9ef827fc7ae11580",
       "version_major": 2,
       "version_minor": 0
      },
      "text/plain": [
       "Image(value=b'\\x89PNG\\r\\n\\x1a\\n\\x00\\x00\\x00\\rIHDR\\x00\\x00\\x00\\x87\\x00\\x00\\x002\\x08\\x02\\x00\\x00\\x00\\xf9\\x82_\\x9…"
      ]
     },
     "metadata": {},
     "output_type": "display_data"
    },
    {
     "data": {
      "application/vnd.jupyter.widget-view+json": {
       "model_id": "f64a73aa5cb049c1bbf8e3ed8737ccc8",
       "version_major": 2,
       "version_minor": 0
      },
      "text/plain": [
       "Output()"
      ]
     },
     "metadata": {},
     "output_type": "display_data"
    }
   ],
   "source": [
    "dUV = scope(saved_string=\"self.slider_h.value = (258, 447)\\nself.slider_v.value = (237, 295)\\nself.minus_comp.value = True\\nself.minus_brightness.value = '150'\\nself.offset_x.value = -85\\nself.offset_y.value = 3\\nself.rota.value = '90'\\nself.flip.value = False\\nself.flop.value = False\\nself.replacement_list.value =str([('o', '0'), ('O', '0'), (',', '.'), ('20.0', '0,0'), ('0.6', '0.0'), ('0.8', '0.0')]) \\n\")"
   ]
  },
  {
   "cell_type": "code",
   "execution_count": 34,
   "id": "c5021012-1724-419b-996a-ac541b825415",
   "metadata": {},
   "outputs": [
    {
     "data": {
      "text/plain": [
       "-0.029"
      ]
     },
     "execution_count": 34,
     "metadata": {},
     "output_type": "execute_result"
    }
   ],
   "source": [
    "dUV.update()"
   ]
  },
  {
   "cell_type": "code",
   "execution_count": 62,
   "id": "24693481-460e-4d4f-9354-15935117b55f",
   "metadata": {},
   "outputs": [
    {
     "name": "stderr",
     "output_type": "stream",
     "text": [
      "CUDA not available - defaulting to CPU. Note: This module is much faster with a GPU.\n"
     ]
    },
    {
     "data": {
      "application/vnd.jupyter.widget-view+json": {
       "model_id": "dfaf092812c3473486f7583391a69f19",
       "version_major": 2,
       "version_minor": 0
      },
      "text/plain": [
       "Tab(children=(VBox(children=(Label(value='Width:'), IntRangeSlider(value=(315, 450), layout=Layout(width='90%'…"
      ]
     },
     "metadata": {},
     "output_type": "display_data"
    },
    {
     "data": {
      "application/vnd.jupyter.widget-view+json": {
       "model_id": "1084bd4f9ea94811bbebcf44f6d72125",
       "version_major": 2,
       "version_minor": 0
      },
      "text/plain": [
       "Label(value='Out:')"
      ]
     },
     "metadata": {},
     "output_type": "display_data"
    },
    {
     "data": {
      "application/vnd.jupyter.widget-view+json": {
       "model_id": "b3dcd94723fd45ad92689bf3c3fd05cc",
       "version_major": 2,
       "version_minor": 0
      },
      "text/plain": [
       "Image(value=b'\\x89PNG\\r\\n\\x1a\\n\\x00\\x00\\x00\\rIHDR\\x00\\x00\\x00\\x87\\x00\\x00\\x002\\x08\\x02\\x00\\x00\\x00\\xf9\\x82_\\x9…"
      ]
     },
     "metadata": {},
     "output_type": "display_data"
    },
    {
     "data": {
      "application/vnd.jupyter.widget-view+json": {
       "model_id": "193239324d3f45eb98fae3e181c37e0a",
       "version_major": 2,
       "version_minor": 0
      },
      "text/plain": [
       "Output()"
      ]
     },
     "metadata": {},
     "output_type": "display_data"
    }
   ],
   "source": [
    "Kelvin = scope(saved_string=\"self.slider_h.value = (259, 417)\\nself.slider_v.value = (159, 217)\\nself.minus_comp.value = False\\nself.minus_brightness.value = '150'\\nself.offset_x.value = 0\\nself.offset_y.value = 0\\nself.rota.value = '90'\\nself.flip.value = False\\nself.flop.value = False\\nself.replacement_list.value =str([('o', '0'), ('O', '0'), (',', '.'), ('G', '6')]) \\n\")"
   ]
  },
  {
   "cell_type": "code",
   "execution_count": 36,
   "id": "36647249-0721-4913-9ca6-688348e3bfc9",
   "metadata": {},
   "outputs": [
    {
     "data": {
      "text/plain": [
       "5222"
      ]
     },
     "execution_count": 36,
     "metadata": {},
     "output_type": "execute_result"
    }
   ],
   "source": [
    "Kelvin.update()"
   ]
  },
  {
   "cell_type": "markdown",
   "id": "c1b74fda-7424-4647-a88a-bee5abb5ca55",
   "metadata": {
    "jp-MarkdownHeadingCollapsed": true,
    "tags": []
   },
   "source": [
    "#### Setup"
   ]
  },
  {
   "cell_type": "code",
   "execution_count": 49,
   "id": "6371d03b-1650-4efa-8bec-4d46e79c9e60",
   "metadata": {},
   "outputs": [
    {
     "data": {
      "text/plain": [
       "\"self.slider_h.value = (232, 391)\\nself.slider_v.value = (319, 377)\\nself.minus_comp.value = False\\nself.minus_brightness.value = '150'\\nself.offset_x.value = 0\\nself.offset_y.value = 0\\nself.rota.value = '90'\\nself.flip.value = False\\nself.flop.value = False\\nself.replacement_list.value =str([('o', '0'), ('O', '0'), (',', '.')]) \\n\""
      ]
     },
     "execution_count": 49,
     "metadata": {},
     "output_type": "execute_result"
    }
   ],
   "source": [
    "Brightness.save_string()"
   ]
  },
  {
   "cell_type": "code",
   "execution_count": 50,
   "id": "3f4b23c6-9c89-419f-b6f0-5855b094b867",
   "metadata": {},
   "outputs": [
    {
     "data": {
      "text/plain": [
       "\"self.slider_h.value = (258, 447)\\nself.slider_v.value = (237, 295)\\nself.minus_comp.value = True\\nself.minus_brightness.value = '150'\\nself.offset_x.value = -85\\nself.offset_y.value = 3\\nself.rota.value = '90'\\nself.flip.value = False\\nself.flop.value = False\\nself.replacement_list.value =str([('o', '0'), ('O', '0'), (',', '.'), ('20.0', '0,0'), ('0.6', '0.0'), ('0.8', '0.0')]) \\n\""
      ]
     },
     "execution_count": 50,
     "metadata": {},
     "output_type": "execute_result"
    }
   ],
   "source": [
    "dUV.save_string()"
   ]
  },
  {
   "cell_type": "code",
   "execution_count": 51,
   "id": "59afa913-b12f-4fd1-a8f4-24edbd83967d",
   "metadata": {},
   "outputs": [
    {
     "data": {
      "text/plain": [
       "\"self.slider_h.value = (259, 417)\\nself.slider_v.value = (159, 217)\\nself.minus_comp.value = False\\nself.minus_brightness.value = '150'\\nself.offset_x.value = 0\\nself.offset_y.value = 0\\nself.rota.value = '90'\\nself.flip.value = False\\nself.flop.value = False\\nself.replacement_list.value =str([('o', '0'), ('O', '0'), (',', '.'), ('G', '6')]) \\n\""
      ]
     },
     "execution_count": 51,
     "metadata": {},
     "output_type": "execute_result"
    }
   ],
   "source": [
    "Kelvin.save_string()"
   ]
  },
  {
   "cell_type": "markdown",
   "id": "69c5129a-a0ba-406e-8567-21315095af2e",
   "metadata": {},
   "source": [
    "# Test"
   ]
  },
  {
   "cell_type": "code",
   "execution_count": 63,
   "id": "f4acf2a0-1a9d-4cfc-bd55-7204f7b04567",
   "metadata": {},
   "outputs": [],
   "source": [
    "lamp1.close()\n",
    "time.sleep(0.5)"
   ]
  },
  {
   "cell_type": "code",
   "execution_count": 64,
   "id": "b6aed229-3260-45cd-97d7-c813751a1990",
   "metadata": {},
   "outputs": [
    {
     "data": {
      "text/plain": [
       "'30C6F7C8DD10'"
      ]
     },
     "execution_count": 64,
     "metadata": {},
     "output_type": "execute_result"
    }
   ],
   "source": [
    "lamp1 = apollo_device(ComPort='COM6',SekBrightnes=Brightness, SekDuv=dUV, SekKelvin=Kelvin)\n",
    "lamp1.getId()\n",
    "lamp1.macId = lamp1.macId.replace(\":\",\"\")\n",
    "lamp1.macId"
   ]
  },
  {
   "cell_type": "code",
   "execution_count": null,
   "id": "cdb645b2-f433-42a5-a288-94663ba0d515",
   "metadata": {},
   "outputs": [
    {
     "name": "stdout",
     "output_type": "stream",
     "text": [
      "starting kelvin range 2800\n",
      "\n",
      "Loading calibartion from lamp\n",
      "\n",
      "loaded values: {'wb': 0, 'brightness': 8, 'r': 1316, 'g': 660, 'b': 9, 'w': 370, 'Timestamp': 1700461623332706800}\n",
      "\n",
      "Adjusting lamp brightness to 10000lx in 2800K with [4, 2, 0, 1]/[36, 18, 0, 10] steps\n",
      "current brightness: 9830, ideal 10000, diff 170 : [1316, 660, 9, 370, 0] / [837, 660, 9, 370, 0]\n"
     ]
    }
   ],
   "source": [
    "%%time\n",
    "\n",
    "startCalib = 0\n",
    "endCalib = 5\n",
    "readCalibration = True\n",
    "writeCalibration = True\n",
    "\n",
    "data = None\n",
    "\n",
    "def calRange(KelvinTemp = 2, BrightnessV = 8, readCalibration = True, writeCalibration = True):\n",
    "    global calibration_points\n",
    "    if readCalibration:\n",
    "        print(\"Loading calibartion from lamp\\n\")\n",
    "        lamp1.send((\"Cr\"+str(KelvinTemp)+\" \"+str(BrightnessV)+\" \\n\").encode('utf-8'))\n",
    "        lamp1.read()\n",
    "        jsonString = \"{\"+lamp1.lastValAsJsonString[1:-1]+\"}\"\n",
    "        jsonObject = eval(jsonString)\n",
    "\n",
    "        print(\"loaded values: \"+str(jsonObject)+\"\\n\")\n",
    "        calibration_points[KelvinTemp][8][2] = jsonObject['r']\n",
    "        calibration_points[KelvinTemp][8][3] = jsonObject['g']\n",
    "        calibration_points[KelvinTemp][8][4] = jsonObject['b']\n",
    "        calibration_points[KelvinTemp][8][5] = jsonObject['w']\n",
    "\n",
    "        # The answer is 2 line, so to clear the buffer\n",
    "        lamp1.read()\n",
    "\n",
    "    calibration_points = lamp1.AdjustLux(BrightnessV,KelvinTemp, calibration_points)\n",
    "    calibration_points = lamp1.AdjustDuv(BrightnessV,KelvinTemp, calibration_points)\n",
    "    calibration_points = lamp1.AdjustKelvin(BrightnessV,KelvinTemp, calibration_points)\n",
    "\n",
    "    #write calibration to lamp\n",
    "    if writeCalibration:\n",
    "        print(\"Writing calibratrion:\\n\")\n",
    "        cmd = \"Cw\"+str(KelvinTemp)+\" \"+str(BrightnessV)+\" \"+str(calibration_points[KelvinTemp][BrightnessV][2])+\" \"+str(calibration_points[KelvinTemp][BrightnessV][3])+\" \"+str(calibration_points[KelvinTemp][BrightnessV][4])+\" \"+str(calibration_points[KelvinTemp][BrightnessV][5])+\"\\n\"\n",
    "        lamp1.send(cmd.encode('utf-8'))\n",
    "        print(cmd)\n",
    "        lamp1.read()\n",
    "        print(lamp1.lastValAsJsonString)\n",
    "\n",
    "    print(f'Temperature: {lamp1.SekKelvin.update()}K\\ndUv: {lamp1.SekDuv.update()}\\nBrightness: {lamp1.SekBrightnes.update()}lx')\n",
    "    return [lamp1.SekKelvin.lastVal, lamp1.SekDuv.lastVal, lamp1.SekBrightnes.lastVal]\n",
    "\n",
    "# try 5 times to get the dUV low enough\n",
    "for kelvin in range(startCalib,endCalib+1):\n",
    "    print(f\"starting kelvin range {KelvinRangeIds[kelvin]}\\n\")\n",
    "    # Record final results for proofing\n",
    "    new_data_line = {\n",
    "        'wb': [KelvinRangeIds[kelvin]],\n",
    "        'brightness_point': [8],\n",
    "        'kelvin': [measured[0]],\n",
    "        'duv': [measured[1]],\n",
    "        'lux': [measured[2]]\n",
    "    }\n",
    "    new_data_line_df = pd.DataFrame(new_data_line)\n",
    "    print(\"Debug new_data_line: \" + str(new_data_line))\n",
    "    if data is None:\n",
    "        data = new_data_line_df\n",
    "    else:\n",
    "        data = pd.concat([data, new_data_line_df], ignore_index=True)\n",
    "        "
   ]
  },
  {
   "cell_type": "code",
   "execution_count": 76,
   "id": "805cc003-df8d-4664-abef-589b8b18a9af",
   "metadata": {},
   "outputs": [
    {
     "data": {
      "text/html": [
       "<div><div id=5414643c-6c54-4ff4-8845-beacc8396a6a style=\"display:none; background-color:#9D6CFF; color:white; width:200px; height:30px; padding-left:5px; border-radius:4px; flex-direction:row; justify-content:space-around; align-items:center;\" onmouseover=\"this.style.backgroundColor='#BA9BF8'\" onmouseout=\"this.style.backgroundColor='#9D6CFF'\" onclick=\"window.commands?.execute('create-mitosheet-from-dataframe-output');\">See Full Dataframe in Mito</div> <script> if (window.commands?.hasCommand('create-mitosheet-from-dataframe-output')) document.getElementById('5414643c-6c54-4ff4-8845-beacc8396a6a').style.display = 'flex' </script> <table border=\"1\" class=\"dataframe\">\n",
       "  <thead>\n",
       "    <tr style=\"text-align: right;\">\n",
       "      <th></th>\n",
       "      <th>wb</th>\n",
       "      <th>brightness_point</th>\n",
       "      <th>kelvin</th>\n",
       "      <th>duv</th>\n",
       "      <th>lux</th>\n",
       "    </tr>\n",
       "  </thead>\n",
       "  <tbody>\n",
       "    <tr>\n",
       "      <th>0</th>\n",
       "      <td>2800</td>\n",
       "      <td>8</td>\n",
       "      <td>2811</td>\n",
       "      <td>0.0000</td>\n",
       "      <td>10000</td>\n",
       "    </tr>\n",
       "    <tr>\n",
       "      <th>1</th>\n",
       "      <td>3200</td>\n",
       "      <td>8</td>\n",
       "      <td>3318</td>\n",
       "      <td>-0.0001</td>\n",
       "      <td>9950</td>\n",
       "    </tr>\n",
       "    <tr>\n",
       "      <th>2</th>\n",
       "      <td>4800</td>\n",
       "      <td>8</td>\n",
       "      <td>4913</td>\n",
       "      <td>-0.0001</td>\n",
       "      <td>19700</td>\n",
       "    </tr>\n",
       "    <tr>\n",
       "      <th>3</th>\n",
       "      <td>5600</td>\n",
       "      <td>8</td>\n",
       "      <td>5603</td>\n",
       "      <td>0.0000</td>\n",
       "      <td>19800</td>\n",
       "    </tr>\n",
       "    <tr>\n",
       "      <th>4</th>\n",
       "      <td>7800</td>\n",
       "      <td>8</td>\n",
       "      <td>7812</td>\n",
       "      <td>0.0001</td>\n",
       "      <td>19900</td>\n",
       "    </tr>\n",
       "    <tr>\n",
       "      <th>5</th>\n",
       "      <td>10000</td>\n",
       "      <td>8</td>\n",
       "      <td>10018</td>\n",
       "      <td>0.0000</td>\n",
       "      <td>20000</td>\n",
       "    </tr>\n",
       "  </tbody>\n",
       "</table></div>"
      ],
      "text/plain": [
       "      wb  brightness_point  kelvin     duv    lux\n",
       "0   2800                 8    2811  0.0000  10000\n",
       "1   3200                 8    3318 -0.0001   9950\n",
       "2   4800                 8    4913 -0.0001  19700\n",
       "3   5600                 8    5603  0.0000  19800\n",
       "4   7800                 8    7812  0.0001  19900\n",
       "5  10000                 8   10018  0.0000  20000"
      ]
     },
     "execution_count": 76,
     "metadata": {},
     "output_type": "execute_result"
    }
   ],
   "source": [
    "data"
   ]
  },
  {
   "cell_type": "code",
   "execution_count": 84,
   "id": "52c9be16-a801-4123-8ecb-b09c7a4cd22e",
   "metadata": {},
   "outputs": [
    {
     "data": {
      "text/plain": [
       "None"
      ]
     },
     "metadata": {},
     "output_type": "display_data"
    },
    {
     "data": {
      "text/plain": [
       "None"
      ]
     },
     "metadata": {},
     "output_type": "display_data"
    }
   ],
   "source": [
    "from IPython.display import display\n",
    "\n",
    "# Get current display settings\n",
    "display(pd.get_option('display.max_rows'))\n",
    "display(pd.get_option('display.max_columns'))"
   ]
  },
  {
   "cell_type": "code",
   "execution_count": 83,
   "id": "654d6959-9049-4bb0-8da3-8d2704748ebb",
   "metadata": {
    "tags": []
   },
   "outputs": [
    {
     "data": {
      "text/html": [
       "<div><div id=901aeabd-0ab5-4916-ad11-f1f04e67d5b6 style=\"display:none; background-color:#9D6CFF; color:white; width:200px; height:30px; padding-left:5px; border-radius:4px; flex-direction:row; justify-content:space-around; align-items:center;\" onmouseover=\"this.style.backgroundColor='#BA9BF8'\" onmouseout=\"this.style.backgroundColor='#9D6CFF'\" onclick=\"window.commands?.execute('create-mitosheet-from-dataframe-output');\">See Full Dataframe in Mito</div> <script> if (window.commands?.hasCommand('create-mitosheet-from-dataframe-output')) document.getElementById('901aeabd-0ab5-4916-ad11-f1f04e67d5b6').style.display = 'flex' </script> <table border=\"1\" class=\"dataframe\">\n",
       "  <thead>\n",
       "    <tr style=\"text-align: right;\">\n",
       "      <th></th>\n",
       "      <th>wb</th>\n",
       "      <th>brightness_point</th>\n",
       "      <th>kelvin</th>\n",
       "      <th>duv</th>\n",
       "      <th>lux</th>\n",
       "    </tr>\n",
       "  </thead>\n",
       "  <tbody>\n",
       "    <tr>\n",
       "      <th>0</th>\n",
       "      <td>2800</td>\n",
       "      <td>8</td>\n",
       "      <td>2811</td>\n",
       "      <td>0.0000</td>\n",
       "      <td>10000.0</td>\n",
       "    </tr>\n",
       "    <tr>\n",
       "      <th>1</th>\n",
       "      <td>3200</td>\n",
       "      <td>8</td>\n",
       "      <td>3318</td>\n",
       "      <td>-0.0001</td>\n",
       "      <td>9950.0</td>\n",
       "    </tr>\n",
       "    <tr>\n",
       "      <th>2</th>\n",
       "      <td>4800</td>\n",
       "      <td>8</td>\n",
       "      <td>4913</td>\n",
       "      <td>-0.0001</td>\n",
       "      <td>19700.0</td>\n",
       "    </tr>\n",
       "    <tr>\n",
       "      <th>3</th>\n",
       "      <td>5600</td>\n",
       "      <td>8</td>\n",
       "      <td>5603</td>\n",
       "      <td>0.0000</td>\n",
       "      <td>19800.0</td>\n",
       "    </tr>\n",
       "    <tr>\n",
       "      <th>4</th>\n",
       "      <td>7800</td>\n",
       "      <td>8</td>\n",
       "      <td>7812</td>\n",
       "      <td>0.0001</td>\n",
       "      <td>19900.0</td>\n",
       "    </tr>\n",
       "    <tr>\n",
       "      <th>...</th>\n",
       "      <td>...</td>\n",
       "      <td>...</td>\n",
       "      <td>...</td>\n",
       "      <td>...</td>\n",
       "      <td>...</td>\n",
       "    </tr>\n",
       "    <tr>\n",
       "      <th>45</th>\n",
       "      <td>2800</td>\n",
       "      <td>5</td>\n",
       "      <td>2770</td>\n",
       "      <td>-0.0003</td>\n",
       "      <td>1220.0</td>\n",
       "    </tr>\n",
       "    <tr>\n",
       "      <th>46</th>\n",
       "      <td>2800</td>\n",
       "      <td>4</td>\n",
       "      <td>2834</td>\n",
       "      <td>0.0006</td>\n",
       "      <td>610.0</td>\n",
       "    </tr>\n",
       "    <tr>\n",
       "      <th>47</th>\n",
       "      <td>2800</td>\n",
       "      <td>3</td>\n",
       "      <td>2765</td>\n",
       "      <td>0.0001</td>\n",
       "      <td>321.0</td>\n",
       "    </tr>\n",
       "    <tr>\n",
       "      <th>48</th>\n",
       "      <td>2800</td>\n",
       "      <td>2</td>\n",
       "      <td>2588</td>\n",
       "      <td>-0.0013</td>\n",
       "      <td>143.0</td>\n",
       "    </tr>\n",
       "    <tr>\n",
       "      <th>49</th>\n",
       "      <td>2800</td>\n",
       "      <td>7</td>\n",
       "      <td>2794</td>\n",
       "      <td>0.0013</td>\n",
       "      <td>4960.0</td>\n",
       "    </tr>\n",
       "  </tbody>\n",
       "</table></div>"
      ],
      "text/plain": [
       "       wb  brightness_point  kelvin     duv      lux\n",
       "0    2800                 8    2811  0.0000  10000.0\n",
       "1    3200                 8    3318 -0.0001   9950.0\n",
       "2    4800                 8    4913 -0.0001  19700.0\n",
       "3    5600                 8    5603  0.0000  19800.0\n",
       "4    7800                 8    7812  0.0001  19900.0\n",
       "5   10000                 8   10018  0.0000  20000.0\n",
       "6    2800                 7    2762  0.0004   5010.0\n",
       "7    2800                 6    2801  0.0001   2450.0\n",
       "8    2800                 5    2824  0.0001   1230.0\n",
       "9    2800                 4    2807  0.0003    597.0\n",
       "10   2800                 3    2811  0.0008    321.0\n",
       "11   2800                 2    2779  0.0014    139.0\n",
       "12   2800                 1    2548 -0.0041     52.2\n",
       "13   3200                 7    3290  0.0006   4950.0\n",
       "14   3200                 6    3222 -0.0003   2440.0\n",
       "15   3200                 5    3200 -0.0001   1250.0\n",
       "16   3200                 4    3219  0.0006    603.0\n",
       "17   3200                 3    3150 -0.0012    298.0\n",
       "18   3200                 2    3247 -0.0018    133.0\n",
       "19   3200                 1    3269  0.0008     71.0\n",
       "20   4800                 7    4797  0.0006  10100.0\n",
       "21   4800                 6    4799  0.0002   4960.0\n",
       "22   4800                 5    4818  0.0000   2480.0\n",
       "23   4800                 4    4859  0.0003   1240.0\n",
       "24   4800                 3    4782 -0.0003    616.0\n",
       "25   4800                 2    4679 -0.0021    310.0\n",
       "26   4800                 1    5573 -0.0043    139.0\n",
       "27   5600                 7    5562  0.0006  10000.0\n",
       "28   5600                 6    5641 -0.0006   4970.0\n",
       "29   5600                 5    5648 -0.0005   2480.0\n",
       "30   5600                 4    5657  0.0001   1230.0\n",
       "31   5600                 3    5648  0.0000    622.0\n",
       "32   5600                 2    5886  0.0007    302.0\n",
       "33   5600                 1    6016  0.0003    136.0\n",
       "34   7800                 7    7767 -0.0001  10100.0\n",
       "35   7800                 6    7836  0.0000   5030.0\n",
       "36   7800                 5    7675  0.0003   2510.0\n",
       "37   7800                 4    7640  0.0039   1250.0\n",
       "38   7800                 3    7799 -0.0004    608.0\n",
       "39   7800                 2    7946 -0.0005    291.0\n",
       "40   7800                 1    7551 -0.0007    131.0\n",
       "41  10000                 7    9994  0.0001  10100.0\n",
       "42  10000                 6    9994  0.0001   5010.0\n",
       "43   2800                 7    2810  0.0007   4980.0\n",
       "44   2800                 6    2806  0.0002   2450.0\n",
       "45   2800                 5    2770 -0.0003   1220.0\n",
       "46   2800                 4    2834  0.0006    610.0\n",
       "47   2800                 3    2765  0.0001    321.0\n",
       "48   2800                 2    2588 -0.0013    143.0\n",
       "49   2800                 7    2794  0.0013   4960.0"
      ]
     },
     "execution_count": 83,
     "metadata": {},
     "output_type": "execute_result"
    }
   ],
   "source": [
    "data.head(50)"
   ]
  },
  {
   "cell_type": "code",
   "execution_count": 79,
   "id": "87d0fa28-1b93-457a-b6b5-5a8936971477",
   "metadata": {},
   "outputs": [
    {
     "ename": "NameError",
     "evalue": "name 'sharedFolder' is not defined",
     "output_type": "error",
     "traceback": [
      "\u001b[1;31m---------------------------------------------------------------------------\u001b[0m",
      "\u001b[1;31mNameError\u001b[0m                                 Traceback (most recent call last)",
      "Cell \u001b[1;32mIn [79], line 2\u001b[0m\n\u001b[0;32m      1\u001b[0m \u001b[38;5;66;03m# Save Log\u001b[39;00m\n\u001b[1;32m----> 2\u001b[0m file_path \u001b[38;5;241m=\u001b[39m sharedFolder\u001b[38;5;241m+\u001b[39m\u001b[38;5;124m\"\u001b[39m\u001b[38;5;124mApollo\u001b[39m\u001b[38;5;124m\"\u001b[39m\u001b[38;5;241m+\u001b[39m\u001b[38;5;28mstr\u001b[39m(lamp1\u001b[38;5;241m.\u001b[39mmacId)\u001b[38;5;241m+\u001b[39m\u001b[38;5;124m\"\u001b[39m\u001b[38;5;124m_\u001b[39m\u001b[38;5;124m\"\u001b[39m\u001b[38;5;241m+\u001b[39mdatetime\u001b[38;5;241m.\u001b[39mdatetime\u001b[38;5;241m.\u001b[39mnow()\u001b[38;5;241m.\u001b[39mstrftime(\u001b[38;5;124m\"\u001b[39m\u001b[38;5;132;01m%d\u001b[39;00m\u001b[38;5;124m%\u001b[39m\u001b[38;5;124mm\u001b[39m\u001b[38;5;124m%\u001b[39m\u001b[38;5;124mY_\u001b[39m\u001b[38;5;124m%\u001b[39m\u001b[38;5;124mH\u001b[39m\u001b[38;5;124m%\u001b[39m\u001b[38;5;124mM\u001b[39m\u001b[38;5;124m%\u001b[39m\u001b[38;5;124mS\u001b[39m\u001b[38;5;124m\"\u001b[39m)\u001b[38;5;241m+\u001b[39m\u001b[38;5;124m\"\u001b[39m\u001b[38;5;124mcaliblog.csv\u001b[39m\u001b[38;5;124m\"\u001b[39m\n\u001b[0;32m      3\u001b[0m df\u001b[38;5;241m.\u001b[39mto_csv(file_path, index\u001b[38;5;241m=\u001b[39m\u001b[38;5;28;01mFalse\u001b[39;00m)\n\u001b[0;32m      4\u001b[0m \u001b[38;5;28mprint\u001b[39m(\u001b[38;5;124m\"\u001b[39m\u001b[38;5;124mSaved to: \u001b[39m\u001b[38;5;124m\"\u001b[39m\u001b[38;5;241m+\u001b[39mfile_path)\n",
      "\u001b[1;31mNameError\u001b[0m: name 'sharedFolder' is not defined"
     ]
    }
   ],
   "source": [
    "# Save Log\n",
    "file_path = sharedFolder+\"Apollo\"+str(lamp1.macId)+\"_\"+datetime.datetime.now().strftime(\"%d%m%Y_%H%M%S\")+\"caliblog_single.csv\"\n",
    "df.to_csv(file_path, index=False)\n",
    "print(\"Saved to: \"+file_path)\n",
    "\n",
    "# Save Calibration\n",
    "with open(sharedFolder+\"Apollo\"+str(lamp1.macId)+\"_\"+datetime.datetime.now().strftime(\"%d%m%Y_%H%M%S\")+\"calib.py\", \"w\") as file:\n",
    "    file.write(str(calibration_points))\n"
   ]
  },
  {
   "cell_type": "code",
   "execution_count": null,
   "id": "7f2e902f-7671-4ba2-96f5-4d38d8f70cda",
   "metadata": {},
   "outputs": [],
   "source": [
    "playSucess()"
   ]
  },
  {
   "cell_type": "code",
   "execution_count": null,
   "id": "94543c1e-8098-461b-addc-18cb120fad52",
   "metadata": {},
   "outputs": [],
   "source": [
    "'''\n",
    "cmd = \"Cr5 8\\n\"\n",
    "lamp1.send(cmd.encode('utf-8'))\n",
    "lamp1.read()\n",
    "print(lamp1.lastValAsJsonString)\n",
    "'''"
   ]
  },
  {
   "cell_type": "code",
   "execution_count": null,
   "id": "32734369-6451-4d72-9fd4-603234bbc33f",
   "metadata": {},
   "outputs": [],
   "source": [
    "'''\n",
    "cmd = \"Cw5 1 100 30 30 21 \\n\"\n",
    "lamp1.send(cmd.encode('utf-8'))\n",
    "lamp1.read()\n",
    "print(lamp1.lastValAsJsonString)\n",
    "'''"
   ]
  }
 ],
 "metadata": {
  "kernelspec": {
   "display_name": "Python 3 (ipykernel)",
   "language": "python",
   "name": "python3"
  },
  "language_info": {
   "codemirror_mode": {
    "name": "ipython",
    "version": 3
   },
   "file_extension": ".py",
   "mimetype": "text/x-python",
   "name": "python",
   "nbconvert_exporter": "python",
   "pygments_lexer": "ipython3",
   "version": "3.10.7"
  }
 },
 "nbformat": 4,
 "nbformat_minor": 5
}
