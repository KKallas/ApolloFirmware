{
 "cells": [
  {
   "cell_type": "markdown",
   "id": "e6fd5a2f-8e60-4b6b-86d0-b90797761563",
   "metadata": {},
   "source": [
    "## Load calibration from lamp\n",
    "\n",
    "You can read lamp DMX addres by\n",
    "\n",
    "```Serial: Cr [wb_index] [brightness_index]```\n",
    "\n",
    "Write a new value by\n",
    "\n",
    "```Serial: Cw [wb_index] [brightness_index] [r] [g] [b] [w]```"
   ]
  },
  {
   "cell_type": "code",
   "execution_count": null,
   "id": "ba9b0b2c-cb78-470c-897b-9a5f976b6a21",
   "metadata": {},
   "outputs": [],
   "source": [
    "inten = 8 # take only max values as the rest of the come from there\n",
    "for wb in range(6):\n",
    "    lamp1.send((\"Cr \"+str(wb)+\" \"+str(inten)+\"\\n\").encode('utf-8'))\n",
    "    time.sleep(0.1)\n",
    "    lamp1.read()\n",
    "    jsonString = \"{\"+lamp1.lastValAsJsonString[1:-1]+\"}\"\n",
    "    jsonObject = eval(jsonString)\n",
    "\n",
    "    calibration_points[wb][8][2] = jsonObject['r']\n",
    "    calibration_points[wb][8][3] = jsonObject['g']\n",
    "    calibration_points[wb][8][4] = jsonObject['b']\n",
    "    calibration_points[wb][8][5] = jsonObject['w']\n",
    "    print(\"read: \"+str(wb)+\"/5 : \"+str(calibration_points[wb][8]))\n",
    "    # Read the 2nd line to empty the buffer\n",
    "    lamp1.read()\n",
    "    time.sleep(0.1)"
   ]
  },
  {
   "cell_type": "markdown",
   "id": "388d1de0-8716-400a-8ad3-2e4adfdc9a64",
   "metadata": {},
   "source": [
    "## RGBt over UART (DMX like functionality)\n",
    "\n",
    "By using the following command the same function is run as DMX input\n",
    "\n",
    "```Serial: I [r] [g] [b] [temp] [fan]```"
   ]
  },
  {
   "cell_type": "code",
   "execution_count": null,
   "id": "c32fafeb-1af8-4a66-848d-efed444f2afa",
   "metadata": {},
   "outputs": [],
   "source": [
    "lamp1.color = [100,100,100,14,0] # 14 is 3200K\n",
    "lamp1.update(rgbtMode=True)"
   ]
  },
  {
   "cell_type": "markdown",
   "id": "daa4c16f-029f-4c60-8391-9b433df4df75",
   "metadata": {},
   "source": [
    "## Read and write DMX offset\n",
    "\n",
    "Current DMX offset stored in the lamp\n",
    "\n",
    "```Serial: Dr```\n",
    "\n",
    "Set DMX offset to lamp\n",
    "\n",
    "```Serial: Dw [dmx_offset]```"
   ]
  },
  {
   "cell_type": "markdown",
   "id": "eace66d5-b5bf-4451-80c0-9f4eea796432",
   "metadata": {},
   "source": [
    "Get DMX offset Value"
   ]
  },
  {
   "cell_type": "code",
   "execution_count": 17,
   "id": "285213ef-7dca-4cfc-a0cf-9d614284a89a",
   "metadata": {},
   "outputs": [
    {
     "data": {
      "text/plain": [
       "'[\"dmx_offset\":0,\"Timestamp\":1699126873967458600]'"
      ]
     },
     "execution_count": 17,
     "metadata": {},
     "output_type": "execute_result"
    }
   ],
   "source": [
    "lamp1.send(\"Dr\\n\".encode('utf-8'))\n",
    "lamp1.read()\n",
    "lamp1.lastValAsJsonString"
   ]
  },
  {
   "cell_type": "markdown",
   "id": "79ecefdd-ca6b-4596-a451-c07f4fb2c85b",
   "metadata": {},
   "source": [
    "Write DMX offset Value"
   ]
  },
  {
   "cell_type": "code",
   "execution_count": 16,
   "id": "be28cbcd-6836-4e8c-85f3-0b4eb8b19965",
   "metadata": {},
   "outputs": [
    {
     "data": {
      "text/plain": [
       "'[\"dmx_offset\":0,\"Timestamp\":1699126862719616800]'"
      ]
     },
     "execution_count": 16,
     "metadata": {},
     "output_type": "execute_result"
    }
   ],
   "source": [
    "offset = 0\n",
    "\n",
    "lamp1.send((\"Dw \"+str(offset)+\"\\n\").encode('utf-8'))\n",
    "lamp1.read()\n",
    "lamp1.lastValAsJsonString"
   ]
  },
  {
   "cell_type": "markdown",
   "id": "5b60bc29-f7a0-455c-a165-34d5591f9a83",
   "metadata": {},
   "source": [
    "## Measure/QC workbook\n",
    "Base workbook to make automatic QC measurements with sekonic and look at the results later"
   ]
  },
  {
   "cell_type": "markdown",
   "id": "5e9f824c-c901-4106-823a-e2786c11c03b",
   "metadata": {},
   "source": [
    "## Rewrite Calibration in Calib Worksheet\n",
    " * Added Single\n",
    " * Added WB Range"
   ]
  },
  {
   "cell_type": "code",
   "execution_count": null,
   "id": "c5968e89-c514-4b1a-9d9e-c2cbbd9b6ffb",
   "metadata": {},
   "outputs": [],
   "source": []
  }
 ],
 "metadata": {
  "kernelspec": {
   "display_name": "Python 3 (ipykernel)",
   "language": "python",
   "name": "python3"
  },
  "language_info": {
   "codemirror_mode": {
    "name": "ipython",
    "version": 3
   },
   "file_extension": ".py",
   "mimetype": "text/x-python",
   "name": "python",
   "nbconvert_exporter": "python",
   "pygments_lexer": "ipython3",
   "version": "3.10.7"
  }
 },
 "nbformat": 4,
 "nbformat_minor": 5
}
