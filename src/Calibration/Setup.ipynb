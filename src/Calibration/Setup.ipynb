{
 "cells": [
  {
   "cell_type": "code",
   "execution_count": null,
   "id": "41763294-9768-47c4-a56c-4178068c525f",
   "metadata": {},
   "outputs": [],
   "source": [
    "%pip intsall torch torchvision\n",
    "%pip install easyocr\n",
    "%pip install ipywidgets\n",
    "%pip install pyserial\n",
    "%pip install opencv-python\n",
    "%pip install pandas\n",
    "%pip install pygame \n",
    "%pip install pyperclip"
   ]
  }
 ],
 "metadata": {
  "kernelspec": {
   "display_name": "Python 3 (ipykernel)",
   "language": "python",
   "name": "python3"
  },
  "language_info": {
   "codemirror_mode": {
    "name": "ipython",
    "version": 3
   },
   "file_extension": ".py",
   "mimetype": "text/x-python",
   "name": "python",
   "nbconvert_exporter": "python",
   "pygments_lexer": "ipython3",
   "version": "3.10.7"
  }
 },
 "nbformat": 4,
 "nbformat_minor": 5
}
