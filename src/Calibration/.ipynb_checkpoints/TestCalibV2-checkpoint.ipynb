{
 "cells": [
  {
   "cell_type": "markdown",
   "id": "3a1a2094-5c7f-4cd5-bf0f-27047ad8e575",
   "metadata": {},
   "source": [
    "# Testing Calibration V2Worksheet"
   ]
  },
  {
   "cell_type": "markdown",
   "id": "c1cd6544-7af1-401a-a8ec-94ea3e2ab51a",
   "metadata": {
    "tags": []
   },
   "source": [
    "## 1. Setup\n",
    "This section load python objects and variables please check the ```cam``` variable"
   ]
  },
  {
   "cell_type": "markdown",
   "id": "c826bdde-f662-471a-a159-0af31b9dd8c1",
   "metadata": {
    "tags": []
   },
   "source": [
    "### 1.1 Load python objects\n",
    "Loads ```scope``` and ```lamp``` python objects for reading sekonic and communication with the lamp"
   ]
  },
  {
   "cell_type": "code",
   "execution_count": 1,
   "id": "7b12f1d2-2245-4c56-afd7-d06cc626d68a",
   "metadata": {},
   "outputs": [
    {
     "name": "stdout",
     "output_type": "stream",
     "text": [
      "pygame 2.1.2 (SDL 2.0.18, Python 3.10.7)\n",
      "Hello from the pygame community. https://www.pygame.org/contribute.html\n"
     ]
    }
   ],
   "source": [
    "cam = \"http://192.168.2.224/video_feed\"\n",
    "sharedFolder = r\"C:\\Users\\Virtual Production 2\\Documents\\ApolloLogs\\\\\"\n",
    "comPort = 'COM6'\n",
    "brightnessString = \"self.slider_h.value = (240, 399)\\nself.slider_v.value = (378, 436)\\nself.minus_comp.value = False\\nself.minus_brightness.value = '150'\\nself.offset_x.value = 0\\nself.offset_y.value = 0\\nself.rota.value = '90'\\nself.flip.value = False\\nself.flop.value = False\\nself.replacement_list.value =str([('o', '0'), ('O', '0'), (',', '.')]) \\n\"\n",
    "duvString = \"self.slider_h.value = (261, 450)\\nself.slider_v.value = (296, 354)\\nself.minus_comp.value = True\\nself.minus_brightness.value = '150'\\nself.offset_x.value = -85\\nself.offset_y.value = 3\\nself.rota.value = '90'\\nself.flip.value = False\\nself.flop.value = False\\nself.replacement_list.value =str([('o', '0'), ('O', '0'), (',', '.'), ('20.0', '0,0'), ('0.6', '0.0'), ('0.8', '0.0')]) \\n\"\n",
    "kelvinString = \"self.slider_h.value = (265, 423)\\nself.slider_v.value = (214, 272)\\nself.minus_comp.value = False\\nself.minus_brightness.value = '150'\\nself.offset_x.value = 0\\nself.offset_y.value = 0\\nself.rota.value = '90'\\nself.flip.value = False\\nself.flop.value = False\\nself.replacement_list.value =str([('o', '0'), ('O', '0'), (',', '.'), ('G', '6')]) \\n\"\n",
    "data = None\n",
    "\n",
    "%run calibration_setup_v2.ipynb"
   ]
  },
  {
   "cell_type": "markdown",
   "id": "69cad74d-7c52-42d3-89e1-3b61847aa6ad",
   "metadata": {
    "tags": []
   },
   "source": [
    "#### [Optional] Find COM port"
   ]
  },
  {
   "cell_type": "code",
   "execution_count": null,
   "id": "94e345e2-abd8-484b-a462-0ea67666b260",
   "metadata": {
    "tags": []
   },
   "outputs": [],
   "source": [
    "# Get COM port list\n",
    "import serial.tools.list_ports\n",
    "\n",
    "com_ports = list(serial.tools.list_ports.comports())\n",
    "\n",
    "for port, desc, hwid in com_ports:\n",
    "    print(str(port)+\" \"+str(desc))"
   ]
  },
  {
   "cell_type": "markdown",
   "id": "76bf20b2-c593-470c-a7c3-759be9e590dc",
   "metadata": {
    "tags": []
   },
   "source": [
    "### 1.2 Connect to lamp\n",
    "Lamp needs to be closed before it can be opened again.\n",
    "If you dont know the serial port where the lamp is connected use the Find COM port section\n",
    "1st You need to setup sekonic and feedback camera (the areas where the data will be read, 1st -green value is set up so it would be possibel to get dUV - sign location), then close the lamp and start again with the scope objects"
   ]
  },
  {
   "cell_type": "code",
   "execution_count": null,
   "id": "f8f748a0-aed4-42a2-957c-df258f6132f4",
   "metadata": {},
   "outputs": [],
   "source": [
    "lamp1.close()"
   ]
  },
  {
   "cell_type": "code",
   "execution_count": 2,
   "id": "290f74e3-10d6-47e5-b533-d8fd39080df3",
   "metadata": {},
   "outputs": [
    {
     "data": {
      "text/plain": [
       "'CCDBA78AE200'"
      ]
     },
     "execution_count": 2,
     "metadata": {},
     "output_type": "execute_result"
    }
   ],
   "source": [
    "lamp1 = apollo_device(ComPort=comPort)\n",
    "lamp1.getId()\n",
    "lamp1.macId = lamp1.macId.replace(\":\",\"\")\n",
    "lamp1.macId"
   ]
  },
  {
   "cell_type": "code",
   "execution_count": 3,
   "id": "d672a386-04aa-49d8-8cfa-025af8bcd9d1",
   "metadata": {},
   "outputs": [],
   "source": [
    "lamp1.color = [200,50,50,500,0]\n",
    "lamp1.update()"
   ]
  },
  {
   "cell_type": "markdown",
   "id": "780031a4-8098-48ce-aa04-bfa87337fff8",
   "metadata": {
    "tags": []
   },
   "source": [
    "### 1.3 Set Sekonic camera areas\n",
    "Set the area where to \"read\" the Tcp, dUV and lux variables\n",
    "Once the object is initalized tune the paramters and test by ```update()```\n",
    "To save the paramteres use the Setup below to generate the ```saved_string``` and copy and paste it into funtion paramter and save the workbook"
   ]
  },
  {
   "cell_type": "code",
   "execution_count": 17,
   "id": "4d8b3113-1a5f-43a7-bb9c-b0247245edf4",
   "metadata": {},
   "outputs": [
    {
     "name": "stderr",
     "output_type": "stream",
     "text": [
      "CUDA not available - defaulting to CPU. Note: This module is much faster with a GPU.\n"
     ]
    },
    {
     "data": {
      "application/vnd.jupyter.widget-view+json": {
       "model_id": "155e250ce6ea4e129d7018e3f7636c9d",
       "version_major": 2,
       "version_minor": 0
      },
      "text/plain": [
       "Tab(children=(VBox(children=(Label(value='Width:'), IntRangeSlider(value=(315, 450), layout=Layout(width='90%'…"
      ]
     },
     "metadata": {},
     "output_type": "display_data"
    },
    {
     "data": {
      "application/vnd.jupyter.widget-view+json": {
       "model_id": "a6414f018c1f4c969a4d8f21e91794dd",
       "version_major": 2,
       "version_minor": 0
      },
      "text/plain": [
       "Label(value='Out:')"
      ]
     },
     "metadata": {},
     "output_type": "display_data"
    },
    {
     "data": {
      "application/vnd.jupyter.widget-view+json": {
       "model_id": "229110a45b7b48a4919b52dacbac686f",
       "version_major": 2,
       "version_minor": 0
      },
      "text/plain": [
       "Image(value=b'\\x89PNG\\r\\n\\x1a\\n\\x00\\x00\\x00\\rIHDR\\x00\\x00\\x00\\x87\\x00\\x00\\x002\\x08\\x02\\x00\\x00\\x00\\xf9\\x82_\\x9…"
      ]
     },
     "metadata": {},
     "output_type": "display_data"
    },
    {
     "data": {
      "application/vnd.jupyter.widget-view+json": {
       "model_id": "a6bd8d03dd5d449184835ee534a8b6ca",
       "version_major": 2,
       "version_minor": 0
      },
      "text/plain": [
       "Output()"
      ]
     },
     "metadata": {},
     "output_type": "display_data"
    }
   ],
   "source": [
    "Brightness = scope(saved_string=brightnessString)"
   ]
  },
  {
   "cell_type": "code",
   "execution_count": 5,
   "id": "67427f1d-0eb5-4ff1-9046-8536aaa303d8",
   "metadata": {},
   "outputs": [
    {
     "data": {
      "text/plain": [
       "5630"
      ]
     },
     "execution_count": 5,
     "metadata": {},
     "output_type": "execute_result"
    }
   ],
   "source": [
    "Brightness.update()"
   ]
  },
  {
   "cell_type": "code",
   "execution_count": 18,
   "id": "0a492722-1993-4fcc-ae06-eb43f1fb4b89",
   "metadata": {},
   "outputs": [
    {
     "name": "stderr",
     "output_type": "stream",
     "text": [
      "CUDA not available - defaulting to CPU. Note: This module is much faster with a GPU.\n"
     ]
    },
    {
     "data": {
      "application/vnd.jupyter.widget-view+json": {
       "model_id": "eadcd6a259ea4daeb19ea678c815bded",
       "version_major": 2,
       "version_minor": 0
      },
      "text/plain": [
       "Tab(children=(VBox(children=(Label(value='Width:'), IntRangeSlider(value=(315, 450), layout=Layout(width='90%'…"
      ]
     },
     "metadata": {},
     "output_type": "display_data"
    },
    {
     "data": {
      "application/vnd.jupyter.widget-view+json": {
       "model_id": "c8061d0b1fd6495aa79524d4d0977b0b",
       "version_major": 2,
       "version_minor": 0
      },
      "text/plain": [
       "Label(value='Out:')"
      ]
     },
     "metadata": {},
     "output_type": "display_data"
    },
    {
     "data": {
      "application/vnd.jupyter.widget-view+json": {
       "model_id": "47c81742b4c743ee8e9b4c854c710069",
       "version_major": 2,
       "version_minor": 0
      },
      "text/plain": [
       "Image(value=b'\\x89PNG\\r\\n\\x1a\\n\\x00\\x00\\x00\\rIHDR\\x00\\x00\\x00\\x87\\x00\\x00\\x002\\x08\\x02\\x00\\x00\\x00\\xf9\\x82_\\x9…"
      ]
     },
     "metadata": {},
     "output_type": "display_data"
    },
    {
     "data": {
      "application/vnd.jupyter.widget-view+json": {
       "model_id": "79f6c02f5bcb4a06bc3ec4785de21fa6",
       "version_major": 2,
       "version_minor": 0
      },
      "text/plain": [
       "Output()"
      ]
     },
     "metadata": {},
     "output_type": "display_data"
    }
   ],
   "source": [
    "dUV = scope(saved_string=duvString)"
   ]
  },
  {
   "cell_type": "code",
   "execution_count": 19,
   "id": "c5021012-1724-419b-996a-ac541b825415",
   "metadata": {},
   "outputs": [
    {
     "data": {
      "text/plain": [
       "-0.0105"
      ]
     },
     "execution_count": 19,
     "metadata": {},
     "output_type": "execute_result"
    }
   ],
   "source": [
    "dUV.update()"
   ]
  },
  {
   "cell_type": "code",
   "execution_count": 20,
   "id": "24693481-460e-4d4f-9354-15935117b55f",
   "metadata": {},
   "outputs": [
    {
     "name": "stderr",
     "output_type": "stream",
     "text": [
      "CUDA not available - defaulting to CPU. Note: This module is much faster with a GPU.\n"
     ]
    },
    {
     "data": {
      "application/vnd.jupyter.widget-view+json": {
       "model_id": "1d4c697319c840049691226a4a09d08a",
       "version_major": 2,
       "version_minor": 0
      },
      "text/plain": [
       "Tab(children=(VBox(children=(Label(value='Width:'), IntRangeSlider(value=(315, 450), layout=Layout(width='90%'…"
      ]
     },
     "metadata": {},
     "output_type": "display_data"
    },
    {
     "data": {
      "application/vnd.jupyter.widget-view+json": {
       "model_id": "d818941ed01b4b188e011cd9e0c923ea",
       "version_major": 2,
       "version_minor": 0
      },
      "text/plain": [
       "Label(value='Out:')"
      ]
     },
     "metadata": {},
     "output_type": "display_data"
    },
    {
     "data": {
      "application/vnd.jupyter.widget-view+json": {
       "model_id": "af04cba966ce42b1ac5d196e8c00c150",
       "version_major": 2,
       "version_minor": 0
      },
      "text/plain": [
       "Image(value=b'\\x89PNG\\r\\n\\x1a\\n\\x00\\x00\\x00\\rIHDR\\x00\\x00\\x00\\x87\\x00\\x00\\x002\\x08\\x02\\x00\\x00\\x00\\xf9\\x82_\\x9…"
      ]
     },
     "metadata": {},
     "output_type": "display_data"
    },
    {
     "data": {
      "application/vnd.jupyter.widget-view+json": {
       "model_id": "55bfdd1961b6464c9750524b47295d91",
       "version_major": 2,
       "version_minor": 0
      },
      "text/plain": [
       "Output()"
      ]
     },
     "metadata": {},
     "output_type": "display_data"
    }
   ],
   "source": [
    "Kelvin = scope(saved_string=kelvinString)"
   ]
  },
  {
   "cell_type": "code",
   "execution_count": 21,
   "id": "36647249-0721-4913-9ca6-688348e3bfc9",
   "metadata": {},
   "outputs": [
    {
     "data": {
      "text/plain": [
       "5058"
      ]
     },
     "execution_count": 21,
     "metadata": {},
     "output_type": "execute_result"
    }
   ],
   "source": [
    "Kelvin.update()"
   ]
  },
  {
   "cell_type": "markdown",
   "id": "c1b74fda-7424-4647-a88a-bee5abb5ca55",
   "metadata": {
    "jp-MarkdownHeadingCollapsed": true,
    "tags": []
   },
   "source": [
    "#### Setup"
   ]
  },
  {
   "cell_type": "code",
   "execution_count": 22,
   "id": "6371d03b-1650-4efa-8bec-4d46e79c9e60",
   "metadata": {},
   "outputs": [
    {
     "data": {
      "text/plain": [
       "\"self.slider_h.value = (240, 399)\\nself.slider_v.value = (378, 436)\\nself.minus_comp.value = False\\nself.minus_brightness.value = '150'\\nself.offset_x.value = 0\\nself.offset_y.value = 0\\nself.rota.value = '90'\\nself.flip.value = False\\nself.flop.value = False\\nself.replacement_list.value =str([('o', '0'), ('O', '0'), (',', '.')]) \\n\""
      ]
     },
     "execution_count": 22,
     "metadata": {},
     "output_type": "execute_result"
    }
   ],
   "source": [
    "Brightness.save_string()"
   ]
  },
  {
   "cell_type": "code",
   "execution_count": 23,
   "id": "3f4b23c6-9c89-419f-b6f0-5855b094b867",
   "metadata": {},
   "outputs": [
    {
     "data": {
      "text/plain": [
       "\"self.slider_h.value = (261, 450)\\nself.slider_v.value = (296, 354)\\nself.minus_comp.value = True\\nself.minus_brightness.value = '150'\\nself.offset_x.value = -85\\nself.offset_y.value = 3\\nself.rota.value = '90'\\nself.flip.value = False\\nself.flop.value = False\\nself.replacement_list.value =str([('o', '0'), ('O', '0'), (',', '.'), ('20.0', '0,0'), ('0.6', '0.0'), ('0.8', '0.0')]) \\n\""
      ]
     },
     "execution_count": 23,
     "metadata": {},
     "output_type": "execute_result"
    }
   ],
   "source": [
    "dUV.save_string()"
   ]
  },
  {
   "cell_type": "code",
   "execution_count": 24,
   "id": "59afa913-b12f-4fd1-a8f4-24edbd83967d",
   "metadata": {},
   "outputs": [
    {
     "data": {
      "text/plain": [
       "\"self.slider_h.value = (265, 423)\\nself.slider_v.value = (214, 272)\\nself.minus_comp.value = False\\nself.minus_brightness.value = '150'\\nself.offset_x.value = 0\\nself.offset_y.value = 0\\nself.rota.value = '90'\\nself.flip.value = False\\nself.flop.value = False\\nself.replacement_list.value =str([('o', '0'), ('O', '0'), (',', '.'), ('G', '6')]) \\n\""
      ]
     },
     "execution_count": 24,
     "metadata": {},
     "output_type": "execute_result"
    }
   ],
   "source": [
    "Kelvin.save_string()"
   ]
  },
  {
   "cell_type": "markdown",
   "id": "69c5129a-a0ba-406e-8567-21315095af2e",
   "metadata": {},
   "source": [
    "# Test"
   ]
  },
  {
   "cell_type": "code",
   "execution_count": 10,
   "id": "f4acf2a0-1a9d-4cfc-bd55-7204f7b04567",
   "metadata": {},
   "outputs": [],
   "source": [
    "lamp1.close()\n",
    "time.sleep(0.5)"
   ]
  },
  {
   "cell_type": "code",
   "execution_count": 11,
   "id": "b6aed229-3260-45cd-97d7-c813751a1990",
   "metadata": {},
   "outputs": [
    {
     "data": {
      "text/plain": [
       "'CCDBA78AE200'"
      ]
     },
     "execution_count": 11,
     "metadata": {},
     "output_type": "execute_result"
    }
   ],
   "source": [
    "lamp1 = apollo_device(ComPort=comPort,SekBrightnes=Brightness, SekDuv=dUV, SekKelvin=Kelvin)\n",
    "lamp1.getId()\n",
    "lamp1.macId = lamp1.macId.replace(\":\",\"\")\n",
    "lamp1.macId"
   ]
  },
  {
   "cell_type": "code",
   "execution_count": 12,
   "id": "cdb645b2-f433-42a5-a288-94663ba0d515",
   "metadata": {
    "scrolled": true,
    "tags": []
   },
   "outputs": [
    {
     "name": "stdout",
     "output_type": "stream",
     "text": [
      "starting kelvin range 2800\n",
      "\n",
      "Loading calibartion from lamp\n",
      "\n",
      "loaded values: {'wb': 0, 'brightness': 8, 'r': 1191, 'g': 814, 'b': 9, 'w': 401, 'Timestamp': 1702911703139142400}\n",
      "\n",
      "Adjusting lamp brightness to 15000lx in 2800K with [3, 2, 0, 1]/[30, 20, 0, 10] steps\n",
      "current brightness: 14400, ideal 15000, diff 600 : [1191, 814, 9, 401, 0] / [700, 814, 9, 401, 0]\n",
      "current brightness: 15700, ideal 15000, diff -700 : [1221, 834, 9, 411, 0] / [779, 834, 9, 411, 0]\n",
      "current brightness: 15300, ideal 15000, diff -300 : [1191, 814, 9, 401, 0] / [931, 814, 9, 401, 0]\n",
      "current brightness: 14800, ideal 15000, diff 200 : [1161, 794, 9, 391, 0] / [908, 794, 9, 391, 0]\n",
      "current brightness: 15200, ideal 15000, diff -200 : [1191, 814, 9, 401, 0] / [935, 814, 9, 401, 0]\n",
      "current brightness: 14900, ideal 15000, diff 100 : [1161, 794, 9, 391, 0] / [914, 794, 9, 391, 0]\n",
      "current brightness: 14900, ideal 15000, diff 100 : [1164, 796, 9, 392, 0] / [918, 796, 9, 392, 0]\n",
      "current brightness: 14900, ideal 15000, diff 100 : [1167, 798, 9, 393, 0] / [922, 798, 9, 393, 0]\n",
      "current brightness: 15000, ideal 15000, diff 0 : [1170, 800, 9, 394, 0] / [925, 800, 9, 394, 0]\n",
      "selected: [2800, 8, 1170, 800, 9, 394]\n",
      "Adjusting lamp dUV to +/- 0.003 in 2800K with [0, 1, 0, 0]/[0, 30, 0, 0] steps\n",
      "current dUV: 0.0002, ideal 0.0000, diff 0.0002 : [1170, 800, 9, 394, 0] / [928, 800, 9, 394, 0]\n",
      "current dUV: 0.0002, ideal 0.0000, diff 0.0002 : [1170, 799, 9, 394, 0] / [930, 799, 9, 394, 0]\n",
      "current dUV: 0.0, ideal 0.0000, diff 0.0 : [1170, 798, 9, 394, 0] / [931, 798, 9, 394, 0]\n",
      "selected: [2800, 8, 1170, 798, 9, 394]\n",
      "Adjusting lamp Kelvin to 2800K with [-1, 0, 0, 1]/[-10, 0, 0, 10] steps\n",
      "current Kelvin: 2815K, ideal 2800K, diff -15K : [1170, 798, 9, 394, 0] / [936, 798, 9, 394, 0]\n",
      "current Kelvin: 2808K, ideal 2800K, diff -8K : [1171, 798, 9, 393, 0] / [938, 798, 9, 393, 0]\n",
      "current Kelvin: 2810K, ideal 2800K, diff -10K : [1172, 798, 9, 392, 0] / [940, 798, 9, 392, 0]\n",
      "current Kelvin: 2808K, ideal 2800K, diff -8K : [1173, 798, 9, 391, 0] / [942, 798, 9, 391, 0]\n",
      "current Kelvin: 2801K, ideal 2800K, diff -1K : [1174, 798, 9, 390, 0] / [944, 798, 9, 390, 0]\n",
      "current Kelvin: 2798K, ideal 2800K, diff 2K : [1175, 798, 9, 389, 0] / [950, 798, 9, 389, 0]\n",
      "current Kelvin: 2799K, ideal 2800K, diff 1K : [1174, 798, 9, 390, 0] / [949, 798, 9, 390, 0]\n",
      "current Kelvin: 2804K, ideal 2800K, diff -4K : [1173, 798, 9, 391, 0] / [950, 798, 9, 391, 0]\n",
      "current Kelvin: 2804K, ideal 2800K, diff -4K : [1174, 798, 9, 390, 0] / [952, 798, 9, 390, 0]\n",
      "selected: [2800, 8, 1174, 798, 9, 390]\n",
      "Writing calibratrion:\n",
      "\n",
      "Cw0 8 15000 1174 798 9 390\n",
      "\n",
      "{\"wb\":0, \"brightness\":8, \"lux\":15000, \"r\":1174, \"g\":798, \"b\":9, \"w\":390,\"Timestamp\":1702911910146476500}\n",
      "Temperature: 2805K\n",
      "dUv: -0.0001\n",
      "Brightness: 14900lx\n",
      "Debug new_data_line: {'wb': [2800], 'brightness_point': [8], 'kelvin': [2805], 'duv': [-0.0001], 'lux': [14900]}\n",
      "starting kelvin range 3200\n",
      "\n",
      "Loading calibartion from lamp\n",
      "\n",
      "loaded values: {'wb': 1, 'brightness': 8, 'r': 996, 'g': 737, 'b': 9, 'w': 570, 'Timestamp': 1702911911394749500}\n",
      "\n",
      "Adjusting lamp brightness to 15000lx in 3200K with [2, 1, 0, 1]/[17, 13, 0, 10] steps\n",
      "current brightness: 15100, ideal 15000, diff -100 : [996, 737, 9, 570, 0] / [807, 737, 9, 570, 0]\n",
      "current brightness: 15100, ideal 15000, diff -100 : [994, 736, 9, 569, 0] / [808, 736, 9, 569, 0]\n",
      "current brightness: 15100, ideal 15000, diff -100 : [992, 735, 9, 568, 0] / [808, 735, 9, 568, 0]\n",
      "current brightness: 15100, ideal 15000, diff -100 : [990, 734, 9, 567, 0] / [809, 734, 9, 567, 0]\n",
      "current brightness: 15000, ideal 15000, diff 0 : [988, 733, 9, 566, 0] / [809, 733, 9, 566, 0]\n",
      "selected: [3200, 8, 988, 733, 9, 566]\n",
      "Adjusting lamp dUV to +/- 0.003 in 3200K with [0, 1, 0, 0]/[0, 30, 0, 0] steps\n",
      "current dUV: 0.0, ideal 0.0000, diff 0.0 : [988, 733, 9, 566, 0] / [809, 733, 9, 566, 0]\n",
      "selected: [3200, 8, 988, 733, 9, 566]\n",
      "Adjusting lamp Kelvin to 3200K with [-1, 0, 0, 1]/[-10, 0, 0, 10] steps\n",
      "current Kelvin: 3200K, ideal 3200K, diff 0K : [988, 733, 9, 566, 0] / [809, 733, 9, 566, 0]\n",
      "selected: [3200, 8, 988, 733, 9, 566]\n",
      "Writing calibratrion:\n",
      "\n",
      "Cw1 8 15000 988 733 9 566\n",
      "\n",
      "{\"wb\":1, \"brightness\":8, \"lux\":15000, \"r\":988, \"g\":733, \"b\":9, \"w\":566,\"Timestamp\":1702911981212898000}\n",
      "Temperature: 3205K\n",
      "dUv: 0.0001\n",
      "Brightness: 15000lx\n",
      "Debug new_data_line: {'wb': [3200], 'brightness_point': [8], 'kelvin': [3205], 'duv': [0.0001], 'lux': [15000]}\n",
      "starting kelvin range 4800\n",
      "\n",
      "Loading calibartion from lamp\n",
      "\n",
      "loaded values: {'wb': 2, 'brightness': 8, 'r': 586, 'g': 545, 'b': 22, 'w': 1445, 'Timestamp': 1702911982461335500}\n",
      "\n",
      "Adjusting lamp brightness to 20000lx in 4800K with [1, 1, 0, 3]/[11, 10, 0, 27] steps\n",
      "current brightness: 20000, ideal 20000, diff 0 : [586, 545, 22, 1445, 0] / [481, 545, 22, 1445, 0]\n",
      "selected: [4800, 8, 586, 545, 22, 1445]\n",
      "Adjusting lamp dUV to +/- 0.003 in 4800K with [0, 1, 0, 0]/[0, 30, 0, 0] steps\n",
      "current dUV: -0.0001, ideal 0.0000, diff -0.0001 : [586, 545, 22, 1445, 0] / [482, 545, 22, 1445, 0]\n",
      "current dUV: 0.0, ideal 0.0000, diff 0.0 : [586, 546, 22, 1445, 0] / [483, 546, 22, 1445, 0]\n",
      "selected: [4800, 8, 586, 546, 22, 1445]\n",
      "Adjusting lamp Kelvin to 4800K with [-1, 0, 1, 0]/[-10, 0, 10, 0] steps\n",
      "current Kelvin: 4800K, ideal 4800K, diff 0K : [586, 546, 22, 1445, 0] / [484, 546, 22, 1445, 0]\n",
      "selected: [4800, 8, 586, 546, 22, 1445]\n",
      "Writing calibratrion:\n",
      "\n",
      "Cw2 8 20000 586 546 22 1445\n",
      "\n",
      "{\"wb\":2, \"brightness\":8, \"lux\":20000, \"r\":586, \"g\":546, \"b\":22, \"w\":1445,\"Timestamp\":1702912022521134000}\n",
      "Temperature: 4797K\n",
      "dUv: 0.0\n",
      "Brightness: 20000lx\n",
      "Debug new_data_line: {'wb': [4800], 'brightness_point': [8], 'kelvin': [4797], 'duv': [0.0], 'lux': [20000]}\n",
      "starting kelvin range 5600\n",
      "\n",
      "Loading calibartion from lamp\n",
      "\n",
      "loaded values: {'wb': 3, 'brightness': 8, 'r': 501, 'g': 572, 'b': 84, 'w': 1436, 'Timestamp': 1702912023769810000}\n",
      "\n",
      "Adjusting lamp brightness to 20000lx in 5600K with [1, 1, 0, 3]/[10, 11, 2, 29] steps\n",
      "current brightness: 19900, ideal 20000, diff 100 : [501, 572, 84, 1436, 0] / [416, 572, 84, 1436, 0]\n",
      "current brightness: 19900, ideal 20000, diff 100 : [502, 573, 84, 1439, 0] / [418, 573, 84, 1439, 0]\n",
      "current brightness: 19900, ideal 20000, diff 100 : [503, 574, 84, 1442, 0] / [420, 574, 84, 1442, 0]\n",
      "current brightness: 20000, ideal 20000, diff 0 : [504, 575, 84, 1445, 0] / [423, 575, 84, 1445, 0]\n",
      "selected: [5600, 8, 504, 575, 84, 1445]\n",
      "Adjusting lamp dUV to +/- 0.003 in 5600K with [0, 1, 0, 0]/[0, 30, 0, 0] steps\n",
      "current dUV: -0.0001, ideal 0.0000, diff -0.0001 : [504, 575, 84, 1445, 0] / [424, 575, 84, 1445, 0]\n",
      "current dUV: 0.0, ideal 0.0000, diff 0.0 : [504, 576, 84, 1445, 0] / [427, 576, 84, 1445, 0]\n",
      "selected: [5600, 8, 504, 576, 84, 1445]\n",
      "Adjusting lamp Kelvin to 5600K with [-1, 0, 1, 0]/[-10, 0, 10, 0] steps\n",
      "current Kelvin: 5581K, ideal 5600K, diff 19K : [504, 576, 84, 1445, 0] / [428, 576, 84, 1445, 0]\n",
      "current Kelvin: 5582K, ideal 5600K, diff 18K : [503, 576, 85, 1445, 0] / [428, 576, 85, 1445, 0]\n",
      "current Kelvin: 5593K, ideal 5600K, diff 7K : [502, 576, 86, 1445, 0] / [427, 576, 86, 1445, 0]\n",
      "current Kelvin: 5599K, ideal 5600K, diff 1K : [501, 576, 87, 1445, 0] / [427, 576, 87, 1445, 0]\n",
      "current Kelvin: 5603K, ideal 5600K, diff -3K : [500, 576, 88, 1445, 0] / [424, 576, 88, 1445, 0]\n",
      "current Kelvin: 5585K, ideal 5600K, diff 15K : [501, 576, 87, 1445, 0] / [424, 576, 87, 1445, 0]\n",
      "current Kelvin: 5602K, ideal 5600K, diff -2K : [500, 576, 88, 1445, 0] / [422, 576, 88, 1445, 0]\n",
      "current Kelvin: 5589K, ideal 5600K, diff 11K : [501, 576, 87, 1445, 0] / [420, 576, 87, 1445, 0]\n",
      "Looping condition, assuming the best possible solution achived\n",
      "selected: [5600, 8, 501, 576, 87, 1445]\n",
      "Writing calibratrion:\n",
      "\n",
      "Cw3 8 20000 501 576 87 1445\n",
      "\n",
      "{\"wb\":3, \"brightness\":8, \"lux\":20000, \"r\":501, \"g\":576, \"b\":87, \"w\":1445,\"Timestamp\":1702912164655121000}\n",
      "Temperature: 5595K\n",
      "dUv: -0.0004\n",
      "Brightness: 20200lx\n",
      "Loading calibartion from lamp\n",
      "\n",
      "loaded values: {'wb': 3, 'brightness': 8, 'r': 501, 'g': 576, 'b': 87, 'w': 1445, 'Timestamp': 1702912165903154300}\n",
      "\n",
      "Adjusting lamp brightness to 20000lx in 5600K with [1, 1, 0, 3]/[10, 11, 2, 29] steps\n",
      "current brightness: 20200, ideal 20000, diff -200 : [501, 576, 87, 1445, 0] / [416, 576, 87, 1445, 0]\n",
      "current brightness: 19800, ideal 20000, diff 200 : [491, 565, 85, 1416, 0] / [406, 565, 85, 1416, 0]\n",
      "current brightness: 20200, ideal 20000, diff -200 : [501, 576, 87, 1445, 0] / [411, 576, 87, 1445, 0]\n",
      "current brightness: 19800, ideal 20000, diff 200 : [491, 565, 85, 1416, 0] / [400, 565, 85, 1416, 0]\n",
      "current brightness: 20200, ideal 20000, diff -200 : [501, 576, 87, 1445, 0] / [406, 576, 87, 1445, 0]\n",
      "current brightness: 19800, ideal 20000, diff 200 : [491, 565, 85, 1416, 0] / [398, 565, 85, 1416, 0]\n",
      "current brightness: 20100, ideal 20000, diff -100 : [501, 576, 87, 1445, 0] / [406, 576, 87, 1445, 0]\n",
      "Looping condition, assuming the best possible solution achived\n",
      "selected: [5600, 8, 501, 576, 87, 1445]\n",
      "Adjusting lamp dUV to +/- 0.003 in 5600K with [0, 1, 0, 0]/[0, 30, 0, 0] steps\n",
      "current dUV: 0.0001, ideal 0.0000, diff 0.0001 : [501, 576, 87, 1445, 0] / [406, 576, 87, 1445, 0]\n",
      "current dUV: 0.0001, ideal 0.0000, diff 0.0001 : [501, 575, 87, 1445, 0] / [407, 575, 87, 1445, 0]\n",
      "current dUV: 0.0, ideal 0.0000, diff 0.0 : [501, 574, 87, 1445, 0] / [410, 574, 87, 1445, 0]\n",
      "selected: [5600, 8, 501, 574, 87, 1445]\n",
      "Adjusting lamp Kelvin to 5600K with [-1, 0, 1, 0]/[-10, 0, 10, 0] steps\n",
      "current Kelvin: 5622K, ideal 5600K, diff -22K : [501, 574, 87, 1445, 0] / [413, 574, 87, 1445, 0]\n",
      "current Kelvin: 5621K, ideal 5600K, diff -21K : [502, 574, 86, 1445, 0] / [414, 574, 86, 1445, 0]\n",
      "current Kelvin: 5595K, ideal 5600K, diff 5K : [503, 574, 85, 1445, 0] / [416, 574, 85, 1445, 0]\n",
      "current Kelvin: 5617K, ideal 5600K, diff -17K : [502, 574, 86, 1445, 0] / [417, 574, 86, 1445, 0]\n",
      "current Kelvin: 5602K, ideal 5600K, diff -2K : [503, 574, 85, 1445, 0] / [418, 574, 85, 1445, 0]\n",
      "Looping condition, assuming the best possible solution achived\n",
      "selected: [5600, 8, 503, 574, 85, 1445]\n",
      "Writing calibratrion:\n",
      "\n",
      "Cw3 8 20000 503 574 85 1445\n",
      "\n",
      "{\"wb\":3, \"brightness\":8, \"lux\":20000, \"r\":503, \"g\":574, \"b\":85, \"w\":1445,\"Timestamp\":1702912322114178100}\n",
      "Temperature: 5602K\n",
      "dUv: 0.0\n",
      "Brightness: 20000lx\n",
      "Debug new_data_line: {'wb': [5600], 'brightness_point': [8], 'kelvin': [5602], 'duv': [0.0], 'lux': [20000]}\n",
      "starting kelvin range 7800\n",
      "\n",
      "Loading calibartion from lamp\n",
      "\n",
      "loaded values: {'wb': 4, 'brightness': 8, 'r': 357, 'g': 594, 'b': 221, 'w': 1427, 'Timestamp': 1702912323361345900}\n",
      "\n",
      "Adjusting lamp brightness to 20000lx in 7800K with [1, 2, 1, 4]/[10, 17, 6, 40] steps\n",
      "current brightness: 19700, ideal 20000, diff 300 : [357, 594, 221, 1427, 0] / [298, 594, 221, 1427, 0]\n",
      "current brightness: 20200, ideal 20000, diff -200 : [367, 611, 227, 1467, 0] / [308, 611, 227, 1467, 0]\n",
      "current brightness: 19600, ideal 20000, diff 400 : [357, 594, 221, 1427, 0] / [300, 594, 221, 1427, 0]\n",
      "current brightness: 20200, ideal 20000, diff -200 : [367, 611, 227, 1467, 0] / [309, 611, 227, 1467, 0]\n",
      "current brightness: 19600, ideal 20000, diff 400 : [357, 594, 221, 1427, 0] / [303, 594, 221, 1427, 0]\n",
      "current brightness: 20200, ideal 20000, diff -200 : [367, 611, 227, 1467, 0] / [312, 611, 227, 1467, 0]\n",
      "current brightness: 19600, ideal 20000, diff 400 : [357, 594, 221, 1427, 0] / [304, 594, 221, 1427, 0]\n",
      "current brightness: 20200, ideal 20000, diff -200 : [367, 611, 227, 1467, 0] / [312, 611, 227, 1467, 0]\n",
      "current brightness: 19700, ideal 20000, diff 300 : [357, 594, 221, 1427, 0] / [303, 594, 221, 1427, 0]\n",
      "selected: [7800, 8, 367, 611, 227, 1467]\n",
      "Adjusting lamp dUV to +/- 0.003 in 7800K with [0, 1, 0, 0]/[0, 30, 0, 0] steps\n",
      "current dUV: -0.0004, ideal 0.0000, diff -0.0004 : [367, 611, 227, 1467, 0] / [311, 611, 227, 1467, 0]\n",
      "current dUV: -0.0003, ideal 0.0000, diff -0.0003 : [367, 612, 227, 1467, 0] / [310, 612, 227, 1467, 0]\n",
      "current dUV: -0.0003, ideal 0.0000, diff -0.0003 : [367, 613, 227, 1467, 0] / [308, 613, 227, 1467, 0]\n",
      "current dUV: -0.0002, ideal 0.0000, diff -0.0002 : [367, 614, 227, 1467, 0] / [305, 614, 227, 1467, 0]\n",
      "current dUV: -0.0001, ideal 0.0000, diff -0.0001 : [367, 615, 227, 1467, 0] / [304, 615, 227, 1467, 0]\n",
      "current dUV: 0.0, ideal 0.0000, diff 0.0 : [367, 616, 227, 1467, 0] / [302, 616, 227, 1467, 0]\n",
      "selected: [7800, 8, 367, 616, 227, 1467]\n",
      "Adjusting lamp Kelvin to 7800K with [-1, 0, 1, 0]/[-10, 0, 10, 0] steps\n",
      "current Kelvin: 7778K, ideal 7800K, diff 22K : [367, 616, 227, 1467, 0] / [300, 616, 227, 1467, 0]\n",
      "current Kelvin: 7817K, ideal 7800K, diff -17K : [366, 616, 228, 1467, 0] / [298, 616, 228, 1467, 0]\n",
      "current Kelvin: 7793K, ideal 7800K, diff 7K : [367, 616, 227, 1467, 0] / [298, 616, 227, 1467, 0]\n",
      "current Kelvin: 7831K, ideal 7800K, diff -31K : [366, 616, 228, 1467, 0] / [297, 616, 228, 1467, 0]\n",
      "current Kelvin: 7819K, ideal 7800K, diff -19K : [367, 616, 227, 1467, 0] / [298, 616, 227, 1467, 0]\n",
      "Looping condition, assuming the best possible solution achived\n",
      "selected: [7800, 8, 367, 616, 227, 1467]\n",
      "Writing calibratrion:\n",
      "\n",
      "Cw4 8 20000 367 616 227 1467\n",
      "\n",
      "{\"wb\":4, \"brightness\":8, \"lux\":20000, \"r\":367, \"g\":616, \"b\":227, \"w\":1467,\"Timestamp\":1702912518802620000}\n",
      "Temperature: 7819K\n",
      "dUv: 0.0003\n",
      "Brightness: 20400lx\n",
      "Loading calibartion from lamp\n",
      "\n",
      "loaded values: {'wb': 4, 'brightness': 8, 'r': 367, 'g': 616, 'b': 227, 'w': 1467, 'Timestamp': 1702912520050034900}\n",
      "\n",
      "Adjusting lamp brightness to 20000lx in 7800K with [1, 2, 1, 4]/[10, 17, 6, 40] steps\n",
      "current brightness: 20400, ideal 20000, diff -400 : [367, 616, 227, 1467, 0] / [300, 616, 227, 1467, 0]\n",
      "current brightness: 19800, ideal 20000, diff 200 : [357, 599, 221, 1427, 0] / [292, 599, 221, 1427, 0]\n",
      "current brightness: 20300, ideal 20000, diff -300 : [367, 616, 227, 1467, 0] / [301, 616, 227, 1467, 0]\n",
      "current brightness: 19700, ideal 20000, diff 300 : [357, 599, 221, 1427, 0] / [294, 599, 221, 1427, 0]\n",
      "current brightness: 20300, ideal 20000, diff -300 : [367, 616, 227, 1467, 0] / [305, 616, 227, 1467, 0]\n",
      "current brightness: 19700, ideal 20000, diff 300 : [357, 599, 221, 1427, 0] / [297, 599, 221, 1427, 0]\n",
      "current brightness: 20200, ideal 20000, diff -200 : [367, 616, 227, 1467, 0] / [306, 616, 227, 1467, 0]\n",
      "current brightness: 19600, ideal 20000, diff 400 : [357, 599, 221, 1427, 0] / [299, 599, 221, 1427, 0]\n",
      "current brightness: 20200, ideal 20000, diff -200 : [367, 616, 227, 1467, 0] / [308, 616, 227, 1467, 0]\n",
      "selected: [7800, 8, 357, 599, 221, 1427]\n",
      "Adjusting lamp dUV to +/- 0.003 in 7800K with [0, 1, 0, 0]/[0, 30, 0, 0] steps\n",
      "current dUV: 0.0002, ideal 0.0000, diff 0.0002 : [357, 599, 221, 1427, 0] / [301, 599, 221, 1427, 0]\n",
      "current dUV: 0.0002, ideal 0.0000, diff 0.0002 : [357, 598, 221, 1427, 0] / [302, 598, 221, 1427, 0]\n",
      "current dUV: 0.0, ideal 0.0000, diff 0.0 : [357, 597, 221, 1427, 0] / [304, 597, 221, 1427, 0]\n",
      "selected: [7800, 8, 357, 597, 221, 1427]\n",
      "Adjusting lamp Kelvin to 7800K with [-1, 0, 1, 0]/[-10, 0, 10, 0] steps\n",
      "current Kelvin: 7784K, ideal 7800K, diff 16K : [357, 597, 221, 1427, 0] / [304, 597, 221, 1427, 0]\n",
      "current Kelvin: 7799K, ideal 7800K, diff 1K : [356, 597, 222, 1427, 0] / [303, 597, 222, 1427, 0]\n",
      "current Kelvin: 7815K, ideal 7800K, diff -15K : [355, 597, 223, 1427, 0] / [301, 597, 223, 1427, 0]\n",
      "current Kelvin: 7784K, ideal 7800K, diff 16K : [356, 597, 222, 1427, 0] / [302, 597, 222, 1427, 0]\n",
      "current Kelvin: 7799K, ideal 7800K, diff 1K : [355, 597, 223, 1427, 0] / [300, 597, 223, 1427, 0]\n",
      "current Kelvin: 7822K, ideal 7800K, diff -22K : [354, 597, 224, 1427, 0] / [297, 597, 224, 1427, 0]\n",
      "current Kelvin: 7798K, ideal 7800K, diff 2K : [355, 597, 223, 1427, 0] / [296, 597, 223, 1427, 0]\n",
      "current Kelvin: 7827K, ideal 7800K, diff -27K : [354, 597, 224, 1427, 0] / [294, 597, 224, 1427, 0]\n",
      "current Kelvin: 7825K, ideal 7800K, diff -25K : [355, 597, 223, 1427, 0] / [292, 597, 223, 1427, 0]\n",
      "selected: [7800, 8, 356, 597, 222, 1427]\n",
      "Writing calibratrion:\n",
      "\n",
      "Cw4 8 20000 356 597 222 1427\n",
      "\n",
      "{\"wb\":4, \"brightness\":8, \"lux\":20000, \"r\":356, \"g\":597, \"b\":222, \"w\":1427,\"Timestamp\":1702912729585179300}\n",
      "Temperature: 7821K\n",
      "dUv: -0.0002\n",
      "Brightness: 19800lx\n",
      "Loading calibartion from lamp\n",
      "\n",
      "loaded values: {'wb': 4, 'brightness': 8, 'r': 356, 'g': 597, 'b': 222, 'w': 1427, 'Timestamp': 1702912730833168900}\n",
      "\n",
      "Adjusting lamp brightness to 20000lx in 7800K with [1, 2, 1, 4]/[10, 17, 6, 40] steps\n",
      "current brightness: 19800, ideal 20000, diff 200 : [356, 597, 222, 1427, 0] / [291, 597, 222, 1427, 0]\n",
      "current brightness: 20400, ideal 20000, diff -400 : [366, 614, 228, 1467, 0] / [297, 614, 228, 1467, 0]\n",
      "current brightness: 19800, ideal 20000, diff 200 : [356, 597, 222, 1427, 0] / [289, 597, 222, 1427, 0]\n",
      "current brightness: 20400, ideal 20000, diff -400 : [366, 614, 228, 1467, 0] / [297, 614, 228, 1467, 0]\n",
      "current brightness: 19800, ideal 20000, diff 200 : [356, 597, 222, 1427, 0] / [288, 597, 222, 1427, 0]\n",
      "current brightness: 20300, ideal 20000, diff -300 : [366, 614, 228, 1467, 0] / [297, 614, 228, 1467, 0]\n",
      "current brightness: 19800, ideal 20000, diff 200 : [356, 597, 222, 1427, 0] / [290, 597, 222, 1427, 0]\n",
      "current brightness: 20300, ideal 20000, diff -300 : [366, 614, 228, 1467, 0] / [300, 614, 228, 1467, 0]\n",
      "current brightness: 19700, ideal 20000, diff 300 : [356, 597, 222, 1427, 0] / [293, 597, 222, 1427, 0]\n",
      "selected: [7800, 8, 356, 597, 222, 1427]\n",
      "Adjusting lamp dUV to +/- 0.003 in 7800K with [0, 1, 0, 0]/[0, 30, 0, 0] steps\n",
      "current dUV: 0.0002, ideal 0.0000, diff 0.0002 : [356, 597, 222, 1427, 0] / [294, 597, 222, 1427, 0]\n",
      "current dUV: 0.0001, ideal 0.0000, diff 0.0001 : [356, 596, 222, 1427, 0] / [296, 596, 222, 1427, 0]\n",
      "current dUV: 0.0001, ideal 0.0000, diff 0.0001 : [356, 595, 222, 1427, 0] / [296, 595, 222, 1427, 0]\n",
      "current dUV: 0.0, ideal 0.0000, diff 0.0 : [356, 594, 222, 1427, 0] / [297, 594, 222, 1427, 0]\n",
      "selected: [7800, 8, 356, 594, 222, 1427]\n",
      "Adjusting lamp Kelvin to 7800K with [-1, 0, 1, 0]/[-10, 0, 10, 0] steps\n",
      "current Kelvin: 7848K, ideal 7800K, diff -48K : [356, 594, 222, 1427, 0] / [298, 594, 222, 1427, 0]\n",
      "current Kelvin: 7825K, ideal 7800K, diff -25K : [357, 594, 221, 1427, 0] / [300, 594, 221, 1427, 0]\n",
      "current Kelvin: 7784K, ideal 7800K, diff 16K : [358, 594, 220, 1427, 0] / [303, 594, 220, 1427, 0]\n",
      "current Kelvin: 7793K, ideal 7800K, diff 7K : [357, 594, 221, 1427, 0] / [303, 594, 221, 1427, 0]\n",
      "current Kelvin: 7812K, ideal 7800K, diff -12K : [356, 594, 222, 1427, 0] / [303, 594, 222, 1427, 0]\n",
      "current Kelvin: 7789K, ideal 7800K, diff 11K : [357, 594, 221, 1427, 0] / [304, 594, 221, 1427, 0]\n",
      "current Kelvin: 7788K, ideal 7800K, diff 12K : [356, 594, 222, 1427, 0] / [303, 594, 222, 1427, 0]\n",
      "current Kelvin: 7811K, ideal 7800K, diff -11K : [355, 594, 223, 1427, 0] / [302, 594, 223, 1427, 0]\n",
      "current Kelvin: 7781K, ideal 7800K, diff 19K : [356, 594, 222, 1427, 0] / [301, 594, 222, 1427, 0]\n",
      "selected: [7800, 8, 357, 594, 221, 1427]\n",
      "Writing calibratrion:\n",
      "\n",
      "Cw4 8 20000 357 594 221 1427\n",
      "\n",
      "{\"wb\":4, \"brightness\":8, \"lux\":20000, \"r\":357, \"g\":594, \"b\":221, \"w\":1427,\"Timestamp\":1702912951920127400}\n",
      "Temperature: 7785K\n",
      "dUv: -0.0004\n",
      "Brightness: 19700lx\n",
      "Loading calibartion from lamp\n",
      "\n",
      "loaded values: {'wb': 4, 'brightness': 8, 'r': 357, 'g': 594, 'b': 221, 'w': 1427, 'Timestamp': 1702912955664119400}\n",
      "\n",
      "Adjusting lamp brightness to 20000lx in 7800K with [1, 2, 1, 4]/[10, 17, 6, 40] steps\n",
      "current brightness: 19800, ideal 20000, diff 200 : [357, 594, 221, 1427, 0] / [299, 594, 221, 1427, 0]\n",
      "current brightness: 20400, ideal 20000, diff -400 : [367, 611, 227, 1467, 0] / [305, 611, 227, 1467, 0]\n",
      "current brightness: 19800, ideal 20000, diff 200 : [357, 594, 221, 1427, 0] / [296, 594, 221, 1427, 0]\n",
      "current brightness: 20400, ideal 20000, diff -400 : [367, 611, 227, 1467, 0] / [301, 611, 227, 1467, 0]\n",
      "current brightness: 19800, ideal 20000, diff 200 : [357, 594, 221, 1427, 0] / [292, 594, 221, 1427, 0]\n",
      "current brightness: 20400, ideal 20000, diff -400 : [367, 611, 227, 1467, 0] / [299, 611, 227, 1467, 0]\n",
      "current brightness: 19800, ideal 20000, diff 200 : [357, 594, 221, 1427, 0] / [289, 594, 221, 1427, 0]\n",
      "current brightness: 20300, ideal 20000, diff -300 : [367, 611, 227, 1467, 0] / [298, 611, 227, 1467, 0]\n",
      "current brightness: 19800, ideal 20000, diff 200 : [357, 594, 221, 1427, 0] / [289, 594, 221, 1427, 0]\n",
      "selected: [7800, 8, 357, 594, 221, 1427]\n",
      "Adjusting lamp dUV to +/- 0.003 in 7800K with [0, 1, 0, 0]/[0, 30, 0, 0] steps\n",
      "current dUV: 0.0, ideal 0.0000, diff 0.0 : [357, 594, 221, 1427, 0] / [290, 594, 221, 1427, 0]\n",
      "selected: [7800, 8, 357, 594, 221, 1427]\n",
      "Adjusting lamp Kelvin to 7800K with [-1, 0, 1, 0]/[-10, 0, 10, 0] steps\n",
      "current Kelvin: 7820K, ideal 7800K, diff -20K : [357, 594, 221, 1427, 0] / [291, 594, 221, 1427, 0]\n",
      "current Kelvin: 7793K, ideal 7800K, diff 7K : [358, 594, 220, 1427, 0] / [293, 594, 220, 1427, 0]\n",
      "current Kelvin: 7817K, ideal 7800K, diff -17K : [357, 594, 221, 1427, 0] / [294, 594, 221, 1427, 0]\n",
      "current Kelvin: 7795K, ideal 7800K, diff 5K : [358, 594, 220, 1427, 0] / [296, 594, 220, 1427, 0]\n",
      "Looping condition, assuming the best possible solution achived\n",
      "selected: [7800, 8, 358, 594, 220, 1427]\n",
      "Writing calibratrion:\n",
      "\n",
      "Cw4 8 20000 358 594 220 1427\n",
      "\n",
      "{\"wb\":4, \"brightness\":8, \"lux\":20000, \"r\":358, \"g\":594, \"b\":220, \"w\":1427,\"Timestamp\":1702913095318154100}\n",
      "Temperature: 7795K\n",
      "dUv: 0.0\n",
      "Brightness: 19700lx\n",
      "Debug new_data_line: {'wb': [7800], 'brightness_point': [8], 'kelvin': [7795], 'duv': [0.0], 'lux': [19700]}\n",
      "starting kelvin range 10000\n",
      "\n",
      "Loading calibartion from lamp\n",
      "\n",
      "loaded values: {'wb': 5, 'brightness': 8, 'r': 277, 'g': 596, 'b': 313, 'w': 1476, 'Timestamp': 1702913096564513600}\n",
      "\n",
      "Adjusting lamp brightness to 20000lx in 10000K with [1, 2, 1, 5]/[9, 19, 10, 47] steps\n",
      "current brightness: 20000, ideal 20000, diff 0 : [277, 596, 313, 1476, 0] / [230, 596, 313, 1476, 0]\n",
      "selected: [10000, 8, 277, 596, 313, 1476]\n",
      "Adjusting lamp dUV to +/- 0.003 in 10000K with [0, 1, 0, 0]/[0, 30, 0, 0] steps\n",
      "current dUV: 0.0, ideal 0.0000, diff 0.0 : [277, 596, 313, 1476, 0] / [231, 596, 313, 1476, 0]\n",
      "selected: [10000, 8, 277, 596, 313, 1476]\n",
      "Adjusting lamp Kelvin to 10000K with [0, 0, 1, 0]/[0, 0, 10, 0] steps\n",
      "current Kelvin: 10044K, ideal 10000K, diff -44K : [277, 596, 313, 1476, 0] / [231, 596, 313, 1476, 0]\n",
      "current Kelvin: 10023K, ideal 10000K, diff -23K : [277, 596, 312, 1476, 0] / [232, 596, 312, 1476, 0]\n",
      "current Kelvin: 9988K, ideal 10000K, diff 12K : [277, 596, 311, 1476, 0] / [233, 596, 311, 1476, 0]\n",
      "current Kelvin: 10007K, ideal 10000K, diff -7K : [277, 596, 312, 1476, 0] / [234, 596, 312, 1476, 0]\n",
      "current Kelvin: 9980K, ideal 10000K, diff 20K : [277, 596, 311, 1476, 0] / [235, 596, 311, 1476, 0]\n",
      "current Kelvin: 9992K, ideal 10000K, diff 8K : [277, 596, 312, 1476, 0] / [236, 596, 312, 1476, 0]\n",
      "Looping condition, assuming the best possible solution achived\n",
      "selected: [10000, 8, 277, 596, 312, 1476]\n",
      "Writing calibratrion:\n",
      "\n",
      "Cw5 8 20000 277 596 312 1476\n",
      "\n",
      "{\"wb\":5, \"brightness\":8, \"lux\":20000, \"r\":277, \"g\":596, \"b\":312, \"w\":1476,\"Timestamp\":1702913177949955000}\n",
      "Temperature: 9992K\n",
      "dUv: 0.0\n",
      "Brightness: 19900lx\n",
      "Debug new_data_line: {'wb': [10000], 'brightness_point': [8], 'kelvin': [9992], 'duv': [0.0], 'lux': [19900]}\n",
      "CPU times: total: 11min 25s\n",
      "Wall time: 24min 37s\n"
     ]
    }
   ],
   "source": [
    "%%time\n",
    "\n",
    "startCalib = 0\n",
    "endCalib = 5\n",
    "readCalibration = True\n",
    "writeCalibration = True\n",
    "allowedKelvinDifference = 20\n",
    "allowedDuvDifference = 0.0002\n",
    "maxTries = 30\n",
    "\n",
    "data = None\n",
    "\n",
    "def calRange(KelvinTemp = 2, BrightnessV = 8, readCalibration = True, writeCalibration = True):\n",
    "    global calibration_points, mergedLux\n",
    "    if readCalibration:\n",
    "        print(\"Loading calibartion from lamp\\n\")\n",
    "        lamp1.send((\"Cr\"+str(KelvinTemp)+\" \"+str(BrightnessV)+\" \\n\").encode('utf-8'))\n",
    "        lamp1.read()\n",
    "        jsonString = \"{\"+lamp1.lastValAsJsonString[1:-1]+\"}\"\n",
    "        jsonObject = eval(jsonString)\n",
    "\n",
    "        print(\"loaded values: \"+str(jsonObject)+\"\\n\")\n",
    "        calibration_points[KelvinTemp][8][2] = jsonObject['r']\n",
    "        calibration_points[KelvinTemp][8][3] = jsonObject['g']\n",
    "        calibration_points[KelvinTemp][8][4] = jsonObject['b']\n",
    "        calibration_points[KelvinTemp][8][5] = jsonObject['w']\n",
    "\n",
    "        # The answer is 2 line, so to clear the buffer\n",
    "        lamp1.read()\n",
    "\n",
    "    calibration_points = lamp1.AdjustLux(BrightnessV,KelvinTemp, calibration_points)\n",
    "    calibration_points = lamp1.AdjustDuv(BrightnessV,KelvinTemp, calibration_points)\n",
    "    calibration_points = lamp1.AdjustKelvin(BrightnessV,KelvinTemp, calibration_points)\n",
    "\n",
    "    #write calibration to lamp\n",
    "    if writeCalibration:\n",
    "        print(\"Writing calibratrion:\\n\")\n",
    "        cmd = \"Cw\"+str(KelvinTemp)+\" \"+str(BrightnessV)+\" \"+str(mergedLux[KelvinTemp][BrightnessV])+\" \"+str(calibration_points[KelvinTemp][BrightnessV][2])+\" \"+str(calibration_points[KelvinTemp][BrightnessV][3])+\" \"+str(calibration_points[KelvinTemp][BrightnessV][4])+\" \"+str(calibration_points[KelvinTemp][BrightnessV][5])+\"\\n\"\n",
    "        lamp1.send(cmd.encode('utf-8'))\n",
    "        print(cmd)\n",
    "        lamp1.read()\n",
    "        print(lamp1.lastValAsJsonString)\n",
    "\n",
    "    print(f'Temperature: {lamp1.SekKelvin.update()}K\\ndUv: {lamp1.SekDuv.update()}\\nBrightness: {lamp1.SekBrightnes.update()}lx')\n",
    "    return [lamp1.SekKelvin.lastVal, lamp1.SekDuv.lastVal, lamp1.SekBrightnes.lastVal]\n",
    "\n",
    "# try N times to get the dUV & Kelvin difference low enough\n",
    "for kelvin in range(startCalib,endCalib+1):\n",
    "    print(f\"starting kelvin range {KelvinRangeIds[kelvin]}\\n\")\n",
    "    done = False\n",
    "    for i in range(maxTries):\n",
    "        if done:\n",
    "            break  # Exit the inner loop when calibration is successful\n",
    "        measured = calRange(KelvinTemp=kelvin, readCalibration=readCalibration, writeCalibration=writeCalibration)\n",
    "        if (abs(measured[1]) < allowedDuvDifference) and (abs(measured[0]-KelvinRangeIds[kelvin]) < allowedKelvinDifference):\n",
    "            done = True\n",
    "    if done:\n",
    "        # Record final results for proofing\n",
    "        new_data_line = {\n",
    "            'wb': [KelvinRangeIds[kelvin]],\n",
    "            'brightness_point': [8],\n",
    "            'kelvin': [measured[0]],\n",
    "            'duv': [measured[1]],\n",
    "            'lux': [measured[2]]\n",
    "        }\n",
    "        new_data_line_df = pd.DataFrame(new_data_line)\n",
    "        print(\"Debug new_data_line: \" + str(new_data_line))\n",
    "        if data is None:\n",
    "            data = new_data_line_df\n",
    "        else:\n",
    "            data = pd.concat([data, new_data_line_df], ignore_index=True)\n",
    "        "
   ]
  },
  {
   "cell_type": "code",
   "execution_count": null,
   "id": "68ac3a35-d9e2-4e58-b8d6-841e18c09ca0",
   "metadata": {},
   "outputs": [],
   "source": [
    "mergedLux"
   ]
  },
  {
   "cell_type": "code",
   "execution_count": 13,
   "id": "f3ecd438-17f2-498c-a390-3415ef1ec784",
   "metadata": {},
   "outputs": [],
   "source": [
    "def calRange(KelvinTemp = 2, BrightnessV = 8, readCalibration = True, writeCalibration = True):\n",
    "    global calibration_points\n",
    "    if readCalibration:\n",
    "        print(\"Loading calibartion from lamp\\n\")\n",
    "        lamp1.send((\"Cr\"+str(KelvinTemp)+\" \"+str(BrightnessV)+\" \\n\").encode('utf-8'))\n",
    "        lamp1.read()\n",
    "        jsonString = \"{\"+lamp1.lastValAsJsonString[1:-1]+\"}\"\n",
    "        jsonObject = eval(jsonString)\n",
    "\n",
    "        print(\"loaded values: \"+str(jsonObject)+\"\\n\")\n",
    "        calibration_points[KelvinTemp][8][2] = jsonObject['r']\n",
    "        calibration_points[KelvinTemp][8][3] = jsonObject['g']\n",
    "        calibration_points[KelvinTemp][8][4] = jsonObject['b']\n",
    "        calibration_points[KelvinTemp][8][5] = jsonObject['w']\n",
    "\n",
    "        # The answer is 2 line, so to clear the buffer\n",
    "        lamp1.read()\n",
    "\n",
    "    calibration_points = lamp1.AdjustLux(BrightnessV,KelvinTemp, calibration_points)\n",
    "    calibration_points = lamp1.AdjustKelvin(BrightnessV,KelvinTemp, calibration_points)\n",
    "    calibration_points = lamp1.AdjustDuv(BrightnessV,KelvinTemp, calibration_points)\n",
    "\n",
    "    #write calibration to lamp\n",
    "    if writeCalibration:\n",
    "        print(\"Writing calibratrion:\\n\")\n",
    "        cmd = \"Cw\"+str(KelvinTemp)+\" \"+str(BrightnessV)+\" \"+str(mergedLux[KelvinTemp][BrightnessV])+\" \"+str(calibration_points[KelvinTemp][BrightnessV][2])+\" \"+str(calibration_points[KelvinTemp][BrightnessV][3])+\" \"+str(calibration_points[KelvinTemp][BrightnessV][4])+\" \"+str(calibration_points[KelvinTemp][BrightnessV][5])+\"\\n\"\n",
    "        lamp1.send(cmd.encode('utf-8'))\n",
    "        print(cmd)\n",
    "        lamp1.read()\n",
    "        print(lamp1.lastValAsJsonString)\n",
    "\n",
    "    print(f'Temperature: {lamp1.SekKelvin.update()}K\\ndUv: {lamp1.SekDuv.update()}\\nBrightness: {lamp1.SekBrightnes.update()}lx')\n",
    "    return [lamp1.SekKelvin.lastVal, lamp1.SekDuv.lastVal, lamp1.SekBrightnes.lastVal]\n"
   ]
  },
  {
   "cell_type": "code",
   "execution_count": null,
   "id": "80c24c76-7db5-4636-a798-e07ec7ad83d9",
   "metadata": {},
   "outputs": [],
   "source": [
    "calibration_points[0][1]"
   ]
  },
  {
   "cell_type": "code",
   "execution_count": 16,
   "id": "411fe06e-42e2-4c2d-b145-54c9ac11c56a",
   "metadata": {
    "scrolled": true,
    "tags": []
   },
   "outputs": [
    {
     "name": "stdout",
     "output_type": "stream",
     "text": [
      "starting kelvin range 4800\n",
      "\n",
      "Loading calibartion from lamp\n",
      "\n",
      "loaded values: {'wb': 2, 'brightness': 8, 'r': 586, 'g': 546, 'b': 22, 'w': 1445, 'Timestamp': 1702967590010168300}\n",
      "\n",
      "Adjusting lamp brightness to 10000lx in 4800K with [1, 1, 0, 3]/[11, 10, 0, 26] steps\n",
      "current brightness: 10100, ideal 10000, diff -100 : [293, 273, 11, 722, 0] / [187, 273, 11, 722, 0]\n",
      "current brightness: 10100, ideal 10000, diff -100 : [292, 272, 11, 719, 0] / [187, 272, 11, 719, 0]\n",
      "current brightness: 10000, ideal 10000, diff 0 : [291, 271, 11, 716, 0] / [186, 271, 11, 716, 0]\n",
      "selected: [2400, 4, 291, 271, 11, 716]\n",
      "Adjusting lamp Kelvin to 4800K with [-1, 0, 1, 0]/[-10, 0, 10, 0] steps\n",
      "current Kelvin: 4624K, ideal 4800K, diff 176K : [291, 271, 11, 716, 0] / [187, 271, 11, 716, 0]\n",
      "current Kelvin: 4640K, ideal 4800K, diff 160K : [290, 271, 12, 716, 0] / [186, 271, 12, 716, 0]\n",
      "current Kelvin: 4667K, ideal 4800K, diff 133K : [289, 271, 13, 716, 0] / [186, 271, 13, 716, 0]\n",
      "current Kelvin: 4683K, ideal 4800K, diff 117K : [288, 271, 14, 716, 0] / [185, 271, 14, 716, 0]\n",
      "current Kelvin: 4708K, ideal 4800K, diff 92K : [287, 271, 15, 716, 0] / [185, 271, 15, 716, 0]\n",
      "current Kelvin: 4726K, ideal 4800K, diff 74K : [286, 271, 16, 716, 0] / [185, 271, 16, 716, 0]\n",
      "current Kelvin: 4736K, ideal 4800K, diff 64K : [285, 271, 17, 716, 0] / [184, 271, 17, 716, 0]\n",
      "current Kelvin: 4763K, ideal 4800K, diff 37K : [284, 271, 18, 716, 0] / [184, 271, 18, 716, 0]\n",
      "current Kelvin: 4779K, ideal 4800K, diff 21K : [283, 271, 19, 716, 0] / [184, 271, 19, 716, 0]\n",
      "selected: [2400, 4, 283, 271, 19, 716]\n",
      "Adjusting lamp dUV to +/- 0.003 in 4800K with [0, 1, 0, 0]/[0, 30, 0, 0] steps\n",
      "current dUV: -0.0015, ideal 0.0000, diff -0.0015 : [283, 271, 19, 716, 0] / [184, 271, 19, 716, 0]\n",
      "current dUV: 0.0015, ideal 0.0000, diff 0.0015 : [283, 301, 19, 716, 0] / [185, 301, 19, 716, 0]\n",
      "current dUV: -0.0015, ideal 0.0000, diff -0.0015 : [283, 271, 19, 716, 0] / [185, 271, 19, 716, 0]\n",
      "current dUV: 0.0016, ideal 0.0000, diff 0.0016 : [283, 301, 19, 716, 0] / [185, 301, 19, 716, 0]\n",
      "current dUV: 0.0015, ideal 0.0000, diff 0.0015 : [283, 300, 19, 716, 0] / [185, 300, 19, 716, 0]\n",
      "current dUV: 0.0014, ideal 0.0000, diff 0.0014 : [283, 299, 19, 716, 0] / [185, 299, 19, 716, 0]\n",
      "current dUV: 0.0013, ideal 0.0000, diff 0.0013 : [283, 298, 19, 716, 0] / [186, 298, 19, 716, 0]\n",
      "current dUV: 0.0011, ideal 0.0000, diff 0.0011 : [283, 297, 19, 716, 0] / [186, 297, 19, 716, 0]\n",
      "current dUV: 0.001, ideal 0.0000, diff 0.001 : [283, 296, 19, 716, 0] / [187, 296, 19, 716, 0]\n",
      "selected: [2400, 4, 283, 296, 19, 716]\n",
      "Writing calibratrion:\n",
      "\n",
      "Cw2 7 10000 283 296 19 716\n",
      "\n",
      "{\"wb\":2, \"brightness\":7, \"lux\":10000, \"r\":283, \"g\":296, \"b\":19, \"w\":716,\"Timestamp\":1702967800781797400}\n",
      "Temperature: 4867K\n",
      "dUv: 0.001\n",
      "Brightness: 10300lx\n",
      "Adjusting lamp brightness to 10000lx in 4800K with [1, 1, 0, 3]/[11, 10, 0, 26] steps\n",
      "current brightness: 10300, ideal 10000, diff -300 : [283, 296, 19, 716, 0] / [187, 296, 19, 716, 0]\n",
      "current brightness: 9870, ideal 10000, diff 130 : [272, 286, 19, 690, 0] / [180, 286, 19, 690, 0]\n",
      "current brightness: 9910, ideal 10000, diff 90 : [273, 287, 19, 693, 0] / [181, 287, 19, 693, 0]\n",
      "current brightness: 9960, ideal 10000, diff 40 : [274, 288, 19, 696, 0] / [182, 288, 19, 696, 0]\n",
      "current brightness: 10000, ideal 10000, diff 0 : [275, 289, 19, 699, 0] / [183, 289, 19, 699, 0]\n",
      "selected: [2400, 4, 275, 289, 19, 699]\n",
      "Adjusting lamp Kelvin to 4800K with [-1, 0, 1, 0]/[-10, 0, 10, 0] steps\n",
      "current Kelvin: 4878K, ideal 4800K, diff -78K : [275, 289, 19, 699, 0] / [183, 289, 19, 699, 0]\n",
      "current Kelvin: 4858K, ideal 4800K, diff -58K : [276, 289, 18, 699, 0] / [184, 289, 18, 699, 0]\n",
      "current Kelvin: 4834K, ideal 4800K, diff -34K : [277, 289, 17, 699, 0] / [185, 289, 17, 699, 0]\n",
      "current Kelvin: 4821K, ideal 4800K, diff -21K : [278, 289, 16, 699, 0] / [186, 289, 16, 699, 0]\n",
      "current Kelvin: 4800K, ideal 4800K, diff 0K : [279, 289, 15, 699, 0] / [186, 289, 15, 699, 0]\n",
      "selected: [2400, 4, 279, 289, 15, 699]\n",
      "Adjusting lamp dUV to +/- 0.003 in 4800K with [0, 1, 0, 0]/[0, 30, 0, 0] steps\n",
      "current dUV: 0.0013, ideal 0.0000, diff 0.0013 : [279, 289, 15, 699, 0] / [187, 289, 15, 699, 0]\n",
      "current dUV: -0.0018, ideal 0.0000, diff -0.0018 : [279, 259, 15, 699, 0] / [187, 259, 15, 699, 0]\n",
      "current dUV: 0.0014, ideal 0.0000, diff 0.0014 : [279, 289, 15, 699, 0] / [187, 289, 15, 699, 0]\n",
      "current dUV: -0.0018, ideal 0.0000, diff -0.0018 : [279, 259, 15, 699, 0] / [187, 259, 15, 699, 0]\n",
      "current dUV: 0.0013, ideal 0.0000, diff 0.0013 : [279, 289, 15, 699, 0] / [187, 289, 15, 699, 0]\n",
      "current dUV: 0.0012, ideal 0.0000, diff 0.0012 : [279, 288, 15, 699, 0] / [188, 288, 15, 699, 0]\n",
      "current dUV: 0.0011, ideal 0.0000, diff 0.0011 : [279, 287, 15, 699, 0] / [188, 287, 15, 699, 0]\n",
      "current dUV: 0.001, ideal 0.0000, diff 0.001 : [279, 286, 15, 699, 0] / [188, 286, 15, 699, 0]\n",
      "current dUV: 0.0008, ideal 0.0000, diff 0.0008 : [279, 285, 15, 699, 0] / [188, 285, 15, 699, 0]\n",
      "selected: [2400, 4, 279, 285, 15, 699]\n",
      "Writing calibratrion:\n",
      "\n",
      "Cw2 7 10000 279 285 15 699\n",
      "\n",
      "{\"wb\":2, \"brightness\":7, \"lux\":10000, \"r\":279, \"g\":285, \"b\":15, \"w\":699,\"Timestamp\":1702967989562324800}\n",
      "Temperature: 4787K\n",
      "dUv: 0.0008\n",
      "Brightness: 9970lx\n",
      "Adjusting lamp brightness to 10000lx in 4800K with [1, 1, 0, 3]/[11, 10, 0, 26] steps\n",
      "current brightness: 9960, ideal 10000, diff 40 : [279, 285, 15, 699, 0] / [189, 285, 15, 699, 0]\n",
      "current brightness: 10000, ideal 10000, diff 0 : [280, 286, 15, 702, 0] / [190, 286, 15, 702, 0]\n",
      "selected: [2400, 4, 280, 286, 15, 702]\n",
      "Adjusting lamp Kelvin to 4800K with [-1, 0, 1, 0]/[-10, 0, 10, 0] steps\n",
      "current Kelvin: 4791K, ideal 4800K, diff 9K : [280, 286, 15, 702, 0] / [190, 286, 15, 702, 0]\n",
      "current Kelvin: 4816K, ideal 4800K, diff -16K : [279, 286, 16, 702, 0] / [189, 286, 16, 702, 0]\n",
      "current Kelvin: 4794K, ideal 4800K, diff 6K : [280, 286, 15, 702, 0] / [190, 286, 15, 702, 0]\n",
      "current Kelvin: 4809K, ideal 4800K, diff -9K : [279, 286, 16, 702, 0] / [190, 286, 16, 702, 0]\n",
      "current Kelvin: 4796K, ideal 4800K, diff 4K : [280, 286, 15, 702, 0] / [190, 286, 15, 702, 0]\n",
      "Looping condition, assuming the best possible solution achived\n",
      "selected: [2400, 4, 280, 286, 15, 702]\n",
      "Adjusting lamp dUV to +/- 0.003 in 4800K with [0, 1, 0, 0]/[0, 30, 0, 0] steps\n",
      "current dUV: 0.0009, ideal 0.0000, diff 0.0009 : [280, 286, 15, 702, 0] / [190, 286, 15, 702, 0]\n",
      "current dUV: -0.0022, ideal 0.0000, diff -0.0022 : [280, 256, 15, 702, 0] / [191, 256, 15, 702, 0]\n",
      "current dUV: 0.0009, ideal 0.0000, diff 0.0009 : [280, 286, 15, 702, 0] / [191, 286, 15, 702, 0]\n",
      "current dUV: -0.0022, ideal 0.0000, diff -0.0022 : [280, 256, 15, 702, 0] / [191, 256, 15, 702, 0]\n",
      "current dUV: 0.0009, ideal 0.0000, diff 0.0009 : [280, 286, 15, 702, 0] / [191, 286, 15, 702, 0]\n",
      "current dUV: 0.0008, ideal 0.0000, diff 0.0008 : [280, 285, 15, 702, 0] / [191, 285, 15, 702, 0]\n",
      "current dUV: 0.0006, ideal 0.0000, diff 0.0006 : [280, 284, 15, 702, 0] / [191, 284, 15, 702, 0]\n",
      "current dUV: 0.0006, ideal 0.0000, diff 0.0006 : [280, 283, 15, 702, 0] / [192, 283, 15, 702, 0]\n",
      "current dUV: 0.0005, ideal 0.0000, diff 0.0005 : [280, 282, 15, 702, 0] / [192, 282, 15, 702, 0]\n",
      "selected: [2400, 4, 280, 282, 15, 702]\n",
      "Writing calibratrion:\n",
      "\n",
      "Cw2 7 10000 280 282 15 702\n",
      "\n",
      "{\"wb\":2, \"brightness\":7, \"lux\":10000, \"r\":280, \"g\":282, \"b\":15, \"w\":702,\"Timestamp\":1702968151118215700}\n",
      "Temperature: 4778K\n",
      "dUv: 0.0005\n",
      "Brightness: 9960lx\n",
      "Adjusting lamp brightness to 10000lx in 4800K with [1, 1, 0, 3]/[11, 10, 0, 26] steps\n",
      "current brightness: 9960, ideal 10000, diff 40 : [280, 282, 15, 702, 0] / [192, 282, 15, 702, 0]\n",
      "current brightness: 9990, ideal 10000, diff 10 : [281, 283, 15, 705, 0] / [193, 283, 15, 705, 0]\n",
      "current brightness: 10000, ideal 10000, diff 0 : [282, 284, 15, 708, 0] / [194, 284, 15, 708, 0]\n",
      "selected: [2400, 4, 282, 284, 15, 708]\n",
      "Adjusting lamp Kelvin to 4800K with [-1, 0, 1, 0]/[-10, 0, 10, 0] steps\n",
      "current Kelvin: 4786K, ideal 4800K, diff 14K : [282, 284, 15, 708, 0] / [194, 284, 15, 708, 0]\n",
      "current Kelvin: 4800K, ideal 4800K, diff 0K : [281, 284, 16, 708, 0] / [194, 284, 16, 708, 0]\n",
      "selected: [2400, 4, 281, 284, 16, 708]\n",
      "Adjusting lamp dUV to +/- 0.003 in 4800K with [0, 1, 0, 0]/[0, 30, 0, 0] steps\n",
      "current dUV: 0.0004, ideal 0.0000, diff 0.0004 : [281, 284, 16, 708, 0] / [194, 284, 16, 708, 0]\n",
      "current dUV: 0.0003, ideal 0.0000, diff 0.0003 : [281, 283, 16, 708, 0] / [194, 283, 16, 708, 0]\n",
      "current dUV: 0.0002, ideal 0.0000, diff 0.0002 : [281, 282, 16, 708, 0] / [194, 282, 16, 708, 0]\n",
      "current dUV: 0.0002, ideal 0.0000, diff 0.0002 : [281, 281, 16, 708, 0] / [194, 281, 16, 708, 0]\n",
      "current dUV: 0.0001, ideal 0.0000, diff 0.0001 : [281, 280, 16, 708, 0] / [194, 280, 16, 708, 0]\n",
      "current dUV: -0.0001, ideal 0.0000, diff -0.0001 : [281, 279, 16, 708, 0] / [194, 279, 16, 708, 0]\n",
      "current dUV: -0.0001, ideal 0.0000, diff -0.0001 : [281, 280, 16, 708, 0] / [195, 280, 16, 708, 0]\n",
      "current dUV: 0.0001, ideal 0.0000, diff 0.0001 : [281, 281, 16, 708, 0] / [195, 281, 16, 708, 0]\n",
      "current dUV: 0.0, ideal 0.0000, diff 0.0 : [281, 280, 16, 708, 0] / [195, 280, 16, 708, 0]\n",
      "selected: [2400, 4, 281, 280, 16, 708]\n",
      "Writing calibratrion:\n",
      "\n",
      "Cw2 7 10000 281 280 16 708\n",
      "\n",
      "{\"wb\":2, \"brightness\":7, \"lux\":10000, \"r\":281, \"g\":280, \"b\":16, \"w\":708,\"Timestamp\":1702968292002843300}\n",
      "Temperature: 4790K\n",
      "dUv: 0.0\n",
      "Brightness: 9990lx\n",
      "Debug newDataLine: {'wb': [4800], 'brightness_point': [7], 'kelvin': [4790], 'duv': [0.0], 'lux': [9990]}\n",
      "Adjusting lamp brightness to 5000lx in 4800K with [1, 1, 0, 3]/[11, 10, 0, 26] steps\n",
      "current brightness: 7110, ideal 5000, diff -2110 : [186, 145, 8, 564, 0] / [129, 145, 8, 564, 0]\n",
      "current brightness: 6740, ideal 5000, diff -1740 : [175, 135, 8, 538, 0] / [121, 135, 8, 538, 0]\n",
      "current brightness: 6380, ideal 5000, diff -1380 : [164, 125, 8, 512, 0] / [114, 125, 8, 512, 0]\n",
      "current brightness: 6000, ideal 5000, diff -1000 : [153, 115, 8, 486, 0] / [106, 115, 8, 486, 0]\n",
      "current brightness: 5660, ideal 5000, diff -660 : [142, 105, 8, 460, 0] / [98, 105, 8, 460, 0]\n",
      "current brightness: 5290, ideal 5000, diff -290 : [131, 95, 8, 434, 0] / [91, 95, 8, 434, 0]\n",
      "current brightness: 4910, ideal 5000, diff 90 : [120, 85, 8, 408, 0] / [83, 85, 8, 408, 0]\n",
      "current brightness: 4970, ideal 5000, diff 30 : [121, 86, 8, 411, 0] / [84, 86, 8, 411, 0]\n",
      "current brightness: 4990, ideal 5000, diff 10 : [122, 87, 8, 414, 0] / [84, 87, 8, 414, 0]\n",
      "selected: [4800, 6, 122, 87, 8, 414]\n",
      "Adjusting lamp Kelvin to 4800K with [-1, 0, 1, 0]/[-10, 0, 10, 0] steps\n",
      "current Kelvin: 4716K, ideal 4800K, diff 84K : [122, 87, 8, 414, 0] / [84, 87, 8, 414, 0]\n",
      "current Kelvin: 4761K, ideal 4800K, diff 39K : [121, 87, 9, 414, 0] / [83, 87, 9, 414, 0]\n",
      "current Kelvin: 4786K, ideal 4800K, diff 14K : [120, 87, 10, 414, 0] / [83, 87, 10, 414, 0]\n",
      "current Kelvin: 4837K, ideal 4800K, diff -37K : [119, 87, 11, 414, 0] / [82, 87, 11, 414, 0]\n",
      "current Kelvin: 4790K, ideal 4800K, diff 10K : [120, 87, 10, 414, 0] / [83, 87, 10, 414, 0]\n",
      "current Kelvin: 4842K, ideal 4800K, diff -42K : [119, 87, 11, 414, 0] / [82, 87, 11, 414, 0]\n",
      "current Kelvin: 4788K, ideal 4800K, diff 12K : [120, 87, 10, 414, 0] / [83, 87, 10, 414, 0]\n",
      "Looping condition, assuming the best possible solution achived\n",
      "selected: [4800, 6, 120, 87, 10, 414]\n",
      "Adjusting lamp dUV to +/- 0.003 in 4800K with [0, 1, 0, 0]/[0, 30, 0, 0] steps\n",
      "current dUV: -0.0079, ideal 0.0000, diff -0.0079 : [120, 87, 10, 414, 0] / [83, 87, 10, 414, 0]\n",
      "current dUV: -0.0077, ideal 0.0000, diff -0.0077 : [120, 88, 10, 414, 0] / [82, 88, 10, 414, 0]\n",
      "current dUV: -0.0075, ideal 0.0000, diff -0.0075 : [120, 89, 10, 414, 0] / [82, 89, 10, 414, 0]\n",
      "current dUV: -0.0073, ideal 0.0000, diff -0.0073 : [120, 90, 10, 414, 0] / [82, 90, 10, 414, 0]\n",
      "current dUV: -0.0071, ideal 0.0000, diff -0.0071 : [120, 91, 10, 414, 0] / [82, 91, 10, 414, 0]\n",
      "current dUV: -0.0068, ideal 0.0000, diff -0.0068 : [120, 92, 10, 414, 0] / [82, 92, 10, 414, 0]\n",
      "current dUV: -0.0066, ideal 0.0000, diff -0.0066 : [120, 93, 10, 414, 0] / [82, 93, 10, 414, 0]\n",
      "current dUV: -0.0064, ideal 0.0000, diff -0.0064 : [120, 94, 10, 414, 0] / [82, 94, 10, 414, 0]\n",
      "current dUV: -0.0062, ideal 0.0000, diff -0.0062 : [120, 95, 10, 414, 0] / [82, 95, 10, 414, 0]\n",
      "selected: [4800, 6, 120, 95, 10, 414]\n",
      "Writing calibratrion:\n",
      "\n",
      "Cw2 6 5000 120 95 10 414\n",
      "\n",
      "{\"wb\":2, \"brightness\":6, \"lux\":5000, \"r\":120, \"g\":95, \"b\":10, \"w\":414,\"Timestamp\":1702968537855916700}\n",
      "Temperature: 4864K\n",
      "dUv: -0.0062\n",
      "Brightness: 5070lx\n",
      "Adjusting lamp brightness to 5000lx in 4800K with [1, 1, 0, 3]/[11, 10, 0, 26] steps\n",
      "current brightness: 5070, ideal 5000, diff -70 : [120, 95, 10, 414, 0] / [82, 95, 10, 414, 0]\n",
      "current brightness: 5030, ideal 5000, diff -30 : [119, 94, 10, 411, 0] / [82, 94, 10, 411, 0]\n",
      "current brightness: 4990, ideal 5000, diff 10 : [118, 93, 10, 408, 0] / [81, 93, 10, 408, 0]\n",
      "current brightness: 5020, ideal 5000, diff -20 : [119, 94, 10, 411, 0] / [81, 94, 10, 411, 0]\n",
      "current brightness: 4980, ideal 5000, diff 20 : [118, 93, 10, 408, 0] / [81, 93, 10, 408, 0]\n",
      "current brightness: 5020, ideal 5000, diff -20 : [119, 94, 10, 411, 0] / [81, 94, 10, 411, 0]\n",
      "Looping condition, assuming the best possible solution achived\n",
      "selected: [4800, 6, 118, 93, 10, 408]\n",
      "Adjusting lamp Kelvin to 4800K with [-1, 0, 1, 0]/[-10, 0, 10, 0] steps\n",
      "current Kelvin: 4860K, ideal 4800K, diff -60K : [118, 93, 10, 408, 0] / [81, 93, 10, 408, 0]\n",
      "current Kelvin: 4831K, ideal 4800K, diff -31K : [119, 93, 9, 408, 0] / [81, 93, 9, 408, 0]\n",
      "current Kelvin: 4773K, ideal 4800K, diff 27K : [120, 93, 8, 408, 0] / [82, 93, 8, 408, 0]\n",
      "current Kelvin: 4829K, ideal 4800K, diff -29K : [119, 93, 9, 408, 0] / [82, 93, 9, 408, 0]\n",
      "current Kelvin: 4779K, ideal 4800K, diff 21K : [120, 93, 8, 408, 0] / [82, 93, 8, 408, 0]\n",
      "Looping condition, assuming the best possible solution achived\n",
      "selected: [4800, 6, 120, 93, 8, 408]\n",
      "Adjusting lamp dUV to +/- 0.003 in 4800K with [0, 1, 0, 0]/[0, 30, 0, 0] steps\n",
      "current dUV: -0.006, ideal 0.0000, diff -0.006 : [120, 93, 8, 408, 0] / [82, 93, 8, 408, 0]\n",
      "current dUV: -0.0058, ideal 0.0000, diff -0.0058 : [120, 94, 8, 408, 0] / [82, 94, 8, 408, 0]\n",
      "current dUV: -0.0056, ideal 0.0000, diff -0.0056 : [120, 95, 8, 408, 0] / [82, 95, 8, 408, 0]\n",
      "current dUV: -0.0054, ideal 0.0000, diff -0.0054 : [120, 96, 8, 408, 0] / [82, 96, 8, 408, 0]\n",
      "current dUV: -0.0051, ideal 0.0000, diff -0.0051 : [120, 97, 8, 408, 0] / [82, 97, 8, 408, 0]\n",
      "current dUV: -0.005, ideal 0.0000, diff -0.005 : [120, 98, 8, 408, 0] / [82, 98, 8, 408, 0]\n",
      "current dUV: -0.0047, ideal 0.0000, diff -0.0047 : [120, 99, 8, 408, 0] / [82, 99, 8, 408, 0]\n",
      "current dUV: -0.0045, ideal 0.0000, diff -0.0045 : [120, 100, 8, 408, 0] / [82, 100, 8, 408, 0]\n",
      "current dUV: -0.0043, ideal 0.0000, diff -0.0043 : [120, 101, 8, 408, 0] / [82, 101, 8, 408, 0]\n",
      "selected: [4800, 6, 120, 101, 8, 408]\n",
      "Writing calibratrion:\n",
      "\n",
      "Cw2 6 5000 120 101 8 408\n",
      "\n",
      "{\"wb\":2, \"brightness\":6, \"lux\":5000, \"r\":120, \"g\":101, \"b\":8, \"w\":408,\"Timestamp\":1702968739519177200}\n",
      "Temperature: 4832K\n",
      "dUv: -0.0043\n",
      "Brightness: 5060lx\n",
      "Adjusting lamp brightness to 5000lx in 4800K with [1, 1, 0, 3]/[11, 10, 0, 26] steps\n",
      "current brightness: 5060, ideal 5000, diff -60 : [120, 101, 8, 408, 0] / [82, 101, 8, 408, 0]\n",
      "current brightness: 5010, ideal 5000, diff -10 : [119, 100, 8, 405, 0] / [81, 100, 8, 405, 0]\n",
      "current brightness: 4980, ideal 5000, diff 20 : [118, 99, 8, 402, 0] / [80, 99, 8, 402, 0]\n",
      "current brightness: 5010, ideal 5000, diff -10 : [119, 100, 8, 405, 0] / [81, 100, 8, 405, 0]\n",
      "current brightness: 4970, ideal 5000, diff 30 : [118, 99, 8, 402, 0] / [80, 99, 8, 402, 0]\n",
      "current brightness: 5010, ideal 5000, diff -10 : [119, 100, 8, 405, 0] / [81, 100, 8, 405, 0]\n",
      "Looping condition, assuming the best possible solution achived\n",
      "selected: [4800, 6, 119, 100, 8, 405]\n",
      "Adjusting lamp Kelvin to 4800K with [-1, 0, 1, 0]/[-10, 0, 10, 0] steps\n",
      "current Kelvin: 4838K, ideal 4800K, diff -38K : [119, 100, 8, 405, 0] / [81, 100, 8, 405, 0]\n",
      "current Kelvin: 4790K, ideal 4800K, diff 10K : [120, 100, 7, 405, 0] / [82, 100, 7, 405, 0]\n",
      "current Kelvin: 4837K, ideal 4800K, diff -37K : [119, 100, 8, 405, 0] / [81, 100, 8, 405, 0]\n",
      "current Kelvin: 4787K, ideal 4800K, diff 13K : [120, 100, 7, 405, 0] / [82, 100, 7, 405, 0]\n",
      "Looping condition, assuming the best possible solution achived\n",
      "selected: [4800, 6, 120, 100, 7, 405]\n",
      "Adjusting lamp dUV to +/- 0.003 in 4800K with [0, 1, 0, 0]/[0, 30, 0, 0] steps\n",
      "current dUV: -0.0042, ideal 0.0000, diff -0.0042 : [120, 100, 7, 405, 0] / [82, 100, 7, 405, 0]\n",
      "current dUV: -0.004, ideal 0.0000, diff -0.004 : [120, 101, 7, 405, 0] / [82, 101, 7, 405, 0]\n",
      "current dUV: -0.0037, ideal 0.0000, diff -0.0037 : [120, 102, 7, 405, 0] / [82, 102, 7, 405, 0]\n",
      "current dUV: -0.0036, ideal 0.0000, diff -0.0036 : [120, 103, 7, 405, 0] / [82, 103, 7, 405, 0]\n",
      "current dUV: -0.0033, ideal 0.0000, diff -0.0033 : [120, 104, 7, 405, 0] / [82, 104, 7, 405, 0]\n",
      "current dUV: -0.0031, ideal 0.0000, diff -0.0031 : [120, 105, 7, 405, 0] / [82, 105, 7, 405, 0]\n",
      "current dUV: -0.0029, ideal 0.0000, diff -0.0029 : [120, 106, 7, 405, 0] / [82, 106, 7, 405, 0]\n",
      "current dUV: -0.0027, ideal 0.0000, diff -0.0027 : [120, 107, 7, 405, 0] / [82, 107, 7, 405, 0]\n",
      "current dUV: -0.0025, ideal 0.0000, diff -0.0025 : [120, 108, 7, 405, 0] / [82, 108, 7, 405, 0]\n",
      "selected: [4800, 6, 120, 108, 7, 405]\n",
      "Writing calibratrion:\n",
      "\n",
      "Cw2 6 5000 120 108 7 405\n",
      "\n",
      "{\"wb\":2, \"brightness\":6, \"lux\":5000, \"r\":120, \"g\":108, \"b\":7, \"w\":405,\"Timestamp\":1702968928320104600}\n",
      "Temperature: 4851K\n",
      "dUv: -0.0025\n",
      "Brightness: 5090lx\n",
      "Adjusting lamp brightness to 5000lx in 4800K with [1, 1, 0, 3]/[11, 10, 0, 26] steps\n",
      "current brightness: 5090, ideal 5000, diff -90 : [120, 108, 7, 405, 0] / [82, 108, 7, 405, 0]\n",
      "current brightness: 5050, ideal 5000, diff -50 : [119, 107, 7, 402, 0] / [81, 107, 7, 402, 0]\n",
      "current brightness: 5010, ideal 5000, diff -10 : [118, 106, 7, 399, 0] / [80, 106, 7, 399, 0]\n",
      "current brightness: 4970, ideal 5000, diff 30 : [117, 105, 7, 396, 0] / [80, 105, 7, 396, 0]\n",
      "current brightness: 5010, ideal 5000, diff -10 : [118, 106, 7, 399, 0] / [80, 106, 7, 399, 0]\n",
      "current brightness: 4980, ideal 5000, diff 20 : [117, 105, 7, 396, 0] / [80, 105, 7, 396, 0]\n",
      "current brightness: 5020, ideal 5000, diff -20 : [118, 106, 7, 399, 0] / [80, 106, 7, 399, 0]\n",
      "Looping condition, assuming the best possible solution achived\n",
      "selected: [4800, 6, 118, 106, 7, 399]\n",
      "Adjusting lamp Kelvin to 4800K with [-1, 0, 1, 0]/[-10, 0, 10, 0] steps\n",
      "current Kelvin: 4852K, ideal 4800K, diff -52K : [118, 106, 7, 399, 0] / [80, 106, 7, 399, 0]\n",
      "current Kelvin: 4815K, ideal 4800K, diff -15K : [119, 106, 6, 399, 0] / [81, 106, 6, 399, 0]\n",
      "current Kelvin: 4770K, ideal 4800K, diff 30K : [120, 106, 5, 399, 0] / [82, 106, 5, 399, 0]\n",
      "current Kelvin: 4811K, ideal 4800K, diff -11K : [119, 106, 6, 399, 0] / [81, 106, 6, 399, 0]\n",
      "current Kelvin: 4771K, ideal 4800K, diff 29K : [120, 106, 5, 399, 0] / [82, 106, 5, 399, 0]\n",
      "Looping condition, assuming the best possible solution achived\n",
      "selected: [4800, 6, 119, 106, 6, 399]\n",
      "Adjusting lamp dUV to +/- 0.003 in 4800K with [0, 1, 0, 0]/[0, 30, 0, 0] steps\n",
      "current dUV: -0.0023, ideal 0.0000, diff -0.0023 : [119, 106, 6, 399, 0] / [81, 106, 6, 399, 0]\n",
      "current dUV: -0.0021, ideal 0.0000, diff -0.0021 : [119, 107, 6, 399, 0] / [81, 107, 6, 399, 0]\n",
      "current dUV: -0.0018, ideal 0.0000, diff -0.0018 : [119, 108, 6, 399, 0] / [81, 108, 6, 399, 0]\n",
      "current dUV: -0.0016, ideal 0.0000, diff -0.0016 : [119, 109, 6, 399, 0] / [81, 109, 6, 399, 0]\n",
      "current dUV: -0.0014, ideal 0.0000, diff -0.0014 : [119, 110, 6, 399, 0] / [81, 110, 6, 399, 0]\n",
      "current dUV: -0.0012, ideal 0.0000, diff -0.0012 : [119, 111, 6, 399, 0] / [81, 111, 6, 399, 0]\n",
      "current dUV: -0.001, ideal 0.0000, diff -0.001 : [119, 112, 6, 399, 0] / [81, 112, 6, 399, 0]\n",
      "current dUV: -0.0009, ideal 0.0000, diff -0.0009 : [119, 113, 6, 399, 0] / [81, 113, 6, 399, 0]\n",
      "current dUV: -0.0007, ideal 0.0000, diff -0.0007 : [119, 114, 6, 399, 0] / [81, 114, 6, 399, 0]\n",
      "selected: [4800, 6, 119, 114, 6, 399]\n",
      "Writing calibratrion:\n",
      "\n",
      "Cw2 6 5000 119 114 6 399\n",
      "\n",
      "{\"wb\":2, \"brightness\":6, \"lux\":5000, \"r\":119, \"g\":114, \"b\":6, \"w\":399,\"Timestamp\":1702969132832161400}\n",
      "Temperature: 4872K\n",
      "dUv: -0.0007\n",
      "Brightness: 5080lx\n",
      "Adjusting lamp brightness to 5000lx in 4800K with [1, 1, 0, 3]/[11, 10, 0, 26] steps\n",
      "current brightness: 5080, ideal 5000, diff -80 : [119, 114, 6, 399, 0] / [81, 114, 6, 399, 0]\n",
      "current brightness: 5040, ideal 5000, diff -40 : [118, 113, 6, 396, 0] / [80, 113, 6, 396, 0]\n",
      "current brightness: 5000, ideal 5000, diff 0 : [117, 112, 6, 393, 0] / [79, 112, 6, 393, 0]\n",
      "selected: [4800, 6, 117, 112, 6, 393]\n",
      "Adjusting lamp Kelvin to 4800K with [-1, 0, 1, 0]/[-10, 0, 10, 0] steps\n",
      "current Kelvin: 4875K, ideal 4800K, diff -75K : [117, 112, 6, 393, 0] / [79, 112, 6, 393, 0]\n",
      "current Kelvin: 4827K, ideal 4800K, diff -27K : [118, 112, 5, 393, 0] / [80, 112, 5, 393, 0]\n",
      "current Kelvin: 4796K, ideal 4800K, diff 4K : [119, 112, 4, 393, 0] / [81, 112, 4, 393, 0]\n",
      "current Kelvin: 4830K, ideal 4800K, diff -30K : [118, 112, 5, 393, 0] / [80, 112, 5, 393, 0]\n",
      "current Kelvin: 4798K, ideal 4800K, diff 2K : [119, 112, 4, 393, 0] / [81, 112, 4, 393, 0]\n",
      "Looping condition, assuming the best possible solution achived\n",
      "selected: [4800, 6, 119, 112, 4, 393]\n",
      "Adjusting lamp dUV to +/- 0.003 in 4800K with [0, 1, 0, 0]/[0, 30, 0, 0] steps\n",
      "current dUV: -0.0003, ideal 0.0000, diff -0.0003 : [119, 112, 4, 393, 0] / [81, 112, 4, 393, 0]\n",
      "current dUV: -0.0002, ideal 0.0000, diff -0.0002 : [119, 113, 4, 393, 0] / [81, 113, 4, 393, 0]\n",
      "current dUV: 0.0, ideal 0.0000, diff 0.0 : [119, 114, 4, 393, 0] / [81, 114, 4, 393, 0]\n",
      "selected: [4800, 6, 119, 114, 4, 393]\n",
      "Writing calibratrion:\n",
      "\n",
      "Cw2 6 5000 119 114 4 393\n",
      "\n",
      "{\"wb\":2, \"brightness\":6, \"lux\":5000, \"r\":119, \"g\":114, \"b\":4, \"w\":393,\"Timestamp\":1702969243959079200}\n",
      "Temperature: 4808K\n",
      "dUv: 0.0\n",
      "Brightness: 5020lx\n",
      "Debug newDataLine: {'wb': [4800], 'brightness_point': [6], 'kelvin': [4808], 'duv': [0.0], 'lux': [5020]}\n",
      "Adjusting lamp brightness to 2500lx in 4800K with [1, 1, 0, 3]/[11, 10, 0, 26] steps\n",
      "current brightness: 3510, ideal 2500, diff -1010 : [88, 66, 4, 287, 0] / [60, 66, 4, 287, 0]\n",
      "current brightness: 3150, ideal 2500, diff -650 : [77, 56, 4, 261, 0] / [52, 56, 4, 261, 0]\n",
      "current brightness: 2800, ideal 2500, diff -300 : [66, 46, 4, 235, 0] / [45, 46, 4, 235, 0]\n",
      "current brightness: 2440, ideal 2500, diff 60 : [55, 36, 4, 209, 0] / [37, 36, 4, 209, 0]\n",
      "current brightness: 2490, ideal 2500, diff 10 : [56, 37, 4, 212, 0] / [38, 37, 4, 212, 0]\n",
      "current brightness: 2520, ideal 2500, diff -20 : [57, 38, 4, 215, 0] / [38, 38, 4, 215, 0]\n",
      "current brightness: 2490, ideal 2500, diff 10 : [56, 37, 4, 212, 0] / [38, 37, 4, 212, 0]\n",
      "current brightness: 2520, ideal 2500, diff -20 : [57, 38, 4, 215, 0] / [38, 38, 4, 215, 0]\n",
      "Looping condition, assuming the best possible solution achived\n",
      "selected: [4800, 5, 56, 37, 4, 212]\n",
      "Adjusting lamp Kelvin to 4800K with [-1, 0, 1, 0]/[-10, 0, 10, 0] steps\n",
      "current Kelvin: 4763K, ideal 4800K, diff 37K : [56, 37, 4, 212, 0] / [38, 37, 4, 212, 0]\n",
      "current Kelvin: 4861K, ideal 4800K, diff -61K : [55, 37, 5, 212, 0] / [37, 37, 5, 212, 0]\n",
      "current Kelvin: 4759K, ideal 4800K, diff 41K : [56, 37, 4, 212, 0] / [38, 37, 4, 212, 0]\n",
      "current Kelvin: 4856K, ideal 4800K, diff -56K : [55, 37, 5, 212, 0] / [37, 37, 5, 212, 0]\n",
      "current Kelvin: 4745K, ideal 4800K, diff 55K : [56, 37, 4, 212, 0] / [38, 37, 4, 212, 0]\n",
      "Looping condition, assuming the best possible solution achived\n",
      "selected: [4800, 5, 56, 37, 4, 212]\n",
      "Adjusting lamp dUV to +/- 0.003 in 4800K with [0, 1, 0, 0]/[0, 30, 0, 0] steps\n",
      "current dUV: -0.0082, ideal 0.0000, diff -0.0082 : [56, 37, 4, 212, 0] / [38, 37, 4, 212, 0]\n",
      "current dUV: -0.0078, ideal 0.0000, diff -0.0078 : [56, 38, 4, 212, 0] / [38, 38, 4, 212, 0]\n",
      "current dUV: -0.0072, ideal 0.0000, diff -0.0072 : [56, 39, 4, 212, 0] / [38, 39, 4, 212, 0]\n",
      "current dUV: -0.0064, ideal 0.0000, diff -0.0064 : [56, 40, 4, 212, 0] / [37, 40, 4, 212, 0]\n",
      "current dUV: -0.0059, ideal 0.0000, diff -0.0059 : [56, 41, 4, 212, 0] / [37, 41, 4, 212, 0]\n",
      "current dUV: -0.0054, ideal 0.0000, diff -0.0054 : [56, 42, 4, 212, 0] / [37, 42, 4, 212, 0]\n",
      "current dUV: -0.005, ideal 0.0000, diff -0.005 : [56, 43, 4, 212, 0] / [37, 43, 4, 212, 0]\n",
      "current dUV: -0.0045, ideal 0.0000, diff -0.0045 : [56, 44, 4, 212, 0] / [37, 44, 4, 212, 0]\n",
      "current dUV: -0.0041, ideal 0.0000, diff -0.0041 : [56, 45, 4, 212, 0] / [37, 45, 4, 212, 0]\n",
      "selected: [4800, 5, 56, 45, 4, 212]\n",
      "Writing calibratrion:\n",
      "\n",
      "Cw2 5 2500 56 45 4 212\n",
      "\n",
      "{\"wb\":2, \"brightness\":5, \"lux\":2500, \"r\":56, \"g\":45, \"b\":4, \"w\":212,\"Timestamp\":1702969461302463900}\n",
      "Temperature: 4926K\n",
      "dUv: -0.0041\n",
      "Brightness: 2550lx\n",
      "Adjusting lamp brightness to 2500lx in 4800K with [1, 1, 0, 3]/[11, 10, 0, 26] steps\n",
      "current brightness: 2550, ideal 2500, diff -50 : [56, 45, 4, 212, 0] / [37, 45, 4, 212, 0]\n",
      "current brightness: 2520, ideal 2500, diff -20 : [55, 44, 4, 209, 0] / [37, 44, 4, 209, 0]\n",
      "current brightness: 2480, ideal 2500, diff 20 : [54, 43, 4, 206, 0] / [36, 43, 4, 206, 0]\n",
      "current brightness: 2520, ideal 2500, diff -20 : [55, 44, 4, 209, 0] / [37, 44, 4, 209, 0]\n",
      "current brightness: 2480, ideal 2500, diff 20 : [54, 43, 4, 206, 0] / [36, 43, 4, 206, 0]\n",
      "current brightness: 2520, ideal 2500, diff -20 : [55, 44, 4, 209, 0] / [37, 44, 4, 209, 0]\n",
      "Looping condition, assuming the best possible solution achived\n",
      "selected: [4800, 5, 55, 44, 4, 209]\n",
      "Adjusting lamp Kelvin to 4800K with [-1, 0, 1, 0]/[-10, 0, 10, 0] steps\n",
      "current Kelvin: 4898K, ideal 4800K, diff -98K : [55, 44, 4, 209, 0] / [37, 44, 4, 209, 0]\n",
      "current Kelvin: 4851K, ideal 4800K, diff -51K : [56, 44, 3, 209, 0] / [37, 44, 3, 209, 0]\n",
      "current Kelvin: 4764K, ideal 4800K, diff 36K : [57, 44, 2, 209, 0] / [38, 44, 2, 209, 0]\n",
      "current Kelvin: 4848K, ideal 4800K, diff -48K : [56, 44, 3, 209, 0] / [37, 44, 3, 209, 0]\n",
      "current Kelvin: 4761K, ideal 4800K, diff 39K : [57, 44, 2, 209, 0] / [38, 44, 2, 209, 0]\n",
      "Looping condition, assuming the best possible solution achived\n",
      "selected: [4800, 5, 57, 44, 2, 209]\n",
      "Adjusting lamp dUV to +/- 0.003 in 4800K with [0, 1, 0, 0]/[0, 30, 0, 0] steps\n",
      "current dUV: -0.0041, ideal 0.0000, diff -0.0041 : [57, 44, 2, 209, 0] / [38, 44, 2, 209, 0]\n",
      "current dUV: -0.0036, ideal 0.0000, diff -0.0036 : [57, 45, 2, 209, 0] / [38, 45, 2, 209, 0]\n",
      "current dUV: -0.0032, ideal 0.0000, diff -0.0032 : [57, 46, 2, 209, 0] / [38, 46, 2, 209, 0]\n",
      "current dUV: -0.0027, ideal 0.0000, diff -0.0027 : [57, 47, 2, 209, 0] / [38, 47, 2, 209, 0]\n",
      "current dUV: -0.002, ideal 0.0000, diff -0.002 : [57, 48, 2, 209, 0] / [38, 48, 2, 209, 0]\n",
      "current dUV: -0.0021, ideal 0.0000, diff -0.0021 : [57, 49, 2, 209, 0] / [38, 49, 2, 209, 0]\n",
      "current dUV: -0.0016, ideal 0.0000, diff -0.0016 : [57, 50, 2, 209, 0] / [38, 50, 2, 209, 0]\n",
      "current dUV: -0.0011, ideal 0.0000, diff -0.0011 : [57, 51, 2, 209, 0] / [38, 51, 2, 209, 0]\n",
      "current dUV: -0.0007, ideal 0.0000, diff -0.0007 : [57, 52, 2, 209, 0] / [38, 52, 2, 209, 0]\n",
      "selected: [4800, 5, 57, 52, 2, 209]\n",
      "Writing calibratrion:\n",
      "\n",
      "Cw2 5 2500 57 52 2 209\n",
      "\n",
      "{\"wb\":2, \"brightness\":5, \"lux\":2500, \"r\":57, \"g\":52, \"b\":2, \"w\":209,\"Timestamp\":1702969657942724200}\n",
      "Temperature: 4874K\n",
      "dUv: -0.0008\n",
      "Brightness: 2590lx\n",
      "Adjusting lamp brightness to 2500lx in 4800K with [1, 1, 0, 3]/[11, 10, 0, 26] steps\n",
      "current brightness: 2590, ideal 2500, diff -90 : [57, 52, 2, 209, 0] / [38, 52, 2, 209, 0]\n",
      "current brightness: 2550, ideal 2500, diff -50 : [56, 51, 2, 206, 0] / [37, 51, 2, 206, 0]\n",
      "current brightness: 2510, ideal 2500, diff -10 : [55, 50, 2, 203, 0] / [36, 50, 2, 203, 0]\n",
      "current brightness: 2480, ideal 2500, diff 20 : [54, 49, 2, 200, 0] / [36, 49, 2, 200, 0]\n",
      "current brightness: 2510, ideal 2500, diff -10 : [55, 50, 2, 203, 0] / [36, 50, 2, 203, 0]\n",
      "current brightness: 2480, ideal 2500, diff 20 : [54, 49, 2, 200, 0] / [36, 49, 2, 200, 0]\n",
      "current brightness: 2510, ideal 2500, diff -10 : [55, 50, 2, 203, 0] / [36, 50, 2, 203, 0]\n",
      "Looping condition, assuming the best possible solution achived\n",
      "selected: [4800, 5, 55, 50, 2, 203]\n",
      "Adjusting lamp Kelvin to 4800K with [-1, 0, 1, 0]/[-10, 0, 10, 0] steps\n",
      "current Kelvin: 4912K, ideal 4800K, diff -112K : [55, 50, 2, 203, 0] / [36, 50, 2, 203, 0]\n",
      "current Kelvin: 4817K, ideal 4800K, diff -17K : [56, 50, 1, 203, 0] / [37, 50, 1, 203, 0]\n",
      "current Kelvin: 4737K, ideal 4800K, diff 63K : [57, 50, 0, 203, 0] / [38, 50, 0, 203, 0]\n",
      "current Kelvin: 4816K, ideal 4800K, diff -16K : [56, 50, 1, 203, 0] / [37, 50, 1, 203, 0]\n",
      "current Kelvin: 4737K, ideal 4800K, diff 63K : [57, 50, 0, 203, 0] / [38, 50, 0, 203, 0]\n",
      "Looping condition, assuming the best possible solution achived\n",
      "selected: [4800, 5, 56, 50, 1, 203]\n",
      "Adjusting lamp dUV to +/- 0.003 in 4800K with [0, 1, 0, 0]/[0, 30, 0, 0] steps\n",
      "current dUV: -0.0004, ideal 0.0000, diff -0.0004 : [56, 50, 1, 203, 0] / [37, 50, 1, 203, 0]\n",
      "current dUV: 0.0, ideal 0.0000, diff 0.0 : [56, 51, 1, 203, 0] / [37, 51, 1, 203, 0]\n",
      "selected: [4800, 5, 56, 51, 1, 203]\n",
      "Writing calibratrion:\n",
      "\n",
      "Cw2 5 2500 56 51 1 203\n",
      "\n",
      "{\"wb\":2, \"brightness\":5, \"lux\":2500, \"r\":56, \"g\":51, \"b\":1, \"w\":203,\"Timestamp\":1702969795083952100}\n",
      "Temperature: 4831K\n",
      "dUv: 0.0\n",
      "Brightness: 2530lx\n",
      "Debug newDataLine: {'wb': [4800], 'brightness_point': [5], 'kelvin': [4831], 'duv': [0.0], 'lux': [2530]}\n",
      "Adjusting lamp brightness to 1250lx in 4800K with [1, 1, 0, 3]/[11, 10, 0, 26] steps\n",
      "current brightness: 1800, ideal 1250, diff -550 : [44, 31, 2, 144, 0] / [29, 31, 2, 144, 0]\n",
      "current brightness: 1430, ideal 1250, diff -180 : [33, 21, 2, 118, 0] / [22, 21, 2, 118, 0]\n",
      "current brightness: 1380, ideal 1250, diff -130 : [32, 20, 2, 115, 0] / [21, 20, 2, 115, 0]\n",
      "current brightness: 1340, ideal 1250, diff -90 : [31, 19, 2, 112, 0] / [20, 19, 2, 112, 0]\n",
      "current brightness: 1310, ideal 1250, diff -60 : [30, 18, 2, 109, 0] / [20, 18, 2, 109, 0]\n",
      "current brightness: 1270, ideal 1250, diff -20 : [29, 17, 2, 106, 0] / [19, 17, 2, 106, 0]\n",
      "current brightness: 1230, ideal 1250, diff 20 : [28, 16, 2, 103, 0] / [18, 16, 2, 103, 0]\n",
      "current brightness: 1270, ideal 1250, diff -20 : [29, 17, 2, 106, 0] / [19, 17, 2, 106, 0]\n",
      "current brightness: 1230, ideal 1250, diff 20 : [28, 16, 2, 103, 0] / [18, 16, 2, 103, 0]\n",
      "selected: [4800, 4, 29, 17, 2, 106]\n",
      "Adjusting lamp Kelvin to 4800K with [-1, 0, 1, 0]/[-10, 0, 10, 0] steps\n",
      "current Kelvin: 4823K, ideal 4800K, diff -23K : [29, 17, 2, 106, 0] / [19, 17, 2, 106, 0]\n",
      "current Kelvin: 4629K, ideal 4800K, diff 171K : [30, 17, 1, 106, 0] / [20, 17, 1, 106, 0]\n",
      "current Kelvin: 4827K, ideal 4800K, diff -27K : [29, 17, 2, 106, 0] / [19, 17, 2, 106, 0]\n",
      "current Kelvin: 4630K, ideal 4800K, diff 170K : [30, 17, 1, 106, 0] / [20, 17, 1, 106, 0]\n",
      "Looping condition, assuming the best possible solution achived\n",
      "selected: [4800, 4, 29, 17, 2, 106]\n",
      "Adjusting lamp dUV to +/- 0.003 in 4800K with [0, 1, 0, 0]/[0, 30, 0, 0] steps\n",
      "current dUV: -0.0088, ideal 0.0000, diff -0.0088 : [29, 17, 2, 106, 0] / [19, 17, 2, 106, 0]\n",
      "current dUV: -0.0079, ideal 0.0000, diff -0.0079 : [29, 18, 2, 106, 0] / [19, 18, 2, 106, 0]\n",
      "current dUV: -0.007, ideal 0.0000, diff -0.007 : [29, 19, 2, 106, 0] / [19, 19, 2, 106, 0]\n",
      "current dUV: -0.006, ideal 0.0000, diff -0.006 : [29, 20, 2, 106, 0] / [19, 20, 2, 106, 0]\n",
      "current dUV: -0.0052, ideal 0.0000, diff -0.0052 : [29, 21, 2, 106, 0] / [19, 21, 2, 106, 0]\n",
      "current dUV: -0.0043, ideal 0.0000, diff -0.0043 : [29, 22, 2, 106, 0] / [19, 22, 2, 106, 0]\n",
      "current dUV: -0.0034, ideal 0.0000, diff -0.0034 : [29, 23, 2, 106, 0] / [19, 23, 2, 106, 0]\n",
      "current dUV: -0.0025, ideal 0.0000, diff -0.0025 : [29, 24, 2, 106, 0] / [19, 24, 2, 106, 0]\n",
      "current dUV: -0.0016, ideal 0.0000, diff -0.0016 : [29, 25, 2, 106, 0] / [19, 25, 2, 106, 0]\n",
      "selected: [4800, 4, 29, 25, 2, 106]\n",
      "Writing calibratrion:\n",
      "\n",
      "Cw2 4 1250 29 25 2 106\n",
      "\n",
      "{\"wb\":2, \"brightness\":4, \"lux\":1250, \"r\":29, \"g\":25, \"b\":2, \"w\":106,\"Timestamp\":1702970007466556400}\n",
      "Temperature: 5066K\n",
      "dUv: -0.0016\n",
      "Brightness: 1340lx\n",
      "Adjusting lamp brightness to 1250lx in 4800K with [1, 1, 0, 3]/[11, 10, 0, 26] steps\n",
      "current brightness: 1340, ideal 1250, diff -90 : [29, 25, 2, 106, 0] / [19, 25, 2, 106, 0]\n",
      "current brightness: 1300, ideal 1250, diff -50 : [28, 24, 2, 103, 0] / [18, 24, 2, 103, 0]\n",
      "current brightness: 1250, ideal 1250, diff 0 : [27, 23, 2, 100, 0] / [17, 23, 2, 100, 0]\n",
      "selected: [4800, 4, 27, 23, 2, 100]\n",
      "Adjusting lamp Kelvin to 4800K with [-1, 0, 1, 0]/[-10, 0, 10, 0] steps\n",
      "current Kelvin: 5167K, ideal 4800K, diff -367K : [27, 23, 2, 100, 0] / [17, 23, 2, 100, 0]\n",
      "current Kelvin: 4955K, ideal 4800K, diff -155K : [28, 23, 1, 100, 0] / [18, 23, 1, 100, 0]\n",
      "current Kelvin: 4787K, ideal 4800K, diff 13K : [29, 23, 0, 100, 0] / [19, 23, 0, 100, 0]\n",
      "current Kelvin: 4958K, ideal 4800K, diff -158K : [28, 23, 1, 100, 0] / [18, 23, 1, 100, 0]\n",
      "current Kelvin: 4789K, ideal 4800K, diff 11K : [29, 23, 0, 100, 0] / [19, 23, 0, 100, 0]\n",
      "Looping condition, assuming the best possible solution achived\n",
      "selected: [4800, 4, 29, 23, 0, 100]\n",
      "Adjusting lamp dUV to +/- 0.003 in 4800K with [0, 1, 0, 0]/[0, 30, 0, 0] steps\n",
      "current dUV: -0.0014, ideal 0.0000, diff -0.0014 : [29, 23, 0, 100, 0] / [19, 23, 0, 100, 0]\n",
      "current dUV: -0.0005, ideal 0.0000, diff -0.0005 : [29, 24, 0, 100, 0] / [19, 24, 0, 100, 0]\n",
      "current dUV: 0.0004, ideal 0.0000, diff 0.0004 : [29, 25, 0, 100, 0] / [19, 25, 0, 100, 0]\n",
      "current dUV: -0.0005, ideal 0.0000, diff -0.0005 : [29, 24, 0, 100, 0] / [19, 24, 0, 100, 0]\n",
      "current dUV: 0.0004, ideal 0.0000, diff 0.0004 : [29, 25, 0, 100, 0] / [19, 25, 0, 100, 0]\n",
      "Looping condition, assuming the best possible solution achived\n",
      "selected: [4800, 4, 29, 25, 0, 100]\n",
      "Writing calibratrion:\n",
      "\n",
      "Cw2 4 1250 29 25 0 100\n",
      "\n",
      "{\"wb\":2, \"brightness\":4, \"lux\":1250, \"r\":29, \"g\":25, \"b\":0, \"w\":100,\"Timestamp\":1702970139280094300}\n",
      "Temperature: 4847K\n",
      "dUv: 0.0004\n",
      "Brightness: 1280lx\n",
      "Debug newDataLine: {'wb': [4800], 'brightness_point': [4], 'kelvin': [4847], 'duv': [0.0004], 'lux': [1280]}\n",
      "Adjusting lamp brightness to 625lx in 4800K with [1, 1, 0, 3]/[11, 10, 0, 26] steps\n",
      "current brightness: 897, ideal 625, diff -272 : [22, 14, 1, 72, 0] / [14, 14, 1, 72, 0]\n",
      "current brightness: 517, ideal 625, diff 108 : [11, 4, 1, 46, 0] / [7, 4, 1, 46, 0]\n",
      "current brightness: 517, ideal 625, diff 108 : [12, 5, 1, 49, 0] / [7, 5, 1, 49, 0]\n",
      "current brightness: 517, ideal 625, diff 108 : [13, 6, 1, 52, 0] / [8, 6, 1, 52, 0]\n",
      "current brightness: 517, ideal 625, diff 108 : [14, 7, 1, 55, 0] / [9, 7, 1, 55, 0]\n",
      "current brightness: 517, ideal 625, diff 108 : [15, 8, 1, 58, 0] / [9, 8, 1, 58, 0]\n",
      "current brightness: 517, ideal 625, diff 108 : [16, 9, 1, 61, 0] / [10, 9, 1, 61, 0]\n",
      "current brightness: 517, ideal 625, diff 108 : [17, 10, 1, 64, 0] / [11, 10, 1, 64, 0]\n",
      "current brightness: 517, ideal 625, diff 108 : [18, 11, 1, 67, 0] / [11, 11, 1, 67, 0]\n",
      "selected: [4800, 3, 11, 4, 1, 46]\n",
      "Adjusting lamp Kelvin to 4800K with [-1, 0, 1, 0]/[-10, 0, 10, 0] steps\n",
      "list index out of range\n",
      "Using 10s cooldown and will try again 1/6\n"
     ]
    },
    {
     "ename": "KeyboardInterrupt",
     "evalue": "",
     "output_type": "error",
     "traceback": [
      "\u001b[1;31m---------------------------------------------------------------------------\u001b[0m",
      "\u001b[1;31mKeyboardInterrupt\u001b[0m                         Traceback (most recent call last)",
      "File \u001b[1;32m<timed exec>:70\u001b[0m\n",
      "File \u001b[1;32m<timed exec>:47\u001b[0m, in \u001b[0;36mcalKelvinRange\u001b[1;34m(KelvinTemp, readCalibration, writeCalibration)\u001b[0m\n",
      "Cell \u001b[1;32mIn [13], line 20\u001b[0m, in \u001b[0;36mcalRange\u001b[1;34m(KelvinTemp, BrightnessV, readCalibration, writeCalibration)\u001b[0m\n\u001b[0;32m     17\u001b[0m     lamp1\u001b[38;5;241m.\u001b[39mread()\n\u001b[0;32m     19\u001b[0m calibration_points \u001b[38;5;241m=\u001b[39m lamp1\u001b[38;5;241m.\u001b[39mAdjustLux(BrightnessV,KelvinTemp, calibration_points)\n\u001b[1;32m---> 20\u001b[0m calibration_points \u001b[38;5;241m=\u001b[39m \u001b[43mlamp1\u001b[49m\u001b[38;5;241;43m.\u001b[39;49m\u001b[43mAdjustKelvin\u001b[49m\u001b[43m(\u001b[49m\u001b[43mBrightnessV\u001b[49m\u001b[43m,\u001b[49m\u001b[43mKelvinTemp\u001b[49m\u001b[43m,\u001b[49m\u001b[43m \u001b[49m\u001b[43mcalibration_points\u001b[49m\u001b[43m)\u001b[49m\n\u001b[0;32m     21\u001b[0m calibration_points \u001b[38;5;241m=\u001b[39m lamp1\u001b[38;5;241m.\u001b[39mAdjustDuv(BrightnessV,KelvinTemp, calibration_points)\n\u001b[0;32m     23\u001b[0m \u001b[38;5;66;03m#write calibration to lamp\u001b[39;00m\n",
      "File \u001b[1;32m~\\AppData\\Local\\Temp\\ipykernel_44884\\1516092369.py:472\u001b[0m, in \u001b[0;36mapollo_device.AdjustKelvin\u001b[1;34m(self, CurBrightnessId, CurKelvinId, lutIn, sleepMult)\u001b[0m\n\u001b[0;32m    470\u001b[0m time\u001b[38;5;241m.\u001b[39msleep(sleep)\n\u001b[0;32m    471\u001b[0m color_raw \u001b[38;5;241m=\u001b[39m [redActual, \u001b[38;5;28mself\u001b[39m\u001b[38;5;241m.\u001b[39mcolor[\u001b[38;5;241m1\u001b[39m], \u001b[38;5;28mself\u001b[39m\u001b[38;5;241m.\u001b[39mcolor[\u001b[38;5;241m2\u001b[39m], \u001b[38;5;28mself\u001b[39m\u001b[38;5;241m.\u001b[39mcolor[\u001b[38;5;241m3\u001b[39m], \u001b[38;5;28mself\u001b[39m\u001b[38;5;241m.\u001b[39mcolor[\u001b[38;5;241m4\u001b[39m]]\n\u001b[1;32m--> 472\u001b[0m curKelvin \u001b[38;5;241m=\u001b[39m \u001b[38;5;28;43mself\u001b[39;49m\u001b[38;5;241;43m.\u001b[39;49m\u001b[43mSekKelvin\u001b[49m\u001b[38;5;241;43m.\u001b[39;49m\u001b[43mupdate\u001b[49m\u001b[43m(\u001b[49m\u001b[43m)\u001b[49m\n\u001b[0;32m    473\u001b[0m diff \u001b[38;5;241m=\u001b[39m kelvinIdeal \u001b[38;5;241m-\u001b[39m curKelvin\n\u001b[0;32m    474\u001b[0m \u001b[38;5;28mself\u001b[39m\u001b[38;5;241m.\u001b[39mkelvinLast\u001b[38;5;241m.\u001b[39mappend([curKelvin, diff] \u001b[38;5;241m+\u001b[39m \u001b[38;5;28mself\u001b[39m\u001b[38;5;241m.\u001b[39mcolor)\n",
      "File \u001b[1;32m~\\AppData\\Local\\Temp\\ipykernel_44884\\1695681130.py:203\u001b[0m, in \u001b[0;36mscope.update\u001b[1;34m(self)\u001b[0m\n\u001b[0;32m    201\u001b[0m \u001b[38;5;28;01mfor\u001b[39;00m i \u001b[38;5;129;01min\u001b[39;00m \u001b[38;5;28mrange\u001b[39m(\u001b[38;5;241m7\u001b[39m):\n\u001b[0;32m    202\u001b[0m     \u001b[38;5;28;01mtry\u001b[39;00m:\n\u001b[1;32m--> 203\u001b[0m         \u001b[38;5;28;43mself\u001b[39;49m\u001b[38;5;241;43m.\u001b[39;49m\u001b[43m_update_preview\u001b[49m\u001b[43m(\u001b[49m\u001b[43m)\u001b[49m\n\u001b[0;32m    204\u001b[0m         \u001b[38;5;28mself\u001b[39m\u001b[38;5;241m.\u001b[39mlastVal \u001b[38;5;241m=\u001b[39m \u001b[38;5;28mself\u001b[39m\u001b[38;5;241m.\u001b[39mget_val()\n\u001b[0;32m    205\u001b[0m         sucess \u001b[38;5;241m=\u001b[39m \u001b[38;5;28;01mTrue\u001b[39;00m\n",
      "File \u001b[1;32m~\\AppData\\Local\\Temp\\ipykernel_44884\\1695681130.py:97\u001b[0m, in \u001b[0;36mscope._update_preview\u001b[1;34m(self, event)\u001b[0m\n\u001b[0;32m     96\u001b[0m \u001b[38;5;28;01mdef\u001b[39;00m \u001b[38;5;21m_update_preview\u001b[39m(\u001b[38;5;28mself\u001b[39m, event\u001b[38;5;241m=\u001b[39m\u001b[38;5;241m0\u001b[39m):\n\u001b[1;32m---> 97\u001b[0m     \u001b[38;5;28;43mself\u001b[39;49m\u001b[38;5;241;43m.\u001b[39;49m\u001b[43m_update_image\u001b[49m\u001b[43m(\u001b[49m\u001b[43m)\u001b[49m\n\u001b[0;32m     98\u001b[0m     location_size \u001b[38;5;241m=\u001b[39m \u001b[38;5;241m10\u001b[39m\n\u001b[0;32m     99\u001b[0m     location_color \u001b[38;5;241m=\u001b[39m (\u001b[38;5;241m255\u001b[39m,\u001b[38;5;241m255\u001b[39m,\u001b[38;5;241m0\u001b[39m)\n",
      "File \u001b[1;32m~\\AppData\\Local\\Temp\\ipykernel_44884\\1695681130.py:132\u001b[0m, in \u001b[0;36mscope._update_image\u001b[1;34m(self)\u001b[0m\n\u001b[0;32m    131\u001b[0m \u001b[38;5;28;01mdef\u001b[39;00m \u001b[38;5;21m_update_image\u001b[39m(\u001b[38;5;28mself\u001b[39m):\n\u001b[1;32m--> 132\u001b[0m     camera \u001b[38;5;241m=\u001b[39m \u001b[43mcv2\u001b[49m\u001b[38;5;241;43m.\u001b[39;49m\u001b[43mVideoCapture\u001b[49m\u001b[43m(\u001b[49m\u001b[43mcam\u001b[49m\u001b[43m)\u001b[49m\n\u001b[0;32m    133\u001b[0m     _, img \u001b[38;5;241m=\u001b[39m camera\u001b[38;5;241m.\u001b[39mread()            \n\u001b[0;32m    134\u001b[0m     \u001b[38;5;28;01mtry\u001b[39;00m:\n",
      "\u001b[1;31mKeyboardInterrupt\u001b[0m: "
     ]
    }
   ],
   "source": [
    "%%time\n",
    "\n",
    "startCalib = 2     # 0 0-5 [2800,3200,4800,5600,7800,10000]\n",
    "endCalib = 5       # 5 0-5 [2800,3200,4800,5600,7800,10000]\n",
    "brightnessSart = 7 # 7 1-7 \n",
    "readCalibration = True\n",
    "writeCalibration = True\n",
    "maxTries = 30\n",
    "allowedRanges = [\n",
    "    [0,0.0000,0],\n",
    "    [1,0.0050,500],\n",
    "    [2,0.0020,300],\n",
    "    [3,0.0005,200],\n",
    "    [4,0.0005,100],\n",
    "    [5,0.0005,100],\n",
    "    [6,0.0005,100],\n",
    "    [7,0.0005,100]]\n",
    "\n",
    "def calKelvinRange(KelvinTemp = 2, readCalibration = True, writeCalibration = True):\n",
    "    global calibration_points, data, mergedLux;\n",
    "\n",
    "    if readCalibration:\n",
    "        print(\"Loading calibartion from lamp\\n\")\n",
    "        lamp1.send((\"Cr\"+str(KelvinTemp)+\" \"+str(brightnessSart+1)+\" \\n\").encode('utf-8'))\n",
    "        lamp1.read()\n",
    "        jsonString = \"{\"+lamp1.lastValAsJsonString[1:-1]+\"}\"\n",
    "        jsonObject = eval(jsonString)\n",
    "\n",
    "        print(\"loaded values: \"+str(jsonObject)+\"\\n\")\n",
    "        calibration_points[KelvinTemp][8][2] = jsonObject['r']\n",
    "        calibration_points[KelvinTemp][8][3] = jsonObject['g']\n",
    "        calibration_points[KelvinTemp][8][4] = jsonObject['b']\n",
    "        calibration_points[KelvinTemp][8][5] = jsonObject['w']\n",
    "\n",
    "        # The answer is 2 line, so to clear the buffer\n",
    "        lamp1.read()\n",
    "\n",
    "    for lx in reversed(range(1,brightnessSart+1)):\n",
    "        if lx == 7:\n",
    "            ratio = mergedLux[KelvinTemp][lx+1] / mergedLux[KelvinTemp][lx]\n",
    "            calibration_points[KelvinTemp][lx] = [round(x/ratio) for x in calibration_points[KelvinTemp][lx+1]]\n",
    "\n",
    "        done = False\n",
    "        \n",
    "        # try N times to get the dUV & Kelvin difference low enough\n",
    "        for i in range(maxTries):\n",
    "            if done:\n",
    "                break\n",
    "            measured = calRange(KelvinTemp=KelvinTemp,BrightnessV=lx,readCalibration=False,writeCalibration=writeCalibration)\n",
    "            if (abs(measured[1]) < allowedRanges[lx][1]) and (abs(measured[0]-KelvinRangeIds[kelvin]) < allowedRanges[lx][2]):\n",
    "                done = True\n",
    "        \n",
    "        if done:\n",
    "            # record final results for proofing\n",
    "            newDataLine = {\n",
    "                'wb': [KelvinRangeIds[KelvinTemp]],\n",
    "                'brightness_point': [lx],\n",
    "                'kelvin': [measured[0]],\n",
    "                'duv': [measured[1]],\n",
    "                'lux': [measured[2]]\n",
    "            }\n",
    "            newDataLineDf = pd.DataFrame(newDataLine)\n",
    "            print(\"Debug newDataLine: \"+str(newDataLine))\n",
    "            if data is None:\n",
    "                data = newDataLineDf\n",
    "            else:\n",
    "                data = pd.concat([data, newDataLineDf], ignore_index=True)\n",
    "        \n",
    "# \n",
    "for kelvin in range(startCalib,endCalib+1):\n",
    "    print(f\"starting kelvin range {KelvinRangeIds[kelvin]}\\n\")\n",
    "    calKelvinRange(KelvinTemp=kelvin,readCalibration=readCalibration,writeCalibration=writeCalibration)\n",
    "    "
   ]
  },
  {
   "cell_type": "code",
   "execution_count": null,
   "id": "87d0fa28-1b93-457a-b6b5-5a8936971477",
   "metadata": {},
   "outputs": [],
   "source": [
    "import datetime\n",
    "\n",
    "# Save Log\n",
    "file_path = sharedFolder+\"Apollo\"+str(lamp1.macId)+\"_\"+datetime.datetime.now().strftime(\"%d%m%Y_%H%M%S\")+\"caliblog.csv\"\n",
    "data.to_csv(file_path, index=False)\n",
    "print(\"Saved to: \"+file_path)\n",
    "\n",
    "# Save Calibration\n",
    "with open(sharedFolder+\"Apollo\"+str(lamp1.macId)+\"_\"+datetime.datetime.now().strftime(\"%d%m%Y_%H%M%S\")+\"calib.py\", \"w\") as file:\n",
    "    file.write(str(calibration_points))\n"
   ]
  },
  {
   "cell_type": "code",
   "execution_count": null,
   "id": "524dec83-f413-4ab5-be7e-f2147c29cbe0",
   "metadata": {},
   "outputs": [],
   "source": [
    "from mitosheet import *; register_analysis(\"id-uhsskvzpjn\");\n",
    "\n",
    "# Filtered duv\n",
    "data = data[data['duv'] > 0.001]\n",
    "\n",
    "# Formatted dataframes. View these styling objects to see the formatted dataframe\n",
    "data_styler = data.style\\\n",
    "    .format(\"{:.4f}\", subset=['duv'])\n"
   ]
  },
  {
   "cell_type": "code",
   "execution_count": null,
   "id": "aa9b2ca4-db15-4d65-9d17-b083588d05c3",
   "metadata": {},
   "outputs": [],
   "source": []
  },
  {
   "cell_type": "code",
   "execution_count": null,
   "id": "7f2e902f-7671-4ba2-96f5-4d38d8f70cda",
   "metadata": {},
   "outputs": [],
   "source": [
    "playSucess()"
   ]
  },
  {
   "cell_type": "code",
   "execution_count": null,
   "id": "94543c1e-8098-461b-addc-18cb120fad52",
   "metadata": {},
   "outputs": [],
   "source": [
    "'''\n",
    "cmd = \"Cr5 8\\n\"\n",
    "lamp1.send(cmd.encode('utf-8'))\n",
    "lamp1.read()\n",
    "print(lamp1.lastValAsJsonString)\n",
    "'''"
   ]
  },
  {
   "cell_type": "code",
   "execution_count": null,
   "id": "32734369-6451-4d72-9fd4-603234bbc33f",
   "metadata": {},
   "outputs": [],
   "source": [
    "'''\n",
    "cmd = \"Cw5 1 100 30 30 21 \\n\"\n",
    "lamp1.send(cmd.encode('utf-8'))\n",
    "lamp1.read()\n",
    "print(lamp1.lastValAsJsonString)\n",
    "'''"
   ]
  }
 ],
 "metadata": {
  "kernelspec": {
   "display_name": "Python 3 (ipykernel)",
   "language": "python",
   "name": "python3"
  },
  "language_info": {
   "codemirror_mode": {
    "name": "ipython",
    "version": 3
   },
   "file_extension": ".py",
   "mimetype": "text/x-python",
   "name": "python",
   "nbconvert_exporter": "python",
   "pygments_lexer": "ipython3",
   "version": "3.10.7"
  }
 },
 "nbformat": 4,
 "nbformat_minor": 5
}
