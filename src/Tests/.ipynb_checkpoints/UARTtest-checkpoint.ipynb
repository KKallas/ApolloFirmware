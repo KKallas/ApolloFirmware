{
 "cells": [
  {
   "cell_type": "markdown",
   "id": "8fbc5fe9-bbec-4559-a6b0-5f4cc0f9bfed",
   "metadata": {
    "tags": []
   },
   "source": [
    "### Test Description:\n",
    "This Python test script is designed to check the response from an Arduino device connected through UART communication. This basic communications test for message response, checksum and multimessage sending.\n",
    "\n",
    "### GIT issue\n",
    "https://github.com/KKallas/ApolloFirmware/issues/7\n",
    "\n",
    "# How to Use the Test Script:\n",
    "\n",
    "## Prerequisites:\n",
    "Use Jupyter-Lab and Serial library\n",
    "Make sure the lamp is connected to computer Serial port (USB)\n",
    "\n",
    "# Run the Test:\n",
    "Execute the Python cells below:\n",
    "The script will send the multipart test message ```DS00->//DS01->Hello:101//000:::``` to the Arduino device.\n",
    "It will receive and analyze the responses from the Arduino.\n",
    "\n",
    "* Check if serial port is connected\n",
    "* Check if lamp is powered\n",
    "* Check if arduino ide or something else is not hogging the com port"
   ]
  },
  {
   "cell_type": "markdown",
   "id": "11cbddc7-aae6-4940-879b-c6c08d660621",
   "metadata": {},
   "source": [
    "# Setup"
   ]
  },
  {
   "cell_type": "code",
   "execution_count": 43,
   "id": "665303fc-80ca-4b78-adf7-afbc7ea2e3e2",
   "metadata": {},
   "outputs": [
    {
     "name": "stdout",
     "output_type": "stream",
     "text": [
      "DS10->Hello World//05DD:::\n"
     ]
    }
   ],
   "source": [
    "def calculate_checksum(input_string):\n",
    "    checksum = 0\n",
    "    \n",
    "    for char in input_string:\n",
    "        checksum += ord(char)\n",
    "        checksum &= 0xFFFF  # Ensure it remains a 2-byte value\n",
    "        \n",
    "    return checksum\n",
    "\n",
    "command = \"DS10->Hello World\"\n",
    "checksum = calculate_checksum(command + '//')\n",
    "print(command + '//' + '{:04X}'.format(checksum) + ':::')"
   ]
  },
  {
   "cell_type": "code",
   "execution_count": 44,
   "id": "5fbfdbb3-0fa4-48cc-a039-ad3dabf7ab31",
   "metadata": {},
   "outputs": [],
   "source": [
    "import serial\n",
    "import time\n",
    "\n",
    "# Define the UART settings\n",
    "baud_rate = 115200 #250000  # Baud rate (bits per second)\n",
    "serial_port = 'COM6'  # Replace with your Arduino's serial port\n",
    "# Open the serial port\n",
    "ser = serial.Serial(serial_port, baud_rate, timeout=2, dsrdtr=None)\n",
    "# Create a function to send a multi-command message and receive responses\n",
    "def communicate_with_arduino(commands):\n",
    "    try:\n",
    "        # Clear any initial data in the buffer\n",
    "        while ser.in_waiting > 0:\n",
    "            ser.readline()\n",
    "            \n",
    "        ser.write(multi_command_message.encode())\n",
    "        responses = []\n",
    "        \n",
    "        # Read and store responses until a timeout occurs\n",
    "        while True:\n",
    "            response = ser.readline().decode()\n",
    "            if not response:\n",
    "                break\n",
    "            responses.append(response)\n",
    "\n",
    "        return responses\n",
    "\n",
    "    except Exception as e:\n",
    "        print(e)\n",
    "        return [\"ERROR\"]"
   ]
  },
  {
   "cell_type": "markdown",
   "id": "1b0d40c8-05be-43c4-bcf6-d05888d791d6",
   "metadata": {
    "tags": []
   },
   "source": [
    "# Single Package tests"
   ]
  },
  {
   "cell_type": "markdown",
   "id": "9b2df717-d856-45d9-ad53-5694300a3fc8",
   "metadata": {},
   "source": [
    "## Response test\n",
    "This test sends a multi-command message to an Arduino with checksum replaced with 0000, searching for a response that starts with \"DS10\" and boasts a payload commencing with \"Hello World,\" affirming the test's success if such a response materializes, or pronouncing failure if no such package emerges from the Arduino's responses."
   ]
  },
  {
   "cell_type": "code",
   "execution_count": 45,
   "id": "d37ac0ad-3e88-41f0-8e11-43e73f14843e",
   "metadata": {},
   "outputs": [
    {
     "name": "stdout",
     "output_type": "stream",
     "text": [
      "\u001b[32mTest passed.\u001b[0m Arduino responded with a matching package.\n"
     ]
    }
   ],
   "source": [
    "# Define the multi-command message with multiple commands\n",
    "multi_command_message = \"DS99->Hello World//0000:::\\n\"\n",
    "\n",
    "# Send the multi-command message to Arduino and receive responses\n",
    "responses = communicate_with_arduino(multi_command_message)\n",
    "\n",
    "# Check if any response starts with \"DS10\" and has a payload starting with \"Apollo\"\n",
    "found_matching_response = False\n",
    "for response in responses:\n",
    "    if response.startswith(\"DS10\") and response.split(\"->\")[1].startswith(\"Hello World\"):\n",
    "        found_matching_response = True\n",
    "        break\n",
    "\n",
    "if found_matching_response:\n",
    "    print(\"\\033[32mTest passed.\\033[0m Arduino responded with a matching package.\")\n",
    "else:\n",
    "    print(\"Test failed.\\033[0m No matching package found in Arduino's responses.\")\n"
   ]
  },
  {
   "cell_type": "markdown",
   "id": "2d781ad4-12e8-4e3c-9ef5-22788aa0e85c",
   "metadata": {},
   "source": [
    "## Checksum test\n",
    "This test extracts a hexadecimal checksum from the first response, converts it to an integer, and then compares it to a recalculated checksum from the rest of the response. If they match, the test triumphs with a declaration of the Arduino's correctness; otherwise, it confesses failure due to a checksum mismatch."
   ]
  },
  {
   "cell_type": "code",
   "execution_count": 56,
   "id": "3d5fe629-d8c2-43f3-98c4-01b7360f6268",
   "metadata": {},
   "outputs": [
    {
     "name": "stdout",
     "output_type": "stream",
     "text": [
      "\u001b[32mTest passed.\u001b[0m Arduino responded with a correct checksum.\n"
     ]
    }
   ],
   "source": [
    "originalChecksumAsInt = int(responses[0][-9:-5],16)\n",
    "if calculate_checksum(responses[0][:-9]) == originalChecksumAsInt:\n",
    "    print(\"\\033[32mTest passed.\\033[0m Arduino responded with a correct checksum.\")\n",
    "else:\n",
    "    print(\"\\033[31mTest failed.\\033[0m Checksum does not match.\")"
   ]
  },
  {
   "cell_type": "markdown",
   "id": "a0fc172b-bc4a-440e-8482-8e07303fc992",
   "metadata": {},
   "source": [
    "## Checksummed response\n",
    "This test sends a multi-command message to an Arduino with **correct checkum** searching for a response that starts with \"DS10\" and boasts a payload commencing with \"Hello World,\" affirming the test's success if such a response materializes, or pronouncing failure if no such package emerges from the Arduino's responses."
   ]
  },
  {
   "cell_type": "code",
   "execution_count": 57,
   "id": "0c31a57a-7135-4b8b-b838-661a11d4db80",
   "metadata": {},
   "outputs": [
    {
     "name": "stdout",
     "output_type": "stream",
     "text": [
      "\u001b[32mTest passed.\u001b[0m Arduino responded with a matching package.\n"
     ]
    }
   ],
   "source": [
    "# Define the multi-command message with multiple commands\n",
    "multi_command_message = \"DS99->Hello World//05EE:::\\n\"\n",
    "\n",
    "# Send the multi-command message to Arduino and receive responses\n",
    "responses = communicate_with_arduino(multi_command_message)\n",
    "\n",
    "# Check if any response starts with \"DS10\" and has a payload starting with \"Apollo\"\n",
    "found_matching_response = False\n",
    "for response in responses:\n",
    "    if response.startswith(\"DS10\") and response.split(\"->\")[1].startswith(\"Hello World\"):\n",
    "        found_matching_response = True\n",
    "        break\n",
    "\n",
    "if found_matching_response:\n",
    "    print(\"\\033[32mTest passed.\\033[0m Arduino responded with a matching package.\")\n",
    "else:\n",
    "    print(\"\\033[31mTest failed.\\033[0m No matching package found in Arduino's responses.\")\n"
   ]
  },
  {
   "cell_type": "markdown",
   "id": "56ef3b53-7cb5-49ef-97e6-902189c2a8cb",
   "metadata": {},
   "source": [
    "## Incorrect checksummed response\n",
    "This test sends a multi-command message to an Arduino with **incorrect checkum** searching for a response that starts with \"DS10\" and boasts a payload commencing with \"Hello World,\" affirming the test's success if such a response materializes, or pronouncing failure if no such package emerges from the Arduino's responses."
   ]
  },
  {
   "cell_type": "code",
   "execution_count": 58,
   "id": "e44a8ef2-255b-41e4-804a-0792a1b28ef4",
   "metadata": {},
   "outputs": [
    {
     "name": "stdout",
     "output_type": "stream",
     "text": [
      "\u001b[32mTest passed.\u001b[0m Arduino did not respond with a matching package.\n"
     ]
    }
   ],
   "source": [
    "# Define the multi-command message with multiple commands\n",
    "multi_command_message = \"DS99->Hello World//05A1:::\\n\"\n",
    "\n",
    "# Send the multi-command message to Arduino and receive responses\n",
    "responses = communicate_with_arduino(multi_command_message)\n",
    "\n",
    "# Check if any response starts with \"DS10\" and has a payload starting with \"Apollo\"\n",
    "found_matching_response = False\n",
    "for response in responses:\n",
    "    if response.startswith(\"DS10\") and response.split(\"->\")[1].startswith(\"Hello World\"):\n",
    "        found_matching_response = True\n",
    "        break\n",
    "\n",
    "if found_matching_response:\n",
    "    print(\"\\033[31mTest failed.\\033[0m Arduino responded with a matching package.\")\n",
    "else:\n",
    "    print(\"\\033[32mTest passed.\\033[0m Arduino did not respond with a matching package.\")\n"
   ]
  },
  {
   "cell_type": "markdown",
   "id": "86df45ad-4ddd-4f03-adee-c1c8a3bf2a6e",
   "metadata": {},
   "source": [
    "# Multipackage tests"
   ]
  },
  {
   "cell_type": "markdown",
   "id": "ab5cf8cf-a1ea-4d9c-91e3-649ce86a2ecc",
   "metadata": {},
   "source": [
    "## 2 Payload test\n",
    "This test dispatches a multi-command message to the Arduino, eagerly awaiting a response. It meticulously examines the second response, scrutinizing it for the presence of the cherished phrase \"This is me.\" If this revered phrase emerges from the Arduino's reply, the test graciously bestows a verdant success"
   ]
  },
  {
   "cell_type": "code",
   "execution_count": 83,
   "id": "36480d62-a85d-4d6e-bfcc-b46008b49a43",
   "metadata": {},
   "outputs": [
    {
     "name": "stdout",
     "output_type": "stream",
     "text": [
      "\u001b[32mTest passed.\u001b[0m Arduino responded with a matching package.\n"
     ]
    }
   ],
   "source": [
    "# Define the multi-command message with multiple commands\n",
    "multi_command_message = \"DS99->Hello World//DS99->This is me//0B46:::\\n\"\n",
    "\n",
    "# Send the multi-command message to Arduino and receive responses\n",
    "responses = communicate_with_arduino(multi_command_message)\n",
    "\n",
    "if responses[1][6:16] == \"This is me\":\n",
    "    print(\"\\033[32mTest passed.\\033[0m Arduino responded with a matching package.\")\n",
    "else:\n",
    "    print(\"\\033[31mTest failed.\\033[0m No matching package found in Arduino's responses.\")"
   ]
  },
  {
   "cell_type": "markdown",
   "id": "806acb11-e4d0-4be0-bf53-8051d6b43ad9",
   "metadata": {},
   "source": [
    "No Parameters in the 1st command"
   ]
  },
  {
   "cell_type": "code",
   "execution_count": 84,
   "id": "af464669-ff90-4339-bede-be4befa076e1",
   "metadata": {},
   "outputs": [
    {
     "name": "stdout",
     "output_type": "stream",
     "text": [
      "\u001b[32mTest passed.\u001b[0m Arduino responded with a matching package.\n"
     ]
    }
   ],
   "source": [
    "# Define the multi-command message with multiple commands\n",
    "multi_command_message = \"DS99->//DS99->This is me//072A:::\\n\"\n",
    "\n",
    "# Send the multi-command message to Arduino and receive responses\n",
    "responses = communicate_with_arduino(multi_command_message)\n",
    "\n",
    "if responses[1][6:16] == \"This is me\":\n",
    "    print(\"\\033[32mTest passed.\\033[0m Arduino responded with a matching package.\")\n",
    "else:\n",
    "    print(\"\\033[31mTest failed.\\033[0m No matching package found in Arduino's responses.\")"
   ]
  },
  {
   "cell_type": "markdown",
   "id": "e64e8bac-465e-475b-bfd6-555dc21a1733",
   "metadata": {},
   "source": [
    "No Parameters and no paramter seprator in the 1st command"
   ]
  },
  {
   "cell_type": "code",
   "execution_count": 85,
   "id": "972582d2-a0b0-440a-82df-6fa75d2a4240",
   "metadata": {},
   "outputs": [
    {
     "name": "stdout",
     "output_type": "stream",
     "text": [
      "\u001b[32mTest passed.\u001b[0m Arduino responded with a matching package.\n"
     ]
    }
   ],
   "source": [
    "# Define the multi-command message with multiple commands\n",
    "multi_command_message = \"DS99//DS99->This is me//06BF:::\\n\"\n",
    "\n",
    "# Send the multi-command message to Arduino and receive responses\n",
    "responses = communicate_with_arduino(multi_command_message)\n",
    "\n",
    "if responses[1][6:16] == \"This is me\":\n",
    "    print(\"\\033[32mTest passed.\\033[0m Arduino responded with a matching package.\")\n",
    "else:\n",
    "    print(\"\\033[31mTest failed.\\033[0m No matching package found in Arduino's responses.\")"
   ]
  },
  {
   "cell_type": "code",
   "execution_count": 42,
   "id": "cf339675-c190-4dae-95d3-7983ca32ea20",
   "metadata": {},
   "outputs": [],
   "source": [
    "ser.close()"
   ]
  }
 ],
 "metadata": {
  "kernelspec": {
   "display_name": "Python 3 (ipykernel)",
   "language": "python",
   "name": "python3"
  },
  "language_info": {
   "codemirror_mode": {
    "name": "ipython",
    "version": 3
   },
   "file_extension": ".py",
   "mimetype": "text/x-python",
   "name": "python",
   "nbconvert_exporter": "python",
   "pygments_lexer": "ipython3",
   "version": "3.10.7"
  },
  "toc-showcode": false,
  "toc-showmarkdowntxt": false,
  "toc-showtags": false
 },
 "nbformat": 4,
 "nbformat_minor": 5
}
