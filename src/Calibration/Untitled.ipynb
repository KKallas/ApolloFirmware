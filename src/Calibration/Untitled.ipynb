{
 "cells": [
  {
   "cell_type": "markdown",
   "id": "41970ae5-4b0f-40f8-bdd4-d6a9852b2506",
   "metadata": {},
   "source": [
    "- [3] Do 5 lamps to setup repeats\n",
    "- [X] Add limits to all brightness ranges\n",
    "- [X] Fix low calibration 0 values (if max>64 then min=1)\n",
    "- [X] If first 4 are looping then from 5 on force into small step\n",
    "- [X] If Small Step looping skip to next"
   ]
  },
  {
   "cell_type": "code",
   "execution_count": 1,
   "id": "fee72726-1f30-444a-b746-842b86c2e5a4",
   "metadata": {},
   "outputs": [
    {
     "name": "stdout",
     "output_type": "stream",
     "text": [
      "Audio saved as phrase_4.mp3\n"
     ]
    }
   ],
   "source": [
    "from gtts import gTTS\n",
    "import os\n",
    "\n",
    "# Define the phrases\n",
    "phrases = [\"Failure my old friend...\"]\n",
    "\n",
    "# Loop through the phrases and generate audio\n",
    "for index, phrase in enumerate(phrases):\n",
    "    tts = gTTS(phrase)\n",
    "    audio_file = f\"phrase_{index + 4}.mp3\"  # Output audio file name\n",
    "    tts.save(audio_file)\n",
    "\n",
    "    # Play the generated audio (optional)\n",
    "    os.system(f\"start {audio_file}\")\n",
    "\n",
    "    print(f\"Audio saved as {audio_file}\")"
   ]
  },
  {
   "cell_type": "code",
   "execution_count": 1,
   "id": "3fc60776-c18b-407f-8cf2-cd7c673fcefe",
   "metadata": {},
   "outputs": [
    {
     "name": "stdout",
     "output_type": "stream",
     "text": [
      "pygame 2.1.2 (SDL 2.0.18, Python 3.10.7)\n",
      "Hello from the pygame community. https://www.pygame.org/contribute.html\n"
     ]
    }
   ],
   "source": [
    "import pygame\n",
    "\n",
    "pygame.mixer.init()\n",
    "pygame.mixer.music.load('phrase_1.mp3')\n",
    "pygame.mixer.music.play()\n"
   ]
  },
  {
   "cell_type": "code",
   "execution_count": 4,
   "id": "431b5274-d617-431e-a26e-339db0934025",
   "metadata": {},
   "outputs": [],
   "source": [
    "import time\n",
    "import pyautogui\n",
    "\n",
    "def lock_mouse(duration):\n",
    "    original_position = pyautogui.position()  # Save the original mouse position\n",
    "    end_time = time.time() + duration\n",
    "    while time.time() < end_time:\n",
    "        pyautogui.moveTo(original_position)  # Continuously move the mouse to the original position\n",
    "    pyautogui.moveTo(original_position)  # Move the mouse back to the original position after the duration\n",
    "\n",
    "# Lock the mouse for 1 second\n",
    "lock_mouse(10)"
   ]
  },
  {
   "cell_type": "code",
   "execution_count": 5,
   "id": "58253f8e-d135-4b92-8460-d140b11dd14e",
   "metadata": {},
   "outputs": [],
   "source": [
    "test = [1,2,3]"
   ]
  },
  {
   "cell_type": "code",
   "execution_count": 6,
   "id": "0ae5cedb-7b52-428a-bef4-af2ea543dd1a",
   "metadata": {},
   "outputs": [
    {
     "data": {
      "text/plain": [
       "3"
      ]
     },
     "execution_count": 6,
     "metadata": {},
     "output_type": "execute_result"
    }
   ],
   "source": [
    "test[-1]"
   ]
  },
  {
   "cell_type": "code",
   "execution_count": 4,
   "id": "346ef421-82f7-462a-b48e-ffd7d0be75bf",
   "metadata": {},
   "outputs": [
    {
     "data": {
      "text/plain": [
       "(9.324009324009324e-13, 1072500000000.0)"
      ]
     },
     "execution_count": 4,
     "metadata": {},
     "output_type": "execute_result"
    }
   ],
   "source": [
    "# Given clock frequency\n",
    "clock_frequency_hz = 33_000_000  # 33 MHz\n",
    "\n",
    "# Calculate clock period (time for one cycle)\n",
    "clock_period_s = 1 / clock_frequency_hz\n",
    "\n",
    "# Calculate toggle time (time to switch on and off once)\n",
    "toggle_time_s = 2 * clock_period_s / 65000\n",
    "toggle_time_s, 1 / toggle_time_s  # Toggle time in seconds and toggles per second\n",
    "\n"
   ]
  },
  {
   "cell_type": "code",
   "execution_count": null,
   "id": "1221c1cc-dbd0-4388-9746-a123ce82ae2d",
   "metadata": {},
   "outputs": [],
   "source": []
  }
 ],
 "metadata": {
  "kernelspec": {
   "display_name": "Python 3 (ipykernel)",
   "language": "python",
   "name": "python3"
  },
  "language_info": {
   "codemirror_mode": {
    "name": "ipython",
    "version": 3
   },
   "file_extension": ".py",
   "mimetype": "text/x-python",
   "name": "python",
   "nbconvert_exporter": "python",
   "pygments_lexer": "ipython3",
   "version": "3.10.7"
  }
 },
 "nbformat": 4,
 "nbformat_minor": 5
}
