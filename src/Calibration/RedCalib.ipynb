{
 "cells": [
  {
   "cell_type": "markdown",
   "id": "f7d954d8-481e-4312-8ed4-d38cec503d23",
   "metadata": {},
   "source": [
    "# Red Calibration for DS Apollo fixture\n",
    "\n",
    "## Checklist\n",
    " - [ ] Calibration Tube\n",
    " - [ ] Sekonik C8000\n",
    "```\n",
    "1. Setup the sekonik, cam, lamp\n",
    "1.1 replace batteries in sekonic and preform black calibartion (DONT FORGET to set the ring back to central position)\n",
    "1.2 attach the sekonik to calibration device, add lamp, run the RedCalib.ino Ardudino project\n",
    "```\n",
    " - [ ] Arduino Fimrware for Red Calibration (arduino link, arduino setup link)\n",
    " - [ ] M5 Camera with sekonik mount (cam product link, sekonik holder Blender/step file)\n",
    "```\n",
    "2. Connect the camera\n",
    "2.1 Connetc computer to ssid: M5UV2_305b (passw: 12345678)\n",
    "2.2 ssh m5stack@10.254.239.1\n",
    "2.3 sudo wpa_passphrase ssid password (12345678)\n",
    "2.4 sudo nano /etc/wpa_supplicant.conf (paste in the previous output)\n",
    "2.5 update camera IP (ie. cam = \"http://192.168.0.108/video_feed\")\n",
    "2.6 reboot the camera\n",
    "2.7 ssh m5stack@10.254.239.1\n",
    "2.8 get the ip for the camera (ifconfig wlan0 | grep inet)\n",
    "2.9 set correct webcam address (cam = \"http://192.168.2.25/video_feed\")\n",
    "```\n",
    " - [ ] Jupyter-lab notebook for the workflow\n",
    "\n",
    "## The software \n",
    "will ask the lamp serial and then prefom RED output measurements from start temp to 85C and output serial_red.csv with temp, lux"
   ]
  },
  {
   "cell_type": "code",
   "execution_count": 11,
   "id": "524cadf4-c760-43da-a31d-d8c6c608ed39",
   "metadata": {},
   "outputs": [],
   "source": [
    "cam = \"http://10.254.239.1/video_feed\"\n",
    "\n",
    "import cv2\n",
    "import easyocr\n",
    "import sys\n",
    "import os\n",
    "import pandas as pd\n",
    "from ipywidgets import widgets, Image, Output\n",
    "from PIL import Image as Pilimage\n",
    "import numpy as np\n",
    "\n",
    "class scope():\n",
    "    def __init__(self):\n",
    "        self.reader = easyocr.Reader(['ch_sim','en'])\n",
    "        \n",
    "        self.size = [512,512]\n",
    "        \n",
    "        self.output = Output()\n",
    "        self.slider_h = widgets.IntRangeSlider(max=self.size[0], value=(315,450),layout=widgets.Layout(width='90%'),observe=self._update_preview)\n",
    "        self.slider_v = widgets.IntRangeSlider(max=self.size[1], value=(90,140),layout=widgets.Layout(width='90%'),observe=self._update_preview)\n",
    "        \n",
    "        self.offset_x = widgets.IntSlider(max=320//2, min=320//-2, value=0, layout=widgets.Layout(width='90%'),observe=self._update_preview)\n",
    "        self.offset_y = widgets.IntSlider(max=320//2, min=320//-2, value=0, layout=widgets.Layout(width='90%'),observe=self._update_preview)\n",
    "        \n",
    "        self.cropped_display = widgets.Image()\n",
    "        \n",
    "        self._update_image()\n",
    "        \n",
    "        self.slider_h.observe(self._update_preview)\n",
    "        self.slider_v.observe(self._update_preview)\n",
    "        self.offset_x.observe(self._update_preview)\n",
    "        self.offset_y.observe(self._update_preview)\n",
    "        \n",
    "        # Tabbed view for simpler controls\n",
    "        tab_contents = ['Crop', 'Offset']\n",
    "        children = [widgets.VBox([\n",
    "            widgets.Label(value=\"Width:\"),\n",
    "            self.slider_h,\n",
    "            widgets.Label(value=\"Height:\"),\n",
    "            self.slider_v\n",
    "        ]),widgets.VBox([\n",
    "            widgets.Label(value=\"Offset X:\"),\n",
    "            self.offset_x,\n",
    "            widgets.Label(value=\"Offset Y:\"),\n",
    "            self.offset_y\n",
    "        ])]\n",
    "        \n",
    "        tab = widgets.Tab()\n",
    "        tab.children = children\n",
    "        tab.titles = ['Crop', 'Offset']\n",
    "        \n",
    "        self._update_preview()\n",
    "        \n",
    "        display(\n",
    "            tab,\n",
    "            widgets.Label(value=\"Out:\"),\n",
    "            self.cropped_display, \n",
    "            self.output,\n",
    "        )\n",
    "        \n",
    "    def _update_preview(self, event=0):\n",
    "        # Crop the display image out of the full capture\n",
    "        self.cropped = self.image.crop((self.slider_h.value[0],\n",
    "                                        self.slider_v.value[0],\n",
    "                                        self.slider_h.value[1],\n",
    "                                        self.slider_v.value[1]))\n",
    "        self.cropped_display.value = self.cropped._repr_png_()\n",
    "        self.cropped_display.format = 'PNG'\n",
    "    \n",
    "    def _update_image(self):\n",
    "        camera = cv2.VideoCapture(cam)\n",
    "        _, img = camera.read()\n",
    "        img = Pilimage.fromarray(img)\n",
    "        img = img.rotate(-90, expand=True)\n",
    "\n",
    "        self.slider_h.max = img.size[1]\n",
    "        self.slider_v.max = img.size[0]\n",
    "        \n",
    "        self.image = img\n",
    "\n",
    "        camera.release()\n",
    "        \n",
    "    def get_val(self):\n",
    "        return(self.reader.readtext(np.asarray(self.cropped))[0][1])\n",
    "        \n",
    "    "
   ]
  },
  {
   "cell_type": "code",
   "execution_count": 12,
   "id": "3c906e73-2c1f-44af-acc2-e1610a74ecf1",
   "metadata": {},
   "outputs": [
    {
     "name": "stderr",
     "output_type": "stream",
     "text": [
      "CUDA not available - defaulting to CPU. Note: This module is much faster with a GPU.\n"
     ]
    },
    {
     "data": {
      "application/vnd.jupyter.widget-view+json": {
       "model_id": "c27c67b1863c49158900f90677673c9a",
       "version_major": 2,
       "version_minor": 0
      },
      "text/plain": [
       "Tab(children=(VBox(children=(Label(value='Width:'), IntRangeSlider(value=(315, 450), layout=Layout(width='90%'…"
      ]
     },
     "metadata": {},
     "output_type": "display_data"
    },
    {
     "data": {
      "application/vnd.jupyter.widget-view+json": {
       "model_id": "c14c13af41df4c9b8ca87081c4254a46",
       "version_major": 2,
       "version_minor": 0
      },
      "text/plain": [
       "Label(value='Out:')"
      ]
     },
     "metadata": {},
     "output_type": "display_data"
    },
    {
     "data": {
      "application/vnd.jupyter.widget-view+json": {
       "model_id": "c2767ce22b504f91a73989a89de16959",
       "version_major": 2,
       "version_minor": 0
      },
      "text/plain": [
       "Image(value=b'\\x89PNG\\r\\n\\x1a\\n\\x00\\x00\\x00\\rIHDR\\x00\\x00\\x00\\x87\\x00\\x00\\x002\\x08\\x02\\x00\\x00\\x00\\xf9\\x82_\\x9…"
      ]
     },
     "metadata": {},
     "output_type": "display_data"
    },
    {
     "data": {
      "application/vnd.jupyter.widget-view+json": {
       "model_id": "3cb07aed35634cdb8ddd163f4fc75cd0",
       "version_major": 2,
       "version_minor": 0
      },
      "text/plain": [
       "Output()"
      ]
     },
     "metadata": {},
     "output_type": "display_data"
    }
   ],
   "source": [
    "a = scope()"
   ]
  },
  {
   "cell_type": "code",
   "execution_count": 13,
   "id": "fc99768e-0487-4769-af7a-8625d765f3b2",
   "metadata": {},
   "outputs": [
    {
     "data": {
      "text/plain": [
       "'3736'"
      ]
     },
     "execution_count": 13,
     "metadata": {},
     "output_type": "execute_result"
    }
   ],
   "source": [
    "a.get_val()"
   ]
  },
  {
   "cell_type": "code",
   "execution_count": 3,
   "id": "debdd418-f833-4d50-a38f-f9e4ad95a317",
   "metadata": {},
   "outputs": [],
   "source": [
    "# run measuring loop update every 5 sec, up untill 85C then back to idle\n",
    "# idle 10% red fan max"
   ]
  },
  {
   "cell_type": "code",
   "execution_count": null,
   "id": "f3dae928-701d-4f95-9c13-b47850b54eb3",
   "metadata": {},
   "outputs": [],
   "source": [
    "# Once done, show graph and wire file"
   ]
  },
  {
   "cell_type": "code",
   "execution_count": 1,
   "id": "411d9611-cae7-4089-b533-4d5622c1d418",
   "metadata": {},
   "outputs": [],
   "source": [
    "import serial\n",
    "\n",
    "class apollo_device():\n",
    "    def __init__(self, ComPort = 'COM18', ComBaudRate=115200):\n",
    "        self.port = ComPort\n",
    "        self.portBaudrate = ComBaudRate\n",
    "\n",
    "        # Initialize serial connection\n",
    "        self.ser = serial.Serial(self.port, self.portBaudrate, timeout=0.1)\n",
    "\n",
    "        # Buffer to store received characters\n",
    "        self.receive_buffer = \"\"\n",
    "        \n",
    "    def send(self, command):\n",
    "        self.ser.write(command)\n",
    "        \n",
    "    def update(self, intensityRed, intensityGreen, intensityBlue, intensityWhite, fan):\n",
    "        # lets send data from here\n",
    "        char_a = b'A'          # Convert 'A' to bytes\n",
    "        int_16bit_red = intensityRed  # 16-bit integer value\n",
    "        int_16bit_green = intensityGreen\n",
    "        int_16bit_blue = intensityBlue\n",
    "        int_16bit_white = intensityWhite\n",
    "        int_8bit = fan         # 8-bit integer value\n",
    "        term = b'\\n'           # message terminator\n",
    "        \n",
    "        # Convert 16-bit integer to bytes\n",
    "        bytes_16bit_red = int_16bit_red.to_bytes(2, byteorder='big')\n",
    "        bytes_16bit_green = int_16bit_green.to_bytes(2, byteorder='big')\n",
    "        bytes_16bit_blue = int_16bit_blue.to_bytes(2, byteorder='big')\n",
    "        bytes_16bit_white = int_16bit_white.to_bytes(2, byteorder='big')\n",
    "\n",
    "        # Convert 8-bit integer to bytes\n",
    "        bytes_8bit = int_8bit.to_bytes(1, byteorder='big')\n",
    "\n",
    "        # Combine the bytes to form the complete message\n",
    "        message = char_a + \\\n",
    "                  bytes_16bit_red + \\\n",
    "                  bytes_16bit_green + \\\n",
    "                  bytes_16bit_blue + \\\n",
    "                  bytes_16bit_white + \\\n",
    "                  bytes_8bit + term\n",
    "        #message = char_a + bytes_8bit + term\n",
    "        self.send(message)\n",
    "        self.read()\n",
    "        \n",
    "    def read(self):\n",
    "        while True:\n",
    "            # Read available characters\n",
    "            data = self.ser.read()\n",
    "            # If data is not empty, add it to the buffer\n",
    "            if data:\n",
    "                self.receive_buffer = self.receive_buffer + data.decode('utf-8')\n",
    "                if data == b'\\n':\n",
    "                    print(self.receive_buffer)\n",
    "                    self.lastValAsJsonString = \"{\"+self.receive_buffer+\"}\"\n",
    "                    self.receive_buffer = \"\"\n",
    "                    return\n",
    "            \n",
    "    def __del__(self):\n",
    "        self.ser.close()\n",
    "        \n",
    "lamp1 = apollo_device()"
   ]
  },
  {
   "cell_type": "code",
   "execution_count": 2,
   "id": "cde8028f-5130-41d1-afb1-08960022c1ee",
   "metadata": {},
   "outputs": [
    {
     "name": "stdout",
     "output_type": "stream",
     "text": [
      "\"red_val\":800,\"green_val\":200,\"blue_val\":200,\"white_val\":200,\"fan_val\":0,\"temp\":49.875000\n",
      "\n"
     ]
    }
   ],
   "source": [
    "lamp1.update(2048,512,512,512,0)"
   ]
  },
  {
   "cell_type": "code",
   "execution_count": null,
   "id": "b9ac2764-219c-452f-9044-4b8372b203a5",
   "metadata": {},
   "outputs": [],
   "source": [
    "lamp1.read()"
   ]
  },
  {
   "cell_type": "code",
   "execution_count": 7,
   "id": "be01cf83-2624-480d-a7ec-ec95265085ea",
   "metadata": {},
   "outputs": [
    {
     "name": "stdout",
     "output_type": "stream",
     "text": [
      "\"red_val\":800,\"green_val\":200,\"blue_val\":200,\"white_val\":200,\"fan_val\":0,\"temp\":52.750000\n",
      "\n",
      "\"red_val\":800,\"green_val\":200,\"blue_val\":200,\"white_val\":200,\"fan_val\":0,\"temp\":53.000000\n",
      "\n",
      "\"red_val\":800,\"green_val\":200,\"blue_val\":200,\"white_val\":200,\"fan_val\":0,\"temp\":53.500000\n",
      "\n",
      "\"red_val\":800,\"green_val\":200,\"blue_val\":200,\"white_val\":200,\"fan_val\":0,\"temp\":53.625000\n",
      "\n",
      "\"red_val\":800,\"green_val\":200,\"blue_val\":200,\"white_val\":200,\"fan_val\":0,\"temp\":53.875000\n",
      "\n",
      "\"red_val\":800,\"green_val\":200,\"blue_val\":200,\"white_val\":200,\"fan_val\":0,\"temp\":54.125000\n",
      "\n",
      "\"red_val\":800,\"green_val\":200,\"blue_val\":200,\"white_val\":200,\"fan_val\":0,\"temp\":54.375000\n",
      "\n",
      "\"red_val\":800,\"green_val\":200,\"blue_val\":200,\"white_val\":200,\"fan_val\":0,\"temp\":54.500000\n",
      "\n",
      "\"red_val\":800,\"green_val\":200,\"blue_val\":200,\"white_val\":200,\"fan_val\":0,\"temp\":54.500000\n",
      "\n",
      "\"red_val\":800,\"green_val\":200,\"blue_val\":200,\"white_val\":200,\"fan_val\":0,\"temp\":54.750000\n",
      "\n",
      "\"red_val\":800,\"green_val\":200,\"blue_val\":200,\"white_val\":200,\"fan_val\":0,\"temp\":55.125000\n",
      "\n",
      "\"red_val\":0,\"green_val\":0,\"blue_val\":0,\"white_val\":0,\"fan_val\":0,\"temp\":55.125000\n",
      "\n"
     ]
    }
   ],
   "source": [
    "import json\n",
    "import time\n",
    "\n",
    "while True:\n",
    "    lamp1.update(2048,512,512,512,0)\n",
    "    jsonObj = json.loads(lamp1.lastValAsJsonString)\n",
    "    currenTemp = jsonObj[\"temp\"]\n",
    "    #print(currenTemp)\n",
    "    if(currenTemp>55):\n",
    "        break\n",
    "    time.sleep(10)\n",
    "    \n",
    "lamp1.update(0,0,0,0,0)\n",
    "    \n",
    "    "
   ]
  },
  {
   "cell_type": "code",
   "execution_count": 8,
   "id": "5c530017-a344-414a-a573-d735d867ac3c",
   "metadata": {},
   "outputs": [
    {
     "name": "stdout",
     "output_type": "stream",
     "text": [
      "\"red_val\":0,\"green_val\":0,\"blue_val\":0,\"white_val\":0,\"fan_val\":0,\"temp\":54.875000\n",
      "\n"
     ]
    }
   ],
   "source": [
    "lamp1.update(0,0,0,0,0)"
   ]
  },
  {
   "cell_type": "code",
   "execution_count": null,
   "id": "a42155f1-c086-44af-8a8d-a164d2fe5106",
   "metadata": {},
   "outputs": [],
   "source": []
  }
 ],
 "metadata": {
  "kernelspec": {
   "display_name": "Python 3 (ipykernel)",
   "language": "python",
   "name": "python3"
  },
  "language_info": {
   "codemirror_mode": {
    "name": "ipython",
    "version": 3
   },
   "file_extension": ".py",
   "mimetype": "text/x-python",
   "name": "python",
   "nbconvert_exporter": "python",
   "pygments_lexer": "ipython3",
   "version": "3.10.7"
  }
 },
 "nbformat": 4,
 "nbformat_minor": 5
}
