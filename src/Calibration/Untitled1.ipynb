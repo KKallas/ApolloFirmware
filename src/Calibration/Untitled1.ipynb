{
 "cells": [
  {
   "cell_type": "code",
   "execution_count": 1,
   "id": "b9792548-da8e-4a48-888f-198ae323ea8f",
   "metadata": {},
   "outputs": [],
   "source": [
    "testlist = []"
   ]
  },
  {
   "cell_type": "code",
   "execution_count": 2,
   "id": "9f711ad2-2213-46d2-9ef4-b1a73b19cc75",
   "metadata": {},
   "outputs": [
    {
     "ename": "AttributeError",
     "evalue": "'list' object has no attribute 'push'",
     "output_type": "error",
     "traceback": [
      "\u001b[1;31m---------------------------------------------------------------------------\u001b[0m",
      "\u001b[1;31mAttributeError\u001b[0m                            Traceback (most recent call last)",
      "Cell \u001b[1;32mIn [2], line 1\u001b[0m\n\u001b[1;32m----> 1\u001b[0m testlist\u001b[38;5;241m.\u001b[39mpush(\u001b[38;5;241m1\u001b[39m)\n",
      "\u001b[1;31mAttributeError\u001b[0m: 'list' object has no attribute 'push'"
     ]
    }
   ],
   "source": [
    "testlist.push(1)"
   ]
  },
  {
   "cell_type": "code",
   "execution_count": 3,
   "id": "98e389f7-f468-48d9-9a17-aed73d828519",
   "metadata": {},
   "outputs": [
    {
     "data": {
      "text/plain": [
       "[]"
      ]
     },
     "execution_count": 3,
     "metadata": {},
     "output_type": "execute_result"
    }
   ],
   "source": [
    "testlist"
   ]
  },
  {
   "cell_type": "code",
   "execution_count": 10,
   "id": "5a6a8f58-c6f2-4e68-a18b-c95cbff528c5",
   "metadata": {},
   "outputs": [],
   "source": [
    "testlist.append(8)"
   ]
  },
  {
   "cell_type": "code",
   "execution_count": 11,
   "id": "f762498d-b69a-4b7e-88f1-5370dffb8267",
   "metadata": {},
   "outputs": [
    {
     "data": {
      "text/plain": [
       "8"
      ]
     },
     "execution_count": 11,
     "metadata": {},
     "output_type": "execute_result"
    }
   ],
   "source": [
    "testlist[-1]"
   ]
  },
  {
   "cell_type": "code",
   "execution_count": 13,
   "id": "18a4aab8-1ac3-462c-8851-26a0f216fb11",
   "metadata": {},
   "outputs": [
    {
     "data": {
      "text/plain": [
       "[1, 2, 8, 1, 2, 8]"
      ]
     },
     "execution_count": 13,
     "metadata": {},
     "output_type": "execute_result"
    }
   ],
   "source": [
    "testlist * 2"
   ]
  },
  {
   "cell_type": "code",
   "execution_count": 14,
   "id": "9862744f-2efd-4299-9c9d-89fae1ce4c0f",
   "metadata": {},
   "outputs": [
    {
     "ename": "TypeError",
     "evalue": "unsupported operand type(s) for +: 'int' and 'list'",
     "output_type": "error",
     "traceback": [
      "\u001b[1;31m---------------------------------------------------------------------------\u001b[0m",
      "\u001b[1;31mTypeError\u001b[0m                                 Traceback (most recent call last)",
      "Cell \u001b[1;32mIn [14], line 1\u001b[0m\n\u001b[1;32m----> 1\u001b[0m \u001b[38;5;241m3\u001b[39m \u001b[38;5;241m+\u001b[39m testlist\n",
      "\u001b[1;31mTypeError\u001b[0m: unsupported operand type(s) for +: 'int' and 'list'"
     ]
    }
   ],
   "source": [
    "3 + testlist"
   ]
  },
  {
   "cell_type": "code",
   "execution_count": 15,
   "id": "b8eafbe3-f099-4f46-831d-090a82629102",
   "metadata": {},
   "outputs": [
    {
     "data": {
      "text/plain": [
       "[3, 1, 2, 8]"
      ]
     },
     "execution_count": 15,
     "metadata": {},
     "output_type": "execute_result"
    }
   ],
   "source": [
    "[3] + testlist"
   ]
  },
  {
   "cell_type": "code",
   "execution_count": 16,
   "id": "242d8afc-e23f-45e5-bf5a-2628d2c92bc9",
   "metadata": {},
   "outputs": [
    {
     "data": {
      "text/plain": [
       "[1, 2, 8]"
      ]
     },
     "execution_count": 16,
     "metadata": {},
     "output_type": "execute_result"
    }
   ],
   "source": [
    "testlist"
   ]
  },
  {
   "cell_type": "code",
   "execution_count": 17,
   "id": "8a3fbca4-ab08-46ce-8162-abb3fed06c4d",
   "metadata": {},
   "outputs": [
    {
     "data": {
      "text/plain": [
       "<zip at 0x24bdd11f800>"
      ]
     },
     "execution_count": 17,
     "metadata": {},
     "output_type": "execute_result"
    }
   ],
   "source": [
    "zip(testlist)"
   ]
  },
  {
   "cell_type": "code",
   "execution_count": null,
   "id": "4cb31b5e-7d59-483e-bcb8-ab443c6dc691",
   "metadata": {},
   "outputs": [],
   "source": []
  }
 ],
 "metadata": {
  "kernelspec": {
   "display_name": "Python 3 (ipykernel)",
   "language": "python",
   "name": "python3"
  },
  "language_info": {
   "codemirror_mode": {
    "name": "ipython",
    "version": 3
   },
   "file_extension": ".py",
   "mimetype": "text/x-python",
   "name": "python",
   "nbconvert_exporter": "python",
   "pygments_lexer": "ipython3",
   "version": "3.10.7"
  }
 },
 "nbformat": 4,
 "nbformat_minor": 5
}
