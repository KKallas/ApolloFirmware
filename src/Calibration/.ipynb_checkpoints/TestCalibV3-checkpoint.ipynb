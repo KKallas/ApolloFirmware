{
 "cells": [
  {
   "cell_type": "markdown",
   "id": "3a1a2094-5c7f-4cd5-bf0f-27047ad8e575",
   "metadata": {},
   "source": [
    "# Testing Calibration V2Worksheet"
   ]
  },
  {
   "cell_type": "markdown",
   "id": "c1cd6544-7af1-401a-a8ec-94ea3e2ab51a",
   "metadata": {
    "tags": []
   },
   "source": [
    "## 1. Setup\n",
    "This section load python objects and variables please check the ```cam``` variable"
   ]
  },
  {
   "cell_type": "markdown",
   "id": "c826bdde-f662-471a-a159-0af31b9dd8c1",
   "metadata": {
    "tags": []
   },
   "source": [
    "### 1.1 Load python objects\n",
    "Loads ```scope``` and ```lamp``` python objects for reading sekonic and communication with the lamp"
   ]
  },
  {
   "cell_type": "code",
   "execution_count": 1,
   "id": "7b12f1d2-2245-4c56-afd7-d06cc626d68a",
   "metadata": {},
   "outputs": [
    {
     "name": "stdout",
     "output_type": "stream",
     "text": [
      "pygame 2.1.2 (SDL 2.0.18, Python 3.10.7)\n",
      "Hello from the pygame community. https://www.pygame.org/contribute.html\n"
     ]
    }
   ],
   "source": [
    "cam = \"http://192.168.2.224/video_feed\"\n",
    "sharedFolder = r\"C:\\Users\\Virtual Production 2\\Documents\\ApolloLogs\\\\\"\n",
    "comPort = 'COM20'\n",
    "brightnessString = \"self.slider_h.value = (240, 399)\\nself.slider_v.value = (383, 441)\\nself.minus_comp.value = False\\nself.minus_brightness.value = '150'\\nself.offset_x.value = 0\\nself.offset_y.value = 0\\nself.rota.value = '90'\\nself.flip.value = False\\nself.flop.value = False\\nself.replacement_list.value =str([('o', '0'), ('O', '0'), (',', '.')]) \\n\"\n",
    "duvString = \"self.slider_h.value = (261, 450)\\nself.slider_v.value = (302, 360)\\nself.minus_comp.value = True\\nself.minus_brightness.value = '150'\\nself.offset_x.value = -85\\nself.offset_y.value = 3\\nself.rota.value = '90'\\nself.flip.value = False\\nself.flop.value = False\\nself.replacement_list.value =str([('o', '0'), ('O', '0'), (',', '.'), ('20.0', '0,0'), ('0.6', '0.0'), ('0.8', '0.0')]) \\n\"\n",
    "kelvinString = \"self.slider_h.value = (260, 418)\\nself.slider_v.value = (225, 283)\\nself.minus_comp.value = False\\nself.minus_brightness.value = '150'\\nself.offset_x.value = 0\\nself.offset_y.value = 0\\nself.rota.value = '90'\\nself.flip.value = False\\nself.flop.value = False\\nself.replacement_list.value =str([('o', '0'), ('O', '0'), (',', '.'), ('G', '6')]) \\n\"\n",
    "data = None\n",
    "\n",
    "%run calibration_setup_v3.ipynb"
   ]
  },
  {
   "cell_type": "markdown",
   "id": "69cad74d-7c52-42d3-89e1-3b61847aa6ad",
   "metadata": {
    "tags": []
   },
   "source": [
    "#### [Optional] Find COM port"
   ]
  },
  {
   "cell_type": "code",
   "execution_count": null,
   "id": "94e345e2-abd8-484b-a462-0ea67666b260",
   "metadata": {
    "tags": []
   },
   "outputs": [],
   "source": [
    "# Get COM port list\n",
    "import serial.tools.list_ports\n",
    "\n",
    "com_ports = list(serial.tools.list_ports.comports())\n",
    "\n",
    "for port, desc, hwid in com_ports:\n",
    "    print(str(port)+\" \"+str(desc))"
   ]
  },
  {
   "cell_type": "markdown",
   "id": "76bf20b2-c593-470c-a7c3-759be9e590dc",
   "metadata": {
    "tags": []
   },
   "source": [
    "### 1.2 Connect to lamp\n",
    "Lamp needs to be closed before it can be opened again.\n",
    "If you dont know the serial port where the lamp is connected use the Find COM port section\n",
    "1st You need to setup sekonic and feedback camera (the areas where the data will be read, 1st -green value is set up so it would be possibel to get dUV - sign location), then close the lamp and start again with the scope objects"
   ]
  },
  {
   "cell_type": "code",
   "execution_count": 21,
   "id": "f8f748a0-aed4-42a2-957c-df258f6132f4",
   "metadata": {},
   "outputs": [],
   "source": [
    "lamp1.close()"
   ]
  },
  {
   "cell_type": "code",
   "execution_count": 22,
   "id": "290f74e3-10d6-47e5-b533-d8fd39080df3",
   "metadata": {},
   "outputs": [
    {
     "data": {
      "text/plain": [
       "'E465B8169258'"
      ]
     },
     "execution_count": 22,
     "metadata": {},
     "output_type": "execute_result"
    }
   ],
   "source": [
    "lamp1 = apollo_device(ComPort=comPort)\n",
    "lamp1.getId()\n",
    "lamp1.macId = lamp1.macId.replace(\":\",\"\")\n",
    "lamp1.macId"
   ]
  },
  {
   "cell_type": "code",
   "execution_count": 15,
   "id": "d672a386-04aa-49d8-8cfa-025af8bcd9d1",
   "metadata": {},
   "outputs": [],
   "source": [
    "lamp1.color = [200,50,50,500,0]\n",
    "lamp1.update()"
   ]
  },
  {
   "cell_type": "markdown",
   "id": "780031a4-8098-48ce-aa04-bfa87337fff8",
   "metadata": {
    "tags": []
   },
   "source": [
    "### 1.3 Set Sekonic camera areas\n",
    "Set the area where to \"read\" the Tcp, dUV and lux variables\n",
    "Once the object is initalized tune the paramters and test by ```update()```\n",
    "To save the paramteres use the Setup below to generate the ```saved_string``` and copy and paste it into funtion paramter and save the workbook"
   ]
  },
  {
   "cell_type": "code",
   "execution_count": 2,
   "id": "4d8b3113-1a5f-43a7-bb9c-b0247245edf4",
   "metadata": {},
   "outputs": [
    {
     "name": "stderr",
     "output_type": "stream",
     "text": [
      "CUDA not available - defaulting to CPU. Note: This module is much faster with a GPU.\n"
     ]
    },
    {
     "data": {
      "application/vnd.jupyter.widget-view+json": {
       "model_id": "686b4aa9798c4572b29a7f28f302ac5c",
       "version_major": 2,
       "version_minor": 0
      },
      "text/plain": [
       "Tab(children=(VBox(children=(Label(value='Width:'), IntRangeSlider(value=(315, 450), layout=Layout(width='90%'…"
      ]
     },
     "metadata": {},
     "output_type": "display_data"
    },
    {
     "data": {
      "application/vnd.jupyter.widget-view+json": {
       "model_id": "958a282d77d449098ef1c4647b2de0d6",
       "version_major": 2,
       "version_minor": 0
      },
      "text/plain": [
       "Label(value='Out:')"
      ]
     },
     "metadata": {},
     "output_type": "display_data"
    },
    {
     "data": {
      "application/vnd.jupyter.widget-view+json": {
       "model_id": "ef21b5d1bbed49ac8cf9830f746abe19",
       "version_major": 2,
       "version_minor": 0
      },
      "text/plain": [
       "Image(value=b'\\x89PNG\\r\\n\\x1a\\n\\x00\\x00\\x00\\rIHDR\\x00\\x00\\x00\\x87\\x00\\x00\\x002\\x08\\x02\\x00\\x00\\x00\\xf9\\x82_\\x9…"
      ]
     },
     "metadata": {},
     "output_type": "display_data"
    },
    {
     "data": {
      "application/vnd.jupyter.widget-view+json": {
       "model_id": "26d9c4885e7044b098e6ccb026d6e2e4",
       "version_major": 2,
       "version_minor": 0
      },
      "text/plain": [
       "Output()"
      ]
     },
     "metadata": {},
     "output_type": "display_data"
    }
   ],
   "source": [
    "Brightness = scope(saved_string=brightnessString)"
   ]
  },
  {
   "cell_type": "code",
   "execution_count": 7,
   "id": "67427f1d-0eb5-4ff1-9046-8536aaa303d8",
   "metadata": {},
   "outputs": [
    {
     "data": {
      "text/plain": [
       "9400"
      ]
     },
     "execution_count": 7,
     "metadata": {},
     "output_type": "execute_result"
    }
   ],
   "source": [
    "Brightness.update()"
   ]
  },
  {
   "cell_type": "code",
   "execution_count": 3,
   "id": "0a492722-1993-4fcc-ae06-eb43f1fb4b89",
   "metadata": {},
   "outputs": [
    {
     "name": "stderr",
     "output_type": "stream",
     "text": [
      "CUDA not available - defaulting to CPU. Note: This module is much faster with a GPU.\n"
     ]
    },
    {
     "data": {
      "application/vnd.jupyter.widget-view+json": {
       "model_id": "1687aa14ca254a35b1fa151c1857be10",
       "version_major": 2,
       "version_minor": 0
      },
      "text/plain": [
       "Tab(children=(VBox(children=(Label(value='Width:'), IntRangeSlider(value=(315, 450), layout=Layout(width='90%'…"
      ]
     },
     "metadata": {},
     "output_type": "display_data"
    },
    {
     "data": {
      "application/vnd.jupyter.widget-view+json": {
       "model_id": "62801cadb0a043799dca50bc161762e7",
       "version_major": 2,
       "version_minor": 0
      },
      "text/plain": [
       "Label(value='Out:')"
      ]
     },
     "metadata": {},
     "output_type": "display_data"
    },
    {
     "data": {
      "application/vnd.jupyter.widget-view+json": {
       "model_id": "6acfc93d108948de995764ca0fb195cb",
       "version_major": 2,
       "version_minor": 0
      },
      "text/plain": [
       "Image(value=b'\\x89PNG\\r\\n\\x1a\\n\\x00\\x00\\x00\\rIHDR\\x00\\x00\\x00\\x87\\x00\\x00\\x002\\x08\\x02\\x00\\x00\\x00\\xf9\\x82_\\x9…"
      ]
     },
     "metadata": {},
     "output_type": "display_data"
    },
    {
     "data": {
      "application/vnd.jupyter.widget-view+json": {
       "model_id": "bfe22344eee54acc9184b843b1d0fd7c",
       "version_major": 2,
       "version_minor": 0
      },
      "text/plain": [
       "Output()"
      ]
     },
     "metadata": {},
     "output_type": "display_data"
    }
   ],
   "source": [
    "dUV = scope(saved_string=duvString)"
   ]
  },
  {
   "cell_type": "code",
   "execution_count": 11,
   "id": "c5021012-1724-419b-996a-ac541b825415",
   "metadata": {},
   "outputs": [
    {
     "data": {
      "text/plain": [
       "-0.0286"
      ]
     },
     "execution_count": 11,
     "metadata": {},
     "output_type": "execute_result"
    }
   ],
   "source": [
    "dUV.update()"
   ]
  },
  {
   "cell_type": "code",
   "execution_count": 4,
   "id": "24693481-460e-4d4f-9354-15935117b55f",
   "metadata": {},
   "outputs": [
    {
     "name": "stderr",
     "output_type": "stream",
     "text": [
      "CUDA not available - defaulting to CPU. Note: This module is much faster with a GPU.\n"
     ]
    },
    {
     "data": {
      "application/vnd.jupyter.widget-view+json": {
       "model_id": "4c3468deea2b414ca4fe1c70f9240d1b",
       "version_major": 2,
       "version_minor": 0
      },
      "text/plain": [
       "Tab(children=(VBox(children=(Label(value='Width:'), IntRangeSlider(value=(315, 450), layout=Layout(width='90%'…"
      ]
     },
     "metadata": {},
     "output_type": "display_data"
    },
    {
     "data": {
      "application/vnd.jupyter.widget-view+json": {
       "model_id": "898d2708781d4405925bead421615f89",
       "version_major": 2,
       "version_minor": 0
      },
      "text/plain": [
       "Label(value='Out:')"
      ]
     },
     "metadata": {},
     "output_type": "display_data"
    },
    {
     "data": {
      "application/vnd.jupyter.widget-view+json": {
       "model_id": "3519fd444387484e8d044e08567c3f17",
       "version_major": 2,
       "version_minor": 0
      },
      "text/plain": [
       "Image(value=b'\\x89PNG\\r\\n\\x1a\\n\\x00\\x00\\x00\\rIHDR\\x00\\x00\\x00\\x87\\x00\\x00\\x002\\x08\\x02\\x00\\x00\\x00\\xf9\\x82_\\x9…"
      ]
     },
     "metadata": {},
     "output_type": "display_data"
    },
    {
     "data": {
      "application/vnd.jupyter.widget-view+json": {
       "model_id": "e2fe2e27570845b48b445dbf2b3cfbcf",
       "version_major": 2,
       "version_minor": 0
      },
      "text/plain": [
       "Output()"
      ]
     },
     "metadata": {},
     "output_type": "display_data"
    }
   ],
   "source": [
    "Kelvin = scope(saved_string=kelvinString)"
   ]
  },
  {
   "cell_type": "code",
   "execution_count": 13,
   "id": "36647249-0721-4913-9ca6-688348e3bfc9",
   "metadata": {},
   "outputs": [
    {
     "data": {
      "text/plain": [
       "5693"
      ]
     },
     "execution_count": 13,
     "metadata": {},
     "output_type": "execute_result"
    }
   ],
   "source": [
    "Kelvin.update()"
   ]
  },
  {
   "cell_type": "code",
   "execution_count": 37,
   "id": "281942c4-f095-4acb-89d5-c266d77922a8",
   "metadata": {},
   "outputs": [
    {
     "name": "stdout",
     "output_type": "stream",
     "text": [
      "Lux: 31300\n",
      "Duv: -0.0001\n",
      "CCT: 2827\n"
     ]
    }
   ],
   "source": [
    "# 2800 K\n",
    "lamp1.color = [2048,1235,0,600,0]\n",
    "lamp1.update()\n",
    "time.sleep(2)\n",
    "print(\"Lux: \"+str(Brightness.update())+\"\\nDuv: \"+str(dUV.update())+\"\\nCCT: \"+str(Kelvin.update()))"
   ]
  },
  {
   "cell_type": "code",
   "execution_count": 63,
   "id": "a7d0e1ed-8a90-43ab-b3e7-48b1e00c5416",
   "metadata": {},
   "outputs": [
    {
     "name": "stdout",
     "output_type": "stream",
     "text": [
      "Lux: 39300\n",
      "Duv: -0.0001\n",
      "CCT: 3267\n"
     ]
    }
   ],
   "source": [
    "# 3200 K\n",
    "lamp1.color = [2048,1320,0,1000,0]\n",
    "lamp1.update()\n",
    "time.sleep(2)\n",
    "print(\"Lux: \"+str(Brightness.update())+\"\\nDuv: \"+str(dUV.update())+\"\\nCCT: \"+str(Kelvin.update()))"
   ]
  },
  {
   "cell_type": "code",
   "execution_count": 55,
   "id": "c452f21d-b75e-4b5d-abcb-30745bff70a5",
   "metadata": {},
   "outputs": [
    {
     "name": "stdout",
     "output_type": "stream",
     "text": [
      "Lux: 58100\n",
      "Duv: 0.0\n",
      "CCT: 4801\n"
     ]
    }
   ],
   "source": [
    "# 4800 K\n",
    "lamp1.color = [2048,1660,150,2048,0]\n",
    "lamp1.update()\n",
    "time.sleep(2)\n",
    "print(\"Lux: \"+str(Brightness.update())+\"\\nDuv: \"+str(dUV.update())+\"\\nCCT: \"+str(Kelvin.update()))"
   ]
  },
  {
   "cell_type": "code",
   "execution_count": 73,
   "id": "b3749a3e-4cb0-416c-8c1e-b3b616861db3",
   "metadata": {},
   "outputs": [
    {
     "name": "stdout",
     "output_type": "stream",
     "text": [
      "Lux: 61800\n",
      "Duv: 0.0\n",
      "CCT: 5645\n"
     ]
    }
   ],
   "source": [
    "# 5600 K\n",
    "lamp1.color = [2000,1900,300,2048,0]\n",
    "lamp1.update()\n",
    "time.sleep(2)\n",
    "print(\"Lux: \"+str(Brightness.update())+\"\\nDuv: \"+str(dUV.update())+\"\\nCCT: \"+str(Kelvin.update()))"
   ]
  },
  {
   "cell_type": "code",
   "execution_count": 114,
   "id": "79ad81ab-1316-44d1-801b-f33a79f31fa9",
   "metadata": {},
   "outputs": [
    {
     "name": "stdout",
     "output_type": "stream",
     "text": [
      "Lux: 59000\n",
      "Duv: 0.0\n",
      "CCT: 7756\n"
     ]
    }
   ],
   "source": [
    "# 7800 K\n",
    "lamp1.color = [1700,1970,530,2048,0]\n",
    "lamp1.update()\n",
    "time.sleep(2)\n",
    "print(\"Lux: \"+str(Brightness.update())+\"\\nDuv: \"+str(dUV.update())+\"\\nCCT: \"+str(Kelvin.update()))"
   ]
  },
  {
   "cell_type": "code",
   "execution_count": 139,
   "id": "c15d8e0f-abb1-4aa4-972f-87b76bdea379",
   "metadata": {},
   "outputs": [
    {
     "name": "stdout",
     "output_type": "stream",
     "text": [
      "Lux: 55900\n",
      "Duv: 0.0\n",
      "CCT: 10145\n"
     ]
    }
   ],
   "source": [
    "# 10000 K\n",
    "lamp1.color = [1300,1830,650,2048,0]\n",
    "lamp1.update()\n",
    "time.sleep(2)\n",
    "print(\"Lux: \"+str(Brightness.update())+\"\\nDuv: \"+str(dUV.update())+\"\\nCCT: \"+str(Kelvin.update()))"
   ]
  },
  {
   "cell_type": "markdown",
   "id": "c1b74fda-7424-4647-a88a-bee5abb5ca55",
   "metadata": {
    "tags": []
   },
   "source": [
    "#### Setup"
   ]
  },
  {
   "cell_type": "code",
   "execution_count": 21,
   "id": "6371d03b-1650-4efa-8bec-4d46e79c9e60",
   "metadata": {},
   "outputs": [
    {
     "data": {
      "text/plain": [
       "\"self.slider_h.value = (240, 399)\\nself.slider_v.value = (383, 441)\\nself.minus_comp.value = False\\nself.minus_brightness.value = '150'\\nself.offset_x.value = 0\\nself.offset_y.value = 0\\nself.rota.value = '90'\\nself.flip.value = False\\nself.flop.value = False\\nself.replacement_list.value =str([('o', '0'), ('O', '0'), (',', '.')]) \\n\""
      ]
     },
     "execution_count": 21,
     "metadata": {},
     "output_type": "execute_result"
    }
   ],
   "source": [
    "Brightness.save_string()"
   ]
  },
  {
   "cell_type": "code",
   "execution_count": 22,
   "id": "3f4b23c6-9c89-419f-b6f0-5855b094b867",
   "metadata": {},
   "outputs": [
    {
     "data": {
      "text/plain": [
       "\"self.slider_h.value = (261, 450)\\nself.slider_v.value = (302, 360)\\nself.minus_comp.value = True\\nself.minus_brightness.value = '150'\\nself.offset_x.value = -85\\nself.offset_y.value = 3\\nself.rota.value = '90'\\nself.flip.value = False\\nself.flop.value = False\\nself.replacement_list.value =str([('o', '0'), ('O', '0'), (',', '.'), ('20.0', '0,0'), ('0.6', '0.0'), ('0.8', '0.0')]) \\n\""
      ]
     },
     "execution_count": 22,
     "metadata": {},
     "output_type": "execute_result"
    }
   ],
   "source": [
    "dUV.save_string()"
   ]
  },
  {
   "cell_type": "code",
   "execution_count": 23,
   "id": "59afa913-b12f-4fd1-a8f4-24edbd83967d",
   "metadata": {},
   "outputs": [
    {
     "data": {
      "text/plain": [
       "\"self.slider_h.value = (260, 418)\\nself.slider_v.value = (225, 283)\\nself.minus_comp.value = False\\nself.minus_brightness.value = '150'\\nself.offset_x.value = 0\\nself.offset_y.value = 0\\nself.rota.value = '90'\\nself.flip.value = False\\nself.flop.value = False\\nself.replacement_list.value =str([('o', '0'), ('O', '0'), (',', '.'), ('G', '6')]) \\n\""
      ]
     },
     "execution_count": 23,
     "metadata": {},
     "output_type": "execute_result"
    }
   ],
   "source": [
    "Kelvin.save_string()"
   ]
  },
  {
   "cell_type": "markdown",
   "id": "69c5129a-a0ba-406e-8567-21315095af2e",
   "metadata": {},
   "source": [
    "# Test"
   ]
  },
  {
   "cell_type": "code",
   "execution_count": 11,
   "id": "f4acf2a0-1a9d-4cfc-bd55-7204f7b04567",
   "metadata": {},
   "outputs": [],
   "source": [
    "lamp1.close()\n",
    "time.sleep(0.5)"
   ]
  },
  {
   "cell_type": "code",
   "execution_count": 5,
   "id": "29556755-6816-4c3e-b58d-e9f7e2d5485f",
   "metadata": {},
   "outputs": [
    {
     "data": {
      "text/plain": [
       "'E465B8169258'"
      ]
     },
     "execution_count": 5,
     "metadata": {},
     "output_type": "execute_result"
    }
   ],
   "source": [
    "lamp1 = apollo_device(ComPort=comPort,SekBrightnes=Brightness, SekDuv=dUV, SekKelvin=Kelvin)\n",
    "lamp1.getId()\n",
    "\n",
    "lamp1.macId = lamp1.macId.replace(\":\",\"\")\n",
    "lamp1.macId"
   ]
  },
  {
   "cell_type": "code",
   "execution_count": 13,
   "id": "cdb645b2-f433-42a5-a288-94663ba0d515",
   "metadata": {
    "tags": []
   },
   "outputs": [
    {
     "name": "stdout",
     "output_type": "stream",
     "text": [
      "starting kelvin range 10000\n",
      "\n",
      "Loading calibartion from lamp\n",
      "\n",
      "loaded values: DS10->ReadCalibartion addr:actual lux|r:g:b:W| 1060:[53000][1140:1755:602:1792]//17ff:::\n",
      "\n",
      "\n",
      "Adjusting lamp brightness to 50000lx in 10000K with [1, 2, 1, 2]/[10, 15, 5, 16] steps\n",
      "current brightness: 53600, ideal 50000, diff -3600 : [1140, 1755, 602, 1792, 0] / [1140, 1755, 602, 1792, 0]\n",
      "current brightness: 53200, ideal 50000, diff -3200 : [1130, 1740, 597, 1776, 0] / [1130, 1740, 597, 1776, 0]\n",
      "current brightness: 52800, ideal 50000, diff -2800 : [1120, 1725, 592, 1760, 0] / [1120, 1725, 592, 1760, 0]\n",
      "current brightness: 52400, ideal 50000, diff -2400 : [1110, 1710, 587, 1744, 0] / [1110, 1710, 587, 1744, 0]\n",
      "current brightness: 52100, ideal 50000, diff -2100 : [1100, 1695, 582, 1728, 0] / [1100, 1695, 582, 1728, 0]\n",
      "current brightness: 51700, ideal 50000, diff -1700 : [1090, 1680, 577, 1712, 0] / [1090, 1680, 577, 1712, 0]\n",
      "current brightness: 51300, ideal 50000, diff -1300 : [1080, 1665, 572, 1696, 0] / [1080, 1665, 572, 1696, 0]\n",
      "current brightness: 51000, ideal 50000, diff -1000 : [1070, 1650, 567, 1680, 0] / [1070, 1650, 567, 1680, 0]\n",
      "current brightness: 50600, ideal 50000, diff -600 : [1060, 1635, 562, 1664, 0] / [1060, 1635, 562, 1664, 0]\n",
      "selected: [10000, 8, 1060, 1635, 562, 1664]\n",
      "Adjusting lamp dUV to +/- 0.003 in 10000K with [0, 1, 0, 0]/[0, 30, 0, 0] steps\n",
      "current dUV: -0.0023, ideal 0.0000, diff -0.0023 : [1060, 1635, 562, 1664, 0] / [1060, 1635, 562, 1664, 0]\n",
      "current dUV: -0.0015, ideal 0.0000, diff -0.0015 : [1060, 1665, 562, 1664, 0] / [1060, 1665, 562, 1664, 0]\n",
      "current dUV: -0.0008, ideal 0.0000, diff -0.0008 : [1060, 1695, 562, 1664, 0] / [1060, 1695, 562, 1664, 0]\n",
      "current dUV: -0.0006, ideal 0.0000, diff -0.0006 : [1060, 1696, 562, 1664, 0] / [1060, 1696, 562, 1664, 0]\n",
      "current dUV: -0.0006, ideal 0.0000, diff -0.0006 : [1060, 1697, 562, 1664, 0] / [1060, 1697, 562, 1664, 0]\n",
      "current dUV: -0.0006, ideal 0.0000, diff -0.0006 : [1060, 1698, 562, 1664, 0] / [1060, 1698, 562, 1664, 0]\n",
      "current dUV: -0.0003, ideal 0.0000, diff -0.0003 : [1060, 1699, 562, 1664, 0] / [1060, 1699, 562, 1664, 0]\n",
      "current dUV: -0.0003, ideal 0.0000, diff -0.0003 : [1060, 1700, 562, 1664, 0] / [1060, 1700, 562, 1664, 0]\n",
      "current dUV: -0.0002, ideal 0.0000, diff -0.0002 : [1060, 1701, 562, 1664, 0] / [1060, 1701, 562, 1664, 0]\n",
      "selected: [10000, 8, 1060, 1701, 562, 1664]\n",
      "Adjusting lamp Kelvin to 10000K with [0, 0, 1, 0]/[0, 0, 10, 0] steps\n",
      "current Kelvin: 9760K, ideal 10000K, diff 240K : [1060, 1701, 562, 1664, 0] / [1060, 1701, 562, 1664, 0]\n",
      "current Kelvin: 9952K, ideal 10000K, diff 48K : [1060, 1701, 572, 1664, 0] / ['856', 1701, 572, 1664, 0]\n",
      "current Kelvin: 9974K, ideal 10000K, diff 26K : [1060, 1701, 573, 1664, 0] / ['855', 1701, 573, 1664, 0]\n",
      "current Kelvin: 10010K, ideal 10000K, diff -10K : [1060, 1701, 574, 1664, 0] / ['855', 1701, 574, 1664, 0]\n",
      "current Kelvin: 10014K, ideal 10000K, diff -14K : [1060, 1701, 573, 1664, 0] / ['855', 1701, 573, 1664, 0]\n",
      "current Kelvin: 10016K, ideal 10000K, diff -16K : [1060, 1701, 572, 1664, 0] / ['855', 1701, 572, 1664, 0]\n",
      "current Kelvin: 10037K, ideal 10000K, diff -37K : [1060, 1701, 571, 1664, 0] / ['857', 1701, 571, 1664, 0]\n",
      "current Kelvin: 10035K, ideal 10000K, diff -35K : [1060, 1701, 570, 1664, 0] / ['859', 1701, 570, 1664, 0]\n",
      "current Kelvin: 10019K, ideal 10000K, diff -19K : [1060, 1701, 569, 1664, 0] / ['862', 1701, 569, 1664, 0]\n",
      "selected: [10000, 8, 1060, 1701, 574, 1664]\n",
      "Writing calibratrion:\n",
      "\n",
      "DS93->5:8:50600[1060:1701:574:1664]\n",
      "DS10->WriteCalibartion 1060[50600][1060:1701:574:1664]//0f35:::\n",
      "\n",
      "Temperature: 10024K\n",
      "dUv: 0.0009\n",
      "Brightness: 51100lx\n",
      "Loading calibartion from lamp\n",
      "\n",
      "loaded values: DS10->ReadCalibartion addr:actual lux|r:g:b:W| 1060:[50600][1060:1701:574:1664]//1800:::\n",
      "\n",
      "\n",
      "Adjusting lamp brightness to 50000lx in 10000K with [1, 2, 1, 2]/[10, 16, 5, 16] steps\n",
      "current brightness: 51000, ideal 50000, diff -1000 : [1060, 1701, 574, 1664, 0] / [1060, 1701, 574, 1664, 0]\n",
      "current brightness: 50500, ideal 50000, diff -500 : [1050, 1685, 569, 1648, 0] / [1050, 1685, 569, 1648, 0]\n",
      "current brightness: 49900, ideal 50000, diff 100 : [1040, 1669, 564, 1632, 0] / [1040, 1669, 564, 1632, 0]\n",
      "current brightness: 49900, ideal 50000, diff 100 : [1041, 1671, 565, 1634, 0] / [1041, 1671, 565, 1634, 0]\n",
      "current brightness: 49900, ideal 50000, diff 100 : [1042, 1673, 566, 1636, 0] / [1042, 1673, 566, 1636, 0]\n",
      "current brightness: 49900, ideal 50000, diff 100 : [1043, 1675, 567, 1638, 0] / [1043, 1675, 567, 1638, 0]\n",
      "current brightness: 49900, ideal 50000, diff 100 : [1044, 1677, 568, 1640, 0] / [1044, 1677, 568, 1640, 0]\n",
      "current brightness: 49900, ideal 50000, diff 100 : [1045, 1679, 569, 1642, 0] / [1045, 1679, 569, 1642, 0]\n",
      "current brightness: 50000, ideal 50000, diff 0 : [1046, 1681, 570, 1644, 0] / [1046, 1681, 570, 1644, 0]\n",
      "selected: [10000, 8, 1046, 1681, 570, 1644]\n",
      "Adjusting lamp dUV to +/- 0.003 in 10000K with [0, 1, 0, 0]/[0, 30, 0, 0] steps\n",
      "current dUV: 0.0003, ideal 0.0000, diff 0.0003 : [1046, 1681, 570, 1644, 0] / [1046, 1681, 570, 1644, 0]\n",
      "current dUV: 0.0001, ideal 0.0000, diff 0.0001 : [1046, 1680, 570, 1644, 0] / [1046, 1680, 570, 1644, 0]\n",
      "current dUV: -0.0001, ideal 0.0000, diff -0.0001 : [1046, 1679, 570, 1644, 0] / [1046, 1679, 570, 1644, 0]\n",
      "current dUV: -0.0003, ideal 0.0000, diff -0.0003 : [1046, 1680, 570, 1644, 0] / [1046, 1680, 570, 1644, 0]\n",
      "current dUV: -0.0006, ideal 0.0000, diff -0.0006 : [1046, 1681, 570, 1644, 0] / [1046, 1681, 570, 1644, 0]\n",
      "current dUV: -0.0007, ideal 0.0000, diff -0.0007 : [1046, 1682, 570, 1644, 0] / [1046, 1682, 570, 1644, 0]\n",
      "current dUV: -0.0006, ideal 0.0000, diff -0.0006 : [1046, 1683, 570, 1644, 0] / [1046, 1683, 570, 1644, 0]\n",
      "current dUV: -0.0009, ideal 0.0000, diff -0.0009 : [1046, 1684, 570, 1644, 0] / [1046, 1684, 570, 1644, 0]\n",
      "current dUV: -0.001, ideal 0.0000, diff -0.001 : [1046, 1685, 570, 1644, 0] / [1046, 1685, 570, 1644, 0]\n",
      "selected: [10000, 8, 1046, 1680, 570, 1644]\n",
      "Adjusting lamp Kelvin to 10000K with [0, 0, 1, 0]/[0, 0, 10, 0] steps\n",
      "current Kelvin: 9870K, ideal 10000K, diff 130K : [1046, 1680, 570, 1644, 0] / [1046, 1680, 570, 1644, 0]\n",
      "current Kelvin: 9886K, ideal 10000K, diff 114K : [1046, 1680, 571, 1644, 0] / ['905', 1680, 571, 1644, 0]\n",
      "current Kelvin: 9943K, ideal 10000K, diff 57K : [1046, 1680, 572, 1644, 0] / ['887', 1680, 572, 1644, 0]\n",
      "current Kelvin: 9961K, ideal 10000K, diff 39K : [1046, 1680, 573, 1644, 0] / ['879', 1680, 573, 1644, 0]\n",
      "current Kelvin: 9996K, ideal 10000K, diff 4K : [1046, 1680, 574, 1644, 0] / ['873', 1680, 574, 1644, 0]\n",
      "current Kelvin: 10060K, ideal 10000K, diff -60K : [1046, 1680, 575, 1644, 0] / ['861', 1680, 575, 1644, 0]\n",
      "current Kelvin: 10060K, ideal 10000K, diff -60K : [1046, 1680, 574, 1644, 0] / ['854', 1680, 574, 1644, 0]\n",
      "current Kelvin: 10056K, ideal 10000K, diff -56K : [1046, 1680, 573, 1644, 0] / ['850', 1680, 573, 1644, 0]\n",
      "current Kelvin: 10058K, ideal 10000K, diff -58K : [1046, 1680, 572, 1644, 0] / ['846', 1680, 572, 1644, 0]\n",
      "selected: [10000, 8, 1046, 1680, 574, 1644]\n",
      "Writing calibratrion:\n",
      "\n",
      "DS93->5:8:50000[1046:1680:574:1644]\n",
      "DS10->WriteCalibartion 1060[50000][1046:1680:574:1644]//0f37:::\n",
      "\n",
      "Temperature: 10061K\n",
      "dUv: -0.0005\n",
      "Brightness: 51100lx\n",
      "Loading calibartion from lamp\n",
      "\n",
      "loaded values: DS10->ReadCalibartion addr:actual lux|r:g:b:W| 1060:[50000][1046:1680:574:1644]//1802:::\n",
      "\n",
      "\n",
      "Adjusting lamp brightness to 50000lx in 10000K with [1, 2, 1, 2]/[10, 16, 5, 16] steps\n",
      "current brightness: 51100, ideal 50000, diff -1100 : [1046, 1680, 574, 1644, 0] / [1046, 1680, 574, 1644, 0]\n",
      "current brightness: 50500, ideal 50000, diff -500 : [1036, 1664, 569, 1628, 0] / [1036, 1664, 569, 1628, 0]\n",
      "current brightness: 49900, ideal 50000, diff 100 : [1026, 1648, 564, 1612, 0] / [1026, 1648, 564, 1612, 0]\n",
      "current brightness: 49800, ideal 50000, diff 200 : [1027, 1650, 565, 1614, 0] / [1027, 1650, 565, 1614, 0]\n",
      "current brightness: 50200, ideal 50000, diff -200 : [1037, 1666, 570, 1630, 0] / [1037, 1666, 570, 1630, 0]\n",
      "current brightness: 49600, ideal 50000, diff 400 : [1027, 1650, 565, 1614, 0] / [1027, 1650, 565, 1614, 0]\n",
      "current brightness: 50000, ideal 50000, diff 0 : [1037, 1666, 570, 1630, 0] / [1037, 1666, 570, 1630, 0]\n",
      "selected: [10000, 8, 1037, 1666, 570, 1630]\n",
      "Adjusting lamp dUV to +/- 0.003 in 10000K with [0, 1, 0, 0]/[0, 30, 0, 0] steps\n",
      "current dUV: 0.0003, ideal 0.0000, diff 0.0003 : [1037, 1666, 570, 1630, 0] / [1037, 1666, 570, 1630, 0]\n",
      "current dUV: 0.0004, ideal 0.0000, diff 0.0004 : [1037, 1665, 570, 1630, 0] / [1037, 1665, 570, 1630, 0]\n",
      "current dUV: 0.0004, ideal 0.0000, diff 0.0004 : [1037, 1664, 570, 1630, 0] / [1037, 1664, 570, 1630, 0]\n",
      "current dUV: 0.0002, ideal 0.0000, diff 0.0002 : [1037, 1663, 570, 1630, 0] / [1037, 1663, 570, 1630, 0]\n",
      "current dUV: 0.0003, ideal 0.0000, diff 0.0003 : [1037, 1662, 570, 1630, 0] / [1037, 1662, 570, 1630, 0]\n",
      "current dUV: 0.0004, ideal 0.0000, diff 0.0004 : [1037, 1661, 570, 1630, 0] / [1037, 1661, 570, 1630, 0]\n",
      "current dUV: 0.0002, ideal 0.0000, diff 0.0002 : [1037, 1660, 570, 1630, 0] / [1037, 1660, 570, 1630, 0]\n",
      "current dUV: 0.0003, ideal 0.0000, diff 0.0003 : [1037, 1659, 570, 1630, 0] / [1037, 1659, 570, 1630, 0]\n",
      "current dUV: 0.0, ideal 0.0000, diff 0.0 : [1037, 1658, 570, 1630, 0] / [1037, 1658, 570, 1630, 0]\n",
      "selected: [10000, 8, 1037, 1658, 570, 1630]\n",
      "Adjusting lamp Kelvin to 10000K with [0, 0, 1, 0]/[0, 0, 10, 0] steps\n",
      "current Kelvin: 10095K, ideal 10000K, diff -95K : [1037, 1658, 570, 1630, 0] / [1037, 1658, 570, 1630, 0]\n",
      "current Kelvin: 10058K, ideal 10000K, diff -58K : [1037, 1658, 569, 1630, 0] / ['947', 1658, 569, 1630, 0]\n",
      "current Kelvin: 9988K, ideal 10000K, diff 12K : [1037, 1658, 568, 1630, 0] / ['948', 1658, 568, 1630, 0]\n",
      "current Kelvin: 9984K, ideal 10000K, diff 16K : [1037, 1658, 569, 1630, 0] / ['948', 1658, 569, 1630, 0]\n",
      "current Kelvin: 9966K, ideal 10000K, diff 34K : [1037, 1658, 570, 1630, 0] / ['945', 1658, 570, 1630, 0]\n",
      "current Kelvin: 9990K, ideal 10000K, diff 10K : [1037, 1658, 571, 1630, 0] / ['930', 1658, 571, 1630, 0]\n",
      "current Kelvin: 9962K, ideal 10000K, diff 38K : [1037, 1658, 572, 1630, 0] / ['928', 1658, 572, 1630, 0]\n",
      "current Kelvin: 9976K, ideal 10000K, diff 24K : [1037, 1658, 573, 1630, 0] / ['923', 1658, 573, 1630, 0]\n",
      "current Kelvin: 10015K, ideal 10000K, diff -15K : [1037, 1658, 574, 1630, 0] / ['907', 1658, 574, 1630, 0]\n",
      "selected: [10000, 8, 1037, 1658, 571, 1630]\n",
      "Writing calibratrion:\n",
      "\n",
      "DS93->5:8:50000[1037:1658:571:1630]\n",
      "DS10->WriteCalibartion 1060[50000][1037:1658:571:1630]//0f34:::\n",
      "\n",
      "Temperature: 10002K\n",
      "dUv: -0.0017\n",
      "Brightness: 50500lx\n",
      "Loading calibartion from lamp\n",
      "\n",
      "loaded values: DS10->ReadCalibartion addr:actual lux|r:g:b:W| 1060:[50000][1037:1658:571:1630]//17ff:::\n",
      "\n",
      "\n",
      "Adjusting lamp brightness to 50000lx in 10000K with [1, 2, 1, 2]/[10, 16, 6, 16] steps\n",
      "current brightness: 50600, ideal 50000, diff -600 : [1037, 1658, 571, 1630, 0] / [1037, 1658, 571, 1630, 0]\n",
      "current brightness: 50100, ideal 50000, diff -100 : [1027, 1642, 565, 1614, 0] / [1027, 1642, 565, 1614, 0]\n",
      "current brightness: 50100, ideal 50000, diff -100 : [1026, 1640, 564, 1612, 0] / [1026, 1640, 564, 1612, 0]\n",
      "current brightness: 50100, ideal 50000, diff -100 : [1025, 1638, 563, 1610, 0] / [1025, 1638, 563, 1610, 0]\n",
      "current brightness: 50000, ideal 50000, diff 0 : [1024, 1636, 562, 1608, 0] / [1024, 1636, 562, 1608, 0]\n",
      "selected: [10000, 8, 1024, 1636, 562, 1608]\n",
      "Adjusting lamp dUV to +/- 0.003 in 10000K with [0, 1, 0, 0]/[0, 30, 0, 0] steps\n",
      "current dUV: -0.0013, ideal 0.0000, diff -0.0013 : [1024, 1636, 562, 1608, 0] / [1024, 1636, 562, 1608, 0]\n",
      "current dUV: -0.0002, ideal 0.0000, diff -0.0002 : [1024, 1666, 562, 1608, 0] / [1024, 1666, 562, 1608, 0]\n",
      "current dUV: -0.0001, ideal 0.0000, diff -0.0001 : [1024, 1667, 562, 1608, 0] / [1024, 1667, 562, 1608, 0]\n",
      "current dUV: 0.0001, ideal 0.0000, diff 0.0001 : [1024, 1668, 562, 1608, 0] / [1024, 1668, 562, 1608, 0]\n",
      "current dUV: 0.0002, ideal 0.0000, diff 0.0002 : [1024, 1667, 562, 1608, 0] / [1024, 1667, 562, 1608, 0]\n",
      "current dUV: 0.0003, ideal 0.0000, diff 0.0003 : [1024, 1666, 562, 1608, 0] / [1024, 1666, 562, 1608, 0]\n",
      "current dUV: 0.0004, ideal 0.0000, diff 0.0004 : [1024, 1665, 562, 1608, 0] / [1024, 1665, 562, 1608, 0]\n",
      "current dUV: 0.0006, ideal 0.0000, diff 0.0006 : [1024, 1664, 562, 1608, 0] / [1024, 1664, 562, 1608, 0]\n",
      "current dUV: 0.0006, ideal 0.0000, diff 0.0006 : [1024, 1663, 562, 1608, 0] / [1024, 1663, 562, 1608, 0]\n",
      "selected: [10000, 8, 1024, 1667, 562, 1608]\n",
      "Adjusting lamp Kelvin to 10000K with [0, 0, 1, 0]/[0, 0, 10, 0] steps\n",
      "current Kelvin: 10145K, ideal 10000K, diff -145K : [1024, 1667, 562, 1608, 0] / [1024, 1667, 562, 1608, 0]\n",
      "current Kelvin: 10122K, ideal 10000K, diff -122K : [1024, 1667, 561, 1608, 0] / ['841', 1667, 561, 1608, 0]\n",
      "current Kelvin: 10114K, ideal 10000K, diff -114K : [1024, 1667, 560, 1608, 0] / ['847', 1667, 560, 1608, 0]\n",
      "current Kelvin: 10106K, ideal 10000K, diff -106K : [1024, 1667, 559, 1608, 0] / ['855', 1667, 559, 1608, 0]\n",
      "current Kelvin: 10084K, ideal 10000K, diff -84K : [1024, 1667, 558, 1608, 0] / ['869', 1667, 558, 1608, 0]\n",
      "current Kelvin: 10044K, ideal 10000K, diff -44K : [1024, 1667, 557, 1608, 0] / ['881', 1667, 557, 1608, 0]\n",
      "current Kelvin: 10049K, ideal 10000K, diff -49K : [1024, 1667, 556, 1608, 0] / ['883', 1667, 556, 1608, 0]\n",
      "current Kelvin: 10034K, ideal 10000K, diff -34K : [1024, 1667, 555, 1608, 0] / ['893', 1667, 555, 1608, 0]\n",
      "current Kelvin: 9975K, ideal 10000K, diff 25K : [1024, 1667, 554, 1608, 0] / ['900', 1667, 554, 1608, 0]\n",
      "selected: [10000, 8, 1024, 1667, 554, 1608]\n",
      "Writing calibratrion:\n",
      "\n",
      "DS93->5:8:50000[1024:1667:554:1608]\n",
      "DS10->WriteCalibartion 1060[50000][1024:1667:554:1608]//0f36:::\n",
      "\n",
      "Temperature: 9981K\n",
      "dUv: 0.0012\n",
      "Brightness: 49100lx\n",
      "Loading calibartion from lamp\n",
      "\n",
      "loaded values: DS10->ReadCalibartion addr:actual lux|r:g:b:W| 1060:[50000][1024:1667:554:1608]//1801:::\n",
      "\n",
      "\n",
      "Adjusting lamp brightness to 50000lx in 10000K with [1, 2, 1, 2]/[10, 16, 5, 16] steps\n",
      "current brightness: 49100, ideal 50000, diff 900 : [1024, 1667, 554, 1608, 0] / [1024, 1667, 554, 1608, 0]\n",
      "current brightness: 49700, ideal 50000, diff 300 : [1034, 1683, 559, 1624, 0] / [1034, 1683, 559, 1624, 0]\n",
      "current brightness: 50300, ideal 50000, diff -300 : [1044, 1699, 564, 1640, 0] / [1044, 1699, 564, 1640, 0]\n",
      "current brightness: 49900, ideal 50000, diff 100 : [1034, 1683, 559, 1624, 0] / [1034, 1683, 559, 1624, 0]\n",
      "current brightness: 50100, ideal 50000, diff -100 : [1035, 1685, 560, 1626, 0] / [1035, 1685, 560, 1626, 0]\n",
      "current brightness: 50100, ideal 50000, diff -100 : [1034, 1683, 559, 1624, 0] / [1034, 1683, 559, 1624, 0]\n",
      "current brightness: 50200, ideal 50000, diff -200 : [1033, 1681, 558, 1622, 0] / [1033, 1681, 558, 1622, 0]\n",
      "current brightness: 49800, ideal 50000, diff 200 : [1023, 1665, 553, 1606, 0] / [1023, 1665, 553, 1606, 0]\n",
      "current brightness: 50400, ideal 50000, diff -400 : [1033, 1681, 558, 1622, 0] / [1033, 1681, 558, 1622, 0]\n",
      "selected: [10000, 8, 1034, 1683, 559, 1624]\n",
      "Adjusting lamp dUV to +/- 0.003 in 10000K with [0, 1, 0, 0]/[0, 30, 0, 0] steps\n",
      "current dUV: -0.0004, ideal 0.0000, diff -0.0004 : [1034, 1683, 559, 1624, 0] / [1034, 1683, 559, 1624, 0]\n",
      "current dUV: -0.0005, ideal 0.0000, diff -0.0005 : [1034, 1684, 559, 1624, 0] / [1034, 1684, 559, 1624, 0]\n",
      "current dUV: -0.0003, ideal 0.0000, diff -0.0003 : [1034, 1685, 559, 1624, 0] / [1034, 1685, 559, 1624, 0]\n",
      "current dUV: -0.0003, ideal 0.0000, diff -0.0003 : [1034, 1686, 559, 1624, 0] / [1034, 1686, 559, 1624, 0]\n",
      "current dUV: -0.0002, ideal 0.0000, diff -0.0002 : [1034, 1687, 559, 1624, 0] / [1034, 1687, 559, 1624, 0]\n",
      "current dUV: -0.0001, ideal 0.0000, diff -0.0001 : [1034, 1688, 559, 1624, 0] / [1034, 1688, 559, 1624, 0]\n",
      "current dUV: 0.0001, ideal 0.0000, diff 0.0001 : [1034, 1689, 559, 1624, 0] / [1034, 1689, 559, 1624, 0]\n",
      "current dUV: 0.0002, ideal 0.0000, diff 0.0002 : [1034, 1688, 559, 1624, 0] / [1034, 1688, 559, 1624, 0]\n",
      "current dUV: 0.0002, ideal 0.0000, diff 0.0002 : [1034, 1687, 559, 1624, 0] / [1034, 1687, 559, 1624, 0]\n",
      "selected: [10000, 8, 1034, 1688, 559, 1624]\n",
      "Adjusting lamp Kelvin to 10000K with [0, 0, 1, 0]/[0, 0, 10, 0] steps\n",
      "current Kelvin: 9879K, ideal 10000K, diff 121K : [1034, 1688, 559, 1624, 0] / [1034, 1688, 559, 1624, 0]\n",
      "current Kelvin: 9924K, ideal 10000K, diff 76K : [1034, 1688, 560, 1624, 0] / ['834', 1688, 560, 1624, 0]\n",
      "current Kelvin: 9951K, ideal 10000K, diff 49K : [1034, 1688, 561, 1624, 0] / ['833', 1688, 561, 1624, 0]\n",
      "current Kelvin: 9990K, ideal 10000K, diff 10K : [1034, 1688, 562, 1624, 0] / ['832', 1688, 562, 1624, 0]\n",
      "current Kelvin: 10018K, ideal 10000K, diff -18K : [1034, 1688, 563, 1624, 0] / ['832', 1688, 563, 1624, 0]\n",
      "current Kelvin: 10034K, ideal 10000K, diff -34K : [1034, 1688, 562, 1624, 0] / ['832', 1688, 562, 1624, 0]\n",
      "current Kelvin: 10037K, ideal 10000K, diff -37K : [1034, 1688, 561, 1624, 0] / ['834', 1688, 561, 1624, 0]\n",
      "current Kelvin: 10025K, ideal 10000K, diff -25K : [1034, 1688, 560, 1624, 0] / ['844', 1688, 560, 1624, 0]\n",
      "current Kelvin: 10026K, ideal 10000K, diff -26K : [1034, 1688, 559, 1624, 0] / ['845', 1688, 559, 1624, 0]\n",
      "selected: [10000, 8, 1034, 1688, 562, 1624]\n",
      "Writing calibratrion:\n",
      "\n",
      "DS93->5:8:50400[1034:1688:562:1624]\n",
      "DS10->WriteCalibartion 1060[50400][1034:1688:562:1624]//0f3b:::\n",
      "\n",
      "Temperature: 10025K\n",
      "dUv: 0.0015\n",
      "Brightness: 50100lx\n",
      "Loading calibartion from lamp\n",
      "\n",
      "loaded values: DS10->ReadCalibartion addr:actual lux|r:g:b:W| 1060:[50400][1034:1688:562:1624]//1806:::\n",
      "\n",
      "\n",
      "Adjusting lamp brightness to 50000lx in 10000K with [1, 2, 1, 2]/[10, 16, 5, 16] steps\n",
      "current brightness: 50100, ideal 50000, diff -100 : [1034, 1688, 562, 1624, 0] / [1034, 1688, 562, 1624, 0]\n",
      "current brightness: 49900, ideal 50000, diff 100 : [1033, 1686, 561, 1622, 0] / [1033, 1686, 561, 1622, 0]\n",
      "current brightness: 49900, ideal 50000, diff 100 : [1034, 1688, 562, 1624, 0] / [1034, 1688, 562, 1624, 0]\n",
      "current brightness: 49900, ideal 50000, diff 100 : [1035, 1690, 563, 1626, 0] / [1035, 1690, 563, 1626, 0]\n",
      "current brightness: 49900, ideal 50000, diff 100 : [1036, 1692, 564, 1628, 0] / [1036, 1692, 564, 1628, 0]\n",
      "current brightness: 49800, ideal 50000, diff 200 : [1037, 1694, 565, 1630, 0] / [1037, 1694, 565, 1630, 0]\n",
      "current brightness: 50300, ideal 50000, diff -300 : [1047, 1710, 570, 1646, 0] / [1047, 1710, 570, 1646, 0]\n",
      "current brightness: 49800, ideal 50000, diff 200 : [1037, 1694, 565, 1630, 0] / [1037, 1694, 565, 1630, 0]\n",
      "current brightness: 50300, ideal 50000, diff -300 : [1047, 1710, 570, 1646, 0] / [1047, 1710, 570, 1646, 0]\n",
      "selected: [10000, 8, 1034, 1688, 562, 1624]\n",
      "Adjusting lamp dUV to +/- 0.003 in 10000K with [0, 1, 0, 0]/[0, 30, 0, 0] steps\n",
      "current dUV: 0.0011, ideal 0.0000, diff 0.0011 : [1034, 1688, 562, 1624, 0] / [1034, 1688, 562, 1624, 0]\n",
      "current dUV: -0.0001, ideal 0.0000, diff -0.0001 : [1034, 1658, 562, 1624, 0] / [1034, 1658, 562, 1624, 0]\n",
      "current dUV: -0.0003, ideal 0.0000, diff -0.0003 : [1034, 1659, 562, 1624, 0] / [1034, 1659, 562, 1624, 0]\n",
      "current dUV: -0.0005, ideal 0.0000, diff -0.0005 : [1034, 1660, 562, 1624, 0] / [1034, 1660, 562, 1624, 0]\n",
      "current dUV: -0.0007, ideal 0.0000, diff -0.0007 : [1034, 1661, 562, 1624, 0] / [1034, 1661, 562, 1624, 0]\n",
      "current dUV: -0.0006, ideal 0.0000, diff -0.0006 : [1034, 1662, 562, 1624, 0] / [1034, 1662, 562, 1624, 0]\n",
      "current dUV: -0.0008, ideal 0.0000, diff -0.0008 : [1034, 1663, 562, 1624, 0] / [1034, 1663, 562, 1624, 0]\n",
      "current dUV: -0.0009, ideal 0.0000, diff -0.0009 : [1034, 1664, 562, 1624, 0] / [1034, 1664, 562, 1624, 0]\n",
      "current dUV: -0.001, ideal 0.0000, diff -0.001 : [1034, 1665, 562, 1624, 0] / [1034, 1665, 562, 1624, 0]\n",
      "selected: [10000, 8, 1034, 1658, 562, 1624]\n",
      "Adjusting lamp Kelvin to 10000K with [0, 0, 1, 0]/[0, 0, 10, 0] steps\n",
      "current Kelvin: 9817K, ideal 10000K, diff 183K : [1034, 1658, 562, 1624, 0] / [1034, 1658, 562, 1624, 0]\n",
      "current Kelvin: 9843K, ideal 10000K, diff 157K : [1034, 1658, 563, 1624, 0] / ['894', 1658, 563, 1624, 0]\n",
      "current Kelvin: 9895K, ideal 10000K, diff 105K : [1034, 1658, 564, 1624, 0] / ['878', 1658, 564, 1624, 0]\n",
      "current Kelvin: 9925K, ideal 10000K, diff 75K : [1034, 1658, 565, 1624, 0] / ['870', 1658, 565, 1624, 0]\n",
      "current Kelvin: 9974K, ideal 10000K, diff 26K : [1034, 1658, 566, 1624, 0] / ['862', 1658, 566, 1624, 0]\n",
      "current Kelvin: 10010K, ideal 10000K, diff -10K : [1034, 1658, 567, 1624, 0] / ['851', 1658, 567, 1624, 0]\n",
      "current Kelvin: 10008K, ideal 10000K, diff -8K : [1034, 1658, 566, 1624, 0] / ['844', 1658, 566, 1624, 0]\n",
      "current Kelvin: 10008K, ideal 10000K, diff -8K : [1034, 1658, 565, 1624, 0] / ['841', 1658, 565, 1624, 0]\n",
      "current Kelvin: 10016K, ideal 10000K, diff -16K : [1034, 1658, 564, 1624, 0] / ['834', 1658, 564, 1624, 0]\n",
      "selected: [10000, 8, 1034, 1658, 566, 1624]\n",
      "Writing calibratrion:\n",
      "\n",
      "DS93->5:8:50300[1034:1658:566:1624]\n",
      "DS10->WriteCalibartion 1060[50300][1034:1658:566:1624]//0f3b:::\n",
      "\n",
      "Temperature: 10017K\n",
      "dUv: -0.0006\n",
      "Brightness: 50500lx\n",
      "Loading calibartion from lamp\n",
      "\n",
      "loaded values: DS10->ReadCalibartion addr:actual lux|r:g:b:W| 1060:[50300][1034:1658:566:1624]//1806:::\n",
      "\n",
      "\n",
      "Adjusting lamp brightness to 50000lx in 10000K with [1, 2, 1, 2]/[10, 16, 5, 16] steps\n",
      "current brightness: 50400, ideal 50000, diff -400 : [1034, 1658, 566, 1624, 0] / [1034, 1658, 566, 1624, 0]\n",
      "current brightness: 49800, ideal 50000, diff 200 : [1024, 1642, 561, 1608, 0] / [1024, 1642, 561, 1608, 0]\n",
      "current brightness: 50200, ideal 50000, diff -200 : [1034, 1658, 566, 1624, 0] / [1034, 1658, 566, 1624, 0]\n",
      "current brightness: 49600, ideal 50000, diff 400 : [1024, 1642, 561, 1608, 0] / [1024, 1642, 561, 1608, 0]\n",
      "current brightness: 50000, ideal 50000, diff 0 : [1034, 1658, 566, 1624, 0] / [1034, 1658, 566, 1624, 0]\n",
      "selected: [10000, 8, 1034, 1658, 566, 1624]\n",
      "Adjusting lamp dUV to +/- 0.003 in 10000K with [0, 1, 0, 0]/[0, 30, 0, 0] steps\n",
      "current dUV: 0.0002, ideal 0.0000, diff 0.0002 : [1034, 1658, 566, 1624, 0] / [1034, 1658, 566, 1624, 0]\n",
      "current dUV: 0.0003, ideal 0.0000, diff 0.0003 : [1034, 1657, 566, 1624, 0] / [1034, 1657, 566, 1624, 0]\n",
      "current dUV: 0.0004, ideal 0.0000, diff 0.0004 : [1034, 1656, 566, 1624, 0] / [1034, 1656, 566, 1624, 0]\n",
      "current dUV: 0.0002, ideal 0.0000, diff 0.0002 : [1034, 1655, 566, 1624, 0] / [1034, 1655, 566, 1624, 0]\n",
      "current dUV: 0.0001, ideal 0.0000, diff 0.0001 : [1034, 1654, 566, 1624, 0] / [1034, 1654, 566, 1624, 0]\n",
      "current dUV: 0.0003, ideal 0.0000, diff 0.0003 : [1034, 1653, 566, 1624, 0] / [1034, 1653, 566, 1624, 0]\n",
      "current dUV: 0.0002, ideal 0.0000, diff 0.0002 : [1034, 1652, 566, 1624, 0] / [1034, 1652, 566, 1624, 0]\n",
      "current dUV: 0.0002, ideal 0.0000, diff 0.0002 : [1034, 1651, 566, 1624, 0] / [1034, 1651, 566, 1624, 0]\n",
      "current dUV: 0.0003, ideal 0.0000, diff 0.0003 : [1034, 1650, 566, 1624, 0] / [1034, 1650, 566, 1624, 0]\n",
      "selected: [10000, 8, 1034, 1654, 566, 1624]\n",
      "Adjusting lamp Kelvin to 10000K with [0, 0, 1, 0]/[0, 0, 10, 0] steps\n",
      "current Kelvin: 10143K, ideal 10000K, diff -143K : [1034, 1654, 566, 1624, 0] / [1034, 1654, 566, 1624, 0]\n",
      "current Kelvin: 10117K, ideal 10000K, diff -117K : [1034, 1654, 565, 1624, 0] / ['921', 1654, 565, 1624, 0]\n",
      "current Kelvin: 10063K, ideal 10000K, diff -63K : [1034, 1654, 564, 1624, 0] / ['926', 1654, 564, 1624, 0]\n",
      "current Kelvin: 9996K, ideal 10000K, diff 4K : [1034, 1654, 563, 1624, 0] / ['933', 1654, 563, 1624, 0]\n",
      "current Kelvin: 9976K, ideal 10000K, diff 24K : [1034, 1654, 564, 1624, 0] / ['942', 1654, 564, 1624, 0]\n",
      "current Kelvin: 9945K, ideal 10000K, diff 55K : [1034, 1654, 565, 1624, 0] / ['942', 1654, 565, 1624, 0]\n",
      "current Kelvin: 9934K, ideal 10000K, diff 66K : [1034, 1654, 566, 1624, 0] / ['942', 1654, 566, 1624, 0]\n",
      "current Kelvin: 9955K, ideal 10000K, diff 45K : [1034, 1654, 567, 1624, 0] / ['933', 1654, 567, 1624, 0]\n",
      "current Kelvin: 9965K, ideal 10000K, diff 35K : [1034, 1654, 568, 1624, 0] / ['930', 1654, 568, 1624, 0]\n",
      "selected: [10000, 8, 1034, 1654, 563, 1624]\n",
      "Writing calibratrion:\n",
      "\n",
      "DS93->5:8:50000[1034:1654:563:1624]\n",
      "DS10->WriteCalibartion 1060[50000][1034:1654:563:1624]//0f31:::\n",
      "\n",
      "Temperature: 9953K\n",
      "dUv: -0.0012\n",
      "Brightness: 50100lx\n",
      "Loading calibartion from lamp\n",
      "\n",
      "loaded values: DS10->ReadCalibartion addr:actual lux|r:g:b:W| 1060:[50000][1034:1654:563:1624]//17fc:::\n",
      "\n",
      "\n",
      "Adjusting lamp brightness to 50000lx in 10000K with [1, 2, 1, 2]/[10, 16, 5, 16] steps\n",
      "current brightness: 50200, ideal 50000, diff -200 : [1034, 1654, 563, 1624, 0] / [1034, 1654, 563, 1624, 0]\n",
      "current brightness: 49800, ideal 50000, diff 200 : [1024, 1638, 558, 1608, 0] / [1024, 1638, 558, 1608, 0]\n",
      "current brightness: 50400, ideal 50000, diff -400 : [1034, 1654, 563, 1624, 0] / [1034, 1654, 563, 1624, 0]\n",
      "current brightness: 50000, ideal 50000, diff 0 : [1024, 1638, 558, 1608, 0] / [1024, 1638, 558, 1608, 0]\n",
      "selected: [10000, 8, 1024, 1638, 558, 1608]\n",
      "Adjusting lamp dUV to +/- 0.003 in 10000K with [0, 1, 0, 0]/[0, 30, 0, 0] steps\n",
      "current dUV: -0.0015, ideal 0.0000, diff -0.0015 : [1024, 1638, 558, 1608, 0] / [1024, 1638, 558, 1608, 0]\n",
      "current dUV: -0.0002, ideal 0.0000, diff -0.0002 : [1024, 1668, 558, 1608, 0] / [1024, 1668, 558, 1608, 0]\n",
      "current dUV: -0.0003, ideal 0.0000, diff -0.0003 : [1024, 1669, 558, 1608, 0] / [1024, 1669, 558, 1608, 0]\n",
      "current dUV: -0.0001, ideal 0.0000, diff -0.0001 : [1024, 1670, 558, 1608, 0] / [1024, 1670, 558, 1608, 0]\n",
      "current dUV: 0.0, ideal 0.0000, diff 0.0 : [1024, 1671, 558, 1608, 0] / [1024, 1671, 558, 1608, 0]\n",
      "selected: [10000, 8, 1024, 1671, 558, 1608]\n",
      "Adjusting lamp Kelvin to 10000K with [0, 0, 1, 0]/[0, 0, 10, 0] steps\n",
      "current Kelvin: 9936K, ideal 10000K, diff 64K : [1024, 1671, 558, 1608, 0] / [1024, 1671, 558, 1608, 0]\n",
      "current Kelvin: 9972K, ideal 10000K, diff 28K : [1024, 1671, 559, 1608, 0] / ['829', 1671, 559, 1608, 0]\n",
      "current Kelvin: 10014K, ideal 10000K, diff -14K : [1024, 1671, 560, 1608, 0] / ['823', 1671, 560, 1608, 0]\n",
      "current Kelvin: 10018K, ideal 10000K, diff -18K : [1024, 1671, 559, 1608, 0] / ['823', 1671, 559, 1608, 0]\n",
      "current Kelvin: 10021K, ideal 10000K, diff -21K : [1024, 1671, 558, 1608, 0] / ['822', 1671, 558, 1608, 0]\n",
      "current Kelvin: 10010K, ideal 10000K, diff -10K : [1024, 1671, 557, 1608, 0] / ['823', 1671, 557, 1608, 0]\n",
      "current Kelvin: 10022K, ideal 10000K, diff -22K : [1024, 1671, 556, 1608, 0] / ['827', 1671, 556, 1608, 0]\n",
      "current Kelvin: 10030K, ideal 10000K, diff -30K : [1024, 1671, 555, 1608, 0] / ['829', 1671, 555, 1608, 0]\n",
      "current Kelvin: 10009K, ideal 10000K, diff -9K : [1024, 1671, 554, 1608, 0] / ['834', 1671, 554, 1608, 0]\n",
      "selected: [10000, 8, 1024, 1671, 554, 1608]\n",
      "Writing calibratrion:\n",
      "\n",
      "DS93->5:8:50000[1024:1671:554:1608]\n",
      "DS10->WriteCalibartion 1060[50000][1024:1671:554:1608]//0f31:::\n",
      "\n",
      "Temperature: 10012K\n",
      "dUv: 0.0012\n",
      "Brightness: 49700lx\n",
      "Loading calibartion from lamp\n",
      "\n",
      "loaded values: DS10->ReadCalibartion addr:actual lux|r:g:b:W| 1060:[50000][1024:1671:554:1608]//17fc:::\n",
      "\n",
      "\n",
      "Adjusting lamp brightness to 50000lx in 10000K with [1, 2, 1, 2]/[10, 16, 5, 16] steps\n",
      "current brightness: 49600, ideal 50000, diff 400 : [1024, 1671, 554, 1608, 0] / [1024, 1671, 554, 1608, 0]\n",
      "current brightness: 50000, ideal 50000, diff 0 : [1034, 1687, 559, 1624, 0] / [1034, 1687, 559, 1624, 0]\n",
      "selected: [10000, 8, 1034, 1687, 559, 1624]\n",
      "Adjusting lamp dUV to +/- 0.003 in 10000K with [0, 1, 0, 0]/[0, 30, 0, 0] steps\n",
      "current dUV: 0.0013, ideal 0.0000, diff 0.0013 : [1034, 1687, 559, 1624, 0] / [1034, 1687, 559, 1624, 0]\n",
      "current dUV: 0.0006, ideal 0.0000, diff 0.0006 : [1034, 1657, 559, 1624, 0] / [1034, 1657, 559, 1624, 0]\n",
      "current dUV: 0.0006, ideal 0.0000, diff 0.0006 : [1034, 1656, 559, 1624, 0] / [1034, 1656, 559, 1624, 0]\n",
      "current dUV: 0.0005, ideal 0.0000, diff 0.0005 : [1034, 1655, 559, 1624, 0] / [1034, 1655, 559, 1624, 0]\n",
      "current dUV: 0.0005, ideal 0.0000, diff 0.0005 : [1034, 1654, 559, 1624, 0] / [1034, 1654, 559, 1624, 0]\n",
      "current dUV: 0.0005, ideal 0.0000, diff 0.0005 : [1034, 1653, 559, 1624, 0] / [1034, 1653, 559, 1624, 0]\n",
      "current dUV: 0.0004, ideal 0.0000, diff 0.0004 : [1034, 1652, 559, 1624, 0] / [1034, 1652, 559, 1624, 0]\n",
      "current dUV: 0.0001, ideal 0.0000, diff 0.0001 : [1034, 1651, 559, 1624, 0] / [1034, 1651, 559, 1624, 0]\n",
      "current dUV: -0.0002, ideal 0.0000, diff -0.0002 : [1034, 1650, 559, 1624, 0] / [1034, 1650, 559, 1624, 0]\n",
      "selected: [10000, 8, 1034, 1651, 559, 1624]\n",
      "Adjusting lamp Kelvin to 10000K with [0, 0, 1, 0]/[0, 0, 10, 0] steps\n",
      "current Kelvin: 9928K, ideal 10000K, diff 72K : [1034, 1651, 559, 1624, 0] / [1034, 1651, 559, 1624, 0]\n",
      "current Kelvin: 9900K, ideal 10000K, diff 100K : [1034, 1651, 560, 1624, 0] / ['937', 1651, 560, 1624, 0]\n",
      "current Kelvin: 9866K, ideal 10000K, diff 134K : [1034, 1651, 561, 1624, 0] / ['937', 1651, 561, 1624, 0]\n",
      "current Kelvin: 9862K, ideal 10000K, diff 138K : [1034, 1651, 562, 1624, 0] / ['937', 1651, 562, 1624, 0]\n",
      "current Kelvin: 9887K, ideal 10000K, diff 113K : [1034, 1651, 563, 1624, 0] / ['928', 1651, 563, 1624, 0]\n",
      "current Kelvin: 9854K, ideal 10000K, diff 146K : [1034, 1651, 564, 1624, 0] / ['917', 1651, 564, 1624, 0]\n",
      "current Kelvin: 9884K, ideal 10000K, diff 116K : [1034, 1651, 565, 1624, 0] / ['909', 1651, 565, 1624, 0]\n",
      "current Kelvin: 9897K, ideal 10000K, diff 103K : [1034, 1651, 566, 1624, 0] / ['901', 1651, 566, 1624, 0]\n",
      "current Kelvin: 9883K, ideal 10000K, diff 117K : [1034, 1651, 567, 1624, 0] / ['892', 1651, 567, 1624, 0]\n",
      "selected: [10000, 8, 1034, 1651, 559, 1624]\n",
      "Writing calibratrion:\n",
      "\n",
      "DS93->5:8:50000[1034:1651:559:1624]\n",
      "DS10->WriteCalibartion 1060[50000][1034:1651:559:1624]//0f33:::\n",
      "\n",
      "Temperature: 9949K\n",
      "dUv: -0.0015\n",
      "Brightness: 50400lx\n",
      "Loading calibartion from lamp\n",
      "\n",
      "loaded values: DS10->ReadCalibartion addr:actual lux|r:g:b:W| 1060:[50000][1034:1651:559:1624]//17fe:::\n",
      "\n",
      "\n",
      "Adjusting lamp brightness to 50000lx in 10000K with [1, 2, 1, 2]/[10, 16, 5, 16] steps\n",
      "current brightness: 50400, ideal 50000, diff -400 : [1034, 1651, 559, 1624, 0] / [1034, 1651, 559, 1624, 0]\n",
      "current brightness: 49900, ideal 50000, diff 100 : [1024, 1635, 554, 1608, 0] / [1024, 1635, 554, 1608, 0]\n",
      "current brightness: 50000, ideal 50000, diff 0 : [1025, 1637, 555, 1610, 0] / [1025, 1637, 555, 1610, 0]\n",
      "selected: [10000, 8, 1025, 1637, 555, 1610]\n",
      "Adjusting lamp dUV to +/- 0.003 in 10000K with [0, 1, 0, 0]/[0, 30, 0, 0] steps\n",
      "current dUV: -0.001, ideal 0.0000, diff -0.001 : [1025, 1637, 555, 1610, 0] / [1025, 1637, 555, 1610, 0]\n",
      "current dUV: -0.0009, ideal 0.0000, diff -0.0009 : [1025, 1638, 555, 1610, 0] / [1025, 1638, 555, 1610, 0]\n",
      "current dUV: -0.0008, ideal 0.0000, diff -0.0008 : [1025, 1639, 555, 1610, 0] / [1025, 1639, 555, 1610, 0]\n",
      "current dUV: -0.0006, ideal 0.0000, diff -0.0006 : [1025, 1640, 555, 1610, 0] / [1025, 1640, 555, 1610, 0]\n",
      "current dUV: -0.0005, ideal 0.0000, diff -0.0005 : [1025, 1641, 555, 1610, 0] / [1025, 1641, 555, 1610, 0]\n",
      "current dUV: -0.0003, ideal 0.0000, diff -0.0003 : [1025, 1642, 555, 1610, 0] / [1025, 1642, 555, 1610, 0]\n",
      "current dUV: -0.0002, ideal 0.0000, diff -0.0002 : [1025, 1643, 555, 1610, 0] / [1025, 1643, 555, 1610, 0]\n",
      "current dUV: 0.0001, ideal 0.0000, diff 0.0001 : [1025, 1644, 555, 1610, 0] / [1025, 1644, 555, 1610, 0]\n",
      "current dUV: 0.0002, ideal 0.0000, diff 0.0002 : [1025, 1643, 555, 1610, 0] / [1025, 1643, 555, 1610, 0]\n",
      "selected: [10000, 8, 1025, 1644, 555, 1610]\n",
      "Adjusting lamp Kelvin to 10000K with [0, 0, 1, 0]/[0, 0, 10, 0] steps\n",
      "current Kelvin: 10056K, ideal 10000K, diff -56K : [1025, 1644, 555, 1610, 0] / [1025, 1644, 555, 1610, 0]\n",
      "current Kelvin: 10027K, ideal 10000K, diff -27K : [1025, 1644, 554, 1610, 0] / ['834', 1644, 554, 1610, 0]\n",
      "current Kelvin: 10032K, ideal 10000K, diff -32K : [1025, 1644, 553, 1610, 0] / ['840', 1644, 553, 1610, 0]\n",
      "current Kelvin: 9978K, ideal 10000K, diff 22K : [1025, 1644, 552, 1610, 0] / ['852', 1644, 552, 1610, 0]\n",
      "current Kelvin: 10022K, ideal 10000K, diff -22K : [1025, 1644, 553, 1610, 0] / ['864', 1644, 553, 1610, 0]\n",
      "current Kelvin: 9982K, ideal 10000K, diff 18K : [1025, 1644, 552, 1610, 0] / ['870', 1644, 552, 1610, 0]\n",
      "current Kelvin: 10008K, ideal 10000K, diff -8K : [1025, 1644, 553, 1610, 0] / ['878', 1644, 553, 1610, 0]\n",
      "Looping condition, assuming the best possible solution achived\n",
      "selected: [10000, 8, 1025, 1644, 553, 1610]\n",
      "Writing calibratrion:\n",
      "\n",
      "DS93->5:8:50000[1025:1644:553:1610]\n",
      "DS10->WriteCalibartion 1060[50000][1025:1644:553:1610]//0f2a:::\n",
      "\n",
      "Temperature: 10024K\n",
      "dUv: 0.0007\n",
      "Brightness: 49000lx\n",
      "Loading calibartion from lamp\n",
      "\n",
      "loaded values: DS10->ReadCalibartion addr:actual lux|r:g:b:W| 1060:[50000][1025:1644:553:1610]//17f5:::\n",
      "\n",
      "\n",
      "Adjusting lamp brightness to 50000lx in 10000K with [1, 2, 1, 2]/[10, 16, 5, 16] steps\n",
      "current brightness: 48900, ideal 50000, diff 1100 : [1025, 1644, 553, 1610, 0] / [1025, 1644, 553, 1610, 0]\n",
      "current brightness: 49300, ideal 50000, diff 700 : [1035, 1660, 558, 1626, 0] / [1035, 1660, 558, 1626, 0]\n",
      "current brightness: 49800, ideal 50000, diff 200 : [1045, 1676, 563, 1642, 0] / [1045, 1676, 563, 1642, 0]\n",
      "current brightness: 50300, ideal 50000, diff -300 : [1055, 1692, 568, 1658, 0] / [1055, 1692, 568, 1658, 0]\n",
      "current brightness: 49900, ideal 50000, diff 100 : [1045, 1676, 563, 1642, 0] / [1045, 1676, 563, 1642, 0]\n",
      "current brightness: 50100, ideal 50000, diff -100 : [1046, 1678, 564, 1644, 0] / [1046, 1678, 564, 1644, 0]\n",
      "current brightness: 50100, ideal 50000, diff -100 : [1045, 1676, 563, 1642, 0] / [1045, 1676, 563, 1642, 0]\n",
      "current brightness: 50200, ideal 50000, diff -200 : [1044, 1674, 562, 1640, 0] / [1044, 1674, 562, 1640, 0]\n",
      "current brightness: 49800, ideal 50000, diff 200 : [1034, 1658, 557, 1624, 0] / [1034, 1658, 557, 1624, 0]\n",
      "selected: [10000, 8, 1045, 1676, 563, 1642]\n",
      "Adjusting lamp dUV to +/- 0.003 in 10000K with [0, 1, 0, 0]/[0, 30, 0, 0] steps\n",
      "current dUV: -0.0005, ideal 0.0000, diff -0.0005 : [1045, 1676, 563, 1642, 0] / [1045, 1676, 563, 1642, 0]\n",
      "current dUV: -0.0007, ideal 0.0000, diff -0.0007 : [1045, 1677, 563, 1642, 0] / [1045, 1677, 563, 1642, 0]\n",
      "current dUV: -0.0007, ideal 0.0000, diff -0.0007 : [1045, 1678, 563, 1642, 0] / [1045, 1678, 563, 1642, 0]\n",
      "current dUV: -0.0008, ideal 0.0000, diff -0.0008 : [1045, 1679, 563, 1642, 0] / [1045, 1679, 563, 1642, 0]\n",
      "current dUV: -0.0009, ideal 0.0000, diff -0.0009 : [1045, 1680, 563, 1642, 0] / [1045, 1680, 563, 1642, 0]\n",
      "current dUV: -0.0008, ideal 0.0000, diff -0.0008 : [1045, 1681, 563, 1642, 0] / [1045, 1681, 563, 1642, 0]\n",
      "current dUV: -0.0007, ideal 0.0000, diff -0.0007 : [1045, 1682, 563, 1642, 0] / [1045, 1682, 563, 1642, 0]\n",
      "current dUV: -0.0007, ideal 0.0000, diff -0.0007 : [1045, 1683, 563, 1642, 0] / [1045, 1683, 563, 1642, 0]\n",
      "current dUV: -0.0006, ideal 0.0000, diff -0.0006 : [1045, 1684, 563, 1642, 0] / [1045, 1684, 563, 1642, 0]\n",
      "selected: [10000, 8, 1045, 1676, 563, 1642]\n",
      "Adjusting lamp Kelvin to 10000K with [0, 0, 1, 0]/[0, 0, 10, 0] steps\n",
      "current Kelvin: 9852K, ideal 10000K, diff 148K : [1045, 1676, 563, 1642, 0] / [1045, 1676, 563, 1642, 0]\n",
      "current Kelvin: 9872K, ideal 10000K, diff 128K : [1045, 1676, 564, 1642, 0] / ['857', 1676, 564, 1642, 0]\n",
      "current Kelvin: 9902K, ideal 10000K, diff 98K : [1045, 1676, 565, 1642, 0] / ['855', 1676, 565, 1642, 0]\n",
      "current Kelvin: 9953K, ideal 10000K, diff 47K : [1045, 1676, 566, 1642, 0] / ['848', 1676, 566, 1642, 0]\n",
      "current Kelvin: 9983K, ideal 10000K, diff 17K : [1045, 1676, 567, 1642, 0] / ['843', 1676, 567, 1642, 0]\n",
      "current Kelvin: 10013K, ideal 10000K, diff -13K : [1045, 1676, 568, 1642, 0] / ['843', 1676, 568, 1642, 0]\n",
      "current Kelvin: 10006K, ideal 10000K, diff -6K : [1045, 1676, 567, 1642, 0] / ['842', 1676, 567, 1642, 0]\n",
      "current Kelvin: 10019K, ideal 10000K, diff -19K : [1045, 1676, 566, 1642, 0] / ['844', 1676, 566, 1642, 0]\n",
      "current Kelvin: 10032K, ideal 10000K, diff -32K : [1045, 1676, 565, 1642, 0] / ['844', 1676, 565, 1642, 0]\n",
      "selected: [10000, 8, 1045, 1676, 567, 1642]\n",
      "Writing calibratrion:\n",
      "\n",
      "DS93->5:8:49800[1045:1676:567:1642]\n",
      "DS10->WriteCalibartion 1060[49800][1045:1676:567:1642]//0f4b:::\n",
      "\n",
      "Temperature: 10040K\n",
      "dUv: 0.0003\n",
      "Brightness: 50600lx\n",
      "Loading calibartion from lamp\n",
      "\n",
      "loaded values: DS10->ReadCalibartion addr:actual lux|r:g:b:W| 1060:[49800][1045:1676:567:1642]//1816:::\n",
      "\n",
      "\n",
      "Adjusting lamp brightness to 50000lx in 10000K with [1, 2, 1, 2]/[10, 16, 5, 16] steps\n",
      "current brightness: 50500, ideal 50000, diff -500 : [1045, 1676, 567, 1642, 0] / [1045, 1676, 567, 1642, 0]\n",
      "current brightness: 49900, ideal 50000, diff 100 : [1035, 1660, 562, 1626, 0] / [1035, 1660, 562, 1626, 0]\n",
      "current brightness: 49900, ideal 50000, diff 100 : [1036, 1662, 563, 1628, 0] / [1036, 1662, 563, 1628, 0]\n",
      "current brightness: 49900, ideal 50000, diff 100 : [1037, 1664, 564, 1630, 0] / [1037, 1664, 564, 1630, 0]\n",
      "current brightness: 49900, ideal 50000, diff 100 : [1038, 1666, 565, 1632, 0] / [1038, 1666, 565, 1632, 0]\n",
      "current brightness: 49800, ideal 50000, diff 200 : [1039, 1668, 566, 1634, 0] / [1039, 1668, 566, 1634, 0]\n",
      "current brightness: 50200, ideal 50000, diff -200 : [1049, 1684, 571, 1650, 0] / [1049, 1684, 571, 1650, 0]\n",
      "current brightness: 49700, ideal 50000, diff 300 : [1039, 1668, 566, 1634, 0] / [1039, 1668, 566, 1634, 0]\n",
      "current brightness: 50100, ideal 50000, diff -100 : [1049, 1684, 571, 1650, 0] / [1049, 1684, 571, 1650, 0]\n",
      "selected: [10000, 8, 1035, 1660, 562, 1626]\n",
      "Adjusting lamp dUV to +/- 0.003 in 10000K with [0, 1, 0, 0]/[0, 30, 0, 0] steps\n",
      "current dUV: 0.0007, ideal 0.0000, diff 0.0007 : [1035, 1660, 562, 1626, 0] / [1035, 1660, 562, 1626, 0]\n",
      "current dUV: 0.0006, ideal 0.0000, diff 0.0006 : [1035, 1659, 562, 1626, 0] / [1035, 1659, 562, 1626, 0]\n",
      "current dUV: 0.0003, ideal 0.0000, diff 0.0003 : [1035, 1658, 562, 1626, 0] / [1035, 1658, 562, 1626, 0]\n",
      "current dUV: -0.0001, ideal 0.0000, diff -0.0001 : [1035, 1657, 562, 1626, 0] / [1035, 1657, 562, 1626, 0]\n",
      "current dUV: -0.0002, ideal 0.0000, diff -0.0002 : [1035, 1658, 562, 1626, 0] / [1035, 1658, 562, 1626, 0]\n",
      "current dUV: -0.0004, ideal 0.0000, diff -0.0004 : [1035, 1659, 562, 1626, 0] / [1035, 1659, 562, 1626, 0]\n",
      "current dUV: -0.0006, ideal 0.0000, diff -0.0006 : [1035, 1660, 562, 1626, 0] / [1035, 1660, 562, 1626, 0]\n",
      "current dUV: -0.0008, ideal 0.0000, diff -0.0008 : [1035, 1661, 562, 1626, 0] / [1035, 1661, 562, 1626, 0]\n",
      "current dUV: -0.0007, ideal 0.0000, diff -0.0007 : [1035, 1662, 562, 1626, 0] / [1035, 1662, 562, 1626, 0]\n",
      "selected: [10000, 8, 1035, 1657, 562, 1626]\n",
      "Adjusting lamp Kelvin to 10000K with [0, 0, 1, 0]/[0, 0, 10, 0] steps\n",
      "current Kelvin: 9828K, ideal 10000K, diff 172K : [1035, 1657, 562, 1626, 0] / [1035, 1657, 562, 1626, 0]\n",
      "current Kelvin: 9824K, ideal 10000K, diff 176K : [1035, 1657, 563, 1626, 0] / ['921', 1657, 563, 1626, 0]\n",
      "current Kelvin: 9839K, ideal 10000K, diff 161K : [1035, 1657, 564, 1626, 0] / ['913', 1657, 564, 1626, 0]\n",
      "current Kelvin: 9889K, ideal 10000K, diff 111K : [1035, 1657, 565, 1626, 0] / ['897', 1657, 565, 1626, 0]\n",
      "current Kelvin: 9907K, ideal 10000K, diff 93K : [1035, 1657, 566, 1626, 0] / ['887', 1657, 566, 1626, 0]\n",
      "current Kelvin: 9931K, ideal 10000K, diff 69K : [1035, 1657, 567, 1626, 0] / ['879', 1657, 567, 1626, 0]\n",
      "current Kelvin: 10000K, ideal 10000K, diff 0K : [1035, 1657, 568, 1626, 0] / ['864', 1657, 568, 1626, 0]\n",
      "selected: [10000, 8, 1035, 1657, 568, 1626]\n",
      "Writing calibratrion:\n",
      "\n",
      "DS93->5:8:50100[1035:1657:568:1626]\n",
      "DS10->WriteCalibartion 1060[50100][1035:1657:568:1626]//0f3d:::\n",
      "\n",
      "Temperature: 9993K\n",
      "dUv: -0.0012\n",
      "Brightness: 50500lx\n",
      "Loading calibartion from lamp\n",
      "\n",
      "loaded values: DS10->ReadCalibartion addr:actual lux|r:g:b:W| 1060:[50100][1035:1657:568:1626]//1808:::\n",
      "\n",
      "\n",
      "Adjusting lamp brightness to 50000lx in 10000K with [1, 2, 1, 2]/[10, 16, 5, 16] steps\n",
      "current brightness: 50600, ideal 50000, diff -600 : [1035, 1657, 568, 1626, 0] / [1035, 1657, 568, 1626, 0]\n",
      "current brightness: 50000, ideal 50000, diff 0 : [1025, 1641, 563, 1610, 0] / [1025, 1641, 563, 1610, 0]\n",
      "selected: [10000, 8, 1025, 1641, 563, 1610]\n",
      "Adjusting lamp dUV to +/- 0.003 in 10000K with [0, 1, 0, 0]/[0, 30, 0, 0] steps\n",
      "current dUV: -0.001, ideal 0.0000, diff -0.001 : [1025, 1641, 563, 1610, 0] / [1025, 1641, 563, 1610, 0]\n",
      "current dUV: -0.0009, ideal 0.0000, diff -0.0009 : [1025, 1642, 563, 1610, 0] / [1025, 1642, 563, 1610, 0]\n",
      "current dUV: -0.0007, ideal 0.0000, diff -0.0007 : [1025, 1643, 563, 1610, 0] / [1025, 1643, 563, 1610, 0]\n",
      "current dUV: -0.0006, ideal 0.0000, diff -0.0006 : [1025, 1644, 563, 1610, 0] / [1025, 1644, 563, 1610, 0]\n",
      "current dUV: -0.0004, ideal 0.0000, diff -0.0004 : [1025, 1645, 563, 1610, 0] / [1025, 1645, 563, 1610, 0]\n",
      "current dUV: -0.0002, ideal 0.0000, diff -0.0002 : [1025, 1646, 563, 1610, 0] / [1025, 1646, 563, 1610, 0]\n",
      "current dUV: 0.0, ideal 0.0000, diff 0.0 : [1025, 1647, 563, 1610, 0] / [1025, 1647, 563, 1610, 0]\n",
      "selected: [10000, 8, 1025, 1647, 563, 1610]\n",
      "Adjusting lamp Kelvin to 10000K with [0, 0, 1, 0]/[0, 0, 10, 0] steps\n",
      "current Kelvin: 10152K, ideal 10000K, diff -152K : [1025, 1647, 563, 1610, 0] / [1025, 1647, 563, 1610, 0]\n",
      "current Kelvin: 10159K, ideal 10000K, diff -159K : [1025, 1647, 562, 1610, 0] / ['836', 1647, 562, 1610, 0]\n",
      "current Kelvin: 10165K, ideal 10000K, diff -165K : [1025, 1647, 561, 1610, 0] / ['837', 1647, 561, 1610, 0]\n",
      "current Kelvin: 10129K, ideal 10000K, diff -129K : [1025, 1647, 560, 1610, 0] / ['847', 1647, 560, 1610, 0]\n",
      "current Kelvin: 10119K, ideal 10000K, diff -119K : [1025, 1647, 559, 1610, 0] / ['854', 1647, 559, 1610, 0]\n",
      "current Kelvin: 10076K, ideal 10000K, diff -76K : [1025, 1647, 558, 1610, 0] / ['861', 1647, 558, 1610, 0]\n",
      "current Kelvin: 10069K, ideal 10000K, diff -69K : [1025, 1647, 557, 1610, 0] / ['875', 1647, 557, 1610, 0]\n",
      "current Kelvin: 10053K, ideal 10000K, diff -53K : [1025, 1647, 556, 1610, 0] / ['879', 1647, 556, 1610, 0]\n",
      "current Kelvin: 10053K, ideal 10000K, diff -53K : [1025, 1647, 555, 1610, 0] / ['887', 1647, 555, 1610, 0]\n",
      "selected: [10000, 8, 1025, 1647, 556, 1610]\n",
      "Writing calibratrion:\n",
      "\n",
      "DS93->5:8:50000[1025:1647:556:1610]\n",
      "DS10->WriteCalibartion 1060[50000][1025:1647:556:1610]//0f30:::\n",
      "\n",
      "Temperature: 10030K\n",
      "dUv: 0.0007\n",
      "Brightness: 48900lx\n",
      "Loading calibartion from lamp\n",
      "\n",
      "loaded values: DS10->ReadCalibartion addr:actual lux|r:g:b:W| 1060:[50000][1025:1647:556:1610]//17fb:::\n",
      "\n",
      "\n",
      "Adjusting lamp brightness to 50000lx in 10000K with [1, 2, 1, 2]/[10, 16, 5, 16] steps\n",
      "current brightness: 48900, ideal 50000, diff 1100 : [1025, 1647, 556, 1610, 0] / [1025, 1647, 556, 1610, 0]\n",
      "current brightness: 49400, ideal 50000, diff 600 : [1035, 1663, 561, 1626, 0] / [1035, 1663, 561, 1626, 0]\n",
      "current brightness: 50000, ideal 50000, diff 0 : [1045, 1679, 566, 1642, 0] / [1045, 1679, 566, 1642, 0]\n",
      "selected: [10000, 8, 1045, 1679, 566, 1642]\n",
      "Adjusting lamp dUV to +/- 0.003 in 10000K with [0, 1, 0, 0]/[0, 30, 0, 0] steps\n",
      "current dUV: 0.0002, ideal 0.0000, diff 0.0002 : [1045, 1679, 566, 1642, 0] / [1045, 1679, 566, 1642, 0]\n",
      "current dUV: 0.0001, ideal 0.0000, diff 0.0001 : [1045, 1678, 566, 1642, 0] / [1045, 1678, 566, 1642, 0]\n",
      "current dUV: -0.0001, ideal 0.0000, diff -0.0001 : [1045, 1677, 566, 1642, 0] / [1045, 1677, 566, 1642, 0]\n",
      "current dUV: -0.0003, ideal 0.0000, diff -0.0003 : [1045, 1678, 566, 1642, 0] / [1045, 1678, 566, 1642, 0]\n",
      "current dUV: -0.0005, ideal 0.0000, diff -0.0005 : [1045, 1679, 566, 1642, 0] / [1045, 1679, 566, 1642, 0]\n",
      "current dUV: -0.0006, ideal 0.0000, diff -0.0006 : [1045, 1680, 566, 1642, 0] / [1045, 1680, 566, 1642, 0]\n",
      "current dUV: -0.0007, ideal 0.0000, diff -0.0007 : [1045, 1681, 566, 1642, 0] / [1045, 1681, 566, 1642, 0]\n",
      "current dUV: -0.0008, ideal 0.0000, diff -0.0008 : [1045, 1682, 566, 1642, 0] / [1045, 1682, 566, 1642, 0]\n",
      "current dUV: -0.0009, ideal 0.0000, diff -0.0009 : [1045, 1683, 566, 1642, 0] / [1045, 1683, 566, 1642, 0]\n",
      "selected: [10000, 8, 1045, 1678, 566, 1642]\n",
      "Adjusting lamp Kelvin to 10000K with [0, 0, 1, 0]/[0, 0, 10, 0] steps\n",
      "current Kelvin: 9810K, ideal 10000K, diff 190K : [1045, 1678, 566, 1642, 0] / [1045, 1678, 566, 1642, 0]\n",
      "current Kelvin: 9846K, ideal 10000K, diff 154K : [1045, 1678, 567, 1642, 0] / ['896', 1678, 567, 1642, 0]\n",
      "current Kelvin: 9871K, ideal 10000K, diff 129K : [1045, 1678, 568, 1642, 0] / ['885', 1678, 568, 1642, 0]\n",
      "current Kelvin: 9928K, ideal 10000K, diff 72K : [1045, 1678, 569, 1642, 0] / ['871', 1678, 569, 1642, 0]\n",
      "current Kelvin: 9959K, ideal 10000K, diff 41K : [1045, 1678, 570, 1642, 0] / ['864', 1678, 570, 1642, 0]\n",
      "current Kelvin: 9998K, ideal 10000K, diff 2K : [1045, 1678, 571, 1642, 0] / ['859', 1678, 571, 1642, 0]\n",
      "current Kelvin: 10037K, ideal 10000K, diff -37K : [1045, 1678, 572, 1642, 0] / ['848', 1678, 572, 1642, 0]\n",
      "current Kelvin: 10041K, ideal 10000K, diff -41K : [1045, 1678, 571, 1642, 0] / ['847', 1678, 571, 1642, 0]\n",
      "current Kelvin: 10037K, ideal 10000K, diff -37K : [1045, 1678, 570, 1642, 0] / ['844', 1678, 570, 1642, 0]\n",
      "selected: [10000, 8, 1045, 1678, 571, 1642]\n",
      "Writing calibratrion:\n",
      "\n",
      "DS93->5:8:50000[1045:1678:571:1642]\n",
      "DS10->WriteCalibartion 1060[50000][1045:1678:571:1642]//0f38:::\n",
      "\n",
      "Temperature: 10047K\n",
      "dUv: -0.0004\n",
      "Brightness: 51000lx\n",
      "Loading calibartion from lamp\n",
      "\n",
      "loaded values: DS10->ReadCalibartion addr:actual lux|r:g:b:W| 1060:[50000][1045:1678:571:1642]//1803:::\n",
      "\n",
      "\n",
      "Adjusting lamp brightness to 50000lx in 10000K with [1, 2, 1, 2]/[10, 16, 5, 16] steps\n",
      "current brightness: 50900, ideal 50000, diff -900 : [1045, 1678, 571, 1642, 0] / [1045, 1678, 571, 1642, 0]\n",
      "current brightness: 50300, ideal 50000, diff -300 : [1035, 1662, 566, 1626, 0] / [1035, 1662, 566, 1626, 0]\n",
      "current brightness: 49700, ideal 50000, diff 300 : [1025, 1646, 561, 1610, 0] / [1025, 1646, 561, 1610, 0]\n",
      "current brightness: 50100, ideal 50000, diff -100 : [1035, 1662, 566, 1626, 0] / [1035, 1662, 566, 1626, 0]\n",
      "current brightness: 49900, ideal 50000, diff 100 : [1034, 1660, 565, 1624, 0] / [1034, 1660, 565, 1624, 0]\n",
      "current brightness: 49900, ideal 50000, diff 100 : [1035, 1662, 566, 1626, 0] / [1035, 1662, 566, 1626, 0]\n",
      "current brightness: 49900, ideal 50000, diff 100 : [1036, 1664, 567, 1628, 0] / [1036, 1664, 567, 1628, 0]\n",
      "current brightness: 49900, ideal 50000, diff 100 : [1037, 1666, 568, 1630, 0] / [1037, 1666, 568, 1630, 0]\n",
      "current brightness: 49900, ideal 50000, diff 100 : [1038, 1668, 569, 1632, 0] / [1038, 1668, 569, 1632, 0]\n",
      "selected: [10000, 8, 1035, 1662, 566, 1626]\n",
      "Adjusting lamp dUV to +/- 0.003 in 10000K with [0, 1, 0, 0]/[0, 30, 0, 0] steps\n",
      "current dUV: 0.0006, ideal 0.0000, diff 0.0006 : [1035, 1662, 566, 1626, 0] / [1035, 1662, 566, 1626, 0]\n",
      "current dUV: 0.0004, ideal 0.0000, diff 0.0004 : [1035, 1661, 566, 1626, 0] / [1035, 1661, 566, 1626, 0]\n",
      "current dUV: 0.0005, ideal 0.0000, diff 0.0005 : [1035, 1660, 566, 1626, 0] / [1035, 1660, 566, 1626, 0]\n",
      "current dUV: 0.0005, ideal 0.0000, diff 0.0005 : [1035, 1659, 566, 1626, 0] / [1035, 1659, 566, 1626, 0]\n",
      "current dUV: 0.0003, ideal 0.0000, diff 0.0003 : [1035, 1658, 566, 1626, 0] / [1035, 1658, 566, 1626, 0]\n",
      "current dUV: 0.0004, ideal 0.0000, diff 0.0004 : [1035, 1657, 566, 1626, 0] / [1035, 1657, 566, 1626, 0]\n",
      "current dUV: 0.0002, ideal 0.0000, diff 0.0002 : [1035, 1656, 566, 1626, 0] / [1035, 1656, 566, 1626, 0]\n",
      "current dUV: -0.0002, ideal 0.0000, diff -0.0002 : [1035, 1655, 566, 1626, 0] / [1035, 1655, 566, 1626, 0]\n",
      "current dUV: -0.0004, ideal 0.0000, diff -0.0004 : [1035, 1656, 566, 1626, 0] / [1035, 1656, 566, 1626, 0]\n",
      "selected: [10000, 8, 1035, 1656, 566, 1626]\n",
      "Adjusting lamp Kelvin to 10000K with [0, 0, 1, 0]/[0, 0, 10, 0] steps\n",
      "current Kelvin: 9980K, ideal 10000K, diff 20K : [1035, 1656, 566, 1626, 0] / [1035, 1656, 566, 1626, 0]\n",
      "current Kelvin: 9962K, ideal 10000K, diff 38K : [1035, 1656, 567, 1626, 0] / ['944', 1656, 567, 1626, 0]\n",
      "current Kelvin: 9973K, ideal 10000K, diff 27K : [1035, 1656, 568, 1626, 0] / ['939', 1656, 568, 1626, 0]\n",
      "current Kelvin: 9960K, ideal 10000K, diff 40K : [1035, 1656, 569, 1626, 0] / ['936', 1656, 569, 1626, 0]\n",
      "current Kelvin: 9976K, ideal 10000K, diff 24K : [1035, 1656, 570, 1626, 0] / ['932', 1656, 570, 1626, 0]\n",
      "current Kelvin: 9983K, ideal 10000K, diff 17K : [1035, 1656, 571, 1626, 0] / ['919', 1656, 571, 1626, 0]\n",
      "current Kelvin: 9983K, ideal 10000K, diff 17K : [1035, 1656, 572, 1626, 0] / ['911', 1656, 572, 1626, 0]\n",
      "current Kelvin: 9995K, ideal 10000K, diff 5K : [1035, 1656, 573, 1626, 0] / ['904', 1656, 573, 1626, 0]\n",
      "current Kelvin: 10009K, ideal 10000K, diff -9K : [1035, 1656, 574, 1626, 0] / ['887', 1656, 574, 1626, 0]\n",
      "selected: [10000, 8, 1035, 1656, 573, 1626]\n",
      "Writing calibratrion:\n",
      "\n",
      "DS93->5:8:49900[1035:1656:573:1626]\n",
      "DS10->WriteCalibartion 1060[49900][1035:1656:573:1626]//0f48:::\n",
      "\n",
      "Temperature: 10040K\n",
      "dUv: -0.0017\n",
      "Brightness: 50500lx\n",
      "Loading calibartion from lamp\n",
      "\n",
      "loaded values: DS10->ReadCalibartion addr:actual lux|r:g:b:W| 1060:[49900][1035:1656:573:1626]//1813:::\n",
      "\n",
      "\n",
      "Adjusting lamp brightness to 50000lx in 10000K with [1, 2, 1, 2]/[10, 16, 6, 16] steps\n",
      "current brightness: 50500, ideal 50000, diff -500 : [1035, 1656, 573, 1626, 0] / [1035, 1656, 573, 1626, 0]\n",
      "current brightness: 50100, ideal 50000, diff -100 : [1025, 1640, 567, 1610, 0] / [1025, 1640, 567, 1610, 0]\n",
      "current brightness: 50000, ideal 50000, diff 0 : [1024, 1638, 566, 1608, 0] / [1024, 1638, 566, 1608, 0]\n",
      "selected: [10000, 8, 1024, 1638, 566, 1608]\n",
      "Adjusting lamp dUV to +/- 0.003 in 10000K with [0, 1, 0, 0]/[0, 30, 0, 0] steps\n",
      "current dUV: -0.0013, ideal 0.0000, diff -0.0013 : [1024, 1638, 566, 1608, 0] / [1024, 1638, 566, 1608, 0]\n",
      "current dUV: -0.0004, ideal 0.0000, diff -0.0004 : [1024, 1668, 566, 1608, 0] / [1024, 1668, 566, 1608, 0]\n",
      "current dUV: -0.0003, ideal 0.0000, diff -0.0003 : [1024, 1669, 566, 1608, 0] / [1024, 1669, 566, 1608, 0]\n",
      "current dUV: -0.0001, ideal 0.0000, diff -0.0001 : [1024, 1670, 566, 1608, 0] / [1024, 1670, 566, 1608, 0]\n",
      "current dUV: 0.0, ideal 0.0000, diff 0.0 : [1024, 1671, 566, 1608, 0] / [1024, 1671, 566, 1608, 0]\n",
      "selected: [10000, 8, 1024, 1671, 566, 1608]\n",
      "Adjusting lamp Kelvin to 10000K with [0, 0, 1, 0]/[0, 0, 10, 0] steps\n",
      "current Kelvin: 10127K, ideal 10000K, diff -127K : [1024, 1671, 566, 1608, 0] / [1024, 1671, 566, 1608, 0]\n",
      "current Kelvin: 10143K, ideal 10000K, diff -143K : [1024, 1671, 565, 1608, 0] / ['823', 1671, 565, 1608, 0]\n",
      "current Kelvin: 10142K, ideal 10000K, diff -142K : [1024, 1671, 564, 1608, 0] / ['823', 1671, 564, 1608, 0]\n",
      "current Kelvin: 10149K, ideal 10000K, diff -149K : [1024, 1671, 563, 1608, 0] / ['827', 1671, 563, 1608, 0]\n",
      "current Kelvin: 10144K, ideal 10000K, diff -144K : [1024, 1671, 562, 1608, 0] / ['830', 1671, 562, 1608, 0]\n",
      "current Kelvin: 10132K, ideal 10000K, diff -132K : [1024, 1671, 561, 1608, 0] / ['834', 1671, 561, 1608, 0]\n",
      "current Kelvin: 10106K, ideal 10000K, diff -106K : [1024, 1671, 560, 1608, 0] / ['846', 1671, 560, 1608, 0]\n",
      "current Kelvin: 10094K, ideal 10000K, diff -94K : [1024, 1671, 559, 1608, 0] / ['853', 1671, 559, 1608, 0]\n",
      "current Kelvin: 10056K, ideal 10000K, diff -56K : [1024, 1671, 558, 1608, 0] / ['860', 1671, 558, 1608, 0]\n",
      "selected: [10000, 8, 1024, 1671, 558, 1608]\n",
      "Writing calibratrion:\n",
      "\n",
      "DS93->5:8:50000[1024:1671:558:1608]\n",
      "DS10->WriteCalibartion 1060[50000][1024:1671:558:1608]//0f35:::\n",
      "\n",
      "Temperature: 10056K\n",
      "dUv: 0.0011\n",
      "Brightness: 49400lx\n",
      "Loading calibartion from lamp\n",
      "\n",
      "loaded values: DS10->ReadCalibartion addr:actual lux|r:g:b:W| 1060:[50000][1024:1671:558:1608]//1800:::\n",
      "\n",
      "\n",
      "Adjusting lamp brightness to 50000lx in 10000K with [1, 2, 1, 2]/[10, 16, 5, 16] steps\n",
      "current brightness: 49300, ideal 50000, diff 700 : [1024, 1671, 558, 1608, 0] / [1024, 1671, 558, 1608, 0]\n",
      "current brightness: 49700, ideal 50000, diff 300 : [1034, 1687, 563, 1624, 0] / [1034, 1687, 563, 1624, 0]\n",
      "current brightness: 50100, ideal 50000, diff -100 : [1044, 1703, 568, 1640, 0] / [1044, 1703, 568, 1640, 0]\n",
      "current brightness: 50000, ideal 50000, diff 0 : [1043, 1701, 567, 1638, 0] / [1043, 1701, 567, 1638, 0]\n",
      "selected: [10000, 8, 1043, 1701, 567, 1638]\n",
      "Adjusting lamp dUV to +/- 0.003 in 10000K with [0, 1, 0, 0]/[0, 30, 0, 0] steps\n",
      "current dUV: 0.0014, ideal 0.0000, diff 0.0014 : [1043, 1701, 567, 1638, 0] / [1043, 1701, 567, 1638, 0]\n",
      "current dUV: 0.0003, ideal 0.0000, diff 0.0003 : [1043, 1671, 567, 1638, 0] / [1043, 1671, 567, 1638, 0]\n",
      "current dUV: 0.0, ideal 0.0000, diff 0.0 : [1043, 1670, 567, 1638, 0] / [1043, 1670, 567, 1638, 0]\n",
      "selected: [10000, 8, 1043, 1670, 567, 1638]\n",
      "Adjusting lamp Kelvin to 10000K with [0, 0, 1, 0]/[0, 0, 10, 0] steps\n",
      "current Kelvin: 9977K, ideal 10000K, diff 23K : [1043, 1670, 567, 1638, 0] / [1043, 1670, 567, 1638, 0]\n",
      "current Kelvin: 9971K, ideal 10000K, diff 29K : [1043, 1670, 568, 1638, 0] / ['948', 1670, 568, 1638, 0]\n",
      "current Kelvin: 9952K, ideal 10000K, diff 48K : [1043, 1670, 569, 1638, 0] / ['946', 1670, 569, 1638, 0]\n",
      "current Kelvin: 9947K, ideal 10000K, diff 53K : [1043, 1670, 570, 1638, 0] / ['945', 1670, 570, 1638, 0]\n",
      "current Kelvin: 9929K, ideal 10000K, diff 71K : [1043, 1670, 571, 1638, 0] / ['940', 1670, 571, 1638, 0]\n",
      "current Kelvin: 9954K, ideal 10000K, diff 46K : [1043, 1670, 572, 1638, 0] / ['926', 1670, 572, 1638, 0]\n",
      "current Kelvin: 9937K, ideal 10000K, diff 63K : [1043, 1670, 573, 1638, 0] / ['924', 1670, 573, 1638, 0]\n",
      "current Kelvin: 9946K, ideal 10000K, diff 54K : [1043, 1670, 574, 1638, 0] / ['918', 1670, 574, 1638, 0]\n",
      "current Kelvin: 9988K, ideal 10000K, diff 12K : [1043, 1670, 575, 1638, 0] / ['901', 1670, 575, 1638, 0]\n",
      "selected: [10000, 8, 1043, 1670, 575, 1638]\n",
      "Writing calibratrion:\n",
      "\n",
      "DS93->5:8:50000[1043:1670:575:1638]\n",
      "DS10->WriteCalibartion 1060[50000][1043:1670:575:1638]//0f37:::\n",
      "\n",
      "Temperature: 9979K\n",
      "dUv: -0.0015\n",
      "Brightness: 50900lx\n",
      "Loading calibartion from lamp\n",
      "\n",
      "loaded values: DS10->ReadCalibartion addr:actual lux|r:g:b:W| 1060:[50000][1043:1670:575:1638]//1802:::\n",
      "\n",
      "\n",
      "Adjusting lamp brightness to 50000lx in 10000K with [1, 2, 1, 2]/[10, 16, 6, 16] steps\n",
      "current brightness: 50900, ideal 50000, diff -900 : [1043, 1670, 575, 1638, 0] / [1043, 1670, 575, 1638, 0]\n",
      "current brightness: 50400, ideal 50000, diff -400 : [1033, 1654, 569, 1622, 0] / [1033, 1654, 569, 1622, 0]\n",
      "current brightness: 49900, ideal 50000, diff 100 : [1023, 1638, 563, 1606, 0] / [1023, 1638, 563, 1606, 0]\n",
      "current brightness: 50000, ideal 50000, diff 0 : [1024, 1640, 564, 1608, 0] / [1024, 1640, 564, 1608, 0]\n",
      "selected: [10000, 8, 1024, 1640, 564, 1608]\n",
      "Adjusting lamp dUV to +/- 0.003 in 10000K with [0, 1, 0, 0]/[0, 30, 0, 0] steps\n",
      "current dUV: -0.0011, ideal 0.0000, diff -0.0011 : [1024, 1640, 564, 1608, 0] / [1024, 1640, 564, 1608, 0]\n",
      "current dUV: -0.0002, ideal 0.0000, diff -0.0002 : [1024, 1670, 564, 1608, 0] / [1024, 1670, 564, 1608, 0]\n",
      "current dUV: -0.0001, ideal 0.0000, diff -0.0001 : [1024, 1671, 564, 1608, 0] / [1024, 1671, 564, 1608, 0]\n",
      "current dUV: 0.0001, ideal 0.0000, diff 0.0001 : [1024, 1672, 564, 1608, 0] / [1024, 1672, 564, 1608, 0]\n",
      "current dUV: 0.0002, ideal 0.0000, diff 0.0002 : [1024, 1671, 564, 1608, 0] / [1024, 1671, 564, 1608, 0]\n",
      "current dUV: 0.0003, ideal 0.0000, diff 0.0003 : [1024, 1670, 564, 1608, 0] / [1024, 1670, 564, 1608, 0]\n",
      "current dUV: 0.0005, ideal 0.0000, diff 0.0005 : [1024, 1669, 564, 1608, 0] / [1024, 1669, 564, 1608, 0]\n",
      "current dUV: 0.0006, ideal 0.0000, diff 0.0006 : [1024, 1668, 564, 1608, 0] / [1024, 1668, 564, 1608, 0]\n",
      "current dUV: 0.0007, ideal 0.0000, diff 0.0007 : [1024, 1667, 564, 1608, 0] / [1024, 1667, 564, 1608, 0]\n",
      "selected: [10000, 8, 1024, 1671, 564, 1608]\n",
      "Adjusting lamp Kelvin to 10000K with [0, 0, 1, 0]/[0, 0, 10, 0] steps\n",
      "current Kelvin: 10175K, ideal 10000K, diff -175K : [1024, 1671, 564, 1608, 0] / [1024, 1671, 564, 1608, 0]\n",
      "current Kelvin: 10155K, ideal 10000K, diff -155K : [1024, 1671, 563, 1608, 0] / ['840', 1671, 563, 1608, 0]\n",
      "current Kelvin: 10147K, ideal 10000K, diff -147K : [1024, 1671, 562, 1608, 0] / ['846', 1671, 562, 1608, 0]\n",
      "current Kelvin: 10105K, ideal 10000K, diff -105K : [1024, 1671, 561, 1608, 0] / ['852', 1671, 561, 1608, 0]\n",
      "current Kelvin: 10112K, ideal 10000K, diff -112K : [1024, 1671, 560, 1608, 0] / ['867', 1671, 560, 1608, 0]\n",
      "current Kelvin: 10095K, ideal 10000K, diff -95K : [1024, 1671, 559, 1608, 0] / ['872', 1671, 559, 1608, 0]\n",
      "current Kelvin: 10063K, ideal 10000K, diff -63K : [1024, 1671, 558, 1608, 0] / ['885', 1671, 558, 1608, 0]\n",
      "current Kelvin: 10054K, ideal 10000K, diff -54K : [1024, 1671, 557, 1608, 0] / ['892', 1671, 557, 1608, 0]\n",
      "current Kelvin: 10026K, ideal 10000K, diff -26K : [1024, 1671, 556, 1608, 0] / ['899', 1671, 556, 1608, 0]\n",
      "selected: [10000, 8, 1024, 1671, 556, 1608]\n",
      "Writing calibratrion:\n",
      "\n",
      "DS93->5:8:50000[1024:1671:556:1608]\n",
      "DS10->WriteCalibartion 1060[50000][1024:1671:556:1608]//0f33:::\n",
      "\n",
      "Temperature: 10017K\n",
      "dUv: 0.0013\n",
      "Brightness: 49200lx\n",
      "Loading calibartion from lamp\n",
      "\n",
      "loaded values: DS10->ReadCalibartion addr:actual lux|r:g:b:W| 1060:[50000][1024:1671:556:1608]//17fe:::\n",
      "\n",
      "\n",
      "Adjusting lamp brightness to 50000lx in 10000K with [1, 2, 1, 2]/[10, 16, 5, 16] steps\n",
      "current brightness: 49200, ideal 50000, diff 800 : [1024, 1671, 556, 1608, 0] / [1024, 1671, 556, 1608, 0]\n",
      "current brightness: 49800, ideal 50000, diff 200 : [1034, 1687, 561, 1624, 0] / [1034, 1687, 561, 1624, 0]\n",
      "current brightness: 50400, ideal 50000, diff -400 : [1044, 1703, 566, 1640, 0] / [1044, 1703, 566, 1640, 0]\n",
      "current brightness: 50000, ideal 50000, diff 0 : [1034, 1687, 561, 1624, 0] / [1034, 1687, 561, 1624, 0]\n",
      "selected: [10000, 8, 1034, 1687, 561, 1624]\n",
      "Adjusting lamp dUV to +/- 0.003 in 10000K with [0, 1, 0, 0]/[0, 30, 0, 0] steps\n",
      "current dUV: 0.0004, ideal 0.0000, diff 0.0004 : [1034, 1687, 561, 1624, 0] / [1034, 1687, 561, 1624, 0]\n",
      "current dUV: 0.0002, ideal 0.0000, diff 0.0002 : [1034, 1686, 561, 1624, 0] / [1034, 1686, 561, 1624, 0]\n",
      "current dUV: 0.0, ideal 0.0000, diff 0.0 : [1034, 1685, 561, 1624, 0] / [1034, 1685, 561, 1624, 0]\n",
      "selected: [10000, 8, 1034, 1685, 561, 1624]\n",
      "Adjusting lamp Kelvin to 10000K with [0, 0, 1, 0]/[0, 0, 10, 0] steps\n",
      "current Kelvin: 9818K, ideal 10000K, diff 182K : [1034, 1685, 561, 1624, 0] / [1034, 1685, 561, 1624, 0]\n",
      "current Kelvin: 9804K, ideal 10000K, diff 196K : [1034, 1685, 562, 1624, 0] / ['918', 1685, 562, 1624, 0]\n",
      "current Kelvin: 9821K, ideal 10000K, diff 179K : [1034, 1685, 563, 1624, 0] / ['910', 1685, 563, 1624, 0]\n",
      "current Kelvin: 9824K, ideal 10000K, diff 176K : [1034, 1685, 564, 1624, 0] / ['901', 1685, 564, 1624, 0]\n",
      "current Kelvin: 9842K, ideal 10000K, diff 158K : [1034, 1685, 565, 1624, 0] / ['894', 1685, 565, 1624, 0]\n",
      "current Kelvin: 9914K, ideal 10000K, diff 86K : [1034, 1685, 566, 1624, 0] / ['876', 1685, 566, 1624, 0]\n",
      "current Kelvin: 9937K, ideal 10000K, diff 63K : [1034, 1685, 567, 1624, 0] / ['868', 1685, 567, 1624, 0]\n",
      "current Kelvin: 9969K, ideal 10000K, diff 31K : [1034, 1685, 568, 1624, 0] / ['861', 1685, 568, 1624, 0]\n",
      "current Kelvin: 10025K, ideal 10000K, diff -25K : [1034, 1685, 569, 1624, 0] / ['850', 1685, 569, 1624, 0]\n",
      "selected: [10000, 8, 1034, 1685, 569, 1624]\n",
      "Writing calibratrion:\n",
      "\n",
      "DS93->5:8:50000[1034:1685:569:1624]\n",
      "DS10->WriteCalibartion 1060[50000][1034:1685:569:1624]//0f3b:::\n",
      "\n",
      "Temperature: 10024K\n",
      "dUv: -0.0003\n",
      "Brightness: 50800lx\n",
      "Debug new_data_line: {'wb': [10000], 'brightness_point': [8], 'kelvin': [10024], 'duv': [-0.0003], 'lux': [50800]}\n",
      "CPU times: total: 31min 53s\n",
      "Wall time: 46min 54s\n"
     ]
    }
   ],
   "source": [
    "%%time\n",
    "\n",
    "startCalib = 5\n",
    "endCalib = 5\n",
    "readCalibration = True\n",
    "writeCalibration = True\n",
    "allowedKelvinDifference = 40\n",
    "allowedDuvDifference = 0.0004\n",
    "maxTries = 30\n",
    "\n",
    "data = None\n",
    "\n",
    "# try N times to get the dUV & Kelvin difference low enough\n",
    "for kelvin in range(startCalib,endCalib+1):\n",
    "    print(f\"starting kelvin range {KelvinRangeIds[kelvin]}\\n\")\n",
    "    done = False\n",
    "    for i in range(maxTries):\n",
    "        if done:\n",
    "            break  # Exit the inner loop when calibration is successful\n",
    "        measured = calRange(KelvinTemp=kelvin, readCalibration=readCalibration, writeCalibration=writeCalibration)\n",
    "        if (abs(measured[1]) < allowedDuvDifference) and (abs(measured[0]-KelvinRangeIds[kelvin]) < allowedKelvinDifference):\n",
    "            done = True\n",
    "    if done:\n",
    "        # Record final results for proofing\n",
    "        new_data_line = {\n",
    "            'wb': [KelvinRangeIds[kelvin]],\n",
    "            'brightness_point': [8],\n",
    "            'kelvin': [measured[0]],\n",
    "            'duv': [measured[1]],\n",
    "            'lux': [measured[2]]\n",
    "        }\n",
    "        new_data_line_df = pd.DataFrame(new_data_line)\n",
    "        print(\"Debug new_data_line: \" + str(new_data_line))\n",
    "        if data is None:\n",
    "            data = new_data_line_df\n",
    "        else:\n",
    "            data = pd.concat([data, new_data_line_df], ignore_index=True)\n",
    "        "
   ]
  },
  {
   "cell_type": "code",
   "execution_count": 30,
   "id": "81809406-d1ed-41c2-a107-ea4ca8557962",
   "metadata": {},
   "outputs": [],
   "source": [
    "lamp1.close()"
   ]
  },
  {
   "cell_type": "code",
   "execution_count": null,
   "id": "411fe06e-42e2-4c2d-b145-54c9ac11c56a",
   "metadata": {
    "scrolled": true,
    "tags": []
   },
   "outputs": [
    {
     "name": "stdout",
     "output_type": "stream",
     "text": [
      "starting kelvin range 2800\n",
      "\n",
      "Loading calibartion from lamp\n",
      "\n",
      "loaded values: DS10->ReadCalibartion addr:actual lux|r:g:b:W| 160:[30000][1968:1160:0:538]//1737:::\n",
      "\n",
      "\n",
      "1.0416666666666667\n",
      "\n",
      "[2800, 7, 1889, 1114, 9, 516]\n",
      "\n",
      "Adjusting lamp brightness to 28800lx in 2800K with [4, 2, 0, 1]/[37, 22, 0, 10] steps\n",
      "current brightness: 28600, ideal 28800, diff 200 : [1889, 1114, 9, 516, 0] / [1889, 1114, 9, 516, 0]\n",
      "current brightness: 29100, ideal 28800, diff -300 : [1926, 1136, 9, 526, 0] / [1926, 1136, 9, 526, 0]\n",
      "current brightness: 28500, ideal 28800, diff 300 : [1889, 1114, 9, 516, 0] / [1889, 1114, 9, 516, 0]\n",
      "current brightness: 29000, ideal 28800, diff -200 : [1926, 1136, 9, 526, 0] / [1926, 1136, 9, 526, 0]\n",
      "current brightness: 28400, ideal 28800, diff 400 : [1889, 1114, 9, 516, 0] / [1889, 1114, 9, 516, 0]\n",
      "current brightness: 29000, ideal 28800, diff -200 : [1926, 1136, 9, 526, 0] / [1926, 1136, 9, 526, 0]\n",
      "current brightness: 28400, ideal 28800, diff 400 : [1889, 1114, 9, 516, 0] / [1889, 1114, 9, 516, 0]\n",
      "current brightness: 29000, ideal 28800, diff -200 : [1926, 1136, 9, 526, 0] / [1926, 1136, 9, 526, 0]\n",
      "current brightness: 28400, ideal 28800, diff 400 : [1889, 1114, 9, 516, 0] / [1889, 1114, 9, 516, 0]\n",
      "selected: [2800, 7, 1889, 1114, 9, 516]\n",
      "Adjusting lamp dUV to +/- 0.003 in 2800K with [0, 1, 0, 0]/[0, 30, 0, 0] steps\n",
      "current dUV: -0.0013, ideal 0.0000, diff -0.0013 : [1889, 1114, 9, 516, 0] / [1889, 1114, 9, 516, 0]\n",
      "current dUV: -0.0011, ideal 0.0000, diff -0.0011 : [1889, 1115, 9, 516, 0] / [1889, 1115, 9, 516, 0]\n",
      "current dUV: -0.001, ideal 0.0000, diff -0.001 : [1889, 1116, 9, 516, 0] / [1889, 1116, 9, 516, 0]\n",
      "current dUV: -0.001, ideal 0.0000, diff -0.001 : [1889, 1117, 9, 516, 0] / [1889, 1117, 9, 516, 0]\n",
      "current dUV: -0.0009, ideal 0.0000, diff -0.0009 : [1889, 1118, 9, 516, 0] / [1889, 1118, 9, 516, 0]\n",
      "current dUV: -0.0008, ideal 0.0000, diff -0.0008 : [1889, 1119, 9, 516, 0] / [1889, 1119, 9, 516, 0]\n",
      "current dUV: -0.0008, ideal 0.0000, diff -0.0008 : [1889, 1120, 9, 516, 0] / [1889, 1120, 9, 516, 0]\n",
      "current dUV: -0.0008, ideal 0.0000, diff -0.0008 : [1889, 1121, 9, 516, 0] / [1889, 1121, 9, 516, 0]\n",
      "current dUV: -0.0007, ideal 0.0000, diff -0.0007 : [1889, 1122, 9, 516, 0] / [1889, 1122, 9, 516, 0]\n",
      "selected: [2800, 7, 1889, 1122, 9, 516]\n",
      "Adjusting lamp Kelvin to 2800K with [-1, 0, 0, 1]/[-10, 0, 0, 10] steps\n"
     ]
    }
   ],
   "source": [
    "%%time\n",
    "\n",
    "startCalib = 0     # 0 0-5 [2800,3200,4800,5600,7800,10000]\n",
    "endCalib = 5       # 5 0-5 [2800,3200,4800,5600,7800,10000]\n",
    "brightnessSart = 7 # 7 1-7 \n",
    "readCalibration = True\n",
    "writeCalibration = True\n",
    "maxTries = 30\n",
    "allowedRanges = [\n",
    "    [0,0.0000,0],\n",
    "    [1,0.0050,600],\n",
    "    [2,0.0030,400],\n",
    "    [3,0.0010,400],\n",
    "    [4,0.0010,200],\n",
    "    [5,0.0010,200],\n",
    "    [6,0.0010,200],\n",
    "    [7,0.0010,200]]\n",
    "       \n",
    "\n",
    "def calKelvinRange(KelvinTemp = 2, readCalibration = True, writeCalibration = True):\n",
    "    global calibration_points, data, mergedLux;\n",
    "\n",
    "    if readCalibration:\n",
    "        print(\"Loading calibartion from lamp\\n\")\n",
    "        lamp1.send(\"DS94->\"+str(KelvinTemp)+\":\"+str(brightnessSart+1))\n",
    "        time.sleep(0.2)\n",
    "        lamp1.read()\n",
    "\n",
    "        print(\"loaded values: \"+str(lamp1.responses[-1][0])+\"\\n\")\n",
    "        # If below 1 do not read the value, Us the last good value (factory setting or last lamp)\n",
    "        loadedRed = int(lamp1.responses[-1][1][1].split(\":\")[0])\n",
    "        loadedGreen = int(lamp1.responses[-1][1][1].split(\":\")[1])\n",
    "        loadedBlue = int(lamp1.responses[-1][1][1].split(\":\")[2])\n",
    "        loadedWhite = int(lamp1.responses[-1][1][1].split(\":\")[3])\n",
    "        \n",
    "        if loadedRed > 0:\n",
    "            calibration_points[KelvinTemp][brightnessSart + 1][2] = loadedRed\n",
    "        if loadedGreen > 0:\n",
    "            calibration_points[KelvinTemp][brightnessSart + 1][3] = loadedGreen\n",
    "        if loadedBlue > 0:\n",
    "            calibration_points[KelvinTemp][brightnessSart + 1][4] = loadedBlue\n",
    "        if loadedWhite > 0:\n",
    "            calibration_points[KelvinTemp][brightnessSart + 1][5] = loadedWhite\n",
    "\n",
    "        # The answer is 2 line, so to clear the buffer\n",
    "        lamp1.read()\n",
    "\n",
    "    for lx in reversed(range(1,7+1)):\n",
    "        # on first passthrough skip the lx above the brightness start, later kelvin values will be started from 7 agaian\n",
    "        if KelvinTemp == startCalib and lx > brightnessSart:\n",
    "            break\n",
    "            \n",
    "        ratio = mergedLux[KelvinTemp][lx+1] / mergedLux[KelvinTemp][lx]\n",
    "        print(str(ratio)+\"\\n\")\n",
    "        split = [round(x/ratio) for x in calibration_points[KelvinTemp][lx+1]]\n",
    "        calibration_points[KelvinTemp][lx][2] = split[2]\n",
    "        calibration_points[KelvinTemp][lx][3] = split[3]\n",
    "        calibration_points[KelvinTemp][lx][4] = split[4]\n",
    "        calibration_points[KelvinTemp][lx][5] = split[5]\n",
    "        print(str(calibration_points[KelvinTemp][lx])+\"\\n\")\n",
    "        done = False\n",
    "        \n",
    "        # try N times to get the dUV & Kelvin difference low enough\n",
    "        for i in range(maxTries):\n",
    "            if done:\n",
    "                break\n",
    "            measured = calRange(KelvinTemp=KelvinTemp,BrightnessV=lx,readCalibration=False,writeCalibration=writeCalibration)\n",
    "            if (abs(measured[1]) < allowedRanges[lx][1]) and (abs(measured[0]-KelvinRangeIds[kelvin]) < allowedRanges[lx][2]):\n",
    "                done = True\n",
    "        \n",
    "        if done:\n",
    "            # record final results for proofing\n",
    "            newDataLine = {\n",
    "                'wb': [KelvinRangeIds[KelvinTemp]],\n",
    "                'brightness_point': [lx],\n",
    "                'kelvin': [measured[0]],\n",
    "                'duv': [measured[1]],\n",
    "                'lux': [measured[2]]\n",
    "            }\n",
    "            newDataLineDf = pd.DataFrame(newDataLine)\n",
    "            print(\"Debug newDataLine: \"+str(newDataLine))\n",
    "            if data is None:\n",
    "                data = newDataLineDf\n",
    "            else:\n",
    "                data = pd.concat([data, newDataLineDf], ignore_index=True)\n",
    "\n",
    "#\n",
    "for kelvin in range(startCalib,endCalib+1):\n",
    "    print(f\"starting kelvin range {KelvinRangeIds[kelvin]}\\n\")\n",
    "    calKelvinRange(KelvinTemp=kelvin,readCalibration=readCalibration,writeCalibration=writeCalibration)  "
   ]
  },
  {
   "cell_type": "code",
   "execution_count": null,
   "id": "87d0fa28-1b93-457a-b6b5-5a8936971477",
   "metadata": {},
   "outputs": [],
   "source": [
    "'''\n",
    "import datetime\n",
    "\n",
    "# Save Log\n",
    "file_path = sharedFolder+\"Apollo\"+str(lamp1.macId)+\"_\"+datetime.datetime.now().strftime(\"%d%m%Y_%H%M%S\")+\"caliblog.csv\"\n",
    "data.to_csv(file_path, index=False)\n",
    "print(\"Saved to: \"+file_path)\n",
    "\n",
    "# Save Calibration\n",
    "with open(sharedFolder+\"Apollo\"+str(lamp1.macId)+\"_\"+datetime.datetime.now().strftime(\"%d%m%Y_%H%M%S\")+\"calib.py\", \"w\") as file:\n",
    "    file.write(str(calibration_points))\n"
   ]
  },
  {
   "cell_type": "code",
   "execution_count": null,
   "id": "524dec83-f413-4ab5-be7e-f2147c29cbe0",
   "metadata": {},
   "outputs": [],
   "source": [
    "'''\n",
    "from mitosheet import *; register_analysis(\"id-uhsskvzpjn\");\n",
    "\n",
    "# Filtered duv\n",
    "data = data[data['duv'] > 0.001]\n",
    "\n",
    "# Formatted dataframes. View these styling objects to see the formatted dataframe\n",
    "data_styler = data.style\\\n",
    "    .format(\"{:.4f}\", subset=['duv'])\n"
   ]
  },
  {
   "cell_type": "code",
   "execution_count": null,
   "id": "f4f8d69f-6b6a-40db-af22-1181bdbd4308",
   "metadata": {},
   "outputs": [],
   "source": []
  }
 ],
 "metadata": {
  "kernelspec": {
   "display_name": "Python 3 (ipykernel)",
   "language": "python",
   "name": "python3"
  },
  "language_info": {
   "codemirror_mode": {
    "name": "ipython",
    "version": 3
   },
   "file_extension": ".py",
   "mimetype": "text/x-python",
   "name": "python",
   "nbconvert_exporter": "python",
   "pygments_lexer": "ipython3",
   "version": "3.10.7"
  }
 },
 "nbformat": 4,
 "nbformat_minor": 5
}
