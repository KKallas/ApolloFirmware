{
 "cells": [
  {
   "cell_type": "markdown",
   "id": "8eac80fa-2307-47b2-8344-e8f6353d57d5",
   "metadata": {
    "tags": []
   },
   "source": [
    "## Lamp\n",
    "lamp communication"
   ]
  },
  {
   "cell_type": "code",
   "execution_count": 2,
   "id": "11e326b2-e1b8-4462-aaa2-ada9ec94d267",
   "metadata": {},
   "outputs": [
    {
     "name": "stdout",
     "output_type": "stream",
     "text": [
      "b'A 1024 0 0 0 1\\n'\n",
      "A 1024 0 0 0 1\"red_val\":0,\"green_val\":0,\"blue_val\":0,\"white_val\":0,\"fan_val\":0,\"temp\":53.250000*\n",
      "\n"
     ]
    }
   ],
   "source": [
    "import serial\n",
    "import time\n",
    "\n",
    "class apollo_device():\n",
    "    def __init__(self, ComPort = 'COM18', ComBaudRate=115200):\n",
    "        self.port = ComPort\n",
    "        self.portBaudrate = ComBaudRate\n",
    "\n",
    "        # Initialize serial connection\n",
    "        self.ser = serial.Serial(self.port, self.portBaudrate, timeout=0.1)\n",
    "        \n",
    "        # Buffer to store received characters\n",
    "        self.receive_buffer = \"\"\n",
    "        \n",
    "    def send(self, command):\n",
    "        self.ser.write(command)\n",
    "        \n",
    "    def update(self, intensityRed, intensityGreen, intensityBlue, intensityWhite, fan, debugFlag=False):\n",
    "\n",
    "        message = 'A '\\\n",
    "                  +str(intensityRed)+' '\\\n",
    "                  +str(intensityGreen)+' '\\\n",
    "                  +str(intensityBlue)+' '\\\n",
    "                  +str(intensityWhite)+' '\\\n",
    "                  +str(fan)+'\\n'\n",
    "        \n",
    "        self.send(message.encode('utf-8'))\n",
    "        if debugFlag:\n",
    "            print(message.encode('utf-8'))\n",
    "\n",
    "        self.read(debug=debugFlag)\n",
    "        \n",
    "    def read(self, debug=False):\n",
    "        #self.ser.reset_input_buffer()\n",
    "        #time.sleep(0.1)\n",
    "        retryCount = 50;\n",
    "        noPackageCount = 0;\n",
    "        while noPackageCount<retryCount:\n",
    "            # Read available characters\n",
    "            data = self.ser.read()\n",
    "\n",
    "            if data:\n",
    "                self.receive_buffer = self.receive_buffer + data.decode('utf-8', errors='replace')\n",
    "                    \n",
    "                if data == b'\\n':\n",
    "                    if debug:\n",
    "                        print(self.receive_buffer)\n",
    "                        \n",
    "                    timeInMs = time.time_ns() // 1_000_000\n",
    "                    timeAsStr = str(timeInMs)\n",
    "                    self.lastValAsJsonString = \"{\"+self.receive_buffer[self.receive_buffer.find('\"'):-2]+',\"Timestamp\":'+timeAsStr+\"}\"\n",
    "                    self.receive_buffer = \"\"\n",
    "                    noPackageCount = 50;\n",
    "            else:\n",
    "                time.sleep(0.01)\n",
    "                noPackageCount = noPackageCount+1\n",
    "        \n",
    "lamp1 = apollo_device()\n",
    "\n",
    "# try 1\n",
    "lamp1.update(1024,0,0,0,1,debugFlag=True)\n"
   ]
  },
  {
   "cell_type": "code",
   "execution_count": 5,
   "id": "44412ec3-efa4-4dd8-8528-45178cf3a7af",
   "metadata": {},
   "outputs": [
    {
     "name": "stdout",
     "output_type": "stream",
     "text": [
      "b'A 10 1900 512 2000 1638\\n'\n",
      "A 10 1900 512 2000 1638\"red_val\":0,\"green_val\":1900,\"blue_val\":512,\"white_val\":2000,\"fan_val\":1638,\"temp\":54.250000*\n",
      "\n"
     ]
    }
   ],
   "source": [
    "lamp1.update(10,1900,512,2000,int(2048*0.8),debugFlag=True)"
   ]
  },
  {
   "cell_type": "code",
   "execution_count": 4,
   "id": "91dca7ca-3c78-40e1-ad67-a700ce59d237",
   "metadata": {},
   "outputs": [
    {
     "data": {
      "text/plain": [
       "'{\"red_val\":2048,\"green_val\":0,\"blue_val\":0,\"white_val\":0,\"fan_val\":1638,\"temp\":34.125000,\"Timestamp\":1696859808604}'"
      ]
     },
     "execution_count": 4,
     "metadata": {},
     "output_type": "execute_result"
    }
   ],
   "source": [
    "\n",
    "lamp1.lastValAsJsonString"
   ]
  },
  {
   "cell_type": "markdown",
   "id": "c690c14f-e326-4f0d-ad68-ae3602a72c19",
   "metadata": {},
   "source": [
    "## Test to run\n",
    "Exit conditions\n",
    "- [x] lamp will exceed 85C\n",
    "- [ ] the temperature has stablized or is declining for 60 seconds"
   ]
  },
  {
   "cell_type": "code",
   "execution_count": null,
   "id": "6fea90d1-4876-4466-90b2-d63f62218c74",
   "metadata": {},
   "outputs": [],
   "source": [
    "# to STOP manually interupt the kernel (Kernel->Interrupt Kernel)\n",
    "# the df object will precist up untill the stop moment\n",
    "\n",
    "import json\n",
    "import time\n",
    "import pandas as pd\n",
    "\n",
    "jsonFullString = \"[\"\n",
    "\n",
    "while True:\n",
    "    lamp1.update(900,1900,260,2000,int(2048*0.8)) # ca 175.5W\n",
    "    jsonObj = json.loads(lamp1.lastValAsJsonString)\n",
    "    jsonFullString = jsonFullString + lamp1.lastValAsJsonString + \", \"\n",
    "    currentTemp = jsonObj[\"temp\"]\n",
    "    currentTime = jsonObj[\"Timestamp\"]\n",
    "    print(str(currentTime)+':'+str(currentTemp))\n",
    "    if(currentTemp>85):\n",
    "        lamp1.update(0,0,0,0,1024)\n",
    "        break\n",
    "    time.sleep(10)\n",
    "\n",
    "jsonFullString = jsonFullString[:-2] + \"]\"\n",
    "df = pd.read_json(jsonFullString)"
   ]
  },
  {
   "cell_type": "code",
   "execution_count": 1,
   "id": "8bff543c-0fe5-4db5-8d67-9b5c4b91a328",
   "metadata": {},
   "outputs": [
    {
     "ename": "NameError",
     "evalue": "name 'lamp1' is not defined",
     "output_type": "error",
     "traceback": [
      "\u001b[1;31m---------------------------------------------------------------------------\u001b[0m",
      "\u001b[1;31mNameError\u001b[0m                                 Traceback (most recent call last)",
      "Cell \u001b[1;32mIn [1], line 1\u001b[0m\n\u001b[1;32m----> 1\u001b[0m lamp1\u001b[38;5;241m.\u001b[39mupdate(\u001b[38;5;241m512\u001b[39m,\u001b[38;5;241m0\u001b[39m,\u001b[38;5;241m0\u001b[39m,\u001b[38;5;241m0\u001b[39m,\u001b[38;5;241m0\u001b[39m, debugFlag\u001b[38;5;241m=\u001b[39m\u001b[38;5;28;01mTrue\u001b[39;00m)\n",
      "\u001b[1;31mNameError\u001b[0m: name 'lamp1' is not defined"
     ]
    }
   ],
   "source": [
    "lamp1.update(512,0,0,0,0, debugFlag=True)"
   ]
  },
  {
   "cell_type": "markdown",
   "id": "6dca9fad-abe1-4139-b690-7821847814ec",
   "metadata": {},
   "source": [
    "# lamp1.update(0,1900,200,2000,2048)"
   ]
  },
  {
   "cell_type": "code",
   "execution_count": 13,
   "id": "5b04a890-02b5-4362-8034-b8b63d4e675f",
   "metadata": {},
   "outputs": [
    {
     "data": {
      "text/html": [
       "<div><div id=5703b473-0f04-4a70-9a2e-99df1c30b00a style=\"display:none; background-color:#9D6CFF; color:white; width:200px; height:30px; padding-left:5px; border-radius:4px; flex-direction:row; justify-content:space-around; align-items:center;\" onmouseover=\"this.style.backgroundColor='#BA9BF8'\" onmouseout=\"this.style.backgroundColor='#9D6CFF'\" onclick=\"window.commands?.execute('create-mitosheet-from-dataframe-output');\">See Full Dataframe in Mito</div> <script> if (window.commands?.hasCommand('create-mitosheet-from-dataframe-output')) document.getElementById('5703b473-0f04-4a70-9a2e-99df1c30b00a').style.display = 'flex' </script> <table border=\"1\" class=\"dataframe\">\n",
       "  <thead>\n",
       "    <tr style=\"text-align: right;\">\n",
       "      <th></th>\n",
       "      <th>red_val</th>\n",
       "      <th>green_val</th>\n",
       "      <th>blue_val</th>\n",
       "      <th>white_val</th>\n",
       "      <th>fan_val</th>\n",
       "      <th>temp</th>\n",
       "      <th>Timestamp</th>\n",
       "    </tr>\n",
       "  </thead>\n",
       "  <tbody>\n",
       "    <tr>\n",
       "      <th>0</th>\n",
       "      <td>900</td>\n",
       "      <td>1900</td>\n",
       "      <td>260</td>\n",
       "      <td>2000</td>\n",
       "      <td>2048</td>\n",
       "      <td>38.250</td>\n",
       "      <td>2023-10-06 22:03:48.518</td>\n",
       "    </tr>\n",
       "    <tr>\n",
       "      <th>1</th>\n",
       "      <td>900</td>\n",
       "      <td>1900</td>\n",
       "      <td>260</td>\n",
       "      <td>2000</td>\n",
       "      <td>2048</td>\n",
       "      <td>39.875</td>\n",
       "      <td>2023-10-06 22:03:59.780</td>\n",
       "    </tr>\n",
       "    <tr>\n",
       "      <th>2</th>\n",
       "      <td>900</td>\n",
       "      <td>1900</td>\n",
       "      <td>260</td>\n",
       "      <td>2000</td>\n",
       "      <td>2048</td>\n",
       "      <td>41.625</td>\n",
       "      <td>2023-10-06 22:04:11.027</td>\n",
       "    </tr>\n",
       "    <tr>\n",
       "      <th>3</th>\n",
       "      <td>900</td>\n",
       "      <td>1900</td>\n",
       "      <td>260</td>\n",
       "      <td>2000</td>\n",
       "      <td>2048</td>\n",
       "      <td>43.375</td>\n",
       "      <td>2023-10-06 22:04:22.276</td>\n",
       "    </tr>\n",
       "    <tr>\n",
       "      <th>4</th>\n",
       "      <td>900</td>\n",
       "      <td>1900</td>\n",
       "      <td>260</td>\n",
       "      <td>2000</td>\n",
       "      <td>2048</td>\n",
       "      <td>44.750</td>\n",
       "      <td>2023-10-06 22:04:33.522</td>\n",
       "    </tr>\n",
       "    <tr>\n",
       "      <th>...</th>\n",
       "      <td>...</td>\n",
       "      <td>...</td>\n",
       "      <td>...</td>\n",
       "      <td>...</td>\n",
       "      <td>...</td>\n",
       "      <td>...</td>\n",
       "      <td>...</td>\n",
       "    </tr>\n",
       "    <tr>\n",
       "      <th>43</th>\n",
       "      <td>900</td>\n",
       "      <td>1900</td>\n",
       "      <td>260</td>\n",
       "      <td>2000</td>\n",
       "      <td>2048</td>\n",
       "      <td>69.250</td>\n",
       "      <td>2023-10-06 22:11:52.303</td>\n",
       "    </tr>\n",
       "    <tr>\n",
       "      <th>44</th>\n",
       "      <td>900</td>\n",
       "      <td>1900</td>\n",
       "      <td>260</td>\n",
       "      <td>2000</td>\n",
       "      <td>2048</td>\n",
       "      <td>69.500</td>\n",
       "      <td>2023-10-06 22:12:03.551</td>\n",
       "    </tr>\n",
       "    <tr>\n",
       "      <th>45</th>\n",
       "      <td>900</td>\n",
       "      <td>1900</td>\n",
       "      <td>260</td>\n",
       "      <td>2000</td>\n",
       "      <td>2048</td>\n",
       "      <td>69.750</td>\n",
       "      <td>2023-10-06 22:12:14.798</td>\n",
       "    </tr>\n",
       "    <tr>\n",
       "      <th>46</th>\n",
       "      <td>900</td>\n",
       "      <td>1900</td>\n",
       "      <td>260</td>\n",
       "      <td>2000</td>\n",
       "      <td>2048</td>\n",
       "      <td>69.875</td>\n",
       "      <td>2023-10-06 22:12:26.060</td>\n",
       "    </tr>\n",
       "    <tr>\n",
       "      <th>47</th>\n",
       "      <td>900</td>\n",
       "      <td>1900</td>\n",
       "      <td>260</td>\n",
       "      <td>2000</td>\n",
       "      <td>2048</td>\n",
       "      <td>70.125</td>\n",
       "      <td>2023-10-06 22:12:37.307</td>\n",
       "    </tr>\n",
       "  </tbody>\n",
       "</table></div>"
      ],
      "text/plain": [
       "    red_val  green_val  blue_val  white_val  fan_val    temp  \\\n",
       "0       900       1900       260       2000     2048  38.250   \n",
       "1       900       1900       260       2000     2048  39.875   \n",
       "2       900       1900       260       2000     2048  41.625   \n",
       "3       900       1900       260       2000     2048  43.375   \n",
       "4       900       1900       260       2000     2048  44.750   \n",
       "5       900       1900       260       2000     2048  46.375   \n",
       "6       900       1900       260       2000     2048  47.375   \n",
       "7       900       1900       260       2000     2048  48.875   \n",
       "8       900       1900       260       2000     2048  50.250   \n",
       "9       900       1900       260       2000     2048  51.250   \n",
       "10      900       1900       260       2000     2048  52.375   \n",
       "11      900       1900       260       2000     2048  53.375   \n",
       "12      900       1900       260       2000     2048  54.375   \n",
       "13      900       1900       260       2000     2048  55.250   \n",
       "14      900       1900       260       2000     2048  56.125   \n",
       "15      900       1900       260       2000     2048  56.750   \n",
       "16      900       1900       260       2000     2048  57.625   \n",
       "17      900       1900       260       2000     2048  58.375   \n",
       "18      900       1900       260       2000     2048  59.125   \n",
       "19      900       1900       260       2000     2048  59.750   \n",
       "20      900       1900       260       2000     2048  60.375   \n",
       "21      900       1900       260       2000     2048  61.125   \n",
       "22      900       1900       260       2000     2048  61.625   \n",
       "23      900       1900       260       2000     2048  62.125   \n",
       "24      900       1900       260       2000     2048  62.625   \n",
       "25      900       1900       260       2000     2048  63.000   \n",
       "26      900       1900       260       2000     2048  63.625   \n",
       "27      900       1900       260       2000     2048  64.000   \n",
       "28      900       1900       260       2000     2048  64.625   \n",
       "29      900       1900       260       2000     2048  64.875   \n",
       "30      900       1900       260       2000     2048  65.375   \n",
       "31      900       1900       260       2000     2048  65.625   \n",
       "32      900       1900       260       2000     2048  66.125   \n",
       "33      900       1900       260       2000     2048  66.375   \n",
       "34      900       1900       260       2000     2048  66.750   \n",
       "35      900       1900       260       2000     2048  67.125   \n",
       "36      900       1900       260       2000     2048  67.500   \n",
       "37      900       1900       260       2000     2048  67.750   \n",
       "38      900       1900       260       2000     2048  68.125   \n",
       "39      900       1900       260       2000     2048  68.375   \n",
       "40      900       1900       260       2000     2048  68.625   \n",
       "41      900       1900       260       2000     2048  68.875   \n",
       "42      900       1900       260       2000     2048  69.000   \n",
       "43      900       1900       260       2000     2048  69.250   \n",
       "44      900       1900       260       2000     2048  69.500   \n",
       "45      900       1900       260       2000     2048  69.750   \n",
       "46      900       1900       260       2000     2048  69.875   \n",
       "47      900       1900       260       2000     2048  70.125   \n",
       "\n",
       "                 Timestamp  \n",
       "0  2023-10-06 22:03:48.518  \n",
       "1  2023-10-06 22:03:59.780  \n",
       "2  2023-10-06 22:04:11.027  \n",
       "3  2023-10-06 22:04:22.276  \n",
       "4  2023-10-06 22:04:33.522  \n",
       "5  2023-10-06 22:04:44.769  \n",
       "6  2023-10-06 22:04:56.032  \n",
       "7  2023-10-06 22:05:07.279  \n",
       "8  2023-10-06 22:05:18.526  \n",
       "9  2023-10-06 22:05:29.774  \n",
       "10 2023-10-06 22:05:41.036  \n",
       "11 2023-10-06 22:05:52.283  \n",
       "12 2023-10-06 22:06:03.531  \n",
       "13 2023-10-06 22:06:14.779  \n",
       "14 2023-10-06 22:06:26.025  \n",
       "15 2023-10-06 22:06:37.287  \n",
       "16 2023-10-06 22:06:48.535  \n",
       "17 2023-10-06 22:06:59.783  \n",
       "18 2023-10-06 22:07:11.030  \n",
       "19 2023-10-06 22:07:22.292  \n",
       "20 2023-10-06 22:07:33.540  \n",
       "21 2023-10-06 22:07:44.787  \n",
       "22 2023-10-06 22:07:56.034  \n",
       "23 2023-10-06 22:08:07.282  \n",
       "24 2023-10-06 22:08:18.544  \n",
       "25 2023-10-06 22:08:29.791  \n",
       "26 2023-10-06 22:08:41.039  \n",
       "27 2023-10-06 22:08:52.286  \n",
       "28 2023-10-06 22:09:03.547  \n",
       "29 2023-10-06 22:09:14.796  \n",
       "30 2023-10-06 22:09:26.043  \n",
       "31 2023-10-06 22:09:37.290  \n",
       "32 2023-10-06 22:09:48.537  \n",
       "33 2023-10-06 22:09:59.800  \n",
       "34 2023-10-06 22:10:11.047  \n",
       "35 2023-10-06 22:10:22.294  \n",
       "36 2023-10-06 22:10:33.542  \n",
       "37 2023-10-06 22:10:44.804  \n",
       "38 2023-10-06 22:10:56.051  \n",
       "39 2023-10-06 22:11:07.298  \n",
       "40 2023-10-06 22:11:18.546  \n",
       "41 2023-10-06 22:11:29.793  \n",
       "42 2023-10-06 22:11:41.056  \n",
       "43 2023-10-06 22:11:52.303  \n",
       "44 2023-10-06 22:12:03.551  \n",
       "45 2023-10-06 22:12:14.798  \n",
       "46 2023-10-06 22:12:26.060  \n",
       "47 2023-10-06 22:12:37.307  "
      ]
     },
     "execution_count": 13,
     "metadata": {},
     "output_type": "execute_result"
    }
   ],
   "source": [
    "# Look at the data in table format\n",
    "df"
   ]
  },
  {
   "cell_type": "code",
   "execution_count": 30,
   "id": "f3dcb902-6bca-4f06-bf61-571d0304a150",
   "metadata": {},
   "outputs": [
    {
     "data": {
      "text/plain": [
       "<AxesSubplot: xlabel='Timestamp'>"
      ]
     },
     "execution_count": 30,
     "metadata": {},
     "output_type": "execute_result"
    },
    {
     "data": {
      "image/png": "[encoded data removed]",
      "text/plain": [
       "<Figure size 640x480 with 1 Axes>"
      ]
     },
     "metadata": {},
     "output_type": "display_data"
    }
   ],
   "source": [
    "# Draw a graph\n",
    "\n",
    "import pandas as pd\n",
    "import matplotlib.pyplot as plt\n",
    "import numpy as np\n",
    "from scipy import stats\n",
    "%matplotlib inline\n",
    "\n",
    "ddf = df.drop([\"red_val\",\"green_val\",\"blue_val\",\"white_val\"], axis=1)\n",
    "# Scale down the \"fan_val\" column by dividing it by 20\n",
    "ddf['fan_val'] = ddf['fan_val'] / 20\n",
    "#df = df.assign(lux = pd.to_numeric(df['lux'].str.replace('[^0-9.]', '')))\n",
    "\n",
    "ddf.plot(y=[\"temp\",\"fan_val\"],x=\"Timestamp\")"
   ]
  },
  {
   "cell_type": "markdown",
   "id": "c9dcf4bf-b298-41e4-9c05-d647aff91a9e",
   "metadata": {},
   "source": [
    "## Store the result\n",
    "1. Run the beam tool (both cells below)\n",
    "2. Create a new notebook and pase the content to 1st cell\n",
    "3. Copy the cell to draw a graph and and paste it to 2nd cell in the new notebook\n",
    "4. Save new notebook\n",
    "\n",
    "Now the new notebook contains the original data + graph, you can add drawings and descriptiuons of the test in the notbook and it will be usable standalone"
   ]
  },
  {
   "cell_type": "code",
   "execution_count": 31,
   "id": "ce6e489d-61d5-43ba-8aab-999ecbe6640e",
   "metadata": {},
   "outputs": [],
   "source": [
    "import pyperclip\n",
    "\n",
    "# beam function to flatten object to b64 string that can unflatten itself in python\n",
    "def beam(\n",
    "    obj, \n",
    "    name='obj', \n",
    "    git='https://github.com/KKallas/Jupyter-Periscope', \n",
    "    file='Jupyter-Serializer.ipynb',\n",
    "    desc='Python native imports'):\n",
    "    \"\"\"\n",
    "    beam\n",
    "    \n",
    "    stringfy any python object to base64 string so it can be emailed, imd or functionally created\n",
    "    \n",
    "    obj: obje to strringify\n",
    "    name: (optional, default 'obj') name of the restored variable\n",
    "    \"\"\"\n",
    "    ### IMPORTS\n",
    "    # Python native imports\n",
    "    import codecs\n",
    "    # A little failsafe to pip install dill if system does not have it yet\n",
    "    try:\n",
    "        import dill\n",
    "    except e as Exception:\n",
    "        !pip install dill\n",
    "        import dill\n",
    "        \n",
    "    ### LOGIC\n",
    "    # I merged few line here sorry, just dilling the object and encoding to base64 without any new line so it would not take multiple lines when pasted into new workbook\n",
    "    nonewlines = codecs.encode(dill.dumps(obj),\"base64\").decode().replace('\\n','')\n",
    "    template = \"#  git: \" + git + \"\\n# file: \" + file + \"\\n# desc: \" + desc + \"\\n# A little failsafe to pip install dill if system does not have it yet\\nimport codecs\\ntry:\\n    import dill\\nexcept e as Exception:\\n    !pip install dill\\n    import dill\\npayload = \\'\\'\\'\"+nonewlines+\"\\'\\'\\'\\n\"+name+\" = dill.loads(codecs.decode(payload.encode(), 'base64'))\"\n",
    "    \n",
    "    return template\n",
    "\n",
    "# register new functionality to the [w] menu system\n",
    "def call_beam(obj, name='obj'):\n",
    "    pyperclip.copy(beam(obj, name=name))\n",
    "    print(\"step copied...\")"
   ]
  },
  {
   "cell_type": "code",
   "execution_count": 35,
   "id": "39ee8896-df38-4439-abdd-6a91c9d45b74",
   "metadata": {},
   "outputs": [
    {
     "name": "stdout",
     "output_type": "stream",
     "text": [
      "step copied...\n"
     ]
    }
   ],
   "source": [
    "call_beam(df, name='df')"
   ]
  },
  {
   "cell_type": "code",
   "execution_count": null,
   "id": "f770781f-afa9-404a-a0ab-54b02bb553fd",
   "metadata": {},
   "outputs": [],
   "source": []
  }
 ],
 "metadata": {
  "kernelspec": {
   "display_name": "Python 3 (ipykernel)",
   "language": "python",
   "name": "python3"
  },
  "language_info": {
   "codemirror_mode": {
    "name": "ipython",
    "version": 3
   },
   "file_extension": ".py",
   "mimetype": "text/x-python",
   "name": "python",
   "nbconvert_exporter": "python",
   "pygments_lexer": "ipython3",
   "version": "3.10.7"
  }
 },
 "nbformat": 4,
 "nbformat_minor": 5
}
