{
 "cells": [
  {
   "cell_type": "code",
   "execution_count": 2,
   "id": "11e326b2-e1b8-4462-aaa2-ada9ec94d267",
   "metadata": {},
   "outputs": [
    {
     "name": "stdout",
     "output_type": "stream",
     "text": [
      "0b1000001\n",
      "0b0\n",
      "0b100\n",
      "0b0\n",
      "0b10\n",
      "0b1000001\n",
      "0b0\n",
      "0b100\n",
      "0b0\n",
      "0b10\n"
     ]
    }
   ],
   "source": [
    "import serial\n",
    "import time\n",
    "\n",
    "class apollo_device():\n",
    "    def __init__(self, ComPort = 'COM18', ComBaudRate=115200):\n",
    "        self.port = ComPort\n",
    "        self.portBaudrate = ComBaudRate\n",
    "\n",
    "        # Initialize serial connection\n",
    "        self.ser = serial.Serial(self.port, self.portBaudrate, timeout=0.1)\n",
    "        \n",
    "        # Buffer to store received characters\n",
    "        self.receive_buffer = \"\"\n",
    "        \n",
    "    def send(self, command):\n",
    "        self.ser.write(command)\n",
    "        \n",
    "    def update(self, intensityRed, intensityGreen, intensityBlue, intensityWhite, fan, debugFlag=False):\n",
    "\n",
    "        # lets send data from here\n",
    "        char_a = b'A'          # Convert 'A' to bytes\n",
    "        int_16bit_red = intensityRed     # 16-bit integer value (max 2048)\n",
    "        int_16bit_green = intensityGreen # 16-bit integer value (max 2048)\n",
    "        int_16bit_blue = intensityBlue   # 16-bit integer value (max 2048)\n",
    "        int_16bit_white = intensityWhite # 16-bit integer value (max 2048)\n",
    "        int_8bit = fan         # 8-bit integer value\n",
    "        term = b'\\n'           # message terminator\n",
    "\n",
    "        # Convert 16-bit integer to bytes\n",
    "        bytes_16bit_red = int_16bit_red.to_bytes(2, byteorder='big')\n",
    "        bytes_16bit_green = int_16bit_green.to_bytes(2, byteorder='big')\n",
    "        bytes_16bit_blue = int_16bit_blue.to_bytes(2, byteorder='big')\n",
    "        bytes_16bit_white = int_16bit_white.to_bytes(2, byteorder='big')\n",
    "\n",
    "        # Convert 8-bit integer to bytes\n",
    "        bytes_8bit = int_8bit.to_bytes(1, byteorder='big')\n",
    "        # Combine the bytes to form the complete message\n",
    "        message = char_a + \\\n",
    "                  bytes_16bit_red + \\\n",
    "                  bytes_16bit_green + \\\n",
    "                  bytes_16bit_blue + \\\n",
    "                  bytes_16bit_white + \\\n",
    "                  bytes_8bit + term\n",
    "        #message = char_a + bytes_8bit + term\n",
    "        self.send(message)\n",
    "        print(bin(message[0]))\n",
    "        print(bin(message[1]))\n",
    "        print(bin(message[2]))\n",
    "        print(bin(message[3]))\n",
    "        print(bin(message[4]))\n",
    "        self.read(debug=debugFlag)\n",
    "        \n",
    "    def read(self, debug=False):\n",
    "        #self.ser.reset_input_buffer()\n",
    "        #time.sleep(0.1)\n",
    "        retryCount = 50;\n",
    "        noPackageCount = 0;\n",
    "        while noPackageCount<retryCount:\n",
    "            # Read available characters\n",
    "            data = self.ser.read()\n",
    "\n",
    "            if data:\n",
    "                self.receive_buffer = self.receive_buffer + data.decode('utf-8', errors='replace')\n",
    "                    \n",
    "                if data == b'\\n':\n",
    "                    if debug:\n",
    "                        print(self.receive_buffer)\n",
    "                    self.lastValAsJsonString = \"{\"+self.receive_buffer+\"}\"\n",
    "                    self.receive_buffer = \"\"\n",
    "                    noPackageCount = 50;\n",
    "            else:\n",
    "                time.sleep(0.01)\n",
    "                noPackageCount = noPackageCount+1\n",
    "        \n",
    "lamp1 = apollo_device()\n",
    "\n",
    "# try 1\n",
    "lamp1.update(4,2,2,10,0x88,debugFlag=True)\n",
    "time.sleep(1)\n",
    "\n",
    "# try 2\n",
    "lamp1.update(4,2,2,10,0x88,debugFlag=True)"
   ]
  },
  {
   "cell_type": "code",
   "execution_count": 2,
   "id": "e47bd5e9-6b27-449c-a823-2f82308bf05c",
   "metadata": {},
   "outputs": [],
   "source": [
    "import serial\n",
    "import time\n",
    "\n",
    "class apollo_device():\n",
    "    def __init__(self, ComPort = 'COM16', ComBaudRate=115200):\n",
    "        self.port = ComPort\n",
    "        self.portBaudrate = ComBaudRate\n",
    "\n",
    "        # Initialize serial connection\n",
    "        self.ser = serial.Serial(self.port, self.portBaudrate, timeout=1)\n",
    "\n",
    "        # Buffer to store received characters\n",
    "        self.receive_buffer = \"\"\n",
    "        \n",
    "    def send(self, command):\n",
    "        self.ser.write(command)\n",
    "        \n",
    "    def update(self, intensityRed, intensityGreen, intensityBlue, intensityWhite, fan, debugFlag=False):\n",
    "        # lets send data from here\n",
    "        char_a = b'A'          # Convert 'A' to bytes\n",
    "        int_16bit_red = intensityRed     # 16-bit integer value (max 2048)\n",
    "        int_16bit_green = intensityGreen # 16-bit integer value (max 2048)\n",
    "        int_16bit_blue = intensityBlue   # 16-bit integer value (max 2048)\n",
    "        int_16bit_white = intensityWhite # 16-bit integer value (max 2048)\n",
    "        int_8bit = fan         # 8-bit integer value\n",
    "        term1 = b'*'\n",
    "        term2 = b'\\n'           # message terminator\n",
    "\n",
    "        # Convert 16-bit integer to bytes\n",
    "        bytes_16bit_red = int_16bit_red.to_bytes(2, byteorder='big')\n",
    "        bytes_16bit_green = int_16bit_green.to_bytes(2, byteorder='big')\n",
    "        bytes_16bit_blue = int_16bit_blue.to_bytes(2, byteorder='big')\n",
    "        bytes_16bit_white = int_16bit_white.to_bytes(2, byteorder='big')\n",
    "\n",
    "        # Convert 8-bit integer to bytes\n",
    "        bytes_8bit = int_8bit.to_bytes(1, byteorder='big')\n",
    "        # Combine the bytes to form the complete message\n",
    "        message = char_a + \\\n",
    "                  bytes_16bit_red + \\\n",
    "                  bytes_16bit_green + \\\n",
    "                  bytes_16bit_blue + \\\n",
    "                  bytes_16bit_white + \\\n",
    "                  bytes_8bit + \\\n",
    "                  term1 + term2\n",
    "        #message = char_a + bytes_8bit + term\n",
    "        print(message)\n",
    "        \n",
    "        self.send(message)\n",
    "        self.ser.reset_input_buffer()\n",
    "        self.read(debug=debugFlag)\n",
    "        \n",
    "    def read(self, debug=False):\n",
    "        lastChar = ''\n",
    "        retryCount = 50;\n",
    "        noPackageCount = 0;\n",
    "        \n",
    "        while noPackageCount<retryCount:\n",
    "            # Read available characters\n",
    "            data = self.ser.read()\n",
    "            # If data is not empty, add it to the buffer\n",
    "            if data:\n",
    "                self.receive_buffer = self.receive_buffer + data.decode('utf-8', errors='replace')\n",
    "                if lastChar == b'*' and data == b'\\n':\n",
    "                    messageStart = self.receive_buffer.find('*\\\"')\n",
    "                    # remove terminators and scrap from begining of the message\n",
    "                    fullBuff = self.receive_buffer[messageStart+1:-2]\n",
    "                    if debug:\n",
    "                        print(fullBuff)\n",
    "                    self.lastValAsJsonString = \"{\"+fullBuff+\"}\"\n",
    "                    self.receive_buffer = \"\"\n",
    "                    noPackageCount = 50\n",
    "                else:\n",
    "                    lastChar = data\n",
    "            else:\n",
    "                time.sleep(0.01)\n",
    "            \n",
    "    def __del__(self):\n",
    "        self.ser.close()\n",
    "        \n",
    "lamp1 = apollo_device()"
   ]
  },
  {
   "cell_type": "code",
   "execution_count": 3,
   "id": "56a6e4c1-68e8-43a1-b108-1112e5760ae4",
   "metadata": {},
   "outputs": [
    {
     "name": "stdout",
     "output_type": "stream",
     "text": [
      "b'A\\x00\\n\\x00\\x14\\x00\\n\\x00\\x1e\\x88*\\n'\n",
      "A\u0000\"red_val\":0,\"green_val\":0,\"blue_val\":0,\"white_val\":0,\"fan_val\":0,\"temp\":0.000000,\"redStep\":0\n"
     ]
    }
   ],
   "source": [
    "# 5600K 208 0.1%\n",
    "lamp1.update(10,20,10,30,0x88,debugFlag=True)"
   ]
  },
  {
   "cell_type": "code",
   "execution_count": 3,
   "id": "c7632ed3-36ef-4d54-9433-1af57d4ff80e",
   "metadata": {},
   "outputs": [
    {
     "name": "stdout",
     "output_type": "stream",
     "text": [
      "b'A\\x03\\x7f\\x03\\xf2\\x00\\xdd\\x03\\xd4\\x88*\\n'\n",
      "\"red_val\":895,\"green_val\":1010,\"blue_val\":221,\"white_val\":980,\"fan_val\":136,\"temp\":0.000000,\"redStep\":17\n"
     ]
    }
   ],
   "source": [
    "lamp1.update(890+5,925+85,205+16,950+30,0x88,debugFlag=True)"
   ]
  },
  {
   "cell_type": "code",
   "execution_count": 1,
   "id": "d4f4de2b-7e87-45d4-93ba-624d98c5db52",
   "metadata": {},
   "outputs": [
    {
     "data": {
      "text/plain": [
       "200.0"
      ]
     },
     "execution_count": 1,
     "metadata": {},
     "output_type": "execute_result"
    }
   ],
   "source": [
    "25/0.125"
   ]
  },
  {
   "cell_type": "code",
   "execution_count": 3,
   "id": "8b9ea5c5-f217-4e53-b291-26553fb250ef",
   "metadata": {},
   "outputs": [
    {
     "data": {
      "text/plain": [
       "'{\\x00\\x00\\x00\\x00\\x00�*\"red_val\":1,\"green_val\":0,\"blue_val\":0,\"white_val\":0,\"fan_val\":136,\"temp\":27.500000*\\n}'"
      ]
     },
     "execution_count": 3,
     "metadata": {},
     "output_type": "execute_result"
    }
   ],
   "source": [
    "lamp1.lastValAsJsonString"
   ]
  },
  {
   "cell_type": "code",
   "execution_count": 4,
   "id": "08444187-b408-4a57-b6b1-334e3dcde53a",
   "metadata": {},
   "outputs": [
    {
     "name": "stdout",
     "output_type": "stream",
     "text": [
      "b'A\\x00\\x00\\x00\\x02\\x00\\x00\\x00\\x00\\x88\\n'\n",
      "\"red_val\":0,\"green_val\":2,\"blue_val\":0,\"white_val\":0,\"fan_val\":136,\"temp\":27.750000\n",
      "\n"
     ]
    }
   ],
   "source": [
    "# 5600K 208 0.1%\n",
    "lamp1.update(0,2,0,0,0x88,debugFlag=True)"
   ]
  },
  {
   "cell_type": "code",
   "execution_count": 12,
   "id": "e851e653-a169-45b9-96e7-0fcfcd1a49bd",
   "metadata": {},
   "outputs": [],
   "source": [
    "lamp1.ser.flush()"
   ]
  },
  {
   "cell_type": "code",
   "execution_count": 11,
   "id": "54ae64e5-3819-4ae4-8e22-3e88e764fa4a",
   "metadata": {},
   "outputs": [
    {
     "data": {
      "text/plain": [
       "b'*'"
      ]
     },
     "execution_count": 11,
     "metadata": {},
     "output_type": "execute_result"
    }
   ],
   "source": [
    "a = \"*\".encode('utf-8')\n",
    "#b = a.to_bytes(2, byteorder='big')\n",
    "a"
   ]
  },
  {
   "cell_type": "code",
   "execution_count": null,
   "id": "a7739176-b564-4a14-977c-666c2e957e47",
   "metadata": {},
   "outputs": [],
   "source": []
  }
 ],
 "metadata": {
  "kernelspec": {
   "display_name": "Python 3 (ipykernel)",
   "language": "python",
   "name": "python3"
  },
  "language_info": {
   "codemirror_mode": {
    "name": "ipython",
    "version": 3
   },
   "file_extension": ".py",
   "mimetype": "text/x-python",
   "name": "python",
   "nbconvert_exporter": "python",
   "pygments_lexer": "ipython3",
   "version": "3.10.7"
  }
 },
 "nbformat": 4,
 "nbformat_minor": 5
}
